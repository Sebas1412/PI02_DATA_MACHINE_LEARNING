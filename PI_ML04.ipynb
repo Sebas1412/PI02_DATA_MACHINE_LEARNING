{
 "cells": [
  {
   "cell_type": "code",
   "execution_count": 2,
   "metadata": {},
   "outputs": [],
   "source": [
    "#Se importan librerías que se van a usar\n",
    "import pandas as pd\n",
    "import numpy as np\n",
    "import seaborn as sns\n",
    "import matplotlib.pyplot as plt"
   ]
  },
  {
   "cell_type": "code",
   "execution_count": 3,
   "metadata": {},
   "outputs": [],
   "source": [
    "#Se convierten a df los archivos con lo que se va a trabajar\n",
    "colombiaTrain = pd.read_csv('properties_colombia_train.csv')\n",
    "colombiaTest = pd.read_csv('properties_colombia_test.csv')"
   ]
  },
  {
   "cell_type": "code",
   "execution_count": 4,
   "metadata": {},
   "outputs": [],
   "source": [
    "#Se crea la variable target\n",
    "colombiaTrain['clasificacion']=np.where(colombiaTrain.price>=colombiaTrain.price.mean(), 1, 0)"
   ]
  },
  {
   "cell_type": "code",
   "execution_count": 5,
   "metadata": {},
   "outputs": [],
   "source": [
    "#Se borran las filas que tienen no tienen valor o tienen valor 0 en la columna price,\n",
    "#ya que quedan como apartamentos baratos pero en realidad no lo sabemos \n",
    "#y puede complicar el resultado de predicción\n",
    "\n",
    "colombiaTrain.drop(colombiaTrain[colombiaTrain.price == 0].index,inplace=True)\n",
    "colombiaTrain.drop(colombiaTrain[colombiaTrain.price.isnull()==True].index,inplace=True)"
   ]
  },
  {
   "cell_type": "code",
   "execution_count": 6,
   "metadata": {},
   "outputs": [],
   "source": [
    "#Se borran las filas con moneda expresadas en USD, \n",
    "#a que la mayoría de los datos están expresado en COP, \n",
    "#y se puede llegar a entender que son baratas y puede que no sea así.\n",
    "#Además la cantidad es menor la 1% con respecto a todo el dataset\n",
    "colombiaTrain.drop(colombiaTrain[colombiaTrain.currency == 'USD'].index, inplace=True)\n",
    "\n"
   ]
  },
  {
   "cell_type": "code",
   "execution_count": 703,
   "metadata": {},
   "outputs": [
    {
     "name": "stdout",
     "output_type": "stream",
     "text": [
      "        Unnamed: 0                        id    ad_type  start_date  \\\n",
      "148562      819292  s6bCv2RXRdHQGyS2+7WZ8Q==  Propiedad  2020-11-06   \n",
      "\n",
      "          end_date  created_on        lat        lon        l1            l2  \\\n",
      "148562  2021-07-26  2020-11-06  34.420334 -119.69819  Colombia  Cundinamarca   \n",
      "\n",
      "        ... surface_covered        price currency price_period  \\\n",
      "148562  ...             NaN  600000000.0      COP          NaN   \n",
      "\n",
      "                                           title  \\\n",
      "148562  51599  SANTA  BARBARA  APARTAMENTO  506    \n",
      "\n",
      "                                              description  property_type  \\\n",
      "148562  Apartamento&nbsp; para&nbsp; remodelar , duple...    Apartamento   \n",
      "\n",
      "        operation_type                      geometry  clasificacion  \n",
      "148562           Venta  POINT (-119.69819 34.420334)              0  \n",
      "\n",
      "[1 rows x 28 columns]\n"
     ]
    },
    {
     "data": {
      "text/html": [
       "<div>\n",
       "<style scoped>\n",
       "    .dataframe tbody tr th:only-of-type {\n",
       "        vertical-align: middle;\n",
       "    }\n",
       "\n",
       "    .dataframe tbody tr th {\n",
       "        vertical-align: top;\n",
       "    }\n",
       "\n",
       "    .dataframe thead th {\n",
       "        text-align: right;\n",
       "    }\n",
       "</style>\n",
       "<table border=\"1\" class=\"dataframe\">\n",
       "  <thead>\n",
       "    <tr style=\"text-align: right;\">\n",
       "      <th></th>\n",
       "      <th>Unnamed: 0</th>\n",
       "      <th>id</th>\n",
       "      <th>ad_type</th>\n",
       "      <th>start_date</th>\n",
       "      <th>end_date</th>\n",
       "      <th>created_on</th>\n",
       "      <th>lat</th>\n",
       "      <th>lon</th>\n",
       "      <th>l1</th>\n",
       "      <th>l2</th>\n",
       "      <th>...</th>\n",
       "      <th>surface_covered</th>\n",
       "      <th>price</th>\n",
       "      <th>currency</th>\n",
       "      <th>price_period</th>\n",
       "      <th>title</th>\n",
       "      <th>description</th>\n",
       "      <th>property_type</th>\n",
       "      <th>operation_type</th>\n",
       "      <th>geometry</th>\n",
       "      <th>clasificacion</th>\n",
       "    </tr>\n",
       "  </thead>\n",
       "  <tbody>\n",
       "    <tr>\n",
       "      <th>138682</th>\n",
       "      <td>172722</td>\n",
       "      <td>0xtrMhsbAsQiEv9XHGWTIQ==</td>\n",
       "      <td>Propiedad</td>\n",
       "      <td>2020-09-29</td>\n",
       "      <td>2021-07-26</td>\n",
       "      <td>2020-09-29</td>\n",
       "      <td>-32.787342</td>\n",
       "      <td>-71.20732</td>\n",
       "      <td>Colombia</td>\n",
       "      <td>Cundinamarca</td>\n",
       "      <td>...</td>\n",
       "      <td>NaN</td>\n",
       "      <td>2.000000e+09</td>\n",
       "      <td>COP</td>\n",
       "      <td>NaN</td>\n",
       "      <td>51548 LA  CALERA  MIRADO DEL LAGO</td>\n",
       "      <td>Casa hermosa,amplia, vigilancia sector&amp;nbsp; t...</td>\n",
       "      <td>Casa</td>\n",
       "      <td>Venta</td>\n",
       "      <td>POINT (-71.20732 -32.787342)</td>\n",
       "      <td>1</td>\n",
       "    </tr>\n",
       "  </tbody>\n",
       "</table>\n",
       "<p>1 rows × 28 columns</p>\n",
       "</div>"
      ],
      "text/plain": [
       "        Unnamed: 0                        id    ad_type  start_date  \\\n",
       "138682      172722  0xtrMhsbAsQiEv9XHGWTIQ==  Propiedad  2020-09-29   \n",
       "\n",
       "          end_date  created_on        lat       lon        l1            l2  \\\n",
       "138682  2021-07-26  2020-09-29 -32.787342 -71.20732  Colombia  Cundinamarca   \n",
       "\n",
       "        ... surface_covered         price currency price_period  \\\n",
       "138682  ...             NaN  2.000000e+09      COP          NaN   \n",
       "\n",
       "                                      title  \\\n",
       "138682  51548 LA  CALERA  MIRADO DEL LAGO     \n",
       "\n",
       "                                              description  property_type  \\\n",
       "138682  Casa hermosa,amplia, vigilancia sector&nbsp; t...           Casa   \n",
       "\n",
       "        operation_type                      geometry  clasificacion  \n",
       "138682           Venta  POINT (-71.20732 -32.787342)              1  \n",
       "\n",
       "[1 rows x 28 columns]"
      ]
     },
     "execution_count": 703,
     "metadata": {},
     "output_type": "execute_result"
    }
   ],
   "source": [
    "#Se encuentran segun sus coordenadas que hay filas que están fuera de Colombia\n",
    "#Si bien las coordenadas están mal, todos los demás datos circunscriben a Colombia\n",
    "#Por lo que se decide a dejarlos en el df\n",
    "print(colombiaTrain[colombiaTrain.lat==colombiaTrain.lat.max()])\n",
    "colombiaTrain[colombiaTrain.lat==colombiaTrain.lat.min()]"
   ]
  },
  {
   "cell_type": "code",
   "execution_count": 7,
   "metadata": {},
   "outputs": [],
   "source": [
    "#Se crean dos dataframe, uno con las variables numéricas y otras con las categóricas\n",
    "colombia_cat = colombiaTrain.select_dtypes(include=['object'])\n",
    "colombia_num = colombiaTrain.select_dtypes(include=['float64','int64','int32'])"
   ]
  },
  {
   "cell_type": "code",
   "execution_count": 8,
   "metadata": {},
   "outputs": [
    {
     "data": {
      "image/png": "[encoded data removed]",
      "text/plain": [
       "<Figure size 864x720 with 2 Axes>"
      ]
     },
     "metadata": {
      "needs_background": "light"
     },
     "output_type": "display_data"
    }
   ],
   "source": [
    "#se crea un gráfico de correlación entre las variables numéricas y el target (clasificación)\n",
    "\n",
    "def plot_corre_heatmap(corr):\n",
    "    '''\n",
    "    Definimos una función para ayudarnos a graficar un heatmap de correlación\n",
    "    '''\n",
    "    plt.figure(figsize=(12,10))\n",
    "    sns.heatmap(corr, cbar = True,  square = False, annot=True, fmt= '.2f'\n",
    "                ,annot_kws={'size': 15},cmap= 'coolwarm')\n",
    "    plt.xticks(rotation = 45)\n",
    "    plt.yticks(rotation = 45)\n",
    "    # Arreglamos un pequeño problema de visualización\n",
    "    b, t = plt.ylim() # discover the values for bottom and top\n",
    "    b += 0.5 # Add 0.5 to the bottom\n",
    "    t -= 0.5 # Subtract 0.5 from the top\n",
    "    plt.ylim(b, t) # update the ylim(bottom, top) values\n",
    "    plt.show()\n",
    "corr = colombia_num.corr()\n",
    "plot_corre_heatmap(corr)"
   ]
  },
  {
   "cell_type": "code",
   "execution_count": 9,
   "metadata": {},
   "outputs": [],
   "source": [
    "#Se borran las columnas operation_type, ad_type y l1 ya que contienen una sola etiqueta por lo que la columna target no depende de estas.\n",
    "colombiaTrain.drop(['operation_type', 'ad_type','l1'], axis = 1, inplace = True)"
   ]
  },
  {
   "cell_type": "code",
   "execution_count": 10,
   "metadata": {},
   "outputs": [],
   "source": [
    "#Se borra la columna geometry porque otorga el mismo valor que las columnas lat y lon\n",
    "colombiaTrain.drop(['geometry'], axis = 1, inplace = True)"
   ]
  },
  {
   "cell_type": "code",
   "execution_count": 11,
   "metadata": {},
   "outputs": [],
   "source": [
    "#Se decide no trabajar con las columnas title y descripción, \n",
    "#ya que no se tienen los conocimientos suficientes para aplicar PLN de manera exitosa, \n",
    "#además esto complejizaría el modelo y se opta por uno más simple\n",
    "colombiaTrain.drop(['title', 'description'], axis = 1, inplace = True)\n"
   ]
  },
  {
   "cell_type": "code",
   "execution_count": 12,
   "metadata": {},
   "outputs": [],
   "source": [
    "#Se borra la columna created_on ya que contiene la misma información que start_date\n",
    "colombiaTrain.drop(['created_on'], axis = 1, inplace = True)"
   ]
  },
  {
   "cell_type": "code",
   "execution_count": 13,
   "metadata": {},
   "outputs": [],
   "source": [
    "#Se decide darle más importancia a la fecha en que se publicó el anuncio que a la fecha en la se vende,\n",
    "#  por lo que se borra la fecha end_date\n",
    "colombiaTrain.drop(['end_date'], axis = 1, inplace = True)"
   ]
  },
  {
   "cell_type": "code",
   "execution_count": 14,
   "metadata": {},
   "outputs": [],
   "source": [
    "# La columna unnmed:0 y id, son justamente eso, id únicos para diferenciar cada aviso (fila), pero que no tienen incidencia con las casas, por lo que se decide eliminarlas\n",
    "colombiaTrain.drop(['Unnamed: 0','id'], axis = 1, inplace = True)"
   ]
  },
  {
   "cell_type": "code",
   "execution_count": 15,
   "metadata": {},
   "outputs": [],
   "source": [
    "#Se crea una nueva tabla por si llega a fallar algo y tener un df más avanzado y no empezar desde 0.\n",
    "#Además se divide la columna start_date en año, meses y días\n",
    "colombiaTrain2 = pd.concat([colombiaTrain.start_date.str.split('-',3, expand=True),colombiaTrain], axis = 1)"
   ]
  },
  {
   "cell_type": "code",
   "execution_count": 16,
   "metadata": {},
   "outputs": [],
   "source": [
    "#Como se dividió la columna en start_date en año, mes y día, se procede a borrar la columna start_date\n",
    "colombiaTrain2.drop(['start_date'], axis = 1, inplace = True)"
   ]
  },
  {
   "cell_type": "code",
   "execution_count": 17,
   "metadata": {},
   "outputs": [],
   "source": [
    "#Se decide quedarse solamente de las columnas nuevas con el mes, \n",
    "# ya que año es el mismo (2020) y día también se quita porque el modelo de predicción quedaría demasiado complejo\n",
    "colombiaTrain2.drop([0,2], axis = 1, inplace = True)"
   ]
  },
  {
   "cell_type": "code",
   "execution_count": 18,
   "metadata": {},
   "outputs": [
    {
     "data": {
      "image/png": "[encoded data removed]",
      "text/plain": [
       "<Figure size 1800x720 with 3 Axes>"
      ]
     },
     "metadata": {
      "needs_background": "light"
     },
     "output_type": "display_data"
    }
   ],
   "source": [
    "#Se hace un grafico para ver los valores nulos del dataset\n",
    "import missingno as msno\n",
    "msno.bar(colombiaTrain2)\n",
    "plt.show()"
   ]
  },
  {
   "cell_type": "code",
   "execution_count": 19,
   "metadata": {},
   "outputs": [],
   "source": [
    "#Se eliminan las columnas price_period, surface_covered, surface_total, bedrooms, rooms, l4,l5, l6, por falta de datos\n",
    "colombiaTrain2 = colombiaTrain2.drop(['l4','l5','l6','rooms','bedrooms','surface_total','surface_covered','price_period'], axis = 1)"
   ]
  },
  {
   "cell_type": "code",
   "execution_count": 20,
   "metadata": {},
   "outputs": [],
   "source": [
    "#Se elimina price ya que en el df colombiaTest, no se encuentra esta columna\n",
    "colombiaTrain2.drop(['price'],axis = 1, inplace = True)"
   ]
  },
  {
   "cell_type": "code",
   "execution_count": 21,
   "metadata": {},
   "outputs": [],
   "source": [
    "#Se resetean los índices\n",
    "colombiaTrain2.reset_index(drop = True, inplace = True)"
   ]
  },
  {
   "cell_type": "code",
   "execution_count": 22,
   "metadata": {},
   "outputs": [],
   "source": [
    "#Se toma la decisión de llenar con 0 los valores faltantes bathrooms ya que se suposo que si eran nulos era porque no tenían valor\n",
    "colombiaTrain2.bathrooms = np.where(colombiaTrain2.bathrooms.isnull()==True, 0, colombiaTrain2.bathrooms)"
   ]
  },
  {
   "cell_type": "code",
   "execution_count": 23,
   "metadata": {},
   "outputs": [],
   "source": [
    "#Se imputa valores faltantes a latitud y longitud a través de su moda\n",
    "from sklearn.impute import SimpleImputer\n",
    "imputer = SimpleImputer(strategy = 'most_frequent')\n",
    "imputer.fit(colombiaTrain2[['lat']])\n",
    "colombiaTrain2['lat'] = imputer.transform(colombiaTrain2[['lat']])\n",
    "imputer.fit(colombiaTrain2[['lon']])\n",
    "colombiaTrain2['lon'] = imputer.transform(colombiaTrain2[['lon']])"
   ]
  },
  {
   "cell_type": "code",
   "execution_count": 24,
   "metadata": {},
   "outputs": [],
   "source": [
    "#Se transforman las features categóricas a dummies\n",
    "colombiaTrain2 = pd.get_dummies(colombiaTrain2, columns=['l2','l3', 'property_type','currency'])"
   ]
  },
  {
   "cell_type": "code",
   "execution_count": 25,
   "metadata": {},
   "outputs": [],
   "source": [
    "#Se crea un df con las nuevas correlaciones\n",
    "correlacionOH=colombiaTrain2.corr()"
   ]
  },
  {
   "cell_type": "code",
   "execution_count": 26,
   "metadata": {},
   "outputs": [
    {
     "data": {
      "text/html": [
       "<div>\n",
       "<style scoped>\n",
       "    .dataframe tbody tr th:only-of-type {\n",
       "        vertical-align: middle;\n",
       "    }\n",
       "\n",
       "    .dataframe tbody tr th {\n",
       "        vertical-align: top;\n",
       "    }\n",
       "\n",
       "    .dataframe thead th {\n",
       "        text-align: right;\n",
       "    }\n",
       "</style>\n",
       "<table border=\"1\" class=\"dataframe\">\n",
       "  <thead>\n",
       "    <tr style=\"text-align: right;\">\n",
       "      <th></th>\n",
       "      <th>lat</th>\n",
       "      <th>lon</th>\n",
       "      <th>bathrooms</th>\n",
       "      <th>clasificacion</th>\n",
       "      <th>l2_Amazonas</th>\n",
       "      <th>l2_Antioquia</th>\n",
       "      <th>l2_Arauca</th>\n",
       "      <th>l2_Atlántico</th>\n",
       "      <th>l2_Bolívar</th>\n",
       "      <th>l2_Boyacá</th>\n",
       "      <th>...</th>\n",
       "      <th>l3_Zipaquirá</th>\n",
       "      <th>property_type_Apartamento</th>\n",
       "      <th>property_type_Casa</th>\n",
       "      <th>property_type_Finca</th>\n",
       "      <th>property_type_Local comercial</th>\n",
       "      <th>property_type_Lote</th>\n",
       "      <th>property_type_Oficina</th>\n",
       "      <th>property_type_Otro</th>\n",
       "      <th>property_type_Parqueadero</th>\n",
       "      <th>currency_COP</th>\n",
       "    </tr>\n",
       "  </thead>\n",
       "  <tbody>\n",
       "    <tr>\n",
       "      <th>bathrooms</th>\n",
       "      <td>-0.002524</td>\n",
       "      <td>-0.003029</td>\n",
       "      <td>1.000000</td>\n",
       "      <td>0.268121</td>\n",
       "      <td>-0.003864</td>\n",
       "      <td>-0.017394</td>\n",
       "      <td>0.001629</td>\n",
       "      <td>0.001129</td>\n",
       "      <td>-0.023718</td>\n",
       "      <td>-0.023354</td>\n",
       "      <td>...</td>\n",
       "      <td>-0.015533</td>\n",
       "      <td>-0.061112</td>\n",
       "      <td>0.300560</td>\n",
       "      <td>-0.069824</td>\n",
       "      <td>-0.072451</td>\n",
       "      <td>-0.377028</td>\n",
       "      <td>-0.057327</td>\n",
       "      <td>0.042080</td>\n",
       "      <td>-0.008918</td>\n",
       "      <td>NaN</td>\n",
       "    </tr>\n",
       "    <tr>\n",
       "      <th>clasificacion</th>\n",
       "      <td>-0.033683</td>\n",
       "      <td>0.045647</td>\n",
       "      <td>0.268121</td>\n",
       "      <td>1.000000</td>\n",
       "      <td>-0.005574</td>\n",
       "      <td>-0.009971</td>\n",
       "      <td>0.007072</td>\n",
       "      <td>-0.019005</td>\n",
       "      <td>0.017785</td>\n",
       "      <td>-0.002777</td>\n",
       "      <td>...</td>\n",
       "      <td>-0.013366</td>\n",
       "      <td>-0.257345</td>\n",
       "      <td>0.074242</td>\n",
       "      <td>0.076004</td>\n",
       "      <td>0.042010</td>\n",
       "      <td>0.109690</td>\n",
       "      <td>0.026481</td>\n",
       "      <td>0.191512</td>\n",
       "      <td>0.002774</td>\n",
       "      <td>NaN</td>\n",
       "    </tr>\n",
       "    <tr>\n",
       "      <th>l2_Cundinamarca</th>\n",
       "      <td>-0.285066</td>\n",
       "      <td>0.478349</td>\n",
       "      <td>0.011032</td>\n",
       "      <td>0.147807</td>\n",
       "      <td>-0.004977</td>\n",
       "      <td>-0.329183</td>\n",
       "      <td>-0.003691</td>\n",
       "      <td>-0.145946</td>\n",
       "      <td>-0.058934</td>\n",
       "      <td>-0.023210</td>\n",
       "      <td>...</td>\n",
       "      <td>0.097065</td>\n",
       "      <td>-0.022723</td>\n",
       "      <td>0.026045</td>\n",
       "      <td>-0.008011</td>\n",
       "      <td>0.033229</td>\n",
       "      <td>-0.025630</td>\n",
       "      <td>0.074953</td>\n",
       "      <td>-0.003978</td>\n",
       "      <td>-0.001729</td>\n",
       "      <td>NaN</td>\n",
       "    </tr>\n",
       "    <tr>\n",
       "      <th>l3_Bogotá D.C</th>\n",
       "      <td>-0.238976</td>\n",
       "      <td>0.406578</td>\n",
       "      <td>0.018578</td>\n",
       "      <td>0.129729</td>\n",
       "      <td>-0.004150</td>\n",
       "      <td>-0.274476</td>\n",
       "      <td>-0.003078</td>\n",
       "      <td>-0.121691</td>\n",
       "      <td>-0.049140</td>\n",
       "      <td>-0.019353</td>\n",
       "      <td>...</td>\n",
       "      <td>-0.019795</td>\n",
       "      <td>0.047379</td>\n",
       "      <td>-0.014839</td>\n",
       "      <td>-0.027124</td>\n",
       "      <td>0.028973</td>\n",
       "      <td>-0.078404</td>\n",
       "      <td>0.089628</td>\n",
       "      <td>-0.007243</td>\n",
       "      <td>-0.000915</td>\n",
       "      <td>NaN</td>\n",
       "    </tr>\n",
       "    <tr>\n",
       "      <th>property_type_Lote</th>\n",
       "      <td>-0.015081</td>\n",
       "      <td>-0.006003</td>\n",
       "      <td>-0.377028</td>\n",
       "      <td>0.109690</td>\n",
       "      <td>0.004235</td>\n",
       "      <td>0.010320</td>\n",
       "      <td>0.002650</td>\n",
       "      <td>-0.023988</td>\n",
       "      <td>-0.002808</td>\n",
       "      <td>0.044447</td>\n",
       "      <td>...</td>\n",
       "      <td>-0.002650</td>\n",
       "      <td>-0.307365</td>\n",
       "      <td>-0.200634</td>\n",
       "      <td>-0.022927</td>\n",
       "      <td>-0.024119</td>\n",
       "      <td>1.000000</td>\n",
       "      <td>-0.022391</td>\n",
       "      <td>-0.091249</td>\n",
       "      <td>-0.002149</td>\n",
       "      <td>NaN</td>\n",
       "    </tr>\n",
       "    <tr>\n",
       "      <th>property_type_Otro</th>\n",
       "      <td>-0.047986</td>\n",
       "      <td>-0.016672</td>\n",
       "      <td>0.042080</td>\n",
       "      <td>0.191512</td>\n",
       "      <td>-0.003041</td>\n",
       "      <td>-0.032215</td>\n",
       "      <td>0.009996</td>\n",
       "      <td>-0.030169</td>\n",
       "      <td>-0.022316</td>\n",
       "      <td>0.017840</td>\n",
       "      <td>...</td>\n",
       "      <td>-0.007252</td>\n",
       "      <td>-0.307619</td>\n",
       "      <td>-0.200800</td>\n",
       "      <td>-0.022946</td>\n",
       "      <td>-0.024139</td>\n",
       "      <td>-0.091249</td>\n",
       "      <td>-0.022410</td>\n",
       "      <td>1.000000</td>\n",
       "      <td>-0.002151</td>\n",
       "      <td>NaN</td>\n",
       "    </tr>\n",
       "  </tbody>\n",
       "</table>\n",
       "<p>6 rows × 337 columns</p>\n",
       "</div>"
      ],
      "text/plain": [
       "                         lat       lon  bathrooms  clasificacion  l2_Amazonas  \\\n",
       "bathrooms          -0.002524 -0.003029   1.000000       0.268121    -0.003864   \n",
       "clasificacion      -0.033683  0.045647   0.268121       1.000000    -0.005574   \n",
       "l2_Cundinamarca    -0.285066  0.478349   0.011032       0.147807    -0.004977   \n",
       "l3_Bogotá D.C      -0.238976  0.406578   0.018578       0.129729    -0.004150   \n",
       "property_type_Lote -0.015081 -0.006003  -0.377028       0.109690     0.004235   \n",
       "property_type_Otro -0.047986 -0.016672   0.042080       0.191512    -0.003041   \n",
       "\n",
       "                    l2_Antioquia  l2_Arauca  l2_Atlántico  l2_Bolívar  \\\n",
       "bathrooms              -0.017394   0.001629      0.001129   -0.023718   \n",
       "clasificacion          -0.009971   0.007072     -0.019005    0.017785   \n",
       "l2_Cundinamarca        -0.329183  -0.003691     -0.145946   -0.058934   \n",
       "l3_Bogotá D.C          -0.274476  -0.003078     -0.121691   -0.049140   \n",
       "property_type_Lote      0.010320   0.002650     -0.023988   -0.002808   \n",
       "property_type_Otro     -0.032215   0.009996     -0.030169   -0.022316   \n",
       "\n",
       "                    l2_Boyacá  ...  l3_Zipaquirá  property_type_Apartamento  \\\n",
       "bathrooms           -0.023354  ...     -0.015533                  -0.061112   \n",
       "clasificacion       -0.002777  ...     -0.013366                  -0.257345   \n",
       "l2_Cundinamarca     -0.023210  ...      0.097065                  -0.022723   \n",
       "l3_Bogotá D.C       -0.019353  ...     -0.019795                   0.047379   \n",
       "property_type_Lote   0.044447  ...     -0.002650                  -0.307365   \n",
       "property_type_Otro   0.017840  ...     -0.007252                  -0.307619   \n",
       "\n",
       "                    property_type_Casa  property_type_Finca  \\\n",
       "bathrooms                     0.300560            -0.069824   \n",
       "clasificacion                 0.074242             0.076004   \n",
       "l2_Cundinamarca               0.026045            -0.008011   \n",
       "l3_Bogotá D.C                -0.014839            -0.027124   \n",
       "property_type_Lote           -0.200634            -0.022927   \n",
       "property_type_Otro           -0.200800            -0.022946   \n",
       "\n",
       "                    property_type_Local comercial  property_type_Lote  \\\n",
       "bathrooms                               -0.072451           -0.377028   \n",
       "clasificacion                            0.042010            0.109690   \n",
       "l2_Cundinamarca                          0.033229           -0.025630   \n",
       "l3_Bogotá D.C                            0.028973           -0.078404   \n",
       "property_type_Lote                      -0.024119            1.000000   \n",
       "property_type_Otro                      -0.024139           -0.091249   \n",
       "\n",
       "                    property_type_Oficina  property_type_Otro  \\\n",
       "bathrooms                       -0.057327            0.042080   \n",
       "clasificacion                    0.026481            0.191512   \n",
       "l2_Cundinamarca                  0.074953           -0.003978   \n",
       "l3_Bogotá D.C                    0.089628           -0.007243   \n",
       "property_type_Lote              -0.022391           -0.091249   \n",
       "property_type_Otro              -0.022410            1.000000   \n",
       "\n",
       "                    property_type_Parqueadero  currency_COP  \n",
       "bathrooms                           -0.008918           NaN  \n",
       "clasificacion                        0.002774           NaN  \n",
       "l2_Cundinamarca                     -0.001729           NaN  \n",
       "l3_Bogotá D.C                       -0.000915           NaN  \n",
       "property_type_Lote                  -0.002149           NaN  \n",
       "property_type_Otro                  -0.002151           NaN  \n",
       "\n",
       "[6 rows x 337 columns]"
      ]
     },
     "execution_count": 26,
     "metadata": {},
     "output_type": "execute_result"
    }
   ],
   "source": [
    "#Se visualiza solo aquellas columnas con más de 0.1 de correlación con respecto a clasificación\n",
    "correlacion_positiva=correlacionOH[correlacionOH.clasificacion>0.1]\n",
    "correlacion_positiva"
   ]
  },
  {
   "cell_type": "code",
   "execution_count": 27,
   "metadata": {},
   "outputs": [
    {
     "data": {
      "text/html": [
       "<div>\n",
       "<style scoped>\n",
       "    .dataframe tbody tr th:only-of-type {\n",
       "        vertical-align: middle;\n",
       "    }\n",
       "\n",
       "    .dataframe tbody tr th {\n",
       "        vertical-align: top;\n",
       "    }\n",
       "\n",
       "    .dataframe thead th {\n",
       "        text-align: right;\n",
       "    }\n",
       "</style>\n",
       "<table border=\"1\" class=\"dataframe\">\n",
       "  <thead>\n",
       "    <tr style=\"text-align: right;\">\n",
       "      <th></th>\n",
       "      <th>lat</th>\n",
       "      <th>lon</th>\n",
       "      <th>bathrooms</th>\n",
       "      <th>clasificacion</th>\n",
       "      <th>l2_Amazonas</th>\n",
       "      <th>l2_Antioquia</th>\n",
       "      <th>l2_Arauca</th>\n",
       "      <th>l2_Atlántico</th>\n",
       "      <th>l2_Bolívar</th>\n",
       "      <th>l2_Boyacá</th>\n",
       "      <th>...</th>\n",
       "      <th>l3_Zipaquirá</th>\n",
       "      <th>property_type_Apartamento</th>\n",
       "      <th>property_type_Casa</th>\n",
       "      <th>property_type_Finca</th>\n",
       "      <th>property_type_Local comercial</th>\n",
       "      <th>property_type_Lote</th>\n",
       "      <th>property_type_Oficina</th>\n",
       "      <th>property_type_Otro</th>\n",
       "      <th>property_type_Parqueadero</th>\n",
       "      <th>currency_COP</th>\n",
       "    </tr>\n",
       "  </thead>\n",
       "  <tbody>\n",
       "    <tr>\n",
       "      <th>property_type_Apartamento</th>\n",
       "      <td>0.09767</td>\n",
       "      <td>-0.032994</td>\n",
       "      <td>-0.061112</td>\n",
       "      <td>-0.257345</td>\n",
       "      <td>0.000828</td>\n",
       "      <td>0.201415</td>\n",
       "      <td>-0.007598</td>\n",
       "      <td>-0.023045</td>\n",
       "      <td>0.039909</td>\n",
       "      <td>-0.028955</td>\n",
       "      <td>...</td>\n",
       "      <td>0.018605</td>\n",
       "      <td>1.0</td>\n",
       "      <td>-0.67638</td>\n",
       "      <td>-0.077292</td>\n",
       "      <td>-0.081311</td>\n",
       "      <td>-0.307365</td>\n",
       "      <td>-0.075486</td>\n",
       "      <td>-0.307619</td>\n",
       "      <td>-0.007244</td>\n",
       "      <td>NaN</td>\n",
       "    </tr>\n",
       "  </tbody>\n",
       "</table>\n",
       "<p>1 rows × 337 columns</p>\n",
       "</div>"
      ],
      "text/plain": [
       "                               lat       lon  bathrooms  clasificacion  \\\n",
       "property_type_Apartamento  0.09767 -0.032994  -0.061112      -0.257345   \n",
       "\n",
       "                           l2_Amazonas  l2_Antioquia  l2_Arauca  l2_Atlántico  \\\n",
       "property_type_Apartamento     0.000828      0.201415  -0.007598     -0.023045   \n",
       "\n",
       "                           l2_Bolívar  l2_Boyacá  ...  l3_Zipaquirá  \\\n",
       "property_type_Apartamento    0.039909  -0.028955  ...      0.018605   \n",
       "\n",
       "                           property_type_Apartamento  property_type_Casa  \\\n",
       "property_type_Apartamento                        1.0            -0.67638   \n",
       "\n",
       "                           property_type_Finca  property_type_Local comercial  \\\n",
       "property_type_Apartamento            -0.077292                      -0.081311   \n",
       "\n",
       "                           property_type_Lote  property_type_Oficina  \\\n",
       "property_type_Apartamento           -0.307365              -0.075486   \n",
       "\n",
       "                           property_type_Otro  property_type_Parqueadero  \\\n",
       "property_type_Apartamento           -0.307619                  -0.007244   \n",
       "\n",
       "                           currency_COP  \n",
       "property_type_Apartamento           NaN  \n",
       "\n",
       "[1 rows x 337 columns]"
      ]
     },
     "execution_count": 27,
     "metadata": {},
     "output_type": "execute_result"
    }
   ],
   "source": [
    "#Se visualiza solo aquellas columnas con menos -0.1 de correlación con respecto a clasificación\n",
    "correlacion_negativa = correlacionOH[correlacionOH.clasificacion<-0.1]\n",
    "correlacion_negativa"
   ]
  },
  {
   "cell_type": "code",
   "execution_count": 28,
   "metadata": {},
   "outputs": [],
   "source": [
    "#Se forma un df que con las features filtradas que contienen más correlación, las cuales servirán como labels para el modelo\n",
    "XOH = pd.concat([colombiaTrain2.bathrooms,colombiaTrain2.l2_Cundinamarca,colombiaTrain2['l3_Bogotá D.C'],colombiaTrain2['property_type_Lote'],colombiaTrain2['property_type_Otro'],colombiaTrain2['property_type_Apartamento']],axis=1)"
   ]
  },
  {
   "cell_type": "code",
   "execution_count": 29,
   "metadata": {},
   "outputs": [],
   "source": [
    "#se crea la variable target, la cual contiene los valores de la columna clasificación\n",
    "y = colombiaTrain2.clasificacion"
   ]
  },
  {
   "cell_type": "code",
   "execution_count": 30,
   "metadata": {},
   "outputs": [
    {
     "name": "stdout",
     "output_type": "stream",
     "text": [
      "(157979, 6) (157979,) (39495, 6) (39495,)\n"
     ]
    }
   ],
   "source": [
    "#Se separa entre valores de entrenamiento y valores de\n",
    "from sklearn.model_selection import train_test_split\n",
    "\n",
    "\n",
    "XOH_train, XOH_test, y_train, y_test = train_test_split(XOH, y, test_size=0.20, random_state=42)\n",
    "\n",
    "print(XOH_train.shape, y_train.shape, XOH_test.shape, y_test.shape)"
   ]
  },
  {
   "cell_type": "code",
   "execution_count": 31,
   "metadata": {},
   "outputs": [],
   "source": [
    "#Se estandariza las features para ayudar al modelo\n",
    "from sklearn import preprocessing\n",
    "from sklearn.preprocessing import StandardScaler\n",
    "scaler = preprocessing.StandardScaler()\n",
    "scXOH_train = scaler.fit_transform(XOH_train)\n",
    "scXOH_test = scaler.fit_transform(XOH_test)"
   ]
  },
  {
   "cell_type": "code",
   "execution_count": 32,
   "metadata": {},
   "outputs": [
    {
     "data": {
      "text/html": [
       "<style>#sk-container-id-1 {color: black;background-color: white;}#sk-container-id-1 pre{padding: 0;}#sk-container-id-1 div.sk-toggleable {background-color: white;}#sk-container-id-1 label.sk-toggleable__label {cursor: pointer;display: block;width: 100%;margin-bottom: 0;padding: 0.3em;box-sizing: border-box;text-align: center;}#sk-container-id-1 label.sk-toggleable__label-arrow:before {content: \"▸\";float: left;margin-right: 0.25em;color: #696969;}#sk-container-id-1 label.sk-toggleable__label-arrow:hover:before {color: black;}#sk-container-id-1 div.sk-estimator:hover label.sk-toggleable__label-arrow:before {color: black;}#sk-container-id-1 div.sk-toggleable__content {max-height: 0;max-width: 0;overflow: hidden;text-align: left;background-color: #f0f8ff;}#sk-container-id-1 div.sk-toggleable__content pre {margin: 0.2em;color: black;border-radius: 0.25em;background-color: #f0f8ff;}#sk-container-id-1 input.sk-toggleable__control:checked~div.sk-toggleable__content {max-height: 200px;max-width: 100%;overflow: auto;}#sk-container-id-1 input.sk-toggleable__control:checked~label.sk-toggleable__label-arrow:before {content: \"▾\";}#sk-container-id-1 div.sk-estimator input.sk-toggleable__control:checked~label.sk-toggleable__label {background-color: #d4ebff;}#sk-container-id-1 div.sk-label input.sk-toggleable__control:checked~label.sk-toggleable__label {background-color: #d4ebff;}#sk-container-id-1 input.sk-hidden--visually {border: 0;clip: rect(1px 1px 1px 1px);clip: rect(1px, 1px, 1px, 1px);height: 1px;margin: -1px;overflow: hidden;padding: 0;position: absolute;width: 1px;}#sk-container-id-1 div.sk-estimator {font-family: monospace;background-color: #f0f8ff;border: 1px dotted black;border-radius: 0.25em;box-sizing: border-box;margin-bottom: 0.5em;}#sk-container-id-1 div.sk-estimator:hover {background-color: #d4ebff;}#sk-container-id-1 div.sk-parallel-item::after {content: \"\";width: 100%;border-bottom: 1px solid gray;flex-grow: 1;}#sk-container-id-1 div.sk-label:hover label.sk-toggleable__label {background-color: #d4ebff;}#sk-container-id-1 div.sk-serial::before {content: \"\";position: absolute;border-left: 1px solid gray;box-sizing: border-box;top: 0;bottom: 0;left: 50%;z-index: 0;}#sk-container-id-1 div.sk-serial {display: flex;flex-direction: column;align-items: center;background-color: white;padding-right: 0.2em;padding-left: 0.2em;position: relative;}#sk-container-id-1 div.sk-item {position: relative;z-index: 1;}#sk-container-id-1 div.sk-parallel {display: flex;align-items: stretch;justify-content: center;background-color: white;position: relative;}#sk-container-id-1 div.sk-item::before, #sk-container-id-1 div.sk-parallel-item::before {content: \"\";position: absolute;border-left: 1px solid gray;box-sizing: border-box;top: 0;bottom: 0;left: 50%;z-index: -1;}#sk-container-id-1 div.sk-parallel-item {display: flex;flex-direction: column;z-index: 1;position: relative;background-color: white;}#sk-container-id-1 div.sk-parallel-item:first-child::after {align-self: flex-end;width: 50%;}#sk-container-id-1 div.sk-parallel-item:last-child::after {align-self: flex-start;width: 50%;}#sk-container-id-1 div.sk-parallel-item:only-child::after {width: 0;}#sk-container-id-1 div.sk-dashed-wrapped {border: 1px dashed gray;margin: 0 0.4em 0.5em 0.4em;box-sizing: border-box;padding-bottom: 0.4em;background-color: white;}#sk-container-id-1 div.sk-label label {font-family: monospace;font-weight: bold;display: inline-block;line-height: 1.2em;}#sk-container-id-1 div.sk-label-container {text-align: center;}#sk-container-id-1 div.sk-container {/* jupyter's `normalize.less` sets `[hidden] { display: none; }` but bootstrap.min.css set `[hidden] { display: none !important; }` so we also need the `!important` here to be able to override the default hidden behavior on the sphinx rendered scikit-learn.org. See: https://github.com/scikit-learn/scikit-learn/issues/21755 */display: inline-block !important;position: relative;}#sk-container-id-1 div.sk-text-repr-fallback {display: none;}</style><div id=\"sk-container-id-1\" class=\"sk-top-container\"><div class=\"sk-text-repr-fallback\"><pre>LogisticRegression()</pre><b>In a Jupyter environment, please rerun this cell to show the HTML representation or trust the notebook. <br />On GitHub, the HTML representation is unable to render, please try loading this page with nbviewer.org.</b></div><div class=\"sk-container\" hidden><div class=\"sk-item\"><div class=\"sk-estimator sk-toggleable\"><input class=\"sk-toggleable__control sk-hidden--visually\" id=\"sk-estimator-id-1\" type=\"checkbox\" checked><label for=\"sk-estimator-id-1\" class=\"sk-toggleable__label sk-toggleable__label-arrow\">LogisticRegression</label><div class=\"sk-toggleable__content\"><pre>LogisticRegression()</pre></div></div></div></div></div>"
      ],
      "text/plain": [
       "LogisticRegression()"
      ]
     },
     "execution_count": 32,
     "metadata": {},
     "output_type": "execute_result"
    }
   ],
   "source": [
    "#Aplicamos regresión logística, ya que el target es binario (tiene solo 2 valores)\n",
    "\n",
    "from sklearn.linear_model import LogisticRegression\n",
    "\n",
    "logReg = LogisticRegression()\n",
    "\n",
    "logReg.fit(scXOH_train,y_train)"
   ]
  },
  {
   "cell_type": "code",
   "execution_count": 33,
   "metadata": {},
   "outputs": [],
   "source": [
    "y_train_pred = logReg.predict(scXOH_train) # subset de entrenamiento\n",
    "y_test_pred = logReg.predict(scXOH_test) #subset de testeo"
   ]
  },
  {
   "cell_type": "code",
   "execution_count": 36,
   "metadata": {},
   "outputs": [
    {
     "name": "stdout",
     "output_type": "stream",
     "text": [
      "El score del modelo es: 0.7998721349040062\n",
      "El score del modelo es: 0.7913153563742246\n",
      "El recall del modelo es: 0.2508296756235949\n",
      "              precision    recall  f1-score   support\n",
      "\n",
      "           0       0.81      0.96      0.88     30154\n",
      "           1       0.65      0.25      0.36      9341\n",
      "\n",
      "    accuracy                           0.79     39495\n",
      "   macro avg       0.73      0.60      0.62     39495\n",
      "weighted avg       0.77      0.79      0.75     39495\n",
      "\n"
     ]
    }
   ],
   "source": [
    "from sklearn.metrics import accuracy_score \n",
    "from sklearn.metrics import classification_report\n",
    "from sklearn.metrics import recall_score\n",
    "\n",
    "print('El score del modelo es:', accuracy_score(y_train, y_train_pred))\n",
    "print('El score del modelo es:', accuracy_score(y_test, y_test_pred))\n",
    "print('El recall del modelo es:', recall_score(y_test, y_test_pred))\n",
    "print(classification_report(y_test, y_test_pred))"
   ]
  },
  {
   "cell_type": "code",
   "execution_count": 47,
   "metadata": {},
   "outputs": [
    {
     "data": {
      "image/png": "[encoded data removed]",
      "text/plain": [
       "<Figure size 864x576 with 1 Axes>"
      ]
     },
     "metadata": {
      "needs_background": "light"
     },
     "output_type": "display_data"
    }
   ],
   "source": [
    "from sklearn.metrics import confusion_matrix, classification_report\n",
    "cm = confusion_matrix(y_test, y_test_pred)\n",
    "\n",
    "fig, ax = plt.subplots(figsize=(12,8))\n",
    "ax.matshow(cm)\n",
    "plt.title('Matriz de Confusión', fontsize=20)\n",
    "plt.ylabel('Etiqueta Verdadera', fontsize=15)\n",
    "plt.xlabel('Etiqueta Predicha', fontsize=15)\n",
    "for (i, j), z in np.ndenumerate(cm):\n",
    "    ax.text(j, i, '{:0.1f}'.format(z), ha='center', va='center')"
   ]
  },
  {
   "cell_type": "markdown",
   "metadata": {},
   "source": [
    "Se verifica que el modelo no es bueno para predecir las casas que son caras, tan solo un 0.25 acierta por lo que se prosigue a elegir otros modelos"
   ]
  },
  {
   "cell_type": "code",
   "execution_count": 41,
   "metadata": {},
   "outputs": [],
   "source": [
    "#Se opta por K-nearest Neighbor por ser un método sencillo y el cual sirve para clasificar nuevas muestras.\n",
    "from sklearn.neighbors import KNeighborsClassifier\n",
    "vecino = KNeighborsClassifier(n_neighbors=100) \n",
    "#Se decide trabajar con n_neighbors = 100 ya que se fue probando con distintos valores \n",
    "# y el que mejor rendimiento da, es justamente 100\n"
   ]
  },
  {
   "cell_type": "code",
   "execution_count": 45,
   "metadata": {},
   "outputs": [
    {
     "data": {
      "text/html": [
       "<div>\n",
       "<style scoped>\n",
       "    .dataframe tbody tr th:only-of-type {\n",
       "        vertical-align: middle;\n",
       "    }\n",
       "\n",
       "    .dataframe tbody tr th {\n",
       "        vertical-align: top;\n",
       "    }\n",
       "\n",
       "    .dataframe thead th {\n",
       "        text-align: right;\n",
       "    }\n",
       "</style>\n",
       "<table border=\"1\" class=\"dataframe\">\n",
       "  <thead>\n",
       "    <tr style=\"text-align: right;\">\n",
       "      <th></th>\n",
       "      <th>bathrooms</th>\n",
       "      <th>l2_Cundinamarca</th>\n",
       "      <th>l3_Bogotá D.C</th>\n",
       "      <th>property_type_Lote</th>\n",
       "      <th>property_type_Otro</th>\n",
       "      <th>property_type_Apartamento</th>\n",
       "    </tr>\n",
       "  </thead>\n",
       "  <tbody>\n",
       "    <tr>\n",
       "      <th>0</th>\n",
       "      <td>4.0</td>\n",
       "      <td>0</td>\n",
       "      <td>0</td>\n",
       "      <td>0</td>\n",
       "      <td>0</td>\n",
       "      <td>0</td>\n",
       "    </tr>\n",
       "  </tbody>\n",
       "</table>\n",
       "</div>"
      ],
      "text/plain": [
       "   bathrooms  l2_Cundinamarca  l3_Bogotá D.C  property_type_Lote  \\\n",
       "0        4.0                0              0                   0   \n",
       "\n",
       "   property_type_Otro  property_type_Apartamento  \n",
       "0                   0                          0  "
      ]
     },
     "execution_count": 45,
     "metadata": {},
     "output_type": "execute_result"
    }
   ],
   "source": [
    "XOH.head(1)"
   ]
  },
  {
   "cell_type": "code",
   "execution_count": 42,
   "metadata": {},
   "outputs": [
    {
     "data": {
      "text/html": [
       "<style>#sk-container-id-3 {color: black;background-color: white;}#sk-container-id-3 pre{padding: 0;}#sk-container-id-3 div.sk-toggleable {background-color: white;}#sk-container-id-3 label.sk-toggleable__label {cursor: pointer;display: block;width: 100%;margin-bottom: 0;padding: 0.3em;box-sizing: border-box;text-align: center;}#sk-container-id-3 label.sk-toggleable__label-arrow:before {content: \"▸\";float: left;margin-right: 0.25em;color: #696969;}#sk-container-id-3 label.sk-toggleable__label-arrow:hover:before {color: black;}#sk-container-id-3 div.sk-estimator:hover label.sk-toggleable__label-arrow:before {color: black;}#sk-container-id-3 div.sk-toggleable__content {max-height: 0;max-width: 0;overflow: hidden;text-align: left;background-color: #f0f8ff;}#sk-container-id-3 div.sk-toggleable__content pre {margin: 0.2em;color: black;border-radius: 0.25em;background-color: #f0f8ff;}#sk-container-id-3 input.sk-toggleable__control:checked~div.sk-toggleable__content {max-height: 200px;max-width: 100%;overflow: auto;}#sk-container-id-3 input.sk-toggleable__control:checked~label.sk-toggleable__label-arrow:before {content: \"▾\";}#sk-container-id-3 div.sk-estimator input.sk-toggleable__control:checked~label.sk-toggleable__label {background-color: #d4ebff;}#sk-container-id-3 div.sk-label input.sk-toggleable__control:checked~label.sk-toggleable__label {background-color: #d4ebff;}#sk-container-id-3 input.sk-hidden--visually {border: 0;clip: rect(1px 1px 1px 1px);clip: rect(1px, 1px, 1px, 1px);height: 1px;margin: -1px;overflow: hidden;padding: 0;position: absolute;width: 1px;}#sk-container-id-3 div.sk-estimator {font-family: monospace;background-color: #f0f8ff;border: 1px dotted black;border-radius: 0.25em;box-sizing: border-box;margin-bottom: 0.5em;}#sk-container-id-3 div.sk-estimator:hover {background-color: #d4ebff;}#sk-container-id-3 div.sk-parallel-item::after {content: \"\";width: 100%;border-bottom: 1px solid gray;flex-grow: 1;}#sk-container-id-3 div.sk-label:hover label.sk-toggleable__label {background-color: #d4ebff;}#sk-container-id-3 div.sk-serial::before {content: \"\";position: absolute;border-left: 1px solid gray;box-sizing: border-box;top: 0;bottom: 0;left: 50%;z-index: 0;}#sk-container-id-3 div.sk-serial {display: flex;flex-direction: column;align-items: center;background-color: white;padding-right: 0.2em;padding-left: 0.2em;position: relative;}#sk-container-id-3 div.sk-item {position: relative;z-index: 1;}#sk-container-id-3 div.sk-parallel {display: flex;align-items: stretch;justify-content: center;background-color: white;position: relative;}#sk-container-id-3 div.sk-item::before, #sk-container-id-3 div.sk-parallel-item::before {content: \"\";position: absolute;border-left: 1px solid gray;box-sizing: border-box;top: 0;bottom: 0;left: 50%;z-index: -1;}#sk-container-id-3 div.sk-parallel-item {display: flex;flex-direction: column;z-index: 1;position: relative;background-color: white;}#sk-container-id-3 div.sk-parallel-item:first-child::after {align-self: flex-end;width: 50%;}#sk-container-id-3 div.sk-parallel-item:last-child::after {align-self: flex-start;width: 50%;}#sk-container-id-3 div.sk-parallel-item:only-child::after {width: 0;}#sk-container-id-3 div.sk-dashed-wrapped {border: 1px dashed gray;margin: 0 0.4em 0.5em 0.4em;box-sizing: border-box;padding-bottom: 0.4em;background-color: white;}#sk-container-id-3 div.sk-label label {font-family: monospace;font-weight: bold;display: inline-block;line-height: 1.2em;}#sk-container-id-3 div.sk-label-container {text-align: center;}#sk-container-id-3 div.sk-container {/* jupyter's `normalize.less` sets `[hidden] { display: none; }` but bootstrap.min.css set `[hidden] { display: none !important; }` so we also need the `!important` here to be able to override the default hidden behavior on the sphinx rendered scikit-learn.org. See: https://github.com/scikit-learn/scikit-learn/issues/21755 */display: inline-block !important;position: relative;}#sk-container-id-3 div.sk-text-repr-fallback {display: none;}</style><div id=\"sk-container-id-3\" class=\"sk-top-container\"><div class=\"sk-text-repr-fallback\"><pre>KNeighborsClassifier(leaf_size=300, n_neighbors=100)</pre><b>In a Jupyter environment, please rerun this cell to show the HTML representation or trust the notebook. <br />On GitHub, the HTML representation is unable to render, please try loading this page with nbviewer.org.</b></div><div class=\"sk-container\" hidden><div class=\"sk-item\"><div class=\"sk-estimator sk-toggleable\"><input class=\"sk-toggleable__control sk-hidden--visually\" id=\"sk-estimator-id-3\" type=\"checkbox\" checked><label for=\"sk-estimator-id-3\" class=\"sk-toggleable__label sk-toggleable__label-arrow\">KNeighborsClassifier</label><div class=\"sk-toggleable__content\"><pre>KNeighborsClassifier(leaf_size=300, n_neighbors=100)</pre></div></div></div></div></div>"
      ],
      "text/plain": [
       "KNeighborsClassifier(leaf_size=300, n_neighbors=100)"
      ]
     },
     "execution_count": 42,
     "metadata": {},
     "output_type": "execute_result"
    }
   ],
   "source": [
    "vecino.fit(scXOH_train, y_train)"
   ]
  },
  {
   "cell_type": "code",
   "execution_count": 43,
   "metadata": {},
   "outputs": [],
   "source": [
    "y_train_predk = vecino.predict(scXOH_train) # subset de entrenamiento\n",
    "y_test_predk =vecino.predict(scXOH_test) #subset de testeo"
   ]
  },
  {
   "cell_type": "code",
   "execution_count": 44,
   "metadata": {},
   "outputs": [
    {
     "name": "stdout",
     "output_type": "stream",
     "text": [
      "El score del modelo es: 0.8188746605561499\n",
      "El score del modelo es: 0.8162552221800228\n",
      "El recall del modelo es: 0.34600149876886843\n",
      "              precision    recall  f1-score   support\n",
      "\n",
      "           0       0.83      0.96      0.89     30154\n",
      "           1       0.74      0.35      0.47      9341\n",
      "\n",
      "    accuracy                           0.82     39495\n",
      "   macro avg       0.78      0.65      0.68     39495\n",
      "weighted avg       0.81      0.82      0.79     39495\n",
      "\n"
     ]
    }
   ],
   "source": [
    "print('El score del modelo es:', accuracy_score(y_train, y_train_predk))\n",
    "print('El score del modelo es:', accuracy_score(y_test, y_test_predk))\n",
    "print('El recall del modelo es:', recall_score(y_test, y_test_predk))\n",
    "print(classification_report(y_test, y_test_predk))"
   ]
  },
  {
   "cell_type": "code",
   "execution_count": 48,
   "metadata": {},
   "outputs": [
    {
     "data": {
      "image/png": "[encoded data removed]",
      "text/plain": [
       "<Figure size 864x576 with 1 Axes>"
      ]
     },
     "metadata": {
      "needs_background": "light"
     },
     "output_type": "display_data"
    }
   ],
   "source": [
    "cm = confusion_matrix(y_test, y_test_predk)\n",
    "\n",
    "fig, ax = plt.subplots(figsize=(12,8))\n",
    "ax.matshow(cm)\n",
    "plt.title('Matriz de Confusión', fontsize=20)\n",
    "plt.ylabel('Etiqueta Verdadera', fontsize=15)\n",
    "plt.xlabel('Etiqueta Predicha', fontsize=15)\n",
    "for (i, j), z in np.ndenumerate(cm):\n",
    "    ax.text(j, i, '{:0.1f}'.format(z), ha='center', va='center')"
   ]
  },
  {
   "cell_type": "markdown",
   "metadata": {},
   "source": [
    "El modelo sigue sin ser bueno, pero se continua con otros 2 más para ver si se puede mejorar"
   ]
  },
  {
   "cell_type": "code",
   "execution_count": 49,
   "metadata": {},
   "outputs": [],
   "source": [
    "#Se procede a unar un arbol de decisión\n",
    "from sklearn.tree import DecisionTreeClassifier\n",
    "tree = DecisionTreeClassifier(random_state=42)"
   ]
  },
  {
   "cell_type": "code",
   "execution_count": 50,
   "metadata": {},
   "outputs": [
    {
     "data": {
      "text/html": [
       "<style>#sk-container-id-4 {color: black;background-color: white;}#sk-container-id-4 pre{padding: 0;}#sk-container-id-4 div.sk-toggleable {background-color: white;}#sk-container-id-4 label.sk-toggleable__label {cursor: pointer;display: block;width: 100%;margin-bottom: 0;padding: 0.3em;box-sizing: border-box;text-align: center;}#sk-container-id-4 label.sk-toggleable__label-arrow:before {content: \"▸\";float: left;margin-right: 0.25em;color: #696969;}#sk-container-id-4 label.sk-toggleable__label-arrow:hover:before {color: black;}#sk-container-id-4 div.sk-estimator:hover label.sk-toggleable__label-arrow:before {color: black;}#sk-container-id-4 div.sk-toggleable__content {max-height: 0;max-width: 0;overflow: hidden;text-align: left;background-color: #f0f8ff;}#sk-container-id-4 div.sk-toggleable__content pre {margin: 0.2em;color: black;border-radius: 0.25em;background-color: #f0f8ff;}#sk-container-id-4 input.sk-toggleable__control:checked~div.sk-toggleable__content {max-height: 200px;max-width: 100%;overflow: auto;}#sk-container-id-4 input.sk-toggleable__control:checked~label.sk-toggleable__label-arrow:before {content: \"▾\";}#sk-container-id-4 div.sk-estimator input.sk-toggleable__control:checked~label.sk-toggleable__label {background-color: #d4ebff;}#sk-container-id-4 div.sk-label input.sk-toggleable__control:checked~label.sk-toggleable__label {background-color: #d4ebff;}#sk-container-id-4 input.sk-hidden--visually {border: 0;clip: rect(1px 1px 1px 1px);clip: rect(1px, 1px, 1px, 1px);height: 1px;margin: -1px;overflow: hidden;padding: 0;position: absolute;width: 1px;}#sk-container-id-4 div.sk-estimator {font-family: monospace;background-color: #f0f8ff;border: 1px dotted black;border-radius: 0.25em;box-sizing: border-box;margin-bottom: 0.5em;}#sk-container-id-4 div.sk-estimator:hover {background-color: #d4ebff;}#sk-container-id-4 div.sk-parallel-item::after {content: \"\";width: 100%;border-bottom: 1px solid gray;flex-grow: 1;}#sk-container-id-4 div.sk-label:hover label.sk-toggleable__label {background-color: #d4ebff;}#sk-container-id-4 div.sk-serial::before {content: \"\";position: absolute;border-left: 1px solid gray;box-sizing: border-box;top: 0;bottom: 0;left: 50%;z-index: 0;}#sk-container-id-4 div.sk-serial {display: flex;flex-direction: column;align-items: center;background-color: white;padding-right: 0.2em;padding-left: 0.2em;position: relative;}#sk-container-id-4 div.sk-item {position: relative;z-index: 1;}#sk-container-id-4 div.sk-parallel {display: flex;align-items: stretch;justify-content: center;background-color: white;position: relative;}#sk-container-id-4 div.sk-item::before, #sk-container-id-4 div.sk-parallel-item::before {content: \"\";position: absolute;border-left: 1px solid gray;box-sizing: border-box;top: 0;bottom: 0;left: 50%;z-index: -1;}#sk-container-id-4 div.sk-parallel-item {display: flex;flex-direction: column;z-index: 1;position: relative;background-color: white;}#sk-container-id-4 div.sk-parallel-item:first-child::after {align-self: flex-end;width: 50%;}#sk-container-id-4 div.sk-parallel-item:last-child::after {align-self: flex-start;width: 50%;}#sk-container-id-4 div.sk-parallel-item:only-child::after {width: 0;}#sk-container-id-4 div.sk-dashed-wrapped {border: 1px dashed gray;margin: 0 0.4em 0.5em 0.4em;box-sizing: border-box;padding-bottom: 0.4em;background-color: white;}#sk-container-id-4 div.sk-label label {font-family: monospace;font-weight: bold;display: inline-block;line-height: 1.2em;}#sk-container-id-4 div.sk-label-container {text-align: center;}#sk-container-id-4 div.sk-container {/* jupyter's `normalize.less` sets `[hidden] { display: none; }` but bootstrap.min.css set `[hidden] { display: none !important; }` so we also need the `!important` here to be able to override the default hidden behavior on the sphinx rendered scikit-learn.org. See: https://github.com/scikit-learn/scikit-learn/issues/21755 */display: inline-block !important;position: relative;}#sk-container-id-4 div.sk-text-repr-fallback {display: none;}</style><div id=\"sk-container-id-4\" class=\"sk-top-container\"><div class=\"sk-text-repr-fallback\"><pre>DecisionTreeClassifier(random_state=42)</pre><b>In a Jupyter environment, please rerun this cell to show the HTML representation or trust the notebook. <br />On GitHub, the HTML representation is unable to render, please try loading this page with nbviewer.org.</b></div><div class=\"sk-container\" hidden><div class=\"sk-item\"><div class=\"sk-estimator sk-toggleable\"><input class=\"sk-toggleable__control sk-hidden--visually\" id=\"sk-estimator-id-4\" type=\"checkbox\" checked><label for=\"sk-estimator-id-4\" class=\"sk-toggleable__label sk-toggleable__label-arrow\">DecisionTreeClassifier</label><div class=\"sk-toggleable__content\"><pre>DecisionTreeClassifier(random_state=42)</pre></div></div></div></div></div>"
      ],
      "text/plain": [
       "DecisionTreeClassifier(random_state=42)"
      ]
     },
     "execution_count": 50,
     "metadata": {},
     "output_type": "execute_result"
    }
   ],
   "source": [
    "tree.fit(scXOH_train, y_train)"
   ]
  },
  {
   "cell_type": "code",
   "execution_count": 51,
   "metadata": {},
   "outputs": [
    {
     "name": "stdout",
     "output_type": "stream",
     "text": [
      "El score del modelo es: 0.8212040840871255\n",
      "El score del modelo es: 0.8214710722876314\n",
      "El recall del modelo es: 0.4678299967883524\n",
      "              precision    recall  f1-score   support\n",
      "\n",
      "           0       0.83      0.96      0.89     30154\n",
      "           1       0.74      0.35      0.47      9341\n",
      "\n",
      "    accuracy                           0.82     39495\n",
      "   macro avg       0.78      0.65      0.68     39495\n",
      "weighted avg       0.81      0.82      0.79     39495\n",
      "\n"
     ]
    }
   ],
   "source": [
    "# Se predice sobre nuestro set de entrenamiento\n",
    "\n",
    "y_train_predtree = tree.predict(scXOH_train)\n",
    "\n",
    "# Se predice sobre nuestro set de test\n",
    "\n",
    "y_test_predtree = tree.predict(scXOH_test)\n",
    "\n",
    "# Se comparacon las etiquetas reales\n",
    "print('El score del modelo es:', accuracy_score(y_train, y_train_predtree))\n",
    "print('El score del modelo es:', accuracy_score(y_test, y_test_predtree))\n",
    "print('El recall del modelo es:', recall_score(y_test, y_test_predtree))\n",
    "print(classification_report(y_test, y_test_predk))\n",
    "\n"
   ]
  },
  {
   "cell_type": "code",
   "execution_count": 52,
   "metadata": {},
   "outputs": [
    {
     "data": {
      "image/png": "[encoded data removed]",
      "text/plain": [
       "<Figure size 864x576 with 1 Axes>"
      ]
     },
     "metadata": {
      "needs_background": "light"
     },
     "output_type": "display_data"
    }
   ],
   "source": [
    "cm = confusion_matrix(y_test, y_test_predtree)\n",
    "\n",
    "fig, ax = plt.subplots(figsize=(12,8))\n",
    "ax.matshow(cm)\n",
    "plt.title('Matriz de Confusión', fontsize=20)\n",
    "plt.ylabel('Etiqueta Verdadera', fontsize=15)\n",
    "plt.xlabel('Etiqueta Predicha', fontsize=15)\n",
    "for (i, j), z in np.ndenumerate(cm):\n",
    "    ax.text(j, i, '{:0.1f}'.format(z), ha='center', va='center')"
   ]
  },
  {
   "cell_type": "markdown",
   "metadata": {},
   "source": [
    "Da valores muy parecidos a knn"
   ]
  },
  {
   "cell_type": "code",
   "execution_count": 53,
   "metadata": {},
   "outputs": [
    {
     "data": {
      "text/html": [
       "<style>#sk-container-id-5 {color: black;background-color: white;}#sk-container-id-5 pre{padding: 0;}#sk-container-id-5 div.sk-toggleable {background-color: white;}#sk-container-id-5 label.sk-toggleable__label {cursor: pointer;display: block;width: 100%;margin-bottom: 0;padding: 0.3em;box-sizing: border-box;text-align: center;}#sk-container-id-5 label.sk-toggleable__label-arrow:before {content: \"▸\";float: left;margin-right: 0.25em;color: #696969;}#sk-container-id-5 label.sk-toggleable__label-arrow:hover:before {color: black;}#sk-container-id-5 div.sk-estimator:hover label.sk-toggleable__label-arrow:before {color: black;}#sk-container-id-5 div.sk-toggleable__content {max-height: 0;max-width: 0;overflow: hidden;text-align: left;background-color: #f0f8ff;}#sk-container-id-5 div.sk-toggleable__content pre {margin: 0.2em;color: black;border-radius: 0.25em;background-color: #f0f8ff;}#sk-container-id-5 input.sk-toggleable__control:checked~div.sk-toggleable__content {max-height: 200px;max-width: 100%;overflow: auto;}#sk-container-id-5 input.sk-toggleable__control:checked~label.sk-toggleable__label-arrow:before {content: \"▾\";}#sk-container-id-5 div.sk-estimator input.sk-toggleable__control:checked~label.sk-toggleable__label {background-color: #d4ebff;}#sk-container-id-5 div.sk-label input.sk-toggleable__control:checked~label.sk-toggleable__label {background-color: #d4ebff;}#sk-container-id-5 input.sk-hidden--visually {border: 0;clip: rect(1px 1px 1px 1px);clip: rect(1px, 1px, 1px, 1px);height: 1px;margin: -1px;overflow: hidden;padding: 0;position: absolute;width: 1px;}#sk-container-id-5 div.sk-estimator {font-family: monospace;background-color: #f0f8ff;border: 1px dotted black;border-radius: 0.25em;box-sizing: border-box;margin-bottom: 0.5em;}#sk-container-id-5 div.sk-estimator:hover {background-color: #d4ebff;}#sk-container-id-5 div.sk-parallel-item::after {content: \"\";width: 100%;border-bottom: 1px solid gray;flex-grow: 1;}#sk-container-id-5 div.sk-label:hover label.sk-toggleable__label {background-color: #d4ebff;}#sk-container-id-5 div.sk-serial::before {content: \"\";position: absolute;border-left: 1px solid gray;box-sizing: border-box;top: 0;bottom: 0;left: 50%;z-index: 0;}#sk-container-id-5 div.sk-serial {display: flex;flex-direction: column;align-items: center;background-color: white;padding-right: 0.2em;padding-left: 0.2em;position: relative;}#sk-container-id-5 div.sk-item {position: relative;z-index: 1;}#sk-container-id-5 div.sk-parallel {display: flex;align-items: stretch;justify-content: center;background-color: white;position: relative;}#sk-container-id-5 div.sk-item::before, #sk-container-id-5 div.sk-parallel-item::before {content: \"\";position: absolute;border-left: 1px solid gray;box-sizing: border-box;top: 0;bottom: 0;left: 50%;z-index: -1;}#sk-container-id-5 div.sk-parallel-item {display: flex;flex-direction: column;z-index: 1;position: relative;background-color: white;}#sk-container-id-5 div.sk-parallel-item:first-child::after {align-self: flex-end;width: 50%;}#sk-container-id-5 div.sk-parallel-item:last-child::after {align-self: flex-start;width: 50%;}#sk-container-id-5 div.sk-parallel-item:only-child::after {width: 0;}#sk-container-id-5 div.sk-dashed-wrapped {border: 1px dashed gray;margin: 0 0.4em 0.5em 0.4em;box-sizing: border-box;padding-bottom: 0.4em;background-color: white;}#sk-container-id-5 div.sk-label label {font-family: monospace;font-weight: bold;display: inline-block;line-height: 1.2em;}#sk-container-id-5 div.sk-label-container {text-align: center;}#sk-container-id-5 div.sk-container {/* jupyter's `normalize.less` sets `[hidden] { display: none; }` but bootstrap.min.css set `[hidden] { display: none !important; }` so we also need the `!important` here to be able to override the default hidden behavior on the sphinx rendered scikit-learn.org. See: https://github.com/scikit-learn/scikit-learn/issues/21755 */display: inline-block !important;position: relative;}#sk-container-id-5 div.sk-text-repr-fallback {display: none;}</style><div id=\"sk-container-id-5\" class=\"sk-top-container\"><div class=\"sk-text-repr-fallback\"><pre>RandomForestClassifier(n_jobs=-1, oob_score=True, random_state=42)</pre><b>In a Jupyter environment, please rerun this cell to show the HTML representation or trust the notebook. <br />On GitHub, the HTML representation is unable to render, please try loading this page with nbviewer.org.</b></div><div class=\"sk-container\" hidden><div class=\"sk-item\"><div class=\"sk-estimator sk-toggleable\"><input class=\"sk-toggleable__control sk-hidden--visually\" id=\"sk-estimator-id-5\" type=\"checkbox\" checked><label for=\"sk-estimator-id-5\" class=\"sk-toggleable__label sk-toggleable__label-arrow\">RandomForestClassifier</label><div class=\"sk-toggleable__content\"><pre>RandomForestClassifier(n_jobs=-1, oob_score=True, random_state=42)</pre></div></div></div></div></div>"
      ],
      "text/plain": [
       "RandomForestClassifier(n_jobs=-1, oob_score=True, random_state=42)"
      ]
     },
     "execution_count": 53,
     "metadata": {},
     "output_type": "execute_result"
    }
   ],
   "source": [
    "# se procede a usar un random forest\n",
    "from sklearn.ensemble import RandomForestClassifier\n",
    "rfclf = RandomForestClassifier(n_estimators=100, max_features='sqrt', n_jobs=-1, oob_score = True, random_state = 42)\n",
    "rfclf.fit(scXOH_train,y_train)"
   ]
  },
  {
   "cell_type": "code",
   "execution_count": 54,
   "metadata": {},
   "outputs": [
    {
     "name": "stdout",
     "output_type": "stream",
     "text": [
      "0.8212040840871255\n",
      "              precision    recall  f1-score   support\n",
      "\n",
      "           0       0.85      0.93      0.89     30154\n",
      "           1       0.68      0.47      0.55      9341\n",
      "\n",
      "    accuracy                           0.82     39495\n",
      "   macro avg       0.76      0.70      0.72     39495\n",
      "weighted avg       0.81      0.82      0.81     39495\n",
      "\n"
     ]
    }
   ],
   "source": [
    "y_train_predrfclf = rfclf.predict(scXOH_train)\n",
    "y_test_predrfclf = rfclf.predict(scXOH_test)\n"
   ]
  },
  {
   "cell_type": "code",
   "execution_count": 55,
   "metadata": {},
   "outputs": [
    {
     "name": "stdout",
     "output_type": "stream",
     "text": [
      "El score del modelo es: 0.8212040840871255\n",
      "El score del modelo es: 0.8214710722876314\n",
      "El recall del modelo es: 0.4678299967883524\n",
      "              precision    recall  f1-score   support\n",
      "\n",
      "           0       0.85      0.93      0.89     30154\n",
      "           1       0.68      0.47      0.55      9341\n",
      "\n",
      "    accuracy                           0.82     39495\n",
      "   macro avg       0.76      0.70      0.72     39495\n",
      "weighted avg       0.81      0.82      0.81     39495\n",
      "\n"
     ]
    }
   ],
   "source": [
    "print('El score del modelo es:', accuracy_score(y_train, y_train_predrfclf))\n",
    "print('El score del modelo es:', accuracy_score(y_test, y_test_predrfclf))\n",
    "print('El recall del modelo es:', recall_score(y_test, y_test_predrfclf))\n",
    "print(classification_report(y_test, y_test_predrfclf))"
   ]
  },
  {
   "cell_type": "code",
   "execution_count": 62,
   "metadata": {},
   "outputs": [
    {
     "data": {
      "image/png": "[encoded data removed]",
      "text/plain": [
       "<Figure size 864x576 with 1 Axes>"
      ]
     },
     "metadata": {
      "needs_background": "light"
     },
     "output_type": "display_data"
    }
   ],
   "source": [
    "cm = confusion_matrix(y_test, y_test_predrfclf)\n",
    "\n",
    "fig, ax = plt.subplots(figsize=(12,8))\n",
    "ax.matshow(cm)\n",
    "plt.title('Matriz de Confusión', fontsize=20)\n",
    "plt.ylabel('Etiqueta Verdadera', fontsize=15)\n",
    "plt.xlabel('Etiqueta Predicha', fontsize=15)\n",
    "for (i, j), z in np.ndenumerate(cm):\n",
    "    ax.text(j, i, '{:0.1f}'.format(z), ha='center', va='center')"
   ]
  },
  {
   "cell_type": "markdown",
   "metadata": {},
   "source": [
    "Si bien hay una mejora en el recall, no deja de ser mejor tirar una moneda al aire y elegir según como caiga si las casas que se saben que son caras clasificarlas entre baratas o caras "
   ]
  },
  {
   "cell_type": "markdown",
   "metadata": {},
   "source": [
    "Se llega a la conclusión de que las columnas son muy pocas para predecir de manera que correcta y se decide trabajar con todas las columnas del df \"colombiaTrain2\" y realizar una reducción de dimensión para ver si de esa forma se mejora el recall"
   ]
  },
  {
   "cell_type": "code",
   "execution_count": 57,
   "metadata": {},
   "outputs": [
    {
     "data": {
      "text/plain": [
       "(197474, 337)"
      ]
     },
     "execution_count": 57,
     "metadata": {},
     "output_type": "execute_result"
    }
   ],
   "source": [
    "df_pca = colombiaTrain2.drop(['clasificacion'], axis=1)\n",
    "df_pca.shape"
   ]
  },
  {
   "cell_type": "code",
   "execution_count": 58,
   "metadata": {},
   "outputs": [
    {
     "name": "stderr",
     "output_type": "stream",
     "text": [
      "c:\\Program Files\\Python310\\lib\\site-packages\\sklearn\\utils\\validation.py:1858: FutureWarning: Feature names only support names that are all strings. Got feature names with dtypes: ['int', 'str']. An error will be raised in 1.2.\n",
      "  warnings.warn(\n",
      "c:\\Program Files\\Python310\\lib\\site-packages\\sklearn\\utils\\validation.py:1858: FutureWarning: Feature names only support names that are all strings. Got feature names with dtypes: ['int', 'str']. An error will be raised in 1.2.\n",
      "  warnings.warn(\n"
     ]
    }
   ],
   "source": [
    "#Se procede a la reduccion de dimensiones con PCA, pero antes se estandariza. \n",
    "# Se elige que la cantidad de componentes sean los que demuestren el 88% de la varianza.\n",
    "from sklearn.decomposition import PCA\n",
    "sc_df_pca = scaler.fit_transform(df_pca)\n",
    "pca = PCA(n_components = 0.88)\n",
    "pca.fit(sc_df_pca)\n",
    "reduced = pca.transform(sc_df_pca)"
   ]
  },
  {
   "cell_type": "code",
   "execution_count": 60,
   "metadata": {},
   "outputs": [
    {
     "data": {
      "text/plain": [
       "267"
      ]
     },
     "execution_count": 60,
     "metadata": {},
     "output_type": "execute_result"
    }
   ],
   "source": [
    "#Se ve que la nuevas cantidad de features se redujo de 337 a 267\n",
    "pca.n_components_"
   ]
  },
  {
   "cell_type": "code",
   "execution_count": 61,
   "metadata": {},
   "outputs": [
    {
     "name": "stdout",
     "output_type": "stream",
     "text": [
      "(157979, 267) (157979,) (39495, 267) (39495,)\n"
     ]
    }
   ],
   "source": [
    "pca_train, pca_test, y_train_pca, y_test_pca = train_test_split(reduced, y, test_size=0.20, random_state=42)\n",
    "\n",
    "print(pca_train.shape, y_train_pca.shape, pca_test.shape, y_test_pca.shape)"
   ]
  },
  {
   "cell_type": "code",
   "execution_count": 113,
   "metadata": {},
   "outputs": [],
   "source": [
    "#Se vuelve a elegir randomforest porque fue el que mejor anduvo de lo anteriores\n",
    "clf_pca = RandomForestClassifier(n_estimators=100,max_depth=10 ,max_features='sqrt', n_jobs=-1, oob_score = True, random_state = 42)"
   ]
  },
  {
   "cell_type": "code",
   "execution_count": 114,
   "metadata": {},
   "outputs": [
    {
     "data": {
      "text/html": [
       "<style>#sk-container-id-10 {color: black;background-color: white;}#sk-container-id-10 pre{padding: 0;}#sk-container-id-10 div.sk-toggleable {background-color: white;}#sk-container-id-10 label.sk-toggleable__label {cursor: pointer;display: block;width: 100%;margin-bottom: 0;padding: 0.3em;box-sizing: border-box;text-align: center;}#sk-container-id-10 label.sk-toggleable__label-arrow:before {content: \"▸\";float: left;margin-right: 0.25em;color: #696969;}#sk-container-id-10 label.sk-toggleable__label-arrow:hover:before {color: black;}#sk-container-id-10 div.sk-estimator:hover label.sk-toggleable__label-arrow:before {color: black;}#sk-container-id-10 div.sk-toggleable__content {max-height: 0;max-width: 0;overflow: hidden;text-align: left;background-color: #f0f8ff;}#sk-container-id-10 div.sk-toggleable__content pre {margin: 0.2em;color: black;border-radius: 0.25em;background-color: #f0f8ff;}#sk-container-id-10 input.sk-toggleable__control:checked~div.sk-toggleable__content {max-height: 200px;max-width: 100%;overflow: auto;}#sk-container-id-10 input.sk-toggleable__control:checked~label.sk-toggleable__label-arrow:before {content: \"▾\";}#sk-container-id-10 div.sk-estimator input.sk-toggleable__control:checked~label.sk-toggleable__label {background-color: #d4ebff;}#sk-container-id-10 div.sk-label input.sk-toggleable__control:checked~label.sk-toggleable__label {background-color: #d4ebff;}#sk-container-id-10 input.sk-hidden--visually {border: 0;clip: rect(1px 1px 1px 1px);clip: rect(1px, 1px, 1px, 1px);height: 1px;margin: -1px;overflow: hidden;padding: 0;position: absolute;width: 1px;}#sk-container-id-10 div.sk-estimator {font-family: monospace;background-color: #f0f8ff;border: 1px dotted black;border-radius: 0.25em;box-sizing: border-box;margin-bottom: 0.5em;}#sk-container-id-10 div.sk-estimator:hover {background-color: #d4ebff;}#sk-container-id-10 div.sk-parallel-item::after {content: \"\";width: 100%;border-bottom: 1px solid gray;flex-grow: 1;}#sk-container-id-10 div.sk-label:hover label.sk-toggleable__label {background-color: #d4ebff;}#sk-container-id-10 div.sk-serial::before {content: \"\";position: absolute;border-left: 1px solid gray;box-sizing: border-box;top: 0;bottom: 0;left: 50%;z-index: 0;}#sk-container-id-10 div.sk-serial {display: flex;flex-direction: column;align-items: center;background-color: white;padding-right: 0.2em;padding-left: 0.2em;position: relative;}#sk-container-id-10 div.sk-item {position: relative;z-index: 1;}#sk-container-id-10 div.sk-parallel {display: flex;align-items: stretch;justify-content: center;background-color: white;position: relative;}#sk-container-id-10 div.sk-item::before, #sk-container-id-10 div.sk-parallel-item::before {content: \"\";position: absolute;border-left: 1px solid gray;box-sizing: border-box;top: 0;bottom: 0;left: 50%;z-index: -1;}#sk-container-id-10 div.sk-parallel-item {display: flex;flex-direction: column;z-index: 1;position: relative;background-color: white;}#sk-container-id-10 div.sk-parallel-item:first-child::after {align-self: flex-end;width: 50%;}#sk-container-id-10 div.sk-parallel-item:last-child::after {align-self: flex-start;width: 50%;}#sk-container-id-10 div.sk-parallel-item:only-child::after {width: 0;}#sk-container-id-10 div.sk-dashed-wrapped {border: 1px dashed gray;margin: 0 0.4em 0.5em 0.4em;box-sizing: border-box;padding-bottom: 0.4em;background-color: white;}#sk-container-id-10 div.sk-label label {font-family: monospace;font-weight: bold;display: inline-block;line-height: 1.2em;}#sk-container-id-10 div.sk-label-container {text-align: center;}#sk-container-id-10 div.sk-container {/* jupyter's `normalize.less` sets `[hidden] { display: none; }` but bootstrap.min.css set `[hidden] { display: none !important; }` so we also need the `!important` here to be able to override the default hidden behavior on the sphinx rendered scikit-learn.org. See: https://github.com/scikit-learn/scikit-learn/issues/21755 */display: inline-block !important;position: relative;}#sk-container-id-10 div.sk-text-repr-fallback {display: none;}</style><div id=\"sk-container-id-10\" class=\"sk-top-container\"><div class=\"sk-text-repr-fallback\"><pre>RandomForestClassifier(max_depth=10, n_jobs=-1, oob_score=True, random_state=42)</pre><b>In a Jupyter environment, please rerun this cell to show the HTML representation or trust the notebook. <br />On GitHub, the HTML representation is unable to render, please try loading this page with nbviewer.org.</b></div><div class=\"sk-container\" hidden><div class=\"sk-item\"><div class=\"sk-estimator sk-toggleable\"><input class=\"sk-toggleable__control sk-hidden--visually\" id=\"sk-estimator-id-10\" type=\"checkbox\" checked><label for=\"sk-estimator-id-10\" class=\"sk-toggleable__label sk-toggleable__label-arrow\">RandomForestClassifier</label><div class=\"sk-toggleable__content\"><pre>RandomForestClassifier(max_depth=10, n_jobs=-1, oob_score=True, random_state=42)</pre></div></div></div></div></div>"
      ],
      "text/plain": [
       "RandomForestClassifier(max_depth=10, n_jobs=-1, oob_score=True, random_state=42)"
      ]
     },
     "execution_count": 114,
     "metadata": {},
     "output_type": "execute_result"
    }
   ],
   "source": [
    "clf_pca.fit(pca_train, y_train_pca)"
   ]
  },
  {
   "cell_type": "code",
   "execution_count": 118,
   "metadata": {},
   "outputs": [],
   "source": [
    "y_train_pred_pca = clf_pca.predict(pca_train) # subset de entrenamiento\n",
    "y_test_pred_pca =clf_pca.predict(pca_test) #subset de testeo"
   ]
  },
  {
   "cell_type": "code",
   "execution_count": 119,
   "metadata": {},
   "outputs": [
    {
     "name": "stdout",
     "output_type": "stream",
     "text": [
      "El score del modelo es: 0.8754391406452756\n",
      "El score del modelo es: 0.8607165463982782\n",
      "El recall del modelo es: 0.5999357670484958\n",
      "              precision    recall  f1-score   support\n",
      "\n",
      "           0       0.88      0.94      0.91     30154\n",
      "           1       0.76      0.60      0.67      9341\n",
      "\n",
      "    accuracy                           0.86     39495\n",
      "   macro avg       0.82      0.77      0.79     39495\n",
      "weighted avg       0.85      0.86      0.85     39495\n",
      "\n"
     ]
    }
   ],
   "source": [
    "print('El score del modelo es:', accuracy_score(y_train, y_train_pred_pca))\n",
    "print('El score del modelo es:', accuracy_score(y_test, y_test_pred_pca))\n",
    "print('El recall del modelo es:', recall_score(y_test, y_test_pred_pca))\n",
    "print(classification_report(y_test, y_test_pred_pca))"
   ]
  },
  {
   "cell_type": "code",
   "execution_count": 120,
   "metadata": {},
   "outputs": [
    {
     "data": {
      "image/png": "[encoded data removed]",
      "text/plain": [
       "<Figure size 864x576 with 1 Axes>"
      ]
     },
     "metadata": {
      "needs_background": "light"
     },
     "output_type": "display_data"
    }
   ],
   "source": [
    "cm = confusion_matrix(y_test, y_test_pred_pca)\n",
    "\n",
    "fig, ax = plt.subplots(figsize=(12,8))\n",
    "ax.matshow(cm)\n",
    "plt.title('Matriz de Confusión', fontsize=20)\n",
    "plt.ylabel('Etiqueta Verdadera', fontsize=15)\n",
    "plt.xlabel('Etiqueta Predicha', fontsize=15)\n",
    "for (i, j), z in np.ndenumerate(cm):\n",
    "    ax.text(j, i, '{:0.1f}'.format(z), ha='center', va='center')"
   ]
  },
  {
   "cell_type": "markdown",
   "metadata": {},
   "source": [
    "Si bien el recall mejoró considerablemente, no es lo suficientemente bueno como para predecir las casas caras"
   ]
  },
  {
   "cell_type": "markdown",
   "metadata": {},
   "source": [
    "Se intenta llegar a un ajuste con y trabajar con menos fila, por lo que más que nada que probar, se utiliza label encoder en vez de get_dummies "
   ]
  },
  {
   "cell_type": "code",
   "execution_count": 69,
   "metadata": {},
   "outputs": [
    {
     "data": {
      "text/html": [
       "<div>\n",
       "<style scoped>\n",
       "    .dataframe tbody tr th:only-of-type {\n",
       "        vertical-align: middle;\n",
       "    }\n",
       "\n",
       "    .dataframe tbody tr th {\n",
       "        vertical-align: top;\n",
       "    }\n",
       "\n",
       "    .dataframe thead th {\n",
       "        text-align: right;\n",
       "    }\n",
       "</style>\n",
       "<table border=\"1\" class=\"dataframe\">\n",
       "  <thead>\n",
       "    <tr style=\"text-align: right;\">\n",
       "      <th></th>\n",
       "      <th>start_date</th>\n",
       "      <th>lat</th>\n",
       "      <th>lon</th>\n",
       "      <th>l2</th>\n",
       "      <th>l3</th>\n",
       "      <th>l4</th>\n",
       "      <th>l5</th>\n",
       "      <th>l6</th>\n",
       "      <th>rooms</th>\n",
       "      <th>bedrooms</th>\n",
       "      <th>bathrooms</th>\n",
       "      <th>surface_total</th>\n",
       "      <th>surface_covered</th>\n",
       "      <th>price</th>\n",
       "      <th>currency</th>\n",
       "      <th>price_period</th>\n",
       "      <th>property_type</th>\n",
       "      <th>clasificacion</th>\n",
       "    </tr>\n",
       "  </thead>\n",
       "  <tbody>\n",
       "    <tr>\n",
       "      <th>0</th>\n",
       "      <td>2020-12-14</td>\n",
       "      <td>6.203</td>\n",
       "      <td>-75.572</td>\n",
       "      <td>Antioquia</td>\n",
       "      <td>Medellín</td>\n",
       "      <td>El Poblado</td>\n",
       "      <td>NaN</td>\n",
       "      <td>NaN</td>\n",
       "      <td>NaN</td>\n",
       "      <td>4.0</td>\n",
       "      <td>4.0</td>\n",
       "      <td>NaN</td>\n",
       "      <td>NaN</td>\n",
       "      <td>9.000000e+09</td>\n",
       "      <td>COP</td>\n",
       "      <td>NaN</td>\n",
       "      <td>Casa</td>\n",
       "      <td>1</td>\n",
       "    </tr>\n",
       "  </tbody>\n",
       "</table>\n",
       "</div>"
      ],
      "text/plain": [
       "   start_date    lat     lon         l2        l3          l4   l5   l6  \\\n",
       "0  2020-12-14  6.203 -75.572  Antioquia  Medellín  El Poblado  NaN  NaN   \n",
       "\n",
       "   rooms  bedrooms  bathrooms  surface_total  surface_covered         price  \\\n",
       "0    NaN       4.0        4.0            NaN              NaN  9.000000e+09   \n",
       "\n",
       "  currency price_period property_type  clasificacion  \n",
       "0      COP          NaN          Casa              1  "
      ]
     },
     "execution_count": 69,
     "metadata": {},
     "output_type": "execute_result"
    }
   ],
   "source": [
    "colombiaTrain.head(1)"
   ]
  },
  {
   "cell_type": "code",
   "execution_count": 72,
   "metadata": {},
   "outputs": [],
   "source": [
    "#Se procede a hacer los mismos pasos que con ColombiaTrain2\n",
    "ColombiaLE = colombiaTrain\n",
    "ColombiaLE = ColombiaLE.drop(['start_date','lat','lon','l4','l5','l6',\n",
    "'rooms','bedrooms','surface_total','surface_covered','price','price_period','currency'], axis = 1)"
   ]
  },
  {
   "cell_type": "code",
   "execution_count": 73,
   "metadata": {},
   "outputs": [
    {
     "data": {
      "text/html": [
       "<div>\n",
       "<style scoped>\n",
       "    .dataframe tbody tr th:only-of-type {\n",
       "        vertical-align: middle;\n",
       "    }\n",
       "\n",
       "    .dataframe tbody tr th {\n",
       "        vertical-align: top;\n",
       "    }\n",
       "\n",
       "    .dataframe thead th {\n",
       "        text-align: right;\n",
       "    }\n",
       "</style>\n",
       "<table border=\"1\" class=\"dataframe\">\n",
       "  <thead>\n",
       "    <tr style=\"text-align: right;\">\n",
       "      <th></th>\n",
       "      <th>l2</th>\n",
       "      <th>l3</th>\n",
       "      <th>bathrooms</th>\n",
       "      <th>property_type</th>\n",
       "      <th>clasificacion</th>\n",
       "    </tr>\n",
       "  </thead>\n",
       "  <tbody>\n",
       "    <tr>\n",
       "      <th>0</th>\n",
       "      <td>Antioquia</td>\n",
       "      <td>Medellín</td>\n",
       "      <td>4.0</td>\n",
       "      <td>Casa</td>\n",
       "      <td>1</td>\n",
       "    </tr>\n",
       "  </tbody>\n",
       "</table>\n",
       "</div>"
      ],
      "text/plain": [
       "          l2        l3  bathrooms property_type  clasificacion\n",
       "0  Antioquia  Medellín        4.0          Casa              1"
      ]
     },
     "execution_count": 73,
     "metadata": {},
     "output_type": "execute_result"
    }
   ],
   "source": [
    "ColombiaLE.head(1)"
   ]
  },
  {
   "cell_type": "code",
   "execution_count": 74,
   "metadata": {},
   "outputs": [],
   "source": [
    "ColombiaLE.reset_index(drop = True, inplace = True)"
   ]
  },
  {
   "cell_type": "code",
   "execution_count": 75,
   "metadata": {},
   "outputs": [],
   "source": [
    "# A diferencia de poner 0 en bathrooms en los valores nulos, ahora se decide que es mejor imputar el valor la moda\n",
    "#para intentar tener mejor resultado\n",
    "from sklearn.impute import SimpleImputer\n",
    "imputer = SimpleImputer(strategy = 'most_frequent')\n",
    "imputer.fit(ColombiaLE[['bathrooms']])\n",
    "ColombiaLE['bathrooms'] = imputer.transform(ColombiaLE[['bathrooms']])\n"
   ]
  },
  {
   "cell_type": "code",
   "execution_count": 76,
   "metadata": {},
   "outputs": [],
   "source": [
    "#Se aplica label encoder para clasificar las etiquetas en base a números\n",
    "from sklearn import preprocessing\n",
    "label_encoder = preprocessing.LabelEncoder()\n",
    "  \n",
    "\n",
    "ColombiaLE['l2'] = label_encoder.fit_transform(ColombiaLE['l2'])\n",
    "ColombiaLE['property_type'] = label_encoder.fit_transform(ColombiaLE['property_type'])\n",
    "ColombiaLE['l3'] = label_encoder.fit_transform(ColombiaLE['l3'])\n"
   ]
  },
  {
   "cell_type": "code",
   "execution_count": 77,
   "metadata": {},
   "outputs": [
    {
     "data": {
      "text/html": [
       "<div>\n",
       "<style scoped>\n",
       "    .dataframe tbody tr th:only-of-type {\n",
       "        vertical-align: middle;\n",
       "    }\n",
       "\n",
       "    .dataframe tbody tr th {\n",
       "        vertical-align: top;\n",
       "    }\n",
       "\n",
       "    .dataframe thead th {\n",
       "        text-align: right;\n",
       "    }\n",
       "</style>\n",
       "<table border=\"1\" class=\"dataframe\">\n",
       "  <thead>\n",
       "    <tr style=\"text-align: right;\">\n",
       "      <th></th>\n",
       "      <th>l2</th>\n",
       "      <th>l3</th>\n",
       "      <th>bathrooms</th>\n",
       "      <th>property_type</th>\n",
       "      <th>clasificacion</th>\n",
       "    </tr>\n",
       "  </thead>\n",
       "  <tbody>\n",
       "    <tr>\n",
       "      <th>l2</th>\n",
       "      <td>1.000000</td>\n",
       "      <td>-0.180732</td>\n",
       "      <td>0.100424</td>\n",
       "      <td>0.061738</td>\n",
       "      <td>-0.011140</td>\n",
       "    </tr>\n",
       "    <tr>\n",
       "      <th>l3</th>\n",
       "      <td>-0.180732</td>\n",
       "      <td>1.000000</td>\n",
       "      <td>-0.067469</td>\n",
       "      <td>0.128971</td>\n",
       "      <td>-0.050978</td>\n",
       "    </tr>\n",
       "    <tr>\n",
       "      <th>bathrooms</th>\n",
       "      <td>0.100424</td>\n",
       "      <td>-0.067469</td>\n",
       "      <td>1.000000</td>\n",
       "      <td>0.054396</td>\n",
       "      <td>0.423728</td>\n",
       "    </tr>\n",
       "    <tr>\n",
       "      <th>property_type</th>\n",
       "      <td>0.061738</td>\n",
       "      <td>0.128971</td>\n",
       "      <td>0.054396</td>\n",
       "      <td>1.000000</td>\n",
       "      <td>0.272666</td>\n",
       "    </tr>\n",
       "    <tr>\n",
       "      <th>clasificacion</th>\n",
       "      <td>-0.011140</td>\n",
       "      <td>-0.050978</td>\n",
       "      <td>0.423728</td>\n",
       "      <td>0.272666</td>\n",
       "      <td>1.000000</td>\n",
       "    </tr>\n",
       "  </tbody>\n",
       "</table>\n",
       "</div>"
      ],
      "text/plain": [
       "                     l2        l3  bathrooms  property_type  clasificacion\n",
       "l2             1.000000 -0.180732   0.100424       0.061738      -0.011140\n",
       "l3            -0.180732  1.000000  -0.067469       0.128971      -0.050978\n",
       "bathrooms      0.100424 -0.067469   1.000000       0.054396       0.423728\n",
       "property_type  0.061738  0.128971   0.054396       1.000000       0.272666\n",
       "clasificacion -0.011140 -0.050978   0.423728       0.272666       1.000000"
      ]
     },
     "execution_count": 77,
     "metadata": {},
     "output_type": "execute_result"
    }
   ],
   "source": [
    "#aplicamos correlación\n",
    "ColombiaLE.corr()"
   ]
  },
  {
   "cell_type": "code",
   "execution_count": 78,
   "metadata": {},
   "outputs": [],
   "source": [
    "#nos quedamos con las features que tienen más de 0.1 de correlacion\n",
    "XLE = ColombiaLE.drop(['clasificacion','l3','l2'], axis = 1)"
   ]
  },
  {
   "cell_type": "code",
   "execution_count": 79,
   "metadata": {},
   "outputs": [],
   "source": [
    "sc_XLE = scaler.fit_transform(XLE)"
   ]
  },
  {
   "cell_type": "code",
   "execution_count": 80,
   "metadata": {},
   "outputs": [
    {
     "name": "stdout",
     "output_type": "stream",
     "text": [
      "(157979, 2) (157979,) (39495, 2) (39495,)\n"
     ]
    }
   ],
   "source": [
    "XLE_train, XLE_test, yLE_train, yLE_test = train_test_split(sc_XLE, y, test_size=0.20, random_state=42)\n",
    "\n",
    "print(XLE_train.shape, yLE_train.shape, XLE_test.shape, yLE_test.shape)"
   ]
  },
  {
   "cell_type": "code",
   "execution_count": 81,
   "metadata": {},
   "outputs": [],
   "source": [
    "#Se vuelve a elegir vecinos más cercano ya que con random forest tuvimos overfitting\n",
    "vecino_XLE = KNeighborsClassifier(n_neighbors=100, leaf_size= 300)"
   ]
  },
  {
   "cell_type": "code",
   "execution_count": 83,
   "metadata": {},
   "outputs": [
    {
     "data": {
      "text/html": [
       "<style>#sk-container-id-8 {color: black;background-color: white;}#sk-container-id-8 pre{padding: 0;}#sk-container-id-8 div.sk-toggleable {background-color: white;}#sk-container-id-8 label.sk-toggleable__label {cursor: pointer;display: block;width: 100%;margin-bottom: 0;padding: 0.3em;box-sizing: border-box;text-align: center;}#sk-container-id-8 label.sk-toggleable__label-arrow:before {content: \"▸\";float: left;margin-right: 0.25em;color: #696969;}#sk-container-id-8 label.sk-toggleable__label-arrow:hover:before {color: black;}#sk-container-id-8 div.sk-estimator:hover label.sk-toggleable__label-arrow:before {color: black;}#sk-container-id-8 div.sk-toggleable__content {max-height: 0;max-width: 0;overflow: hidden;text-align: left;background-color: #f0f8ff;}#sk-container-id-8 div.sk-toggleable__content pre {margin: 0.2em;color: black;border-radius: 0.25em;background-color: #f0f8ff;}#sk-container-id-8 input.sk-toggleable__control:checked~div.sk-toggleable__content {max-height: 200px;max-width: 100%;overflow: auto;}#sk-container-id-8 input.sk-toggleable__control:checked~label.sk-toggleable__label-arrow:before {content: \"▾\";}#sk-container-id-8 div.sk-estimator input.sk-toggleable__control:checked~label.sk-toggleable__label {background-color: #d4ebff;}#sk-container-id-8 div.sk-label input.sk-toggleable__control:checked~label.sk-toggleable__label {background-color: #d4ebff;}#sk-container-id-8 input.sk-hidden--visually {border: 0;clip: rect(1px 1px 1px 1px);clip: rect(1px, 1px, 1px, 1px);height: 1px;margin: -1px;overflow: hidden;padding: 0;position: absolute;width: 1px;}#sk-container-id-8 div.sk-estimator {font-family: monospace;background-color: #f0f8ff;border: 1px dotted black;border-radius: 0.25em;box-sizing: border-box;margin-bottom: 0.5em;}#sk-container-id-8 div.sk-estimator:hover {background-color: #d4ebff;}#sk-container-id-8 div.sk-parallel-item::after {content: \"\";width: 100%;border-bottom: 1px solid gray;flex-grow: 1;}#sk-container-id-8 div.sk-label:hover label.sk-toggleable__label {background-color: #d4ebff;}#sk-container-id-8 div.sk-serial::before {content: \"\";position: absolute;border-left: 1px solid gray;box-sizing: border-box;top: 0;bottom: 0;left: 50%;z-index: 0;}#sk-container-id-8 div.sk-serial {display: flex;flex-direction: column;align-items: center;background-color: white;padding-right: 0.2em;padding-left: 0.2em;position: relative;}#sk-container-id-8 div.sk-item {position: relative;z-index: 1;}#sk-container-id-8 div.sk-parallel {display: flex;align-items: stretch;justify-content: center;background-color: white;position: relative;}#sk-container-id-8 div.sk-item::before, #sk-container-id-8 div.sk-parallel-item::before {content: \"\";position: absolute;border-left: 1px solid gray;box-sizing: border-box;top: 0;bottom: 0;left: 50%;z-index: -1;}#sk-container-id-8 div.sk-parallel-item {display: flex;flex-direction: column;z-index: 1;position: relative;background-color: white;}#sk-container-id-8 div.sk-parallel-item:first-child::after {align-self: flex-end;width: 50%;}#sk-container-id-8 div.sk-parallel-item:last-child::after {align-self: flex-start;width: 50%;}#sk-container-id-8 div.sk-parallel-item:only-child::after {width: 0;}#sk-container-id-8 div.sk-dashed-wrapped {border: 1px dashed gray;margin: 0 0.4em 0.5em 0.4em;box-sizing: border-box;padding-bottom: 0.4em;background-color: white;}#sk-container-id-8 div.sk-label label {font-family: monospace;font-weight: bold;display: inline-block;line-height: 1.2em;}#sk-container-id-8 div.sk-label-container {text-align: center;}#sk-container-id-8 div.sk-container {/* jupyter's `normalize.less` sets `[hidden] { display: none; }` but bootstrap.min.css set `[hidden] { display: none !important; }` so we also need the `!important` here to be able to override the default hidden behavior on the sphinx rendered scikit-learn.org. See: https://github.com/scikit-learn/scikit-learn/issues/21755 */display: inline-block !important;position: relative;}#sk-container-id-8 div.sk-text-repr-fallback {display: none;}</style><div id=\"sk-container-id-8\" class=\"sk-top-container\"><div class=\"sk-text-repr-fallback\"><pre>KNeighborsClassifier(leaf_size=300, n_neighbors=100)</pre><b>In a Jupyter environment, please rerun this cell to show the HTML representation or trust the notebook. <br />On GitHub, the HTML representation is unable to render, please try loading this page with nbviewer.org.</b></div><div class=\"sk-container\" hidden><div class=\"sk-item\"><div class=\"sk-estimator sk-toggleable\"><input class=\"sk-toggleable__control sk-hidden--visually\" id=\"sk-estimator-id-8\" type=\"checkbox\" checked><label for=\"sk-estimator-id-8\" class=\"sk-toggleable__label sk-toggleable__label-arrow\">KNeighborsClassifier</label><div class=\"sk-toggleable__content\"><pre>KNeighborsClassifier(leaf_size=300, n_neighbors=100)</pre></div></div></div></div></div>"
      ],
      "text/plain": [
       "KNeighborsClassifier(leaf_size=300, n_neighbors=100)"
      ]
     },
     "execution_count": 83,
     "metadata": {},
     "output_type": "execute_result"
    }
   ],
   "source": [
    "vecino_XLE.fit(XLE_train, yLE_train)"
   ]
  },
  {
   "cell_type": "code",
   "execution_count": 84,
   "metadata": {},
   "outputs": [],
   "source": [
    "y_train_pred_LE = vecino_XLE.predict(XLE_train) # subset de entrenamiento\n",
    "y_test_pred_LE=vecino_XLE.predict(XLE_test) #subset de testeo"
   ]
  },
  {
   "cell_type": "code",
   "execution_count": 86,
   "metadata": {},
   "outputs": [
    {
     "name": "stdout",
     "output_type": "stream",
     "text": [
      "El score del modelo es: 0.8164882674279493\n",
      "El score del modelo es: 0.8162299025193063\n",
      "El recall del modelo es: 0.37148056953217\n",
      "              precision    recall  f1-score   support\n",
      "\n",
      "           0       0.83      0.95      0.89     30154\n",
      "           1       0.71      0.37      0.49      9341\n",
      "\n",
      "    accuracy                           0.82     39495\n",
      "   macro avg       0.77      0.66      0.69     39495\n",
      "weighted avg       0.80      0.82      0.79     39495\n",
      "\n"
     ]
    }
   ],
   "source": [
    "print('El score del modelo es:', accuracy_score(y_train, y_train_pred_LE))\n",
    "print('El score del modelo es:', accuracy_score(y_test, y_test_pred_LE))\n",
    "print('El recall del modelo es:', recall_score(y_test, y_test_pred_LE))\n",
    "print(classification_report(y_test, y_test_pred_LE))"
   ]
  },
  {
   "cell_type": "code",
   "execution_count": 87,
   "metadata": {},
   "outputs": [
    {
     "data": {
      "image/png": "[encoded data removed]",
      "text/plain": [
       "<Figure size 864x576 with 1 Axes>"
      ]
     },
     "metadata": {
      "needs_background": "light"
     },
     "output_type": "display_data"
    }
   ],
   "source": [
    "cm = confusion_matrix(yLE_test, y_test_pred_LE)\n",
    "\n",
    "fig, ax = plt.subplots(figsize=(12,8))\n",
    "ax.matshow(cm)\n",
    "plt.title('Matriz de Confusión', fontsize=20)\n",
    "plt.ylabel('Etiqueta Verdadera', fontsize=15)\n",
    "plt.xlabel('Etiqueta Predicha', fontsize=15)\n",
    "for (i, j), z in np.ndenumerate(cm):\n",
    "    ax.text(j, i, '{:0.1f}'.format(z), ha='center', va='center')"
   ]
  },
  {
   "cell_type": "markdown",
   "metadata": {},
   "source": [
    "Se vuelve a empezar el EDA porque con las columnas trabajadas no se llega a un buen Recall para clasificar las casas caras.\n",
    "Debido al EDA anterior en el cual ya habíamos visto que existe correlación entre las columnas rooms, bedrooms, surface_total, se dice rellenar los espacios vacíos con la medida de tendencia central mediana por sobre la media, ya que esta se ve más afectada por los valores atípicos."
   ]
  },
  {
   "cell_type": "code",
   "execution_count": 88,
   "metadata": {},
   "outputs": [],
   "source": [
    "#Se copia hace una copia del dataframe original para trabajar este nuevo EDA\n",
    "colombiaRelleno = colombiaTrain.copy()"
   ]
  },
  {
   "cell_type": "code",
   "execution_count": 89,
   "metadata": {},
   "outputs": [],
   "source": [
    "#Se reindexa el dataframe\n",
    "colombiaRelleno.reset_index(drop = True, inplace = True)"
   ]
  },
  {
   "cell_type": "code",
   "execution_count": 90,
   "metadata": {},
   "outputs": [
    {
     "name": "stderr",
     "output_type": "stream",
     "text": [
      "C:\\Users\\Nueva era\\AppData\\Local\\Temp\\ipykernel_1460\\965304331.py:5: SettingWithCopyWarning: \n",
      "A value is trying to be set on a copy of a slice from a DataFrame\n",
      "\n",
      "See the caveats in the documentation: https://pandas.pydata.org/pandas-docs/stable/user_guide/indexing.html#returning-a-view-versus-a-copy\n",
      "  colombiaRelleno.surface_total[(colombiaRelleno.surface_total.isnull()==True)&(colombiaRelleno.property_type.isin(['Casa'])==True)&(colombiaRelleno.clasificacion == 0)]=colombiaRelleno.surface_total[(colombiaRelleno.property_type.isin(['Casa'])==True)&(colombiaRelleno.clasificacion == 0)].median()\n",
      "C:\\Users\\Nueva era\\AppData\\Local\\Temp\\ipykernel_1460\\965304331.py:6: SettingWithCopyWarning: \n",
      "A value is trying to be set on a copy of a slice from a DataFrame\n",
      "\n",
      "See the caveats in the documentation: https://pandas.pydata.org/pandas-docs/stable/user_guide/indexing.html#returning-a-view-versus-a-copy\n",
      "  colombiaRelleno.surface_total[(colombiaRelleno.surface_total.isnull()==True)&(colombiaRelleno.property_type.isin(['Casa'])==True)&(colombiaRelleno.clasificacion == 1)]=colombiaRelleno.surface_total[(colombiaRelleno.property_type.isin(['Casa'])==True)&(colombiaRelleno.clasificacion == 1)].median()\n",
      "C:\\Users\\Nueva era\\AppData\\Local\\Temp\\ipykernel_1460\\965304331.py:7: SettingWithCopyWarning: \n",
      "A value is trying to be set on a copy of a slice from a DataFrame\n",
      "\n",
      "See the caveats in the documentation: https://pandas.pydata.org/pandas-docs/stable/user_guide/indexing.html#returning-a-view-versus-a-copy\n",
      "  colombiaRelleno.surface_total[(colombiaRelleno.surface_total.isnull()==True)&(colombiaRelleno.property_type.isin(['Apartamento'])==True)&(colombiaRelleno.clasificacion == 0)]=colombiaRelleno.surface_total[(colombiaRelleno.property_type.isin(['Apartamento'])==True)&(colombiaRelleno.clasificacion == 0)].median()\n",
      "C:\\Users\\Nueva era\\AppData\\Local\\Temp\\ipykernel_1460\\965304331.py:8: SettingWithCopyWarning: \n",
      "A value is trying to be set on a copy of a slice from a DataFrame\n",
      "\n",
      "See the caveats in the documentation: https://pandas.pydata.org/pandas-docs/stable/user_guide/indexing.html#returning-a-view-versus-a-copy\n",
      "  colombiaRelleno.surface_total[(colombiaRelleno.surface_total.isnull()==True)&(colombiaRelleno.property_type.isin(['Apartamento'])==True)&(colombiaRelleno.clasificacion == 1)]=colombiaRelleno.surface_total[(colombiaRelleno.property_type.isin(['Apartamento'])==True)&(colombiaRelleno.clasificacion == 1)].median()\n",
      "C:\\Users\\Nueva era\\AppData\\Local\\Temp\\ipykernel_1460\\965304331.py:9: SettingWithCopyWarning: \n",
      "A value is trying to be set on a copy of a slice from a DataFrame\n",
      "\n",
      "See the caveats in the documentation: https://pandas.pydata.org/pandas-docs/stable/user_guide/indexing.html#returning-a-view-versus-a-copy\n",
      "  colombiaRelleno.surface_total[(colombiaRelleno.surface_total.isnull()==True)&(colombiaRelleno.property_type.isin(['Otro'])==True)&(colombiaRelleno.clasificacion == 0)]=colombiaRelleno.surface_total[(colombiaRelleno.property_type.isin(['Otro'])==True)&(colombiaRelleno.clasificacion == 0)].median()\n",
      "C:\\Users\\Nueva era\\AppData\\Local\\Temp\\ipykernel_1460\\965304331.py:10: SettingWithCopyWarning: \n",
      "A value is trying to be set on a copy of a slice from a DataFrame\n",
      "\n",
      "See the caveats in the documentation: https://pandas.pydata.org/pandas-docs/stable/user_guide/indexing.html#returning-a-view-versus-a-copy\n",
      "  colombiaRelleno.surface_total[(colombiaRelleno.surface_total.isnull()==True)&(colombiaRelleno.property_type.isin(['Otro'])==True)&(colombiaRelleno.clasificacion == 1)]=colombiaRelleno.surface_total[(colombiaRelleno.property_type.isin(['Otro'])==True)&(colombiaRelleno.clasificacion == 1)].median()\n",
      "C:\\Users\\Nueva era\\AppData\\Local\\Temp\\ipykernel_1460\\965304331.py:11: SettingWithCopyWarning: \n",
      "A value is trying to be set on a copy of a slice from a DataFrame\n",
      "\n",
      "See the caveats in the documentation: https://pandas.pydata.org/pandas-docs/stable/user_guide/indexing.html#returning-a-view-versus-a-copy\n",
      "  colombiaRelleno.surface_total[(colombiaRelleno.surface_total.isnull()==True)&(colombiaRelleno.property_type.isin(['Oficina'])==True)&(colombiaRelleno.clasificacion == 0)]=colombiaRelleno.surface_total[(colombiaRelleno.property_type.isin(['Oficina'])==True)&(colombiaRelleno.clasificacion == 0)].median()\n",
      "C:\\Users\\Nueva era\\AppData\\Local\\Temp\\ipykernel_1460\\965304331.py:12: SettingWithCopyWarning: \n",
      "A value is trying to be set on a copy of a slice from a DataFrame\n",
      "\n",
      "See the caveats in the documentation: https://pandas.pydata.org/pandas-docs/stable/user_guide/indexing.html#returning-a-view-versus-a-copy\n",
      "  colombiaRelleno.surface_total[(colombiaRelleno.surface_total.isnull()==True)&(colombiaRelleno.property_type.isin(['Oficina'])==True)&(colombiaRelleno.clasificacion == 1)]=colombiaRelleno.surface_total[(colombiaRelleno.property_type.isin(['Oficina'])==True)&(colombiaRelleno.clasificacion == 1)].median()\n",
      "C:\\Users\\Nueva era\\AppData\\Local\\Temp\\ipykernel_1460\\965304331.py:13: SettingWithCopyWarning: \n",
      "A value is trying to be set on a copy of a slice from a DataFrame\n",
      "\n",
      "See the caveats in the documentation: https://pandas.pydata.org/pandas-docs/stable/user_guide/indexing.html#returning-a-view-versus-a-copy\n",
      "  colombiaRelleno.surface_total[(colombiaRelleno.surface_total.isnull()==True)&(colombiaRelleno.property_type.isin(['Finca'])==True)&(colombiaRelleno.clasificacion == 0)]=colombiaRelleno.surface_total[(colombiaRelleno.property_type.isin(['Finca'])==True)&(colombiaRelleno.clasificacion == 0)].median()\n",
      "C:\\Users\\Nueva era\\AppData\\Local\\Temp\\ipykernel_1460\\965304331.py:14: SettingWithCopyWarning: \n",
      "A value is trying to be set on a copy of a slice from a DataFrame\n",
      "\n",
      "See the caveats in the documentation: https://pandas.pydata.org/pandas-docs/stable/user_guide/indexing.html#returning-a-view-versus-a-copy\n",
      "  colombiaRelleno.surface_total[(colombiaRelleno.surface_total.isnull()==True)&(colombiaRelleno.property_type.isin(['Finca'])==True)&(colombiaRelleno.clasificacion == 1)]=colombiaRelleno.surface_total[(colombiaRelleno.property_type.isin(['Finca'])==True)&(colombiaRelleno.clasificacion == 1)].median()\n",
      "C:\\Users\\Nueva era\\AppData\\Local\\Temp\\ipykernel_1460\\965304331.py:15: SettingWithCopyWarning: \n",
      "A value is trying to be set on a copy of a slice from a DataFrame\n",
      "\n",
      "See the caveats in the documentation: https://pandas.pydata.org/pandas-docs/stable/user_guide/indexing.html#returning-a-view-versus-a-copy\n",
      "  colombiaRelleno.surface_total[(colombiaRelleno.surface_total.isnull()==True)&(colombiaRelleno.property_type.isin(['Lote'])==True)&(colombiaRelleno.clasificacion == 0)]=colombiaRelleno.surface_total[(colombiaRelleno.property_type.isin(['Lote'])==True)&(colombiaRelleno.clasificacion == 0)].median()\n",
      "C:\\Users\\Nueva era\\AppData\\Local\\Temp\\ipykernel_1460\\965304331.py:16: SettingWithCopyWarning: \n",
      "A value is trying to be set on a copy of a slice from a DataFrame\n",
      "\n",
      "See the caveats in the documentation: https://pandas.pydata.org/pandas-docs/stable/user_guide/indexing.html#returning-a-view-versus-a-copy\n",
      "  colombiaRelleno.surface_total[(colombiaRelleno.surface_total.isnull()==True)&(colombiaRelleno.property_type.isin(['Lote'])==True)&(colombiaRelleno.clasificacion == 1)]=colombiaRelleno.surface_total[(colombiaRelleno.property_type.isin(['Lote'])==True)&(colombiaRelleno.clasificacion == 1)].median()\n",
      "C:\\Users\\Nueva era\\AppData\\Local\\Temp\\ipykernel_1460\\965304331.py:17: SettingWithCopyWarning: \n",
      "A value is trying to be set on a copy of a slice from a DataFrame\n",
      "\n",
      "See the caveats in the documentation: https://pandas.pydata.org/pandas-docs/stable/user_guide/indexing.html#returning-a-view-versus-a-copy\n",
      "  colombiaRelleno.surface_total[(colombiaRelleno.surface_total.isnull()==True)&(colombiaRelleno.property_type.isin(['Local comercial'])==True)&(colombiaRelleno.clasificacion == 0)]=colombiaRelleno.surface_total[(colombiaRelleno.property_type.isin(['Local comercial'])==True)&(colombiaRelleno.clasificacion == 0)].median()\n",
      "C:\\Users\\Nueva era\\AppData\\Local\\Temp\\ipykernel_1460\\965304331.py:18: SettingWithCopyWarning: \n",
      "A value is trying to be set on a copy of a slice from a DataFrame\n",
      "\n",
      "See the caveats in the documentation: https://pandas.pydata.org/pandas-docs/stable/user_guide/indexing.html#returning-a-view-versus-a-copy\n",
      "  colombiaRelleno.surface_total[(colombiaRelleno.surface_total.isnull()==True)&(colombiaRelleno.property_type.isin(['Local comercial'])==True)&(colombiaRelleno.clasificacion == 1)]=colombiaRelleno.surface_total[(colombiaRelleno.property_type.isin(['Local comercial'])==True)&(colombiaRelleno.clasificacion == 1)].median()\n",
      "C:\\Users\\Nueva era\\AppData\\Local\\Temp\\ipykernel_1460\\965304331.py:19: SettingWithCopyWarning: \n",
      "A value is trying to be set on a copy of a slice from a DataFrame\n",
      "\n",
      "See the caveats in the documentation: https://pandas.pydata.org/pandas-docs/stable/user_guide/indexing.html#returning-a-view-versus-a-copy\n",
      "  colombiaRelleno.surface_total[(colombiaRelleno.surface_total.isnull()==True)&(colombiaRelleno.property_type.isin(['Parqueadero'])==True)&(colombiaRelleno.clasificacion == 0)]=0\n",
      "C:\\Users\\Nueva era\\AppData\\Local\\Temp\\ipykernel_1460\\965304331.py:20: SettingWithCopyWarning: \n",
      "A value is trying to be set on a copy of a slice from a DataFrame\n",
      "\n",
      "See the caveats in the documentation: https://pandas.pydata.org/pandas-docs/stable/user_guide/indexing.html#returning-a-view-versus-a-copy\n",
      "  colombiaRelleno.surface_total[(colombiaRelleno.surface_total.isnull()==True)&(colombiaRelleno.property_type.isin(['Parqueadero'])==True)&(colombiaRelleno.clasificacion == 1)]=colombiaRelleno.surface_total[(colombiaRelleno.property_type.isin(['Parqueadero'])==True)&(colombiaRelleno.clasificacion == 1)].median()\n"
     ]
    }
   ],
   "source": [
    "#Se elige la medida de tendencia central mediana para completar los valores faltantes de la columna surface_total con respecto a la media ya que la columna tiene una gran varianza.\n",
    "#Para dar un ejemplo de lo que hacen estas líneas va a usar de ejemplo la primera:\n",
    "#Esta línea lo que hace es filtrar en la columna llamada \"surface_total\" todos los valores nulos que contengan en la columna \"property_type\" la etiqueta \"Casa\" y además que el target de clasificacion sea 0.\n",
    "#A esta división de la columna se le otorga la mediana de la misma columna, tomando solo los valores que cumplan con la condición de que en la columna property_type, la etiqueta sea \"Casa\" y que en la columna clasificacion sea 0\n",
    "colombiaRelleno.surface_total[(colombiaRelleno.surface_total.isnull()==True)&(colombiaRelleno.property_type.isin(['Casa'])==True)&(colombiaRelleno.clasificacion == 0)]=colombiaRelleno.surface_total[(colombiaRelleno.property_type.isin(['Casa'])==True)&(colombiaRelleno.clasificacion == 0)].median()\n",
    "colombiaRelleno.surface_total[(colombiaRelleno.surface_total.isnull()==True)&(colombiaRelleno.property_type.isin(['Casa'])==True)&(colombiaRelleno.clasificacion == 1)]=colombiaRelleno.surface_total[(colombiaRelleno.property_type.isin(['Casa'])==True)&(colombiaRelleno.clasificacion == 1)].median()\n",
    "colombiaRelleno.surface_total[(colombiaRelleno.surface_total.isnull()==True)&(colombiaRelleno.property_type.isin(['Apartamento'])==True)&(colombiaRelleno.clasificacion == 0)]=colombiaRelleno.surface_total[(colombiaRelleno.property_type.isin(['Apartamento'])==True)&(colombiaRelleno.clasificacion == 0)].median()\n",
    "colombiaRelleno.surface_total[(colombiaRelleno.surface_total.isnull()==True)&(colombiaRelleno.property_type.isin(['Apartamento'])==True)&(colombiaRelleno.clasificacion == 1)]=colombiaRelleno.surface_total[(colombiaRelleno.property_type.isin(['Apartamento'])==True)&(colombiaRelleno.clasificacion == 1)].median()\n",
    "colombiaRelleno.surface_total[(colombiaRelleno.surface_total.isnull()==True)&(colombiaRelleno.property_type.isin(['Otro'])==True)&(colombiaRelleno.clasificacion == 0)]=colombiaRelleno.surface_total[(colombiaRelleno.property_type.isin(['Otro'])==True)&(colombiaRelleno.clasificacion == 0)].median()\n",
    "colombiaRelleno.surface_total[(colombiaRelleno.surface_total.isnull()==True)&(colombiaRelleno.property_type.isin(['Otro'])==True)&(colombiaRelleno.clasificacion == 1)]=colombiaRelleno.surface_total[(colombiaRelleno.property_type.isin(['Otro'])==True)&(colombiaRelleno.clasificacion == 1)].median()\n",
    "colombiaRelleno.surface_total[(colombiaRelleno.surface_total.isnull()==True)&(colombiaRelleno.property_type.isin(['Oficina'])==True)&(colombiaRelleno.clasificacion == 0)]=colombiaRelleno.surface_total[(colombiaRelleno.property_type.isin(['Oficina'])==True)&(colombiaRelleno.clasificacion == 0)].median()\n",
    "colombiaRelleno.surface_total[(colombiaRelleno.surface_total.isnull()==True)&(colombiaRelleno.property_type.isin(['Oficina'])==True)&(colombiaRelleno.clasificacion == 1)]=colombiaRelleno.surface_total[(colombiaRelleno.property_type.isin(['Oficina'])==True)&(colombiaRelleno.clasificacion == 1)].median()\n",
    "colombiaRelleno.surface_total[(colombiaRelleno.surface_total.isnull()==True)&(colombiaRelleno.property_type.isin(['Finca'])==True)&(colombiaRelleno.clasificacion == 0)]=colombiaRelleno.surface_total[(colombiaRelleno.property_type.isin(['Finca'])==True)&(colombiaRelleno.clasificacion == 0)].median()\n",
    "colombiaRelleno.surface_total[(colombiaRelleno.surface_total.isnull()==True)&(colombiaRelleno.property_type.isin(['Finca'])==True)&(colombiaRelleno.clasificacion == 1)]=colombiaRelleno.surface_total[(colombiaRelleno.property_type.isin(['Finca'])==True)&(colombiaRelleno.clasificacion == 1)].median()\n",
    "colombiaRelleno.surface_total[(colombiaRelleno.surface_total.isnull()==True)&(colombiaRelleno.property_type.isin(['Lote'])==True)&(colombiaRelleno.clasificacion == 0)]=colombiaRelleno.surface_total[(colombiaRelleno.property_type.isin(['Lote'])==True)&(colombiaRelleno.clasificacion == 0)].median()\n",
    "colombiaRelleno.surface_total[(colombiaRelleno.surface_total.isnull()==True)&(colombiaRelleno.property_type.isin(['Lote'])==True)&(colombiaRelleno.clasificacion == 1)]=colombiaRelleno.surface_total[(colombiaRelleno.property_type.isin(['Lote'])==True)&(colombiaRelleno.clasificacion == 1)].median()\n",
    "colombiaRelleno.surface_total[(colombiaRelleno.surface_total.isnull()==True)&(colombiaRelleno.property_type.isin(['Local comercial'])==True)&(colombiaRelleno.clasificacion == 0)]=colombiaRelleno.surface_total[(colombiaRelleno.property_type.isin(['Local comercial'])==True)&(colombiaRelleno.clasificacion == 0)].median()\n",
    "colombiaRelleno.surface_total[(colombiaRelleno.surface_total.isnull()==True)&(colombiaRelleno.property_type.isin(['Local comercial'])==True)&(colombiaRelleno.clasificacion == 1)]=colombiaRelleno.surface_total[(colombiaRelleno.property_type.isin(['Local comercial'])==True)&(colombiaRelleno.clasificacion == 1)].median()\n",
    "colombiaRelleno.surface_total[(colombiaRelleno.surface_total.isnull()==True)&(colombiaRelleno.property_type.isin(['Parqueadero'])==True)&(colombiaRelleno.clasificacion == 0)]=0\n",
    "colombiaRelleno.surface_total[(colombiaRelleno.surface_total.isnull()==True)&(colombiaRelleno.property_type.isin(['Parqueadero'])==True)&(colombiaRelleno.clasificacion == 1)]=colombiaRelleno.surface_total[(colombiaRelleno.property_type.isin(['Parqueadero'])==True)&(colombiaRelleno.clasificacion == 1)].median()"
   ]
  },
  {
   "cell_type": "code",
   "execution_count": 91,
   "metadata": {},
   "outputs": [
    {
     "name": "stderr",
     "output_type": "stream",
     "text": [
      "C:\\Users\\Nueva era\\AppData\\Local\\Temp\\ipykernel_1460\\2103910891.py:2: SettingWithCopyWarning: \n",
      "A value is trying to be set on a copy of a slice from a DataFrame\n",
      "\n",
      "See the caveats in the documentation: https://pandas.pydata.org/pandas-docs/stable/user_guide/indexing.html#returning-a-view-versus-a-copy\n",
      "  colombiaRelleno.rooms[(colombiaRelleno.rooms.isnull()==True)&(colombiaRelleno.property_type.isin(['Casa'])==True)&(colombiaRelleno.clasificacion == 0)]=colombiaRelleno.rooms[(colombiaRelleno.property_type.isin(['Casa'])==True)&(colombiaRelleno.clasificacion == 0)].median()\n",
      "C:\\Users\\Nueva era\\AppData\\Local\\Temp\\ipykernel_1460\\2103910891.py:3: SettingWithCopyWarning: \n",
      "A value is trying to be set on a copy of a slice from a DataFrame\n",
      "\n",
      "See the caveats in the documentation: https://pandas.pydata.org/pandas-docs/stable/user_guide/indexing.html#returning-a-view-versus-a-copy\n",
      "  colombiaRelleno.rooms[(colombiaRelleno.rooms.isnull()==True)&(colombiaRelleno.property_type.isin(['Casa'])==True)&(colombiaRelleno.clasificacion == 1)]=colombiaRelleno.rooms[(colombiaRelleno.property_type.isin(['Casa'])==True)&(colombiaRelleno.clasificacion == 1)].median()\n",
      "C:\\Users\\Nueva era\\AppData\\Local\\Temp\\ipykernel_1460\\2103910891.py:4: SettingWithCopyWarning: \n",
      "A value is trying to be set on a copy of a slice from a DataFrame\n",
      "\n",
      "See the caveats in the documentation: https://pandas.pydata.org/pandas-docs/stable/user_guide/indexing.html#returning-a-view-versus-a-copy\n",
      "  colombiaRelleno.rooms[(colombiaRelleno.rooms.isnull()==True)&(colombiaRelleno.property_type.isin(['Apartamento'])==True)&(colombiaRelleno.clasificacion == 0)]=colombiaRelleno.rooms[(colombiaRelleno.property_type.isin(['Apartamento'])==True)&(colombiaRelleno.clasificacion == 0)].median()\n",
      "C:\\Users\\Nueva era\\AppData\\Local\\Temp\\ipykernel_1460\\2103910891.py:5: SettingWithCopyWarning: \n",
      "A value is trying to be set on a copy of a slice from a DataFrame\n",
      "\n",
      "See the caveats in the documentation: https://pandas.pydata.org/pandas-docs/stable/user_guide/indexing.html#returning-a-view-versus-a-copy\n",
      "  colombiaRelleno.rooms[(colombiaRelleno.rooms.isnull()==True)&(colombiaRelleno.property_type.isin(['Apartamento'])==True)&(colombiaRelleno.clasificacion == 1)]=colombiaRelleno.rooms[(colombiaRelleno.property_type.isin(['Apartamento'])==True)&(colombiaRelleno.clasificacion == 1)].median()\n",
      "C:\\Users\\Nueva era\\AppData\\Local\\Temp\\ipykernel_1460\\2103910891.py:6: SettingWithCopyWarning: \n",
      "A value is trying to be set on a copy of a slice from a DataFrame\n",
      "\n",
      "See the caveats in the documentation: https://pandas.pydata.org/pandas-docs/stable/user_guide/indexing.html#returning-a-view-versus-a-copy\n",
      "  colombiaRelleno.rooms[(colombiaRelleno.rooms.isnull()==True)&(colombiaRelleno.property_type.isin(['Otro'])==True)&(colombiaRelleno.clasificacion == 0)]=colombiaRelleno.rooms[(colombiaRelleno.property_type.isin(['Otro'])==True)&(colombiaRelleno.clasificacion == 0)].median()\n",
      "C:\\Users\\Nueva era\\AppData\\Local\\Temp\\ipykernel_1460\\2103910891.py:7: SettingWithCopyWarning: \n",
      "A value is trying to be set on a copy of a slice from a DataFrame\n",
      "\n",
      "See the caveats in the documentation: https://pandas.pydata.org/pandas-docs/stable/user_guide/indexing.html#returning-a-view-versus-a-copy\n",
      "  colombiaRelleno.rooms[(colombiaRelleno.rooms.isnull()==True)&(colombiaRelleno.property_type.isin(['Otro'])==True)&(colombiaRelleno.clasificacion == 1)]=colombiaRelleno.rooms[(colombiaRelleno.property_type.isin(['Otro'])==True)&(colombiaRelleno.clasificacion == 1)].median()\n",
      "C:\\Users\\Nueva era\\AppData\\Local\\Temp\\ipykernel_1460\\2103910891.py:8: SettingWithCopyWarning: \n",
      "A value is trying to be set on a copy of a slice from a DataFrame\n",
      "\n",
      "See the caveats in the documentation: https://pandas.pydata.org/pandas-docs/stable/user_guide/indexing.html#returning-a-view-versus-a-copy\n",
      "  colombiaRelleno.rooms[(colombiaRelleno.rooms.isnull()==True)&(colombiaRelleno.property_type.isin(['Oficina'])==True)&(colombiaRelleno.clasificacion == 0)]=colombiaRelleno.rooms[(colombiaRelleno.property_type.isin(['Oficina'])==True)&(colombiaRelleno.clasificacion == 0)].median()\n",
      "C:\\Users\\Nueva era\\AppData\\Local\\Temp\\ipykernel_1460\\2103910891.py:9: SettingWithCopyWarning: \n",
      "A value is trying to be set on a copy of a slice from a DataFrame\n",
      "\n",
      "See the caveats in the documentation: https://pandas.pydata.org/pandas-docs/stable/user_guide/indexing.html#returning-a-view-versus-a-copy\n",
      "  colombiaRelleno.rooms[(colombiaRelleno.rooms.isnull()==True)&(colombiaRelleno.property_type.isin(['Oficina'])==True)&(colombiaRelleno.clasificacion == 1)]=colombiaRelleno.rooms[(colombiaRelleno.property_type.isin(['Oficina'])==True)&(colombiaRelleno.clasificacion == 1)].median()\n",
      "C:\\Users\\Nueva era\\AppData\\Local\\Temp\\ipykernel_1460\\2103910891.py:10: SettingWithCopyWarning: \n",
      "A value is trying to be set on a copy of a slice from a DataFrame\n",
      "\n",
      "See the caveats in the documentation: https://pandas.pydata.org/pandas-docs/stable/user_guide/indexing.html#returning-a-view-versus-a-copy\n",
      "  colombiaRelleno.rooms[(colombiaRelleno.rooms.isnull()==True)&(colombiaRelleno.property_type.isin(['Finca'])==True)&(colombiaRelleno.clasificacion == 0)]=colombiaRelleno.rooms[(colombiaRelleno.property_type.isin(['Finca'])==True)&(colombiaRelleno.clasificacion == 0)].median()\n",
      "C:\\Users\\Nueva era\\AppData\\Local\\Temp\\ipykernel_1460\\2103910891.py:11: SettingWithCopyWarning: \n",
      "A value is trying to be set on a copy of a slice from a DataFrame\n",
      "\n",
      "See the caveats in the documentation: https://pandas.pydata.org/pandas-docs/stable/user_guide/indexing.html#returning-a-view-versus-a-copy\n",
      "  colombiaRelleno.rooms[(colombiaRelleno.rooms.isnull()==True)&(colombiaRelleno.property_type.isin(['Finca'])==True)&(colombiaRelleno.clasificacion == 1)]=colombiaRelleno.rooms[(colombiaRelleno.property_type.isin(['Finca'])==True)&(colombiaRelleno.clasificacion == 1)].median()\n",
      "C:\\Users\\Nueva era\\AppData\\Local\\Temp\\ipykernel_1460\\2103910891.py:12: SettingWithCopyWarning: \n",
      "A value is trying to be set on a copy of a slice from a DataFrame\n",
      "\n",
      "See the caveats in the documentation: https://pandas.pydata.org/pandas-docs/stable/user_guide/indexing.html#returning-a-view-versus-a-copy\n",
      "  colombiaRelleno.rooms[(colombiaRelleno.rooms.isnull()==True)&(colombiaRelleno.property_type.isin(['Lote'])==True)&(colombiaRelleno.clasificacion == 0)]=colombiaRelleno.rooms[(colombiaRelleno.property_type.isin(['Lote'])==True)&(colombiaRelleno.clasificacion == 0)].median()\n",
      "C:\\Users\\Nueva era\\AppData\\Local\\Temp\\ipykernel_1460\\2103910891.py:13: SettingWithCopyWarning: \n",
      "A value is trying to be set on a copy of a slice from a DataFrame\n",
      "\n",
      "See the caveats in the documentation: https://pandas.pydata.org/pandas-docs/stable/user_guide/indexing.html#returning-a-view-versus-a-copy\n",
      "  colombiaRelleno.rooms[(colombiaRelleno.rooms.isnull()==True)&(colombiaRelleno.property_type.isin(['Lote'])==True)&(colombiaRelleno.clasificacion == 1)]=colombiaRelleno.rooms[(colombiaRelleno.property_type.isin(['Lote'])==True)&(colombiaRelleno.clasificacion == 1)].median()\n",
      "C:\\Users\\Nueva era\\AppData\\Local\\Temp\\ipykernel_1460\\2103910891.py:14: SettingWithCopyWarning: \n",
      "A value is trying to be set on a copy of a slice from a DataFrame\n",
      "\n",
      "See the caveats in the documentation: https://pandas.pydata.org/pandas-docs/stable/user_guide/indexing.html#returning-a-view-versus-a-copy\n",
      "  colombiaRelleno.rooms[(colombiaRelleno.rooms.isnull()==True)&(colombiaRelleno.property_type.isin(['Local comercial'])==True)&(colombiaRelleno.clasificacion == 0)]=colombiaRelleno.rooms[(colombiaRelleno.property_type.isin(['Local comercial'])==True)&(colombiaRelleno.clasificacion == 0)].median()\n",
      "C:\\Users\\Nueva era\\AppData\\Local\\Temp\\ipykernel_1460\\2103910891.py:15: SettingWithCopyWarning: \n",
      "A value is trying to be set on a copy of a slice from a DataFrame\n",
      "\n",
      "See the caveats in the documentation: https://pandas.pydata.org/pandas-docs/stable/user_guide/indexing.html#returning-a-view-versus-a-copy\n",
      "  colombiaRelleno.rooms[(colombiaRelleno.rooms.isnull()==True)&(colombiaRelleno.property_type.isin(['Local comercial'])==True)&(colombiaRelleno.clasificacion == 1)]=colombiaRelleno.rooms[(colombiaRelleno.property_type.isin(['Local comercial'])==True)&(colombiaRelleno.clasificacion == 1)].median()\n",
      "C:\\Users\\Nueva era\\AppData\\Local\\Temp\\ipykernel_1460\\2103910891.py:16: SettingWithCopyWarning: \n",
      "A value is trying to be set on a copy of a slice from a DataFrame\n",
      "\n",
      "See the caveats in the documentation: https://pandas.pydata.org/pandas-docs/stable/user_guide/indexing.html#returning-a-view-versus-a-copy\n",
      "  colombiaRelleno.rooms[colombiaRelleno.property_type.isin(['Parqueadero'])] = 0 #para los parqueadores no había información sobre las habitaciones por lo que se intuye que al ser un garage no cuentan con estas y se otorga para todos el valor 0\n"
     ]
    }
   ],
   "source": [
    "#Se repite los pasos anteriormente mencionados pero con la columna rooms\n",
    "colombiaRelleno.rooms[(colombiaRelleno.rooms.isnull()==True)&(colombiaRelleno.property_type.isin(['Casa'])==True)&(colombiaRelleno.clasificacion == 0)]=colombiaRelleno.rooms[(colombiaRelleno.property_type.isin(['Casa'])==True)&(colombiaRelleno.clasificacion == 0)].median()\n",
    "colombiaRelleno.rooms[(colombiaRelleno.rooms.isnull()==True)&(colombiaRelleno.property_type.isin(['Casa'])==True)&(colombiaRelleno.clasificacion == 1)]=colombiaRelleno.rooms[(colombiaRelleno.property_type.isin(['Casa'])==True)&(colombiaRelleno.clasificacion == 1)].median()\n",
    "colombiaRelleno.rooms[(colombiaRelleno.rooms.isnull()==True)&(colombiaRelleno.property_type.isin(['Apartamento'])==True)&(colombiaRelleno.clasificacion == 0)]=colombiaRelleno.rooms[(colombiaRelleno.property_type.isin(['Apartamento'])==True)&(colombiaRelleno.clasificacion == 0)].median()\n",
    "colombiaRelleno.rooms[(colombiaRelleno.rooms.isnull()==True)&(colombiaRelleno.property_type.isin(['Apartamento'])==True)&(colombiaRelleno.clasificacion == 1)]=colombiaRelleno.rooms[(colombiaRelleno.property_type.isin(['Apartamento'])==True)&(colombiaRelleno.clasificacion == 1)].median()\n",
    "colombiaRelleno.rooms[(colombiaRelleno.rooms.isnull()==True)&(colombiaRelleno.property_type.isin(['Otro'])==True)&(colombiaRelleno.clasificacion == 0)]=colombiaRelleno.rooms[(colombiaRelleno.property_type.isin(['Otro'])==True)&(colombiaRelleno.clasificacion == 0)].median()\n",
    "colombiaRelleno.rooms[(colombiaRelleno.rooms.isnull()==True)&(colombiaRelleno.property_type.isin(['Otro'])==True)&(colombiaRelleno.clasificacion == 1)]=colombiaRelleno.rooms[(colombiaRelleno.property_type.isin(['Otro'])==True)&(colombiaRelleno.clasificacion == 1)].median()\n",
    "colombiaRelleno.rooms[(colombiaRelleno.rooms.isnull()==True)&(colombiaRelleno.property_type.isin(['Oficina'])==True)&(colombiaRelleno.clasificacion == 0)]=colombiaRelleno.rooms[(colombiaRelleno.property_type.isin(['Oficina'])==True)&(colombiaRelleno.clasificacion == 0)].median()\n",
    "colombiaRelleno.rooms[(colombiaRelleno.rooms.isnull()==True)&(colombiaRelleno.property_type.isin(['Oficina'])==True)&(colombiaRelleno.clasificacion == 1)]=colombiaRelleno.rooms[(colombiaRelleno.property_type.isin(['Oficina'])==True)&(colombiaRelleno.clasificacion == 1)].median()\n",
    "colombiaRelleno.rooms[(colombiaRelleno.rooms.isnull()==True)&(colombiaRelleno.property_type.isin(['Finca'])==True)&(colombiaRelleno.clasificacion == 0)]=colombiaRelleno.rooms[(colombiaRelleno.property_type.isin(['Finca'])==True)&(colombiaRelleno.clasificacion == 0)].median()\n",
    "colombiaRelleno.rooms[(colombiaRelleno.rooms.isnull()==True)&(colombiaRelleno.property_type.isin(['Finca'])==True)&(colombiaRelleno.clasificacion == 1)]=colombiaRelleno.rooms[(colombiaRelleno.property_type.isin(['Finca'])==True)&(colombiaRelleno.clasificacion == 1)].median()\n",
    "colombiaRelleno.rooms[(colombiaRelleno.rooms.isnull()==True)&(colombiaRelleno.property_type.isin(['Lote'])==True)&(colombiaRelleno.clasificacion == 0)]=colombiaRelleno.rooms[(colombiaRelleno.property_type.isin(['Lote'])==True)&(colombiaRelleno.clasificacion == 0)].median()\n",
    "colombiaRelleno.rooms[(colombiaRelleno.rooms.isnull()==True)&(colombiaRelleno.property_type.isin(['Lote'])==True)&(colombiaRelleno.clasificacion == 1)]=colombiaRelleno.rooms[(colombiaRelleno.property_type.isin(['Lote'])==True)&(colombiaRelleno.clasificacion == 1)].median()\n",
    "colombiaRelleno.rooms[(colombiaRelleno.rooms.isnull()==True)&(colombiaRelleno.property_type.isin(['Local comercial'])==True)&(colombiaRelleno.clasificacion == 0)]=colombiaRelleno.rooms[(colombiaRelleno.property_type.isin(['Local comercial'])==True)&(colombiaRelleno.clasificacion == 0)].median()\n",
    "colombiaRelleno.rooms[(colombiaRelleno.rooms.isnull()==True)&(colombiaRelleno.property_type.isin(['Local comercial'])==True)&(colombiaRelleno.clasificacion == 1)]=colombiaRelleno.rooms[(colombiaRelleno.property_type.isin(['Local comercial'])==True)&(colombiaRelleno.clasificacion == 1)].median()\n",
    "colombiaRelleno.rooms[colombiaRelleno.property_type.isin(['Parqueadero'])] = 0 #para los parqueadores no había información sobre las habitaciones por lo que se intuye que al ser un garage no cuentan con estas y se otorga para todos el valor 0"
   ]
  },
  {
   "cell_type": "code",
   "execution_count": 92,
   "metadata": {},
   "outputs": [
    {
     "name": "stderr",
     "output_type": "stream",
     "text": [
      "C:\\Users\\Nueva era\\AppData\\Local\\Temp\\ipykernel_1460\\724398645.py:2: SettingWithCopyWarning: \n",
      "A value is trying to be set on a copy of a slice from a DataFrame\n",
      "\n",
      "See the caveats in the documentation: https://pandas.pydata.org/pandas-docs/stable/user_guide/indexing.html#returning-a-view-versus-a-copy\n",
      "  colombiaRelleno.bathrooms[(colombiaRelleno.bathrooms.isnull()==True)&(colombiaRelleno.property_type.isin(['Casa'])==True)&(colombiaRelleno.clasificacion == 0)]=colombiaRelleno.bathrooms[(colombiaRelleno.property_type.isin(['Casa'])==True)&(colombiaRelleno.clasificacion == 0)].median()\n",
      "C:\\Users\\Nueva era\\AppData\\Local\\Temp\\ipykernel_1460\\724398645.py:3: SettingWithCopyWarning: \n",
      "A value is trying to be set on a copy of a slice from a DataFrame\n",
      "\n",
      "See the caveats in the documentation: https://pandas.pydata.org/pandas-docs/stable/user_guide/indexing.html#returning-a-view-versus-a-copy\n",
      "  colombiaRelleno.bathrooms[(colombiaRelleno.bathrooms.isnull()==True)&(colombiaRelleno.property_type.isin(['Casa'])==True)&(colombiaRelleno.clasificacion == 1)]=colombiaRelleno.bathrooms[(colombiaRelleno.property_type.isin(['Casa'])==True)&(colombiaRelleno.clasificacion == 1)].median()\n",
      "C:\\Users\\Nueva era\\AppData\\Local\\Temp\\ipykernel_1460\\724398645.py:4: SettingWithCopyWarning: \n",
      "A value is trying to be set on a copy of a slice from a DataFrame\n",
      "\n",
      "See the caveats in the documentation: https://pandas.pydata.org/pandas-docs/stable/user_guide/indexing.html#returning-a-view-versus-a-copy\n",
      "  colombiaRelleno.bathrooms[(colombiaRelleno.bathrooms.isnull()==True)&(colombiaRelleno.property_type.isin(['Apartamento'])==True)&(colombiaRelleno.clasificacion == 0)]=colombiaRelleno.bathrooms[(colombiaRelleno.property_type.isin(['Apartamento'])==True)&(colombiaRelleno.clasificacion == 0)].median()\n",
      "C:\\Users\\Nueva era\\AppData\\Local\\Temp\\ipykernel_1460\\724398645.py:5: SettingWithCopyWarning: \n",
      "A value is trying to be set on a copy of a slice from a DataFrame\n",
      "\n",
      "See the caveats in the documentation: https://pandas.pydata.org/pandas-docs/stable/user_guide/indexing.html#returning-a-view-versus-a-copy\n",
      "  colombiaRelleno.bathrooms[(colombiaRelleno.bathrooms.isnull()==True)&(colombiaRelleno.property_type.isin(['Apartamento'])==True)&(colombiaRelleno.clasificacion == 1)]=colombiaRelleno.bathrooms[(colombiaRelleno.property_type.isin(['Apartamento'])==True)&(colombiaRelleno.clasificacion == 1)].median()\n",
      "C:\\Users\\Nueva era\\AppData\\Local\\Temp\\ipykernel_1460\\724398645.py:6: SettingWithCopyWarning: \n",
      "A value is trying to be set on a copy of a slice from a DataFrame\n",
      "\n",
      "See the caveats in the documentation: https://pandas.pydata.org/pandas-docs/stable/user_guide/indexing.html#returning-a-view-versus-a-copy\n",
      "  colombiaRelleno.bathrooms[(colombiaRelleno.bathrooms.isnull()==True)&(colombiaRelleno.property_type.isin(['Otro'])==True)&(colombiaRelleno.clasificacion == 0)]=colombiaRelleno.bathrooms[(colombiaRelleno.property_type.isin(['Otro'])==True)&(colombiaRelleno.clasificacion == 0)].median()\n",
      "C:\\Users\\Nueva era\\AppData\\Local\\Temp\\ipykernel_1460\\724398645.py:7: SettingWithCopyWarning: \n",
      "A value is trying to be set on a copy of a slice from a DataFrame\n",
      "\n",
      "See the caveats in the documentation: https://pandas.pydata.org/pandas-docs/stable/user_guide/indexing.html#returning-a-view-versus-a-copy\n",
      "  colombiaRelleno.bathrooms[(colombiaRelleno.bathrooms.isnull()==True)&(colombiaRelleno.property_type.isin(['Otro'])==True)&(colombiaRelleno.clasificacion == 1)]=colombiaRelleno.bathrooms[(colombiaRelleno.property_type.isin(['Otro'])==True)&(colombiaRelleno.clasificacion == 1)].median()\n",
      "C:\\Users\\Nueva era\\AppData\\Local\\Temp\\ipykernel_1460\\724398645.py:8: SettingWithCopyWarning: \n",
      "A value is trying to be set on a copy of a slice from a DataFrame\n",
      "\n",
      "See the caveats in the documentation: https://pandas.pydata.org/pandas-docs/stable/user_guide/indexing.html#returning-a-view-versus-a-copy\n",
      "  colombiaRelleno.bathrooms[(colombiaRelleno.bathrooms.isnull()==True)&(colombiaRelleno.property_type.isin(['Oficina'])==True)&(colombiaRelleno.clasificacion == 0)]=colombiaRelleno.bathrooms[(colombiaRelleno.property_type.isin(['Oficina'])==True)&(colombiaRelleno.clasificacion == 0)].median()\n",
      "C:\\Users\\Nueva era\\AppData\\Local\\Temp\\ipykernel_1460\\724398645.py:9: SettingWithCopyWarning: \n",
      "A value is trying to be set on a copy of a slice from a DataFrame\n",
      "\n",
      "See the caveats in the documentation: https://pandas.pydata.org/pandas-docs/stable/user_guide/indexing.html#returning-a-view-versus-a-copy\n",
      "  colombiaRelleno.bathrooms[(colombiaRelleno.bathrooms.isnull()==True)&(colombiaRelleno.property_type.isin(['Oficina'])==True)&(colombiaRelleno.clasificacion == 1)]=colombiaRelleno.bathrooms[(colombiaRelleno.property_type.isin(['Oficina'])==True)&(colombiaRelleno.clasificacion == 1)].median()\n",
      "C:\\Users\\Nueva era\\AppData\\Local\\Temp\\ipykernel_1460\\724398645.py:10: SettingWithCopyWarning: \n",
      "A value is trying to be set on a copy of a slice from a DataFrame\n",
      "\n",
      "See the caveats in the documentation: https://pandas.pydata.org/pandas-docs/stable/user_guide/indexing.html#returning-a-view-versus-a-copy\n",
      "  colombiaRelleno.bathrooms[(colombiaRelleno.bathrooms.isnull()==True)&(colombiaRelleno.property_type.isin(['Finca'])==True)&(colombiaRelleno.clasificacion == 0)]=colombiaRelleno.bathrooms[(colombiaRelleno.property_type.isin(['Finca'])==True)&(colombiaRelleno.clasificacion == 0)].median()\n",
      "C:\\Users\\Nueva era\\AppData\\Local\\Temp\\ipykernel_1460\\724398645.py:11: SettingWithCopyWarning: \n",
      "A value is trying to be set on a copy of a slice from a DataFrame\n",
      "\n",
      "See the caveats in the documentation: https://pandas.pydata.org/pandas-docs/stable/user_guide/indexing.html#returning-a-view-versus-a-copy\n",
      "  colombiaRelleno.bathrooms[(colombiaRelleno.bathrooms.isnull()==True)&(colombiaRelleno.property_type.isin(['Finca'])==True)&(colombiaRelleno.clasificacion == 1)]=colombiaRelleno.bathrooms[(colombiaRelleno.property_type.isin(['Finca'])==True)&(colombiaRelleno.clasificacion == 1)].median()\n",
      "C:\\Users\\Nueva era\\AppData\\Local\\Temp\\ipykernel_1460\\724398645.py:12: SettingWithCopyWarning: \n",
      "A value is trying to be set on a copy of a slice from a DataFrame\n",
      "\n",
      "See the caveats in the documentation: https://pandas.pydata.org/pandas-docs/stable/user_guide/indexing.html#returning-a-view-versus-a-copy\n",
      "  colombiaRelleno.bathrooms[(colombiaRelleno.bathrooms.isnull()==True)&(colombiaRelleno.property_type.isin(['Lote'])==True)&(colombiaRelleno.clasificacion == 0)]=colombiaRelleno.bathrooms[(colombiaRelleno.property_type.isin(['Lote'])==True)&(colombiaRelleno.clasificacion == 0)].median()\n",
      "C:\\Users\\Nueva era\\AppData\\Local\\Temp\\ipykernel_1460\\724398645.py:13: SettingWithCopyWarning: \n",
      "A value is trying to be set on a copy of a slice from a DataFrame\n",
      "\n",
      "See the caveats in the documentation: https://pandas.pydata.org/pandas-docs/stable/user_guide/indexing.html#returning-a-view-versus-a-copy\n",
      "  colombiaRelleno.bathrooms[(colombiaRelleno.bathrooms.isnull()==True)&(colombiaRelleno.property_type.isin(['Lote'])==True)&(colombiaRelleno.clasificacion == 1)]=colombiaRelleno.bathrooms[(colombiaRelleno.property_type.isin(['Lote'])==True)&(colombiaRelleno.clasificacion == 1)].median()\n",
      "C:\\Users\\Nueva era\\AppData\\Local\\Temp\\ipykernel_1460\\724398645.py:14: SettingWithCopyWarning: \n",
      "A value is trying to be set on a copy of a slice from a DataFrame\n",
      "\n",
      "See the caveats in the documentation: https://pandas.pydata.org/pandas-docs/stable/user_guide/indexing.html#returning-a-view-versus-a-copy\n",
      "  colombiaRelleno.bathrooms[(colombiaRelleno.bathrooms.isnull()==True)&(colombiaRelleno.property_type.isin(['Local comercial'])==True)&(colombiaRelleno.clasificacion == 0)]=colombiaRelleno.bathrooms[(colombiaRelleno.property_type.isin(['Local comercial'])==True)&(colombiaRelleno.clasificacion == 0)].median()\n",
      "C:\\Users\\Nueva era\\AppData\\Local\\Temp\\ipykernel_1460\\724398645.py:15: SettingWithCopyWarning: \n",
      "A value is trying to be set on a copy of a slice from a DataFrame\n",
      "\n",
      "See the caveats in the documentation: https://pandas.pydata.org/pandas-docs/stable/user_guide/indexing.html#returning-a-view-versus-a-copy\n",
      "  colombiaRelleno.bathrooms[(colombiaRelleno.bathrooms.isnull()==True)&(colombiaRelleno.property_type.isin(['Local comercial'])==True)&(colombiaRelleno.clasificacion == 1)]=colombiaRelleno.bathrooms[(colombiaRelleno.property_type.isin(['Local comercial'])==True)&(colombiaRelleno.clasificacion == 1)].median()\n",
      "C:\\Users\\Nueva era\\AppData\\Local\\Temp\\ipykernel_1460\\724398645.py:16: SettingWithCopyWarning: \n",
      "A value is trying to be set on a copy of a slice from a DataFrame\n",
      "\n",
      "See the caveats in the documentation: https://pandas.pydata.org/pandas-docs/stable/user_guide/indexing.html#returning-a-view-versus-a-copy\n",
      "  colombiaRelleno.bathrooms[colombiaRelleno.property_type.isin(['Parqueadero'])] = 0 #siguiendo la lógica anterior, si no hay habitaciones contruidas no puede haber baños\n"
     ]
    }
   ],
   "source": [
    "#Se repite los pasos anteriormente mencionados pero con la columna bathrooms\n",
    "colombiaRelleno.bathrooms[(colombiaRelleno.bathrooms.isnull()==True)&(colombiaRelleno.property_type.isin(['Casa'])==True)&(colombiaRelleno.clasificacion == 0)]=colombiaRelleno.bathrooms[(colombiaRelleno.property_type.isin(['Casa'])==True)&(colombiaRelleno.clasificacion == 0)].median()\n",
    "colombiaRelleno.bathrooms[(colombiaRelleno.bathrooms.isnull()==True)&(colombiaRelleno.property_type.isin(['Casa'])==True)&(colombiaRelleno.clasificacion == 1)]=colombiaRelleno.bathrooms[(colombiaRelleno.property_type.isin(['Casa'])==True)&(colombiaRelleno.clasificacion == 1)].median()\n",
    "colombiaRelleno.bathrooms[(colombiaRelleno.bathrooms.isnull()==True)&(colombiaRelleno.property_type.isin(['Apartamento'])==True)&(colombiaRelleno.clasificacion == 0)]=colombiaRelleno.bathrooms[(colombiaRelleno.property_type.isin(['Apartamento'])==True)&(colombiaRelleno.clasificacion == 0)].median()\n",
    "colombiaRelleno.bathrooms[(colombiaRelleno.bathrooms.isnull()==True)&(colombiaRelleno.property_type.isin(['Apartamento'])==True)&(colombiaRelleno.clasificacion == 1)]=colombiaRelleno.bathrooms[(colombiaRelleno.property_type.isin(['Apartamento'])==True)&(colombiaRelleno.clasificacion == 1)].median()\n",
    "colombiaRelleno.bathrooms[(colombiaRelleno.bathrooms.isnull()==True)&(colombiaRelleno.property_type.isin(['Otro'])==True)&(colombiaRelleno.clasificacion == 0)]=colombiaRelleno.bathrooms[(colombiaRelleno.property_type.isin(['Otro'])==True)&(colombiaRelleno.clasificacion == 0)].median()\n",
    "colombiaRelleno.bathrooms[(colombiaRelleno.bathrooms.isnull()==True)&(colombiaRelleno.property_type.isin(['Otro'])==True)&(colombiaRelleno.clasificacion == 1)]=colombiaRelleno.bathrooms[(colombiaRelleno.property_type.isin(['Otro'])==True)&(colombiaRelleno.clasificacion == 1)].median()\n",
    "colombiaRelleno.bathrooms[(colombiaRelleno.bathrooms.isnull()==True)&(colombiaRelleno.property_type.isin(['Oficina'])==True)&(colombiaRelleno.clasificacion == 0)]=colombiaRelleno.bathrooms[(colombiaRelleno.property_type.isin(['Oficina'])==True)&(colombiaRelleno.clasificacion == 0)].median()\n",
    "colombiaRelleno.bathrooms[(colombiaRelleno.bathrooms.isnull()==True)&(colombiaRelleno.property_type.isin(['Oficina'])==True)&(colombiaRelleno.clasificacion == 1)]=colombiaRelleno.bathrooms[(colombiaRelleno.property_type.isin(['Oficina'])==True)&(colombiaRelleno.clasificacion == 1)].median()\n",
    "colombiaRelleno.bathrooms[(colombiaRelleno.bathrooms.isnull()==True)&(colombiaRelleno.property_type.isin(['Finca'])==True)&(colombiaRelleno.clasificacion == 0)]=colombiaRelleno.bathrooms[(colombiaRelleno.property_type.isin(['Finca'])==True)&(colombiaRelleno.clasificacion == 0)].median()\n",
    "colombiaRelleno.bathrooms[(colombiaRelleno.bathrooms.isnull()==True)&(colombiaRelleno.property_type.isin(['Finca'])==True)&(colombiaRelleno.clasificacion == 1)]=colombiaRelleno.bathrooms[(colombiaRelleno.property_type.isin(['Finca'])==True)&(colombiaRelleno.clasificacion == 1)].median()\n",
    "colombiaRelleno.bathrooms[(colombiaRelleno.bathrooms.isnull()==True)&(colombiaRelleno.property_type.isin(['Lote'])==True)&(colombiaRelleno.clasificacion == 0)]=colombiaRelleno.bathrooms[(colombiaRelleno.property_type.isin(['Lote'])==True)&(colombiaRelleno.clasificacion == 0)].median()\n",
    "colombiaRelleno.bathrooms[(colombiaRelleno.bathrooms.isnull()==True)&(colombiaRelleno.property_type.isin(['Lote'])==True)&(colombiaRelleno.clasificacion == 1)]=colombiaRelleno.bathrooms[(colombiaRelleno.property_type.isin(['Lote'])==True)&(colombiaRelleno.clasificacion == 1)].median()\n",
    "colombiaRelleno.bathrooms[(colombiaRelleno.bathrooms.isnull()==True)&(colombiaRelleno.property_type.isin(['Local comercial'])==True)&(colombiaRelleno.clasificacion == 0)]=colombiaRelleno.bathrooms[(colombiaRelleno.property_type.isin(['Local comercial'])==True)&(colombiaRelleno.clasificacion == 0)].median()\n",
    "colombiaRelleno.bathrooms[(colombiaRelleno.bathrooms.isnull()==True)&(colombiaRelleno.property_type.isin(['Local comercial'])==True)&(colombiaRelleno.clasificacion == 1)]=colombiaRelleno.bathrooms[(colombiaRelleno.property_type.isin(['Local comercial'])==True)&(colombiaRelleno.clasificacion == 1)].median()\n",
    "colombiaRelleno.bathrooms[colombiaRelleno.property_type.isin(['Parqueadero'])] = 0 #siguiendo la lógica anterior, si no hay habitaciones contruidas no puede haber baños"
   ]
  },
  {
   "cell_type": "code",
   "execution_count": 93,
   "metadata": {},
   "outputs": [
    {
     "name": "stderr",
     "output_type": "stream",
     "text": [
      "C:\\Users\\Nueva era\\AppData\\Local\\Temp\\ipykernel_1460\\1929697955.py:2: SettingWithCopyWarning: \n",
      "A value is trying to be set on a copy of a slice from a DataFrame\n",
      "\n",
      "See the caveats in the documentation: https://pandas.pydata.org/pandas-docs/stable/user_guide/indexing.html#returning-a-view-versus-a-copy\n",
      "  colombiaRelleno.bedrooms[(colombiaRelleno.bedrooms.isnull()==True)&(colombiaRelleno.property_type.isin(['Casa'])==True)&(colombiaRelleno.clasificacion == 0)]=colombiaRelleno.bedrooms[(colombiaRelleno.property_type.isin(['Casa'])==True)&(colombiaRelleno.clasificacion == 0)].median()\n",
      "C:\\Users\\Nueva era\\AppData\\Local\\Temp\\ipykernel_1460\\1929697955.py:3: SettingWithCopyWarning: \n",
      "A value is trying to be set on a copy of a slice from a DataFrame\n",
      "\n",
      "See the caveats in the documentation: https://pandas.pydata.org/pandas-docs/stable/user_guide/indexing.html#returning-a-view-versus-a-copy\n",
      "  colombiaRelleno.bedrooms[(colombiaRelleno.bedrooms.isnull()==True)&(colombiaRelleno.property_type.isin(['Casa'])==True)&(colombiaRelleno.clasificacion == 1)]=colombiaRelleno.bedrooms[(colombiaRelleno.property_type.isin(['Casa'])==True)&(colombiaRelleno.clasificacion == 1)].median()\n",
      "C:\\Users\\Nueva era\\AppData\\Local\\Temp\\ipykernel_1460\\1929697955.py:4: SettingWithCopyWarning: \n",
      "A value is trying to be set on a copy of a slice from a DataFrame\n",
      "\n",
      "See the caveats in the documentation: https://pandas.pydata.org/pandas-docs/stable/user_guide/indexing.html#returning-a-view-versus-a-copy\n",
      "  colombiaRelleno.bedrooms[(colombiaRelleno.bedrooms.isnull()==True)&(colombiaRelleno.property_type.isin(['Apartamento'])==True)&(colombiaRelleno.clasificacion == 0)]=colombiaRelleno.bedrooms[(colombiaRelleno.property_type.isin(['Apartamento'])==True)&(colombiaRelleno.clasificacion == 0)].median()\n",
      "C:\\Users\\Nueva era\\AppData\\Local\\Temp\\ipykernel_1460\\1929697955.py:5: SettingWithCopyWarning: \n",
      "A value is trying to be set on a copy of a slice from a DataFrame\n",
      "\n",
      "See the caveats in the documentation: https://pandas.pydata.org/pandas-docs/stable/user_guide/indexing.html#returning-a-view-versus-a-copy\n",
      "  colombiaRelleno.bedrooms[(colombiaRelleno.bedrooms.isnull()==True)&(colombiaRelleno.property_type.isin(['Apartamento'])==True)&(colombiaRelleno.clasificacion == 1)]=colombiaRelleno.bedrooms[(colombiaRelleno.property_type.isin(['Apartamento'])==True)&(colombiaRelleno.clasificacion == 1)].median()\n",
      "C:\\Users\\Nueva era\\AppData\\Local\\Temp\\ipykernel_1460\\1929697955.py:6: SettingWithCopyWarning: \n",
      "A value is trying to be set on a copy of a slice from a DataFrame\n",
      "\n",
      "See the caveats in the documentation: https://pandas.pydata.org/pandas-docs/stable/user_guide/indexing.html#returning-a-view-versus-a-copy\n",
      "  colombiaRelleno.bedrooms[(colombiaRelleno.bedrooms.isnull()==True)&(colombiaRelleno.property_type.isin(['Otro'])==True)&(colombiaRelleno.clasificacion == 0)]=colombiaRelleno.bedrooms[(colombiaRelleno.property_type.isin(['Otro'])==True)&(colombiaRelleno.clasificacion == 0)].median()\n",
      "C:\\Users\\Nueva era\\AppData\\Local\\Temp\\ipykernel_1460\\1929697955.py:7: SettingWithCopyWarning: \n",
      "A value is trying to be set on a copy of a slice from a DataFrame\n",
      "\n",
      "See the caveats in the documentation: https://pandas.pydata.org/pandas-docs/stable/user_guide/indexing.html#returning-a-view-versus-a-copy\n",
      "  colombiaRelleno.bedrooms[(colombiaRelleno.bedrooms.isnull()==True)&(colombiaRelleno.property_type.isin(['Otro'])==True)&(colombiaRelleno.clasificacion == 1)]=colombiaRelleno.bedrooms[(colombiaRelleno.property_type.isin(['Otro'])==True)&(colombiaRelleno.clasificacion == 1)].median()\n",
      "C:\\Users\\Nueva era\\AppData\\Local\\Temp\\ipykernel_1460\\1929697955.py:8: SettingWithCopyWarning: \n",
      "A value is trying to be set on a copy of a slice from a DataFrame\n",
      "\n",
      "See the caveats in the documentation: https://pandas.pydata.org/pandas-docs/stable/user_guide/indexing.html#returning-a-view-versus-a-copy\n",
      "  colombiaRelleno.bedrooms[(colombiaRelleno.bedrooms.isnull()==True)&(colombiaRelleno.property_type.isin(['Oficina'])==True)&(colombiaRelleno.clasificacion == 0)]=colombiaRelleno.bedrooms[(colombiaRelleno.property_type.isin(['Oficina'])==True)&(colombiaRelleno.clasificacion == 0)].median()\n",
      "C:\\Users\\Nueva era\\AppData\\Local\\Temp\\ipykernel_1460\\1929697955.py:9: SettingWithCopyWarning: \n",
      "A value is trying to be set on a copy of a slice from a DataFrame\n",
      "\n",
      "See the caveats in the documentation: https://pandas.pydata.org/pandas-docs/stable/user_guide/indexing.html#returning-a-view-versus-a-copy\n",
      "  colombiaRelleno.bedrooms[(colombiaRelleno.bedrooms.isnull()==True)&(colombiaRelleno.property_type.isin(['Oficina'])==True)&(colombiaRelleno.clasificacion == 1)]=colombiaRelleno.bedrooms[(colombiaRelleno.property_type.isin(['Oficina'])==True)&(colombiaRelleno.clasificacion == 1)].median()\n",
      "C:\\Users\\Nueva era\\AppData\\Local\\Temp\\ipykernel_1460\\1929697955.py:10: SettingWithCopyWarning: \n",
      "A value is trying to be set on a copy of a slice from a DataFrame\n",
      "\n",
      "See the caveats in the documentation: https://pandas.pydata.org/pandas-docs/stable/user_guide/indexing.html#returning-a-view-versus-a-copy\n",
      "  colombiaRelleno.bedrooms[(colombiaRelleno.bedrooms.isnull()==True)&(colombiaRelleno.property_type.isin(['Finca'])==True)&(colombiaRelleno.clasificacion == 0)]=colombiaRelleno.bedrooms[(colombiaRelleno.property_type.isin(['Finca'])==True)&(colombiaRelleno.clasificacion == 0)].median()\n",
      "C:\\Users\\Nueva era\\AppData\\Local\\Temp\\ipykernel_1460\\1929697955.py:11: SettingWithCopyWarning: \n",
      "A value is trying to be set on a copy of a slice from a DataFrame\n",
      "\n",
      "See the caveats in the documentation: https://pandas.pydata.org/pandas-docs/stable/user_guide/indexing.html#returning-a-view-versus-a-copy\n",
      "  colombiaRelleno.bedrooms[(colombiaRelleno.bedrooms.isnull()==True)&(colombiaRelleno.property_type.isin(['Finca'])==True)&(colombiaRelleno.clasificacion == 1)]=colombiaRelleno.bedrooms[(colombiaRelleno.property_type.isin(['Finca'])==True)&(colombiaRelleno.clasificacion == 1)].median()\n",
      "C:\\Users\\Nueva era\\AppData\\Local\\Temp\\ipykernel_1460\\1929697955.py:12: SettingWithCopyWarning: \n",
      "A value is trying to be set on a copy of a slice from a DataFrame\n",
      "\n",
      "See the caveats in the documentation: https://pandas.pydata.org/pandas-docs/stable/user_guide/indexing.html#returning-a-view-versus-a-copy\n",
      "  colombiaRelleno.bedrooms[(colombiaRelleno.bedrooms.isnull()==True)&(colombiaRelleno.property_type.isin(['Lote'])==True)&(colombiaRelleno.clasificacion == 0)]=colombiaRelleno.bedrooms[(colombiaRelleno.property_type.isin(['Lote'])==True)&(colombiaRelleno.clasificacion == 0)].median()\n",
      "C:\\Users\\Nueva era\\AppData\\Local\\Temp\\ipykernel_1460\\1929697955.py:13: SettingWithCopyWarning: \n",
      "A value is trying to be set on a copy of a slice from a DataFrame\n",
      "\n",
      "See the caveats in the documentation: https://pandas.pydata.org/pandas-docs/stable/user_guide/indexing.html#returning-a-view-versus-a-copy\n",
      "  colombiaRelleno.bedrooms[(colombiaRelleno.bedrooms.isnull()==True)&(colombiaRelleno.property_type.isin(['Lote'])==True)&(colombiaRelleno.clasificacion == 1)]=colombiaRelleno.bedrooms[(colombiaRelleno.property_type.isin(['Lote'])==True)&(colombiaRelleno.clasificacion == 1)].median()\n",
      "C:\\Users\\Nueva era\\AppData\\Local\\Temp\\ipykernel_1460\\1929697955.py:14: SettingWithCopyWarning: \n",
      "A value is trying to be set on a copy of a slice from a DataFrame\n",
      "\n",
      "See the caveats in the documentation: https://pandas.pydata.org/pandas-docs/stable/user_guide/indexing.html#returning-a-view-versus-a-copy\n",
      "  colombiaRelleno.bedrooms[(colombiaRelleno.bedrooms.isnull()==True)&(colombiaRelleno.property_type.isin(['Local comercial'])==True)&(colombiaRelleno.clasificacion == 0)]=colombiaRelleno.bedrooms[(colombiaRelleno.property_type.isin(['Local comercial'])==True)&(colombiaRelleno.clasificacion == 0)].median()\n",
      "C:\\Users\\Nueva era\\AppData\\Local\\Temp\\ipykernel_1460\\1929697955.py:15: SettingWithCopyWarning: \n",
      "A value is trying to be set on a copy of a slice from a DataFrame\n",
      "\n",
      "See the caveats in the documentation: https://pandas.pydata.org/pandas-docs/stable/user_guide/indexing.html#returning-a-view-versus-a-copy\n",
      "  colombiaRelleno.bedrooms[(colombiaRelleno.bedrooms.isnull()==True)&(colombiaRelleno.property_type.isin(['Local comercial'])==True)&(colombiaRelleno.clasificacion == 1)]=colombiaRelleno.bedrooms[(colombiaRelleno.property_type.isin(['Local comercial'])==True)&(colombiaRelleno.clasificacion == 1)].median()\n",
      "C:\\Users\\Nueva era\\AppData\\Local\\Temp\\ipykernel_1460\\1929697955.py:16: SettingWithCopyWarning: \n",
      "A value is trying to be set on a copy of a slice from a DataFrame\n",
      "\n",
      "See the caveats in the documentation: https://pandas.pydata.org/pandas-docs/stable/user_guide/indexing.html#returning-a-view-versus-a-copy\n",
      "  colombiaRelleno.bedrooms[colombiaRelleno.property_type.isin(['Parqueadero'])] = 0 #siguiendo la lógica anterior, si no hay habitaciones contruidas no puede haber habitaciones de dormir\n"
     ]
    }
   ],
   "source": [
    "#Se repite los pasos anteriormente mencionados pero con la columna bedrooms\n",
    "colombiaRelleno.bedrooms[(colombiaRelleno.bedrooms.isnull()==True)&(colombiaRelleno.property_type.isin(['Casa'])==True)&(colombiaRelleno.clasificacion == 0)]=colombiaRelleno.bedrooms[(colombiaRelleno.property_type.isin(['Casa'])==True)&(colombiaRelleno.clasificacion == 0)].median()\n",
    "colombiaRelleno.bedrooms[(colombiaRelleno.bedrooms.isnull()==True)&(colombiaRelleno.property_type.isin(['Casa'])==True)&(colombiaRelleno.clasificacion == 1)]=colombiaRelleno.bedrooms[(colombiaRelleno.property_type.isin(['Casa'])==True)&(colombiaRelleno.clasificacion == 1)].median()\n",
    "colombiaRelleno.bedrooms[(colombiaRelleno.bedrooms.isnull()==True)&(colombiaRelleno.property_type.isin(['Apartamento'])==True)&(colombiaRelleno.clasificacion == 0)]=colombiaRelleno.bedrooms[(colombiaRelleno.property_type.isin(['Apartamento'])==True)&(colombiaRelleno.clasificacion == 0)].median()\n",
    "colombiaRelleno.bedrooms[(colombiaRelleno.bedrooms.isnull()==True)&(colombiaRelleno.property_type.isin(['Apartamento'])==True)&(colombiaRelleno.clasificacion == 1)]=colombiaRelleno.bedrooms[(colombiaRelleno.property_type.isin(['Apartamento'])==True)&(colombiaRelleno.clasificacion == 1)].median()\n",
    "colombiaRelleno.bedrooms[(colombiaRelleno.bedrooms.isnull()==True)&(colombiaRelleno.property_type.isin(['Otro'])==True)&(colombiaRelleno.clasificacion == 0)]=colombiaRelleno.bedrooms[(colombiaRelleno.property_type.isin(['Otro'])==True)&(colombiaRelleno.clasificacion == 0)].median()\n",
    "colombiaRelleno.bedrooms[(colombiaRelleno.bedrooms.isnull()==True)&(colombiaRelleno.property_type.isin(['Otro'])==True)&(colombiaRelleno.clasificacion == 1)]=colombiaRelleno.bedrooms[(colombiaRelleno.property_type.isin(['Otro'])==True)&(colombiaRelleno.clasificacion == 1)].median()\n",
    "colombiaRelleno.bedrooms[(colombiaRelleno.bedrooms.isnull()==True)&(colombiaRelleno.property_type.isin(['Oficina'])==True)&(colombiaRelleno.clasificacion == 0)]=colombiaRelleno.bedrooms[(colombiaRelleno.property_type.isin(['Oficina'])==True)&(colombiaRelleno.clasificacion == 0)].median()\n",
    "colombiaRelleno.bedrooms[(colombiaRelleno.bedrooms.isnull()==True)&(colombiaRelleno.property_type.isin(['Oficina'])==True)&(colombiaRelleno.clasificacion == 1)]=colombiaRelleno.bedrooms[(colombiaRelleno.property_type.isin(['Oficina'])==True)&(colombiaRelleno.clasificacion == 1)].median()\n",
    "colombiaRelleno.bedrooms[(colombiaRelleno.bedrooms.isnull()==True)&(colombiaRelleno.property_type.isin(['Finca'])==True)&(colombiaRelleno.clasificacion == 0)]=colombiaRelleno.bedrooms[(colombiaRelleno.property_type.isin(['Finca'])==True)&(colombiaRelleno.clasificacion == 0)].median()\n",
    "colombiaRelleno.bedrooms[(colombiaRelleno.bedrooms.isnull()==True)&(colombiaRelleno.property_type.isin(['Finca'])==True)&(colombiaRelleno.clasificacion == 1)]=colombiaRelleno.bedrooms[(colombiaRelleno.property_type.isin(['Finca'])==True)&(colombiaRelleno.clasificacion == 1)].median()\n",
    "colombiaRelleno.bedrooms[(colombiaRelleno.bedrooms.isnull()==True)&(colombiaRelleno.property_type.isin(['Lote'])==True)&(colombiaRelleno.clasificacion == 0)]=colombiaRelleno.bedrooms[(colombiaRelleno.property_type.isin(['Lote'])==True)&(colombiaRelleno.clasificacion == 0)].median()\n",
    "colombiaRelleno.bedrooms[(colombiaRelleno.bedrooms.isnull()==True)&(colombiaRelleno.property_type.isin(['Lote'])==True)&(colombiaRelleno.clasificacion == 1)]=colombiaRelleno.bedrooms[(colombiaRelleno.property_type.isin(['Lote'])==True)&(colombiaRelleno.clasificacion == 1)].median()\n",
    "colombiaRelleno.bedrooms[(colombiaRelleno.bedrooms.isnull()==True)&(colombiaRelleno.property_type.isin(['Local comercial'])==True)&(colombiaRelleno.clasificacion == 0)]=colombiaRelleno.bedrooms[(colombiaRelleno.property_type.isin(['Local comercial'])==True)&(colombiaRelleno.clasificacion == 0)].median()\n",
    "colombiaRelleno.bedrooms[(colombiaRelleno.bedrooms.isnull()==True)&(colombiaRelleno.property_type.isin(['Local comercial'])==True)&(colombiaRelleno.clasificacion == 1)]=colombiaRelleno.bedrooms[(colombiaRelleno.property_type.isin(['Local comercial'])==True)&(colombiaRelleno.clasificacion == 1)].median()\n",
    "colombiaRelleno.bedrooms[colombiaRelleno.property_type.isin(['Parqueadero'])] = 0 #siguiendo la lógica anterior, si no hay habitaciones contruidas no puede haber habitaciones de dormir"
   ]
  },
  {
   "cell_type": "code",
   "execution_count": 690,
   "metadata": {},
   "outputs": [
    {
     "name": "stderr",
     "output_type": "stream",
     "text": [
      "C:\\Users\\Nueva era\\AppData\\Local\\Temp\\ipykernel_8036\\1295855388.py:3: SettingWithCopyWarning: \n",
      "A value is trying to be set on a copy of a slice from a DataFrame\n",
      "\n",
      "See the caveats in the documentation: https://pandas.pydata.org/pandas-docs/stable/user_guide/indexing.html#returning-a-view-versus-a-copy\n",
      "  colombiaRelleno.surface_covered[(colombiaRelleno.surface_covered.isnull()==True)&(colombiaRelleno.property_type.isin(['Casa'])==True)&(colombiaRelleno.clasificacion == 0)]=colombiaRelleno.surface_covered[(colombiaRelleno.property_type.isin(['Casa'])==True)&(colombiaRelleno.clasificacion == 0)].median()\n",
      "C:\\Users\\Nueva era\\AppData\\Local\\Temp\\ipykernel_8036\\1295855388.py:4: SettingWithCopyWarning: \n",
      "A value is trying to be set on a copy of a slice from a DataFrame\n",
      "\n",
      "See the caveats in the documentation: https://pandas.pydata.org/pandas-docs/stable/user_guide/indexing.html#returning-a-view-versus-a-copy\n",
      "  colombiaRelleno.surface_covered[(colombiaRelleno.surface_covered.isnull()==True)&(colombiaRelleno.property_type.isin(['Casa'])==True)&(colombiaRelleno.clasificacion == 1)]=colombiaRelleno.surface_covered[(colombiaRelleno.property_type.isin(['Casa'])==True)&(colombiaRelleno.clasificacion == 1)].median()\n",
      "C:\\Users\\Nueva era\\AppData\\Local\\Temp\\ipykernel_8036\\1295855388.py:5: SettingWithCopyWarning: \n",
      "A value is trying to be set on a copy of a slice from a DataFrame\n",
      "\n",
      "See the caveats in the documentation: https://pandas.pydata.org/pandas-docs/stable/user_guide/indexing.html#returning-a-view-versus-a-copy\n",
      "  colombiaRelleno.surface_covered[(colombiaRelleno.surface_covered.isnull()==True)&(colombiaRelleno.property_type.isin(['Apartamento'])==True)&(colombiaRelleno.clasificacion == 0)]=colombiaRelleno.surface_covered[(colombiaRelleno.property_type.isin(['Apartamento'])==True)&(colombiaRelleno.clasificacion == 0)].median()\n",
      "C:\\Users\\Nueva era\\AppData\\Local\\Temp\\ipykernel_8036\\1295855388.py:6: SettingWithCopyWarning: \n",
      "A value is trying to be set on a copy of a slice from a DataFrame\n",
      "\n",
      "See the caveats in the documentation: https://pandas.pydata.org/pandas-docs/stable/user_guide/indexing.html#returning-a-view-versus-a-copy\n",
      "  colombiaRelleno.surface_covered[(colombiaRelleno.surface_covered.isnull()==True)&(colombiaRelleno.property_type.isin(['Apartamento'])==True)&(colombiaRelleno.clasificacion == 1)]=colombiaRelleno.surface_covered[(colombiaRelleno.property_type.isin(['Apartamento'])==True)&(colombiaRelleno.clasificacion == 1)].median()\n",
      "C:\\Users\\Nueva era\\AppData\\Local\\Temp\\ipykernel_8036\\1295855388.py:7: SettingWithCopyWarning: \n",
      "A value is trying to be set on a copy of a slice from a DataFrame\n",
      "\n",
      "See the caveats in the documentation: https://pandas.pydata.org/pandas-docs/stable/user_guide/indexing.html#returning-a-view-versus-a-copy\n",
      "  colombiaRelleno.surface_covered[(colombiaRelleno.surface_covered.isnull()==True)&(colombiaRelleno.property_type.isin(['Otro'])==True)&(colombiaRelleno.clasificacion == 0)]=colombiaRelleno.surface_covered[(colombiaRelleno.property_type.isin(['Otro'])==True)&(colombiaRelleno.clasificacion == 0)].median()\n",
      "C:\\Users\\Nueva era\\AppData\\Local\\Temp\\ipykernel_8036\\1295855388.py:8: SettingWithCopyWarning: \n",
      "A value is trying to be set on a copy of a slice from a DataFrame\n",
      "\n",
      "See the caveats in the documentation: https://pandas.pydata.org/pandas-docs/stable/user_guide/indexing.html#returning-a-view-versus-a-copy\n",
      "  colombiaRelleno.surface_covered[(colombiaRelleno.surface_covered.isnull()==True)&(colombiaRelleno.property_type.isin(['Otro'])==True)&(colombiaRelleno.clasificacion == 1)]=colombiaRelleno.surface_covered[(colombiaRelleno.property_type.isin(['Otro'])==True)&(colombiaRelleno.clasificacion == 1)].median()\n",
      "C:\\Users\\Nueva era\\AppData\\Local\\Temp\\ipykernel_8036\\1295855388.py:9: SettingWithCopyWarning: \n",
      "A value is trying to be set on a copy of a slice from a DataFrame\n",
      "\n",
      "See the caveats in the documentation: https://pandas.pydata.org/pandas-docs/stable/user_guide/indexing.html#returning-a-view-versus-a-copy\n",
      "  colombiaRelleno.surface_covered[(colombiaRelleno.surface_covered.isnull()==True)&(colombiaRelleno.property_type.isin(['Oficina'])==True)&(colombiaRelleno.clasificacion == 0)]=colombiaRelleno.surface_covered[(colombiaRelleno.property_type.isin(['Oficina'])==True)&(colombiaRelleno.clasificacion == 0)].median()\n",
      "C:\\Users\\Nueva era\\AppData\\Local\\Temp\\ipykernel_8036\\1295855388.py:10: SettingWithCopyWarning: \n",
      "A value is trying to be set on a copy of a slice from a DataFrame\n",
      "\n",
      "See the caveats in the documentation: https://pandas.pydata.org/pandas-docs/stable/user_guide/indexing.html#returning-a-view-versus-a-copy\n",
      "  colombiaRelleno.surface_covered[(colombiaRelleno.surface_covered.isnull()==True)&(colombiaRelleno.property_type.isin(['Oficina'])==True)&(colombiaRelleno.clasificacion == 1)]=colombiaRelleno.surface_covered[(colombiaRelleno.property_type.isin(['Oficina'])==True)&(colombiaRelleno.clasificacion == 1)].median()\n",
      "C:\\Users\\Nueva era\\AppData\\Local\\Temp\\ipykernel_8036\\1295855388.py:11: SettingWithCopyWarning: \n",
      "A value is trying to be set on a copy of a slice from a DataFrame\n",
      "\n",
      "See the caveats in the documentation: https://pandas.pydata.org/pandas-docs/stable/user_guide/indexing.html#returning-a-view-versus-a-copy\n",
      "  colombiaRelleno.surface_covered[(colombiaRelleno.surface_covered.isnull()==True)&(colombiaRelleno.property_type.isin(['Finca'])==True)&(colombiaRelleno.clasificacion == 0)]=colombiaRelleno.surface_covered[(colombiaRelleno.property_type.isin(['Finca'])==True)&(colombiaRelleno.clasificacion == 0)].median()\n",
      "C:\\Users\\Nueva era\\AppData\\Local\\Temp\\ipykernel_8036\\1295855388.py:12: SettingWithCopyWarning: \n",
      "A value is trying to be set on a copy of a slice from a DataFrame\n",
      "\n",
      "See the caveats in the documentation: https://pandas.pydata.org/pandas-docs/stable/user_guide/indexing.html#returning-a-view-versus-a-copy\n",
      "  colombiaRelleno.surface_covered[(colombiaRelleno.surface_covered.isnull()==True)&(colombiaRelleno.property_type.isin(['Finca'])==True)&(colombiaRelleno.clasificacion == 1)]=colombiaRelleno.surface_covered[(colombiaRelleno.property_type.isin(['Finca'])==True)&(colombiaRelleno.clasificacion == 1)].median()\n",
      "C:\\Users\\Nueva era\\AppData\\Local\\Temp\\ipykernel_8036\\1295855388.py:13: SettingWithCopyWarning: \n",
      "A value is trying to be set on a copy of a slice from a DataFrame\n",
      "\n",
      "See the caveats in the documentation: https://pandas.pydata.org/pandas-docs/stable/user_guide/indexing.html#returning-a-view-versus-a-copy\n",
      "  colombiaRelleno.surface_covered[(colombiaRelleno.surface_covered.isnull()==True)&(colombiaRelleno.property_type.isin(['Lote'])==True)&(colombiaRelleno.clasificacion == 0)]=colombiaRelleno.surface_covered[(colombiaRelleno.property_type.isin(['Lote'])==True)&(colombiaRelleno.clasificacion == 0)].median()\n",
      "C:\\Users\\Nueva era\\AppData\\Local\\Temp\\ipykernel_8036\\1295855388.py:14: SettingWithCopyWarning: \n",
      "A value is trying to be set on a copy of a slice from a DataFrame\n",
      "\n",
      "See the caveats in the documentation: https://pandas.pydata.org/pandas-docs/stable/user_guide/indexing.html#returning-a-view-versus-a-copy\n",
      "  colombiaRelleno.surface_covered[(colombiaRelleno.surface_covered.isnull()==True)&(colombiaRelleno.property_type.isin(['Lote'])==True)&(colombiaRelleno.clasificacion == 1)]=colombiaRelleno.surface_covered[(colombiaRelleno.property_type.isin(['Lote'])==True)&(colombiaRelleno.clasificacion == 1)].median()\n",
      "C:\\Users\\Nueva era\\AppData\\Local\\Temp\\ipykernel_8036\\1295855388.py:15: SettingWithCopyWarning: \n",
      "A value is trying to be set on a copy of a slice from a DataFrame\n",
      "\n",
      "See the caveats in the documentation: https://pandas.pydata.org/pandas-docs/stable/user_guide/indexing.html#returning-a-view-versus-a-copy\n",
      "  colombiaRelleno.surface_covered[(colombiaRelleno.surface_covered.isnull()==True)&(colombiaRelleno.property_type.isin(['Local comercial'])==True)&(colombiaRelleno.clasificacion == 0)]=colombiaRelleno.surface_covered[(colombiaRelleno.property_type.isin(['Local comercial'])==True)&(colombiaRelleno.clasificacion == 0)].median()\n",
      "C:\\Users\\Nueva era\\AppData\\Local\\Temp\\ipykernel_8036\\1295855388.py:16: SettingWithCopyWarning: \n",
      "A value is trying to be set on a copy of a slice from a DataFrame\n",
      "\n",
      "See the caveats in the documentation: https://pandas.pydata.org/pandas-docs/stable/user_guide/indexing.html#returning-a-view-versus-a-copy\n",
      "  colombiaRelleno.surface_covered[(colombiaRelleno.surface_covered.isnull()==True)&(colombiaRelleno.property_type.isin(['Local comercial'])==True)&(colombiaRelleno.clasificacion == 1)]=colombiaRelleno.surface_covered[(colombiaRelleno.property_type.isin(['Local comercial'])==True)&(colombiaRelleno.clasificacion == 1)].median()\n",
      "C:\\Users\\Nueva era\\AppData\\Local\\Temp\\ipykernel_8036\\1295855388.py:17: SettingWithCopyWarning: \n",
      "A value is trying to be set on a copy of a slice from a DataFrame\n",
      "\n",
      "See the caveats in the documentation: https://pandas.pydata.org/pandas-docs/stable/user_guide/indexing.html#returning-a-view-versus-a-copy\n",
      "  colombiaRelleno.surface_covered[(colombiaRelleno.surface_covered.isnull()==True)&(colombiaRelleno.property_type.isin(['Parqueadero'])==True)&(colombiaRelleno.clasificacion == 0)]=0\n",
      "C:\\Users\\Nueva era\\AppData\\Local\\Temp\\ipykernel_8036\\1295855388.py:18: SettingWithCopyWarning: \n",
      "A value is trying to be set on a copy of a slice from a DataFrame\n",
      "\n",
      "See the caveats in the documentation: https://pandas.pydata.org/pandas-docs/stable/user_guide/indexing.html#returning-a-view-versus-a-copy\n",
      "  colombiaRelleno.surface_covered[(colombiaRelleno.surface_covered.isnull()==True)&(colombiaRelleno.property_type.isin(['Parqueadero'])==True)&(colombiaRelleno.clasificacion == 1)]=colombiaRelleno.surface_covered[(colombiaRelleno.property_type.isin(['Parqueadero'])==True)&(colombiaRelleno.clasificacion == 1)].median()\n"
     ]
    }
   ],
   "source": [
    "'''#Se elige la medida de tendencia central mediana para completar los valores faltantes de la columna surface_total con respecto a la media ya que la columna tiene una gran varianza.\n",
    "\n",
    "colombiaRelleno.surface_covered[(colombiaRelleno.surface_covered.isnull()==True)&(colombiaRelleno.property_type.isin(['Casa'])==True)&(colombiaRelleno.clasificacion == 0)]=colombiaRelleno.surface_covered[(colombiaRelleno.property_type.isin(['Casa'])==True)&(colombiaRelleno.clasificacion == 0)].median()\n",
    "colombiaRelleno.surface_covered[(colombiaRelleno.surface_covered.isnull()==True)&(colombiaRelleno.property_type.isin(['Casa'])==True)&(colombiaRelleno.clasificacion == 1)]=colombiaRelleno.surface_covered[(colombiaRelleno.property_type.isin(['Casa'])==True)&(colombiaRelleno.clasificacion == 1)].median()\n",
    "colombiaRelleno.surface_covered[(colombiaRelleno.surface_covered.isnull()==True)&(colombiaRelleno.property_type.isin(['Apartamento'])==True)&(colombiaRelleno.clasificacion == 0)]=colombiaRelleno.surface_covered[(colombiaRelleno.property_type.isin(['Apartamento'])==True)&(colombiaRelleno.clasificacion == 0)].median()\n",
    "colombiaRelleno.surface_covered[(colombiaRelleno.surface_covered.isnull()==True)&(colombiaRelleno.property_type.isin(['Apartamento'])==True)&(colombiaRelleno.clasificacion == 1)]=colombiaRelleno.surface_covered[(colombiaRelleno.property_type.isin(['Apartamento'])==True)&(colombiaRelleno.clasificacion == 1)].median()\n",
    "colombiaRelleno.surface_covered[(colombiaRelleno.surface_covered.isnull()==True)&(colombiaRelleno.property_type.isin(['Otro'])==True)&(colombiaRelleno.clasificacion == 0)]=colombiaRelleno.surface_covered[(colombiaRelleno.property_type.isin(['Otro'])==True)&(colombiaRelleno.clasificacion == 0)].median()\n",
    "colombiaRelleno.surface_covered[(colombiaRelleno.surface_covered.isnull()==True)&(colombiaRelleno.property_type.isin(['Otro'])==True)&(colombiaRelleno.clasificacion == 1)]=colombiaRelleno.surface_covered[(colombiaRelleno.property_type.isin(['Otro'])==True)&(colombiaRelleno.clasificacion == 1)].median()\n",
    "colombiaRelleno.surface_covered[(colombiaRelleno.surface_covered.isnull()==True)&(colombiaRelleno.property_type.isin(['Oficina'])==True)&(colombiaRelleno.clasificacion == 0)]=colombiaRelleno.surface_covered[(colombiaRelleno.property_type.isin(['Oficina'])==True)&(colombiaRelleno.clasificacion == 0)].median()\n",
    "colombiaRelleno.surface_covered[(colombiaRelleno.surface_covered.isnull()==True)&(colombiaRelleno.property_type.isin(['Oficina'])==True)&(colombiaRelleno.clasificacion == 1)]=colombiaRelleno.surface_covered[(colombiaRelleno.property_type.isin(['Oficina'])==True)&(colombiaRelleno.clasificacion == 1)].median()\n",
    "colombiaRelleno.surface_covered[(colombiaRelleno.surface_covered.isnull()==True)&(colombiaRelleno.property_type.isin(['Finca'])==True)&(colombiaRelleno.clasificacion == 0)]=colombiaRelleno.surface_covered[(colombiaRelleno.property_type.isin(['Finca'])==True)&(colombiaRelleno.clasificacion == 0)].median()\n",
    "colombiaRelleno.surface_covered[(colombiaRelleno.surface_covered.isnull()==True)&(colombiaRelleno.property_type.isin(['Finca'])==True)&(colombiaRelleno.clasificacion == 1)]=colombiaRelleno.surface_covered[(colombiaRelleno.property_type.isin(['Finca'])==True)&(colombiaRelleno.clasificacion == 1)].median()\n",
    "colombiaRelleno.surface_covered[(colombiaRelleno.surface_covered.isnull()==True)&(colombiaRelleno.property_type.isin(['Lote'])==True)&(colombiaRelleno.clasificacion == 0)]=colombiaRelleno.surface_covered[(colombiaRelleno.property_type.isin(['Lote'])==True)&(colombiaRelleno.clasificacion == 0)].median()\n",
    "colombiaRelleno.surface_covered[(colombiaRelleno.surface_covered.isnull()==True)&(colombiaRelleno.property_type.isin(['Lote'])==True)&(colombiaRelleno.clasificacion == 1)]=colombiaRelleno.surface_covered[(colombiaRelleno.property_type.isin(['Lote'])==True)&(colombiaRelleno.clasificacion == 1)].median()\n",
    "colombiaRelleno.surface_covered[(colombiaRelleno.surface_covered.isnull()==True)&(colombiaRelleno.property_type.isin(['Local comercial'])==True)&(colombiaRelleno.clasificacion == 0)]=colombiaRelleno.surface_covered[(colombiaRelleno.property_type.isin(['Local comercial'])==True)&(colombiaRelleno.clasificacion == 0)].median()\n",
    "colombiaRelleno.surface_covered[(colombiaRelleno.surface_covered.isnull()==True)&(colombiaRelleno.property_type.isin(['Local comercial'])==True)&(colombiaRelleno.clasificacion == 1)]=colombiaRelleno.surface_covered[(colombiaRelleno.property_type.isin(['Local comercial'])==True)&(colombiaRelleno.clasificacion == 1)].median()\n",
    "colombiaRelleno.surface_covered[(colombiaRelleno.surface_covered.isnull()==True)&(colombiaRelleno.property_type.isin(['Parqueadero'])==True)&(colombiaRelleno.clasificacion == 0)]=0\n",
    "colombiaRelleno.surface_covered[(colombiaRelleno.surface_covered.isnull()==True)&(colombiaRelleno.property_type.isin(['Parqueadero'])==True)&(colombiaRelleno.clasificacion == 1)]=colombiaRelleno.surface_covered[(colombiaRelleno.property_type.isin(['Parqueadero'])==True)&(colombiaRelleno.clasificacion == 1)].median()'''"
   ]
  },
  {
   "cell_type": "code",
   "execution_count": 94,
   "metadata": {},
   "outputs": [],
   "source": [
    "#Se procede a crear solo un df con las columnas importantes y que tienen correlación con el target. A esto lo sabemos gracias al primer EDA realizado\n",
    "Relleno = pd.concat([colombiaRelleno.rooms, colombiaRelleno.bedrooms,colombiaRelleno.bathrooms,colombiaRelleno.surface_total, colombiaRelleno.property_type, colombiaRelleno.clasificacion],axis=1)"
   ]
  },
  {
   "cell_type": "code",
   "execution_count": 95,
   "metadata": {},
   "outputs": [],
   "source": [
    "#Se crean las columnas dummies a partir de la columna \"property_type\"\n",
    "Relleno = pd.get_dummies(Relleno, columns=['property_type'])"
   ]
  },
  {
   "cell_type": "code",
   "execution_count": 96,
   "metadata": {},
   "outputs": [
    {
     "data": {
      "text/html": [
       "<div>\n",
       "<style scoped>\n",
       "    .dataframe tbody tr th:only-of-type {\n",
       "        vertical-align: middle;\n",
       "    }\n",
       "\n",
       "    .dataframe tbody tr th {\n",
       "        vertical-align: top;\n",
       "    }\n",
       "\n",
       "    .dataframe thead th {\n",
       "        text-align: right;\n",
       "    }\n",
       "</style>\n",
       "<table border=\"1\" class=\"dataframe\">\n",
       "  <thead>\n",
       "    <tr style=\"text-align: right;\">\n",
       "      <th></th>\n",
       "      <th>rooms</th>\n",
       "      <th>bedrooms</th>\n",
       "      <th>bathrooms</th>\n",
       "      <th>surface_total</th>\n",
       "      <th>clasificacion</th>\n",
       "      <th>property_type_Apartamento</th>\n",
       "      <th>property_type_Casa</th>\n",
       "      <th>property_type_Finca</th>\n",
       "      <th>property_type_Local comercial</th>\n",
       "      <th>property_type_Lote</th>\n",
       "      <th>property_type_Oficina</th>\n",
       "      <th>property_type_Otro</th>\n",
       "      <th>property_type_Parqueadero</th>\n",
       "    </tr>\n",
       "  </thead>\n",
       "  <tbody>\n",
       "    <tr>\n",
       "      <th>rooms</th>\n",
       "      <td>1.000000</td>\n",
       "      <td>0.697852</td>\n",
       "      <td>0.396854</td>\n",
       "      <td>0.018922</td>\n",
       "      <td>0.413616</td>\n",
       "      <td>-0.257571</td>\n",
       "      <td>0.162928</td>\n",
       "      <td>0.098920</td>\n",
       "      <td>-0.066056</td>\n",
       "      <td>-0.269753</td>\n",
       "      <td>-0.106935</td>\n",
       "      <td>0.484473</td>\n",
       "      <td>-0.025919</td>\n",
       "    </tr>\n",
       "    <tr>\n",
       "      <th>bedrooms</th>\n",
       "      <td>0.697852</td>\n",
       "      <td>1.000000</td>\n",
       "      <td>0.411919</td>\n",
       "      <td>-0.189719</td>\n",
       "      <td>0.131604</td>\n",
       "      <td>0.036199</td>\n",
       "      <td>0.290007</td>\n",
       "      <td>0.082042</td>\n",
       "      <td>-0.157153</td>\n",
       "      <td>-0.659586</td>\n",
       "      <td>-0.141497</td>\n",
       "      <td>0.171795</td>\n",
       "      <td>-0.015672</td>\n",
       "    </tr>\n",
       "    <tr>\n",
       "      <th>bathrooms</th>\n",
       "      <td>0.396854</td>\n",
       "      <td>0.411919</td>\n",
       "      <td>1.000000</td>\n",
       "      <td>-0.004800</td>\n",
       "      <td>0.510273</td>\n",
       "      <td>-0.202711</td>\n",
       "      <td>0.308991</td>\n",
       "      <td>0.045634</td>\n",
       "      <td>-0.053283</td>\n",
       "      <td>-0.253523</td>\n",
       "      <td>-0.053020</td>\n",
       "      <td>0.122254</td>\n",
       "      <td>-0.013190</td>\n",
       "    </tr>\n",
       "    <tr>\n",
       "      <th>surface_total</th>\n",
       "      <td>0.018922</td>\n",
       "      <td>-0.189719</td>\n",
       "      <td>-0.004800</td>\n",
       "      <td>1.000000</td>\n",
       "      <td>0.214563</td>\n",
       "      <td>-0.189338</td>\n",
       "      <td>-0.056451</td>\n",
       "      <td>0.301392</td>\n",
       "      <td>-0.012059</td>\n",
       "      <td>0.373015</td>\n",
       "      <td>-0.013257</td>\n",
       "      <td>-0.012128</td>\n",
       "      <td>-0.000882</td>\n",
       "    </tr>\n",
       "    <tr>\n",
       "      <th>clasificacion</th>\n",
       "      <td>0.413616</td>\n",
       "      <td>0.131604</td>\n",
       "      <td>0.510273</td>\n",
       "      <td>0.214563</td>\n",
       "      <td>1.000000</td>\n",
       "      <td>-0.257345</td>\n",
       "      <td>0.074242</td>\n",
       "      <td>0.076004</td>\n",
       "      <td>0.042010</td>\n",
       "      <td>0.109690</td>\n",
       "      <td>0.026481</td>\n",
       "      <td>0.191512</td>\n",
       "      <td>0.002774</td>\n",
       "    </tr>\n",
       "    <tr>\n",
       "      <th>property_type_Apartamento</th>\n",
       "      <td>-0.257571</td>\n",
       "      <td>0.036199</td>\n",
       "      <td>-0.202711</td>\n",
       "      <td>-0.189338</td>\n",
       "      <td>-0.257345</td>\n",
       "      <td>1.000000</td>\n",
       "      <td>-0.676380</td>\n",
       "      <td>-0.077292</td>\n",
       "      <td>-0.081311</td>\n",
       "      <td>-0.307365</td>\n",
       "      <td>-0.075486</td>\n",
       "      <td>-0.307619</td>\n",
       "      <td>-0.007244</td>\n",
       "    </tr>\n",
       "    <tr>\n",
       "      <th>property_type_Casa</th>\n",
       "      <td>0.162928</td>\n",
       "      <td>0.290007</td>\n",
       "      <td>0.308991</td>\n",
       "      <td>-0.056451</td>\n",
       "      <td>0.074242</td>\n",
       "      <td>-0.676380</td>\n",
       "      <td>1.000000</td>\n",
       "      <td>-0.050453</td>\n",
       "      <td>-0.053076</td>\n",
       "      <td>-0.200634</td>\n",
       "      <td>-0.049274</td>\n",
       "      <td>-0.200800</td>\n",
       "      <td>-0.004729</td>\n",
       "    </tr>\n",
       "    <tr>\n",
       "      <th>property_type_Finca</th>\n",
       "      <td>0.098920</td>\n",
       "      <td>0.082042</td>\n",
       "      <td>0.045634</td>\n",
       "      <td>0.301392</td>\n",
       "      <td>0.076004</td>\n",
       "      <td>-0.077292</td>\n",
       "      <td>-0.050453</td>\n",
       "      <td>1.000000</td>\n",
       "      <td>-0.006065</td>\n",
       "      <td>-0.022927</td>\n",
       "      <td>-0.005631</td>\n",
       "      <td>-0.022946</td>\n",
       "      <td>-0.000540</td>\n",
       "    </tr>\n",
       "    <tr>\n",
       "      <th>property_type_Local comercial</th>\n",
       "      <td>-0.066056</td>\n",
       "      <td>-0.157153</td>\n",
       "      <td>-0.053283</td>\n",
       "      <td>-0.012059</td>\n",
       "      <td>0.042010</td>\n",
       "      <td>-0.081311</td>\n",
       "      <td>-0.053076</td>\n",
       "      <td>-0.006065</td>\n",
       "      <td>1.000000</td>\n",
       "      <td>-0.024119</td>\n",
       "      <td>-0.005923</td>\n",
       "      <td>-0.024139</td>\n",
       "      <td>-0.000568</td>\n",
       "    </tr>\n",
       "    <tr>\n",
       "      <th>property_type_Lote</th>\n",
       "      <td>-0.269753</td>\n",
       "      <td>-0.659586</td>\n",
       "      <td>-0.253523</td>\n",
       "      <td>0.373015</td>\n",
       "      <td>0.109690</td>\n",
       "      <td>-0.307365</td>\n",
       "      <td>-0.200634</td>\n",
       "      <td>-0.022927</td>\n",
       "      <td>-0.024119</td>\n",
       "      <td>1.000000</td>\n",
       "      <td>-0.022391</td>\n",
       "      <td>-0.091249</td>\n",
       "      <td>-0.002149</td>\n",
       "    </tr>\n",
       "    <tr>\n",
       "      <th>property_type_Oficina</th>\n",
       "      <td>-0.106935</td>\n",
       "      <td>-0.141497</td>\n",
       "      <td>-0.053020</td>\n",
       "      <td>-0.013257</td>\n",
       "      <td>0.026481</td>\n",
       "      <td>-0.075486</td>\n",
       "      <td>-0.049274</td>\n",
       "      <td>-0.005631</td>\n",
       "      <td>-0.005923</td>\n",
       "      <td>-0.022391</td>\n",
       "      <td>1.000000</td>\n",
       "      <td>-0.022410</td>\n",
       "      <td>-0.000528</td>\n",
       "    </tr>\n",
       "    <tr>\n",
       "      <th>property_type_Otro</th>\n",
       "      <td>0.484473</td>\n",
       "      <td>0.171795</td>\n",
       "      <td>0.122254</td>\n",
       "      <td>-0.012128</td>\n",
       "      <td>0.191512</td>\n",
       "      <td>-0.307619</td>\n",
       "      <td>-0.200800</td>\n",
       "      <td>-0.022946</td>\n",
       "      <td>-0.024139</td>\n",
       "      <td>-0.091249</td>\n",
       "      <td>-0.022410</td>\n",
       "      <td>1.000000</td>\n",
       "      <td>-0.002151</td>\n",
       "    </tr>\n",
       "    <tr>\n",
       "      <th>property_type_Parqueadero</th>\n",
       "      <td>-0.025919</td>\n",
       "      <td>-0.015672</td>\n",
       "      <td>-0.013190</td>\n",
       "      <td>-0.000882</td>\n",
       "      <td>0.002774</td>\n",
       "      <td>-0.007244</td>\n",
       "      <td>-0.004729</td>\n",
       "      <td>-0.000540</td>\n",
       "      <td>-0.000568</td>\n",
       "      <td>-0.002149</td>\n",
       "      <td>-0.000528</td>\n",
       "      <td>-0.002151</td>\n",
       "      <td>1.000000</td>\n",
       "    </tr>\n",
       "  </tbody>\n",
       "</table>\n",
       "</div>"
      ],
      "text/plain": [
       "                                  rooms  bedrooms  bathrooms  surface_total  \\\n",
       "rooms                          1.000000  0.697852   0.396854       0.018922   \n",
       "bedrooms                       0.697852  1.000000   0.411919      -0.189719   \n",
       "bathrooms                      0.396854  0.411919   1.000000      -0.004800   \n",
       "surface_total                  0.018922 -0.189719  -0.004800       1.000000   \n",
       "clasificacion                  0.413616  0.131604   0.510273       0.214563   \n",
       "property_type_Apartamento     -0.257571  0.036199  -0.202711      -0.189338   \n",
       "property_type_Casa             0.162928  0.290007   0.308991      -0.056451   \n",
       "property_type_Finca            0.098920  0.082042   0.045634       0.301392   \n",
       "property_type_Local comercial -0.066056 -0.157153  -0.053283      -0.012059   \n",
       "property_type_Lote            -0.269753 -0.659586  -0.253523       0.373015   \n",
       "property_type_Oficina         -0.106935 -0.141497  -0.053020      -0.013257   \n",
       "property_type_Otro             0.484473  0.171795   0.122254      -0.012128   \n",
       "property_type_Parqueadero     -0.025919 -0.015672  -0.013190      -0.000882   \n",
       "\n",
       "                               clasificacion  property_type_Apartamento  \\\n",
       "rooms                               0.413616                  -0.257571   \n",
       "bedrooms                            0.131604                   0.036199   \n",
       "bathrooms                           0.510273                  -0.202711   \n",
       "surface_total                       0.214563                  -0.189338   \n",
       "clasificacion                       1.000000                  -0.257345   \n",
       "property_type_Apartamento          -0.257345                   1.000000   \n",
       "property_type_Casa                  0.074242                  -0.676380   \n",
       "property_type_Finca                 0.076004                  -0.077292   \n",
       "property_type_Local comercial       0.042010                  -0.081311   \n",
       "property_type_Lote                  0.109690                  -0.307365   \n",
       "property_type_Oficina               0.026481                  -0.075486   \n",
       "property_type_Otro                  0.191512                  -0.307619   \n",
       "property_type_Parqueadero           0.002774                  -0.007244   \n",
       "\n",
       "                               property_type_Casa  property_type_Finca  \\\n",
       "rooms                                    0.162928             0.098920   \n",
       "bedrooms                                 0.290007             0.082042   \n",
       "bathrooms                                0.308991             0.045634   \n",
       "surface_total                           -0.056451             0.301392   \n",
       "clasificacion                            0.074242             0.076004   \n",
       "property_type_Apartamento               -0.676380            -0.077292   \n",
       "property_type_Casa                       1.000000            -0.050453   \n",
       "property_type_Finca                     -0.050453             1.000000   \n",
       "property_type_Local comercial           -0.053076            -0.006065   \n",
       "property_type_Lote                      -0.200634            -0.022927   \n",
       "property_type_Oficina                   -0.049274            -0.005631   \n",
       "property_type_Otro                      -0.200800            -0.022946   \n",
       "property_type_Parqueadero               -0.004729            -0.000540   \n",
       "\n",
       "                               property_type_Local comercial  \\\n",
       "rooms                                              -0.066056   \n",
       "bedrooms                                           -0.157153   \n",
       "bathrooms                                          -0.053283   \n",
       "surface_total                                      -0.012059   \n",
       "clasificacion                                       0.042010   \n",
       "property_type_Apartamento                          -0.081311   \n",
       "property_type_Casa                                 -0.053076   \n",
       "property_type_Finca                                -0.006065   \n",
       "property_type_Local comercial                       1.000000   \n",
       "property_type_Lote                                 -0.024119   \n",
       "property_type_Oficina                              -0.005923   \n",
       "property_type_Otro                                 -0.024139   \n",
       "property_type_Parqueadero                          -0.000568   \n",
       "\n",
       "                               property_type_Lote  property_type_Oficina  \\\n",
       "rooms                                   -0.269753              -0.106935   \n",
       "bedrooms                                -0.659586              -0.141497   \n",
       "bathrooms                               -0.253523              -0.053020   \n",
       "surface_total                            0.373015              -0.013257   \n",
       "clasificacion                            0.109690               0.026481   \n",
       "property_type_Apartamento               -0.307365              -0.075486   \n",
       "property_type_Casa                      -0.200634              -0.049274   \n",
       "property_type_Finca                     -0.022927              -0.005631   \n",
       "property_type_Local comercial           -0.024119              -0.005923   \n",
       "property_type_Lote                       1.000000              -0.022391   \n",
       "property_type_Oficina                   -0.022391               1.000000   \n",
       "property_type_Otro                      -0.091249              -0.022410   \n",
       "property_type_Parqueadero               -0.002149              -0.000528   \n",
       "\n",
       "                               property_type_Otro  property_type_Parqueadero  \n",
       "rooms                                    0.484473                  -0.025919  \n",
       "bedrooms                                 0.171795                  -0.015672  \n",
       "bathrooms                                0.122254                  -0.013190  \n",
       "surface_total                           -0.012128                  -0.000882  \n",
       "clasificacion                            0.191512                   0.002774  \n",
       "property_type_Apartamento               -0.307619                  -0.007244  \n",
       "property_type_Casa                      -0.200800                  -0.004729  \n",
       "property_type_Finca                     -0.022946                  -0.000540  \n",
       "property_type_Local comercial           -0.024139                  -0.000568  \n",
       "property_type_Lote                      -0.091249                  -0.002149  \n",
       "property_type_Oficina                   -0.022410                  -0.000528  \n",
       "property_type_Otro                       1.000000                  -0.002151  \n",
       "property_type_Parqueadero               -0.002151                   1.000000  "
      ]
     },
     "execution_count": 96,
     "metadata": {},
     "output_type": "execute_result"
    }
   ],
   "source": [
    "#Se hace una correlación para ver que variables tienen más peso sobre el target.\n",
    "Relleno.corr()"
   ]
  },
  {
   "cell_type": "code",
   "execution_count": 97,
   "metadata": {},
   "outputs": [],
   "source": [
    "#Se dejan las variables que tienen una correlación menor a -0.1 y mayor a 0.1 ya que serán nuestras features para realizar el modelo\n",
    "RellenoX = Relleno.drop(['property_type_Parqueadero','clasificacion','property_type_Casa','property_type_Finca','property_type_Local comercial','property_type_Oficina'], axis=1)"
   ]
  },
  {
   "cell_type": "code",
   "execution_count": 98,
   "metadata": {},
   "outputs": [],
   "source": [
    "#Se dejan estandarizadas las features para ayudar al modelado\n",
    "from sklearn.preprocessing import StandardScaler\n",
    "scaler = preprocessing.StandardScaler()\n",
    "scX = scaler.fit_transform(RellenoX)"
   ]
  },
  {
   "cell_type": "code",
   "execution_count": 99,
   "metadata": {},
   "outputs": [
    {
     "name": "stdout",
     "output_type": "stream",
     "text": [
      "(157979, 7) (157979,) (39495, 7) (39495,)\n"
     ]
    }
   ],
   "source": [
    "#Se dividen las features en la parte que se va a entrenar y en la cual se va a testear el modelo\n",
    "scX_train, scX_test, yR_train, yR_test = train_test_split(scX, y, test_size=0.20, random_state=42)\n",
    "\n",
    "print(scX_train.shape, yR_train.shape, scX_test.shape, yR_test.shape)"
   ]
  },
  {
   "cell_type": "code",
   "execution_count": 100,
   "metadata": {},
   "outputs": [],
   "source": [
    "#Se decide usar KNN ya que es el que mejor resultado dió en el primer EDA\n",
    "vecinoR = KNeighborsClassifier(n_neighbors=100, leaf_size= 300)"
   ]
  },
  {
   "cell_type": "code",
   "execution_count": 101,
   "metadata": {},
   "outputs": [
    {
     "data": {
      "text/html": [
       "<style>#sk-container-id-9 {color: black;background-color: white;}#sk-container-id-9 pre{padding: 0;}#sk-container-id-9 div.sk-toggleable {background-color: white;}#sk-container-id-9 label.sk-toggleable__label {cursor: pointer;display: block;width: 100%;margin-bottom: 0;padding: 0.3em;box-sizing: border-box;text-align: center;}#sk-container-id-9 label.sk-toggleable__label-arrow:before {content: \"▸\";float: left;margin-right: 0.25em;color: #696969;}#sk-container-id-9 label.sk-toggleable__label-arrow:hover:before {color: black;}#sk-container-id-9 div.sk-estimator:hover label.sk-toggleable__label-arrow:before {color: black;}#sk-container-id-9 div.sk-toggleable__content {max-height: 0;max-width: 0;overflow: hidden;text-align: left;background-color: #f0f8ff;}#sk-container-id-9 div.sk-toggleable__content pre {margin: 0.2em;color: black;border-radius: 0.25em;background-color: #f0f8ff;}#sk-container-id-9 input.sk-toggleable__control:checked~div.sk-toggleable__content {max-height: 200px;max-width: 100%;overflow: auto;}#sk-container-id-9 input.sk-toggleable__control:checked~label.sk-toggleable__label-arrow:before {content: \"▾\";}#sk-container-id-9 div.sk-estimator input.sk-toggleable__control:checked~label.sk-toggleable__label {background-color: #d4ebff;}#sk-container-id-9 div.sk-label input.sk-toggleable__control:checked~label.sk-toggleable__label {background-color: #d4ebff;}#sk-container-id-9 input.sk-hidden--visually {border: 0;clip: rect(1px 1px 1px 1px);clip: rect(1px, 1px, 1px, 1px);height: 1px;margin: -1px;overflow: hidden;padding: 0;position: absolute;width: 1px;}#sk-container-id-9 div.sk-estimator {font-family: monospace;background-color: #f0f8ff;border: 1px dotted black;border-radius: 0.25em;box-sizing: border-box;margin-bottom: 0.5em;}#sk-container-id-9 div.sk-estimator:hover {background-color: #d4ebff;}#sk-container-id-9 div.sk-parallel-item::after {content: \"\";width: 100%;border-bottom: 1px solid gray;flex-grow: 1;}#sk-container-id-9 div.sk-label:hover label.sk-toggleable__label {background-color: #d4ebff;}#sk-container-id-9 div.sk-serial::before {content: \"\";position: absolute;border-left: 1px solid gray;box-sizing: border-box;top: 0;bottom: 0;left: 50%;z-index: 0;}#sk-container-id-9 div.sk-serial {display: flex;flex-direction: column;align-items: center;background-color: white;padding-right: 0.2em;padding-left: 0.2em;position: relative;}#sk-container-id-9 div.sk-item {position: relative;z-index: 1;}#sk-container-id-9 div.sk-parallel {display: flex;align-items: stretch;justify-content: center;background-color: white;position: relative;}#sk-container-id-9 div.sk-item::before, #sk-container-id-9 div.sk-parallel-item::before {content: \"\";position: absolute;border-left: 1px solid gray;box-sizing: border-box;top: 0;bottom: 0;left: 50%;z-index: -1;}#sk-container-id-9 div.sk-parallel-item {display: flex;flex-direction: column;z-index: 1;position: relative;background-color: white;}#sk-container-id-9 div.sk-parallel-item:first-child::after {align-self: flex-end;width: 50%;}#sk-container-id-9 div.sk-parallel-item:last-child::after {align-self: flex-start;width: 50%;}#sk-container-id-9 div.sk-parallel-item:only-child::after {width: 0;}#sk-container-id-9 div.sk-dashed-wrapped {border: 1px dashed gray;margin: 0 0.4em 0.5em 0.4em;box-sizing: border-box;padding-bottom: 0.4em;background-color: white;}#sk-container-id-9 div.sk-label label {font-family: monospace;font-weight: bold;display: inline-block;line-height: 1.2em;}#sk-container-id-9 div.sk-label-container {text-align: center;}#sk-container-id-9 div.sk-container {/* jupyter's `normalize.less` sets `[hidden] { display: none; }` but bootstrap.min.css set `[hidden] { display: none !important; }` so we also need the `!important` here to be able to override the default hidden behavior on the sphinx rendered scikit-learn.org. See: https://github.com/scikit-learn/scikit-learn/issues/21755 */display: inline-block !important;position: relative;}#sk-container-id-9 div.sk-text-repr-fallback {display: none;}</style><div id=\"sk-container-id-9\" class=\"sk-top-container\"><div class=\"sk-text-repr-fallback\"><pre>KNeighborsClassifier(leaf_size=300, n_neighbors=100)</pre><b>In a Jupyter environment, please rerun this cell to show the HTML representation or trust the notebook. <br />On GitHub, the HTML representation is unable to render, please try loading this page with nbviewer.org.</b></div><div class=\"sk-container\" hidden><div class=\"sk-item\"><div class=\"sk-estimator sk-toggleable\"><input class=\"sk-toggleable__control sk-hidden--visually\" id=\"sk-estimator-id-9\" type=\"checkbox\" checked><label for=\"sk-estimator-id-9\" class=\"sk-toggleable__label sk-toggleable__label-arrow\">KNeighborsClassifier</label><div class=\"sk-toggleable__content\"><pre>KNeighborsClassifier(leaf_size=300, n_neighbors=100)</pre></div></div></div></div></div>"
      ],
      "text/plain": [
       "KNeighborsClassifier(leaf_size=300, n_neighbors=100)"
      ]
     },
     "execution_count": 101,
     "metadata": {},
     "output_type": "execute_result"
    }
   ],
   "source": [
    "#Se entrena el modelo\n",
    "vecinoR.fit(scX_train, yR_train)"
   ]
  },
  {
   "cell_type": "code",
   "execution_count": 102,
   "metadata": {},
   "outputs": [],
   "source": [
    "#Se hacen las predicciones\n",
    "y_train_pred_R = vecinoR.predict(scX_train) # subset de entrenamiento\n",
    "y_test_pred_R=vecinoR.predict(scX_test) #subset de testeo"
   ]
  },
  {
   "cell_type": "code",
   "execution_count": 103,
   "metadata": {},
   "outputs": [
    {
     "name": "stdout",
     "output_type": "stream",
     "text": [
      "El score del modelo es: 0.9904987371739282\n",
      "El score del modelo es: 0.99017597164198\n",
      "El recall del modelo es: 0.977839631731078\n",
      "              precision    recall  f1-score   support\n",
      "\n",
      "           0       0.99      0.99      0.99     30154\n",
      "           1       0.98      0.98      0.98      9341\n",
      "\n",
      "    accuracy                           0.99     39495\n",
      "   macro avg       0.99      0.99      0.99     39495\n",
      "weighted avg       0.99      0.99      0.99     39495\n",
      "\n"
     ]
    }
   ],
   "source": [
    "#Se mide que tal funciona el modelo\n",
    "print('El score del modelo es:', accuracy_score(y_train, y_train_pred_R))\n",
    "print('El score del modelo es:', accuracy_score(y_test, y_test_pred_R))\n",
    "print('El recall del modelo es:', recall_score(y_test, y_test_pred_R))\n",
    "print(classification_report(y_test, y_test_pred_R))"
   ]
  },
  {
   "cell_type": "code",
   "execution_count": 104,
   "metadata": {},
   "outputs": [
    {
     "data": {
      "image/png": "[encoded data removed]",
      "text/plain": [
       "<Figure size 864x576 with 1 Axes>"
      ]
     },
     "metadata": {
      "needs_background": "light"
     },
     "output_type": "display_data"
    }
   ],
   "source": [
    "# Se dibuja la matriz de confusión\n",
    "cm = confusion_matrix(yR_test, y_test_pred_R)\n",
    "\n",
    "fig, ax = plt.subplots(figsize=(12,8))\n",
    "ax.matshow(cm)\n",
    "plt.title('Matriz de Confusión', fontsize=20)\n",
    "plt.ylabel('Etiqueta Verdadera', fontsize=15)\n",
    "plt.xlabel('Etiqueta Predicha', fontsize=15)\n",
    "for (i, j), z in np.ndenumerate(cm):\n",
    "    ax.text(j, i, '{:0.1f}'.format(z), ha='center', va='center')"
   ]
  },
  {
   "cell_type": "markdown",
   "metadata": {},
   "source": [
    "Se llega a un buen Recall y accuracy, aunque puede deberse a que este overfitteado el modelo. Vamos a usar el dataframe \"ColombiaTest\" y luego en el dashboard ver las métricas para saber que tal funciona."
   ]
  },
  {
   "cell_type": "code",
   "execution_count": 111,
   "metadata": {},
   "outputs": [],
   "source": [
    "colombiaTest=pd.concat([colombiaTest.rooms,colombiaTest.bedrooms,colombiaTest.bathrooms,colombiaTest.surface_total,colombiaTest.property_type],axis=1)"
   ]
  },
  {
   "cell_type": "code",
   "execution_count": 117,
   "metadata": {},
   "outputs": [
    {
     "name": "stderr",
     "output_type": "stream",
     "text": [
      "C:\\Users\\Nueva era\\AppData\\Local\\Temp\\ipykernel_1460\\4176677472.py:1: SettingWithCopyWarning: \n",
      "A value is trying to be set on a copy of a slice from a DataFrame\n",
      "\n",
      "See the caveats in the documentation: https://pandas.pydata.org/pandas-docs/stable/user_guide/indexing.html#returning-a-view-versus-a-copy\n",
      "  colombiaTest.surface_total[(colombiaTest.surface_total.isnull()==True)&(colombiaTest.property_type.isin(['Casa'])==True)&(colombiaRelleno.clasificacion == 0)]=colombiaTest.surface_total[(colombiaTest.property_type.isin(['Casa'])==True)&(colombiaRelleno.clasificacion == 0)].median()\n",
      "C:\\Users\\Nueva era\\AppData\\Local\\Temp\\ipykernel_1460\\4176677472.py:2: SettingWithCopyWarning: \n",
      "A value is trying to be set on a copy of a slice from a DataFrame\n",
      "\n",
      "See the caveats in the documentation: https://pandas.pydata.org/pandas-docs/stable/user_guide/indexing.html#returning-a-view-versus-a-copy\n",
      "  colombiaTest.surface_total[(colombiaTest.surface_total.isnull()==True)&(colombiaTest.property_type.isin(['Casa'])==True)&(colombiaRelleno.clasificacion == 1)]=colombiaTest.surface_total[(colombiaTest.property_type.isin(['Casa'])==True)&(colombiaRelleno.clasificacion == 1)].median()\n",
      "C:\\Users\\Nueva era\\AppData\\Local\\Temp\\ipykernel_1460\\4176677472.py:3: SettingWithCopyWarning: \n",
      "A value is trying to be set on a copy of a slice from a DataFrame\n",
      "\n",
      "See the caveats in the documentation: https://pandas.pydata.org/pandas-docs/stable/user_guide/indexing.html#returning-a-view-versus-a-copy\n",
      "  colombiaTest.surface_total[(colombiaTest.surface_total.isnull()==True)&(colombiaTest.property_type.isin(['Apartamento'])==True)&(colombiaRelleno.clasificacion == 0)]=colombiaTest.surface_total[(colombiaTest.property_type.isin(['Apartamento'])==True)&(colombiaRelleno.clasificacion == 0)].median()\n",
      "C:\\Users\\Nueva era\\AppData\\Local\\Temp\\ipykernel_1460\\4176677472.py:4: SettingWithCopyWarning: \n",
      "A value is trying to be set on a copy of a slice from a DataFrame\n",
      "\n",
      "See the caveats in the documentation: https://pandas.pydata.org/pandas-docs/stable/user_guide/indexing.html#returning-a-view-versus-a-copy\n",
      "  colombiaTest.surface_total[(colombiaTest.surface_total.isnull()==True)&(colombiaTest.property_type.isin(['Apartamento'])==True)&(colombiaRelleno.clasificacion == 1)]=colombiaTest.surface_total[(colombiaTest.property_type.isin(['Apartamento'])==True)&(colombiaRelleno.clasificacion == 1)].median()\n",
      "C:\\Users\\Nueva era\\AppData\\Local\\Temp\\ipykernel_1460\\4176677472.py:5: SettingWithCopyWarning: \n",
      "A value is trying to be set on a copy of a slice from a DataFrame\n",
      "\n",
      "See the caveats in the documentation: https://pandas.pydata.org/pandas-docs/stable/user_guide/indexing.html#returning-a-view-versus-a-copy\n",
      "  colombiaTest.surface_total[(colombiaTest.surface_total.isnull()==True)&(colombiaTest.property_type.isin(['Otro'])==True)&(colombiaRelleno.clasificacion == 0)]=colombiaTest.surface_total[(colombiaTest.property_type.isin(['Otro'])==True)&(colombiaRelleno.clasificacion == 0)].median()\n",
      "C:\\Users\\Nueva era\\AppData\\Local\\Temp\\ipykernel_1460\\4176677472.py:6: SettingWithCopyWarning: \n",
      "A value is trying to be set on a copy of a slice from a DataFrame\n",
      "\n",
      "See the caveats in the documentation: https://pandas.pydata.org/pandas-docs/stable/user_guide/indexing.html#returning-a-view-versus-a-copy\n",
      "  colombiaTest.surface_total[(colombiaTest.surface_total.isnull()==True)&(colombiaTest.property_type.isin(['Otro'])==True)&(colombiaRelleno.clasificacion == 1)]=colombiaTest.surface_total[(colombiaTest.property_type.isin(['Otro'])==True)&(colombiaRelleno.clasificacion == 1)].median()\n",
      "C:\\Users\\Nueva era\\AppData\\Local\\Temp\\ipykernel_1460\\4176677472.py:7: SettingWithCopyWarning: \n",
      "A value is trying to be set on a copy of a slice from a DataFrame\n",
      "\n",
      "See the caveats in the documentation: https://pandas.pydata.org/pandas-docs/stable/user_guide/indexing.html#returning-a-view-versus-a-copy\n",
      "  colombiaTest.surface_total[(colombiaTest.surface_total.isnull()==True)&(colombiaTest.property_type.isin(['Oficina'])==True)&(colombiaRelleno.clasificacion == 0)]=colombiaTest.surface_total[(colombiaTest.property_type.isin(['Oficina'])==True)&(colombiaRelleno.clasificacion == 0)].median()\n",
      "C:\\Users\\Nueva era\\AppData\\Local\\Temp\\ipykernel_1460\\4176677472.py:8: SettingWithCopyWarning: \n",
      "A value is trying to be set on a copy of a slice from a DataFrame\n",
      "\n",
      "See the caveats in the documentation: https://pandas.pydata.org/pandas-docs/stable/user_guide/indexing.html#returning-a-view-versus-a-copy\n",
      "  colombiaTest.surface_total[(colombiaTest.surface_total.isnull()==True)&(colombiaTest.property_type.isin(['Oficina'])==True)&(colombiaRelleno.clasificacion == 1)]=colombiaTest.surface_total[(colombiaTest.property_type.isin(['Oficina'])==True)&(colombiaRelleno.clasificacion == 1)].median()\n",
      "C:\\Users\\Nueva era\\AppData\\Local\\Temp\\ipykernel_1460\\4176677472.py:9: SettingWithCopyWarning: \n",
      "A value is trying to be set on a copy of a slice from a DataFrame\n",
      "\n",
      "See the caveats in the documentation: https://pandas.pydata.org/pandas-docs/stable/user_guide/indexing.html#returning-a-view-versus-a-copy\n",
      "  colombiaTest.surface_total[(colombiaTest.surface_total.isnull()==True)&(colombiaTest.property_type.isin(['Finca'])==True)&(colombiaRelleno.clasificacion == 0)]=colombiaTest.surface_total[(colombiaTest.property_type.isin(['Finca'])==True)&(colombiaRelleno.clasificacion == 0)].median()\n",
      "C:\\Users\\Nueva era\\AppData\\Local\\Temp\\ipykernel_1460\\4176677472.py:10: SettingWithCopyWarning: \n",
      "A value is trying to be set on a copy of a slice from a DataFrame\n",
      "\n",
      "See the caveats in the documentation: https://pandas.pydata.org/pandas-docs/stable/user_guide/indexing.html#returning-a-view-versus-a-copy\n",
      "  colombiaTest.surface_total[(colombiaTest.surface_total.isnull()==True)&(colombiaTest.property_type.isin(['Finca'])==True)&(colombiaRelleno.clasificacion == 1)]=colombiaTest.surface_total[(colombiaTest.property_type.isin(['Finca'])==True)&(colombiaRelleno.clasificacion == 1)].median()\n",
      "C:\\Users\\Nueva era\\AppData\\Local\\Temp\\ipykernel_1460\\4176677472.py:11: SettingWithCopyWarning: \n",
      "A value is trying to be set on a copy of a slice from a DataFrame\n",
      "\n",
      "See the caveats in the documentation: https://pandas.pydata.org/pandas-docs/stable/user_guide/indexing.html#returning-a-view-versus-a-copy\n",
      "  colombiaTest.surface_total[(colombiaTest.surface_total.isnull()==True)&(colombiaTest.property_type.isin(['Lote'])==True)&(colombiaRelleno.clasificacion == 0)]=colombiaTest.surface_total[(colombiaTest.property_type.isin(['Lote'])==True)&(colombiaRelleno.clasificacion == 0)].median()\n",
      "C:\\Users\\Nueva era\\AppData\\Local\\Temp\\ipykernel_1460\\4176677472.py:12: SettingWithCopyWarning: \n",
      "A value is trying to be set on a copy of a slice from a DataFrame\n",
      "\n",
      "See the caveats in the documentation: https://pandas.pydata.org/pandas-docs/stable/user_guide/indexing.html#returning-a-view-versus-a-copy\n",
      "  colombiaTest.surface_total[(colombiaTest.surface_total.isnull()==True)&(colombiaTest.property_type.isin(['Lote'])==True)&(colombiaRelleno.clasificacion == 1)]=colombiaTest.surface_total[(colombiaTest.property_type.isin(['Lote'])==True)&(colombiaRelleno.clasificacion == 1)].median()\n",
      "C:\\Users\\Nueva era\\AppData\\Local\\Temp\\ipykernel_1460\\4176677472.py:13: SettingWithCopyWarning: \n",
      "A value is trying to be set on a copy of a slice from a DataFrame\n",
      "\n",
      "See the caveats in the documentation: https://pandas.pydata.org/pandas-docs/stable/user_guide/indexing.html#returning-a-view-versus-a-copy\n",
      "  colombiaTest.surface_total[(colombiaTest.surface_total.isnull()==True)&(colombiaTest.property_type.isin(['Local comercial'])==True)&(colombiaRelleno.clasificacion == 0)]=colombiaTest.surface_total[(colombiaTest.property_type.isin(['Local comercial'])==True)&(colombiaRelleno.clasificacion == 0)].median()\n",
      "C:\\Users\\Nueva era\\AppData\\Local\\Temp\\ipykernel_1460\\4176677472.py:14: SettingWithCopyWarning: \n",
      "A value is trying to be set on a copy of a slice from a DataFrame\n",
      "\n",
      "See the caveats in the documentation: https://pandas.pydata.org/pandas-docs/stable/user_guide/indexing.html#returning-a-view-versus-a-copy\n",
      "  colombiaTest.surface_total[(colombiaTest.surface_total.isnull()==True)&(colombiaTest.property_type.isin(['Local comercial'])==True)&(colombiaRelleno.clasificacion == 1)]=colombiaTest.surface_total[(colombiaTest.property_type.isin(['Local comercial'])==True)&(colombiaRelleno.clasificacion == 1)].median()\n",
      "C:\\Users\\Nueva era\\AppData\\Local\\Temp\\ipykernel_1460\\4176677472.py:15: SettingWithCopyWarning: \n",
      "A value is trying to be set on a copy of a slice from a DataFrame\n",
      "\n",
      "See the caveats in the documentation: https://pandas.pydata.org/pandas-docs/stable/user_guide/indexing.html#returning-a-view-versus-a-copy\n",
      "  colombiaTest.surface_total[(colombiaTest.surface_total.isnull()==True)&(colombiaTest.property_type.isin(['Parqueadero'])==True)&(colombiaRelleno.clasificacion == 0)]=0\n",
      "C:\\Users\\Nueva era\\AppData\\Local\\Temp\\ipykernel_1460\\4176677472.py:16: SettingWithCopyWarning: \n",
      "A value is trying to be set on a copy of a slice from a DataFrame\n",
      "\n",
      "See the caveats in the documentation: https://pandas.pydata.org/pandas-docs/stable/user_guide/indexing.html#returning-a-view-versus-a-copy\n",
      "  colombiaTest.surface_total[(colombiaTest.surface_total.isnull()==True)&(colombiaTest.property_type.isin(['Parqueadero'])==True)&(colombiaRelleno.clasificacion == 1)]=colombiaTest.surface_total[(colombiaTest.property_type.isin(['Parqueadero'])==True)&(colombiaRelleno.clasificacion == 1)].median()\n"
     ]
    }
   ],
   "source": [
    "colombiaTest.surface_total[(colombiaTest.surface_total.isnull()==True)&(colombiaTest.property_type.isin(['Casa'])==True)&(colombiaRelleno.clasificacion == 0)]=colombiaTest.surface_total[(colombiaTest.property_type.isin(['Casa'])==True)&(colombiaRelleno.clasificacion == 0)].median()\n",
    "colombiaTest.surface_total[(colombiaTest.surface_total.isnull()==True)&(colombiaTest.property_type.isin(['Casa'])==True)&(colombiaRelleno.clasificacion == 1)]=colombiaTest.surface_total[(colombiaTest.property_type.isin(['Casa'])==True)&(colombiaRelleno.clasificacion == 1)].median()\n",
    "colombiaTest.surface_total[(colombiaTest.surface_total.isnull()==True)&(colombiaTest.property_type.isin(['Apartamento'])==True)&(colombiaRelleno.clasificacion == 0)]=colombiaTest.surface_total[(colombiaTest.property_type.isin(['Apartamento'])==True)&(colombiaRelleno.clasificacion == 0)].median()\n",
    "colombiaTest.surface_total[(colombiaTest.surface_total.isnull()==True)&(colombiaTest.property_type.isin(['Apartamento'])==True)&(colombiaRelleno.clasificacion == 1)]=colombiaTest.surface_total[(colombiaTest.property_type.isin(['Apartamento'])==True)&(colombiaRelleno.clasificacion == 1)].median()\n",
    "colombiaTest.surface_total[(colombiaTest.surface_total.isnull()==True)&(colombiaTest.property_type.isin(['Otro'])==True)&(colombiaRelleno.clasificacion == 0)]=colombiaTest.surface_total[(colombiaTest.property_type.isin(['Otro'])==True)&(colombiaRelleno.clasificacion == 0)].median()\n",
    "colombiaTest.surface_total[(colombiaTest.surface_total.isnull()==True)&(colombiaTest.property_type.isin(['Otro'])==True)&(colombiaRelleno.clasificacion == 1)]=colombiaTest.surface_total[(colombiaTest.property_type.isin(['Otro'])==True)&(colombiaRelleno.clasificacion == 1)].median()\n",
    "colombiaTest.surface_total[(colombiaTest.surface_total.isnull()==True)&(colombiaTest.property_type.isin(['Oficina'])==True)&(colombiaRelleno.clasificacion == 0)]=colombiaTest.surface_total[(colombiaTest.property_type.isin(['Oficina'])==True)&(colombiaRelleno.clasificacion == 0)].median()\n",
    "colombiaTest.surface_total[(colombiaTest.surface_total.isnull()==True)&(colombiaTest.property_type.isin(['Oficina'])==True)&(colombiaRelleno.clasificacion == 1)]=colombiaTest.surface_total[(colombiaTest.property_type.isin(['Oficina'])==True)&(colombiaRelleno.clasificacion == 1)].median()\n",
    "colombiaTest.surface_total[(colombiaTest.surface_total.isnull()==True)&(colombiaTest.property_type.isin(['Finca'])==True)&(colombiaRelleno.clasificacion == 0)]=colombiaTest.surface_total[(colombiaTest.property_type.isin(['Finca'])==True)&(colombiaRelleno.clasificacion == 0)].median()\n",
    "colombiaTest.surface_total[(colombiaTest.surface_total.isnull()==True)&(colombiaTest.property_type.isin(['Finca'])==True)&(colombiaRelleno.clasificacion == 1)]=colombiaTest.surface_total[(colombiaTest.property_type.isin(['Finca'])==True)&(colombiaRelleno.clasificacion == 1)].median()\n",
    "colombiaTest.surface_total[(colombiaTest.surface_total.isnull()==True)&(colombiaTest.property_type.isin(['Lote'])==True)&(colombiaRelleno.clasificacion == 0)]=colombiaTest.surface_total[(colombiaTest.property_type.isin(['Lote'])==True)&(colombiaRelleno.clasificacion == 0)].median()\n",
    "colombiaTest.surface_total[(colombiaTest.surface_total.isnull()==True)&(colombiaTest.property_type.isin(['Lote'])==True)&(colombiaRelleno.clasificacion == 1)]=colombiaTest.surface_total[(colombiaTest.property_type.isin(['Lote'])==True)&(colombiaRelleno.clasificacion == 1)].median()\n",
    "colombiaTest.surface_total[(colombiaTest.surface_total.isnull()==True)&(colombiaTest.property_type.isin(['Local comercial'])==True)&(colombiaRelleno.clasificacion == 0)]=colombiaTest.surface_total[(colombiaTest.property_type.isin(['Local comercial'])==True)&(colombiaRelleno.clasificacion == 0)].median()\n",
    "colombiaTest.surface_total[(colombiaTest.surface_total.isnull()==True)&(colombiaTest.property_type.isin(['Local comercial'])==True)&(colombiaRelleno.clasificacion == 1)]=colombiaTest.surface_total[(colombiaTest.property_type.isin(['Local comercial'])==True)&(colombiaRelleno.clasificacion == 1)].median()\n",
    "colombiaTest.surface_total[(colombiaTest.surface_total.isnull()==True)&(colombiaTest.property_type.isin(['Parqueadero'])==True)&(colombiaRelleno.clasificacion == 0)]=0\n",
    "colombiaTest.surface_total[(colombiaTest.surface_total.isnull()==True)&(colombiaTest.property_type.isin(['Parqueadero'])==True)&(colombiaRelleno.clasificacion == 1)]=colombiaTest.surface_total[(colombiaTest.property_type.isin(['Parqueadero'])==True)&(colombiaRelleno.clasificacion == 1)].median()"
   ]
  },
  {
   "cell_type": "code",
   "execution_count": 121,
   "metadata": {},
   "outputs": [
    {
     "name": "stderr",
     "output_type": "stream",
     "text": [
      "C:\\Users\\Nueva era\\AppData\\Local\\Temp\\ipykernel_1460\\658190857.py:1: SettingWithCopyWarning: \n",
      "A value is trying to be set on a copy of a slice from a DataFrame\n",
      "\n",
      "See the caveats in the documentation: https://pandas.pydata.org/pandas-docs/stable/user_guide/indexing.html#returning-a-view-versus-a-copy\n",
      "  colombiaTest.rooms[(colombiaTest.rooms.isnull()==True)&(colombiaTest.property_type.isin(['Casa'])==True)&(colombiaRelleno.clasificacion == 0)]=colombiaTest.rooms[(colombiaTest.property_type.isin(['Casa'])==True)&(colombiaRelleno.clasificacion == 0)].median()\n",
      "C:\\Users\\Nueva era\\AppData\\Local\\Temp\\ipykernel_1460\\658190857.py:2: SettingWithCopyWarning: \n",
      "A value is trying to be set on a copy of a slice from a DataFrame\n",
      "\n",
      "See the caveats in the documentation: https://pandas.pydata.org/pandas-docs/stable/user_guide/indexing.html#returning-a-view-versus-a-copy\n",
      "  colombiaTest.rooms[(colombiaTest.rooms.isnull()==True)&(colombiaTest.property_type.isin(['Casa'])==True)&(colombiaRelleno.clasificacion == 1)]=colombiaTest.rooms[(colombiaTest.property_type.isin(['Casa'])==True)&(colombiaRelleno.clasificacion == 1)].median()\n",
      "C:\\Users\\Nueva era\\AppData\\Local\\Temp\\ipykernel_1460\\658190857.py:3: SettingWithCopyWarning: \n",
      "A value is trying to be set on a copy of a slice from a DataFrame\n",
      "\n",
      "See the caveats in the documentation: https://pandas.pydata.org/pandas-docs/stable/user_guide/indexing.html#returning-a-view-versus-a-copy\n",
      "  colombiaTest.rooms[(colombiaTest.rooms.isnull()==True)&(colombiaTest.property_type.isin(['Apartamento'])==True)&(colombiaRelleno.clasificacion == 0)]=colombiaTest.rooms[(colombiaTest.property_type.isin(['Apartamento'])==True)&(colombiaRelleno.clasificacion == 0)].median()\n",
      "C:\\Users\\Nueva era\\AppData\\Local\\Temp\\ipykernel_1460\\658190857.py:4: SettingWithCopyWarning: \n",
      "A value is trying to be set on a copy of a slice from a DataFrame\n",
      "\n",
      "See the caveats in the documentation: https://pandas.pydata.org/pandas-docs/stable/user_guide/indexing.html#returning-a-view-versus-a-copy\n",
      "  colombiaTest.rooms[(colombiaTest.rooms.isnull()==True)&(colombiaTest.property_type.isin(['Apartamento'])==True)&(colombiaRelleno.clasificacion == 1)]=colombiaTest.rooms[(colombiaTest.property_type.isin(['Apartamento'])==True)&(colombiaRelleno.clasificacion == 1)].median()\n",
      "C:\\Users\\Nueva era\\AppData\\Local\\Temp\\ipykernel_1460\\658190857.py:5: SettingWithCopyWarning: \n",
      "A value is trying to be set on a copy of a slice from a DataFrame\n",
      "\n",
      "See the caveats in the documentation: https://pandas.pydata.org/pandas-docs/stable/user_guide/indexing.html#returning-a-view-versus-a-copy\n",
      "  colombiaTest.rooms[(colombiaTest.rooms.isnull()==True)&(colombiaTest.property_type.isin(['Otro'])==True)&(colombiaRelleno.clasificacion == 0)]=colombiaTest.rooms[(colombiaTest.property_type.isin(['Otro'])==True)&(colombiaRelleno.clasificacion == 0)].median()\n",
      "C:\\Users\\Nueva era\\AppData\\Local\\Temp\\ipykernel_1460\\658190857.py:6: SettingWithCopyWarning: \n",
      "A value is trying to be set on a copy of a slice from a DataFrame\n",
      "\n",
      "See the caveats in the documentation: https://pandas.pydata.org/pandas-docs/stable/user_guide/indexing.html#returning-a-view-versus-a-copy\n",
      "  colombiaTest.rooms[(colombiaTest.rooms.isnull()==True)&(colombiaTest.property_type.isin(['Otro'])==True)&(colombiaRelleno.clasificacion == 1)]=colombiaTest.rooms[(colombiaTest.property_type.isin(['Otro'])==True)&(colombiaRelleno.clasificacion == 1)].median()\n",
      "C:\\Users\\Nueva era\\AppData\\Local\\Temp\\ipykernel_1460\\658190857.py:7: SettingWithCopyWarning: \n",
      "A value is trying to be set on a copy of a slice from a DataFrame\n",
      "\n",
      "See the caveats in the documentation: https://pandas.pydata.org/pandas-docs/stable/user_guide/indexing.html#returning-a-view-versus-a-copy\n",
      "  colombiaTest.rooms[(colombiaTest.rooms.isnull()==True)&(colombiaTest.property_type.isin(['Oficina'])==True)&(colombiaRelleno.clasificacion == 0)]=colombiaTest.rooms[(colombiaTest.property_type.isin(['Oficina'])==True)&(colombiaRelleno.clasificacion == 0)].median()\n",
      "C:\\Users\\Nueva era\\AppData\\Local\\Temp\\ipykernel_1460\\658190857.py:8: SettingWithCopyWarning: \n",
      "A value is trying to be set on a copy of a slice from a DataFrame\n",
      "\n",
      "See the caveats in the documentation: https://pandas.pydata.org/pandas-docs/stable/user_guide/indexing.html#returning-a-view-versus-a-copy\n",
      "  colombiaTest.rooms[(colombiaTest.rooms.isnull()==True)&(colombiaTest.property_type.isin(['Oficina'])==True)&(colombiaRelleno.clasificacion == 1)]=colombiaTest.rooms[(colombiaTest.property_type.isin(['Oficina'])==True)&(colombiaRelleno.clasificacion == 1)].median()\n",
      "C:\\Users\\Nueva era\\AppData\\Local\\Temp\\ipykernel_1460\\658190857.py:9: SettingWithCopyWarning: \n",
      "A value is trying to be set on a copy of a slice from a DataFrame\n",
      "\n",
      "See the caveats in the documentation: https://pandas.pydata.org/pandas-docs/stable/user_guide/indexing.html#returning-a-view-versus-a-copy\n",
      "  colombiaTest.rooms[(colombiaTest.rooms.isnull()==True)&(colombiaTest.property_type.isin(['Finca'])==True)&(colombiaRelleno.clasificacion == 0)]=colombiaTest.rooms[(colombiaTest.property_type.isin(['Finca'])==True)&(colombiaRelleno.clasificacion == 0)].median()\n",
      "C:\\Users\\Nueva era\\AppData\\Local\\Temp\\ipykernel_1460\\658190857.py:10: SettingWithCopyWarning: \n",
      "A value is trying to be set on a copy of a slice from a DataFrame\n",
      "\n",
      "See the caveats in the documentation: https://pandas.pydata.org/pandas-docs/stable/user_guide/indexing.html#returning-a-view-versus-a-copy\n",
      "  colombiaTest.rooms[(colombiaTest.rooms.isnull()==True)&(colombiaTest.property_type.isin(['Finca'])==True)&(colombiaRelleno.clasificacion == 1)]=colombiaTest.rooms[(colombiaTest.property_type.isin(['Finca'])==True)&(colombiaRelleno.clasificacion == 1)].median()\n",
      "C:\\Users\\Nueva era\\AppData\\Local\\Temp\\ipykernel_1460\\658190857.py:11: SettingWithCopyWarning: \n",
      "A value is trying to be set on a copy of a slice from a DataFrame\n",
      "\n",
      "See the caveats in the documentation: https://pandas.pydata.org/pandas-docs/stable/user_guide/indexing.html#returning-a-view-versus-a-copy\n",
      "  colombiaTest.rooms[(colombiaTest.rooms.isnull()==True)&(colombiaTest.property_type.isin(['Lote'])==True)&(colombiaRelleno.clasificacion == 0)]=colombiaTest.rooms[(colombiaTest.property_type.isin(['Lote'])==True)&(colombiaRelleno.clasificacion == 0)].median()\n",
      "C:\\Users\\Nueva era\\AppData\\Local\\Temp\\ipykernel_1460\\658190857.py:12: SettingWithCopyWarning: \n",
      "A value is trying to be set on a copy of a slice from a DataFrame\n",
      "\n",
      "See the caveats in the documentation: https://pandas.pydata.org/pandas-docs/stable/user_guide/indexing.html#returning-a-view-versus-a-copy\n",
      "  colombiaTest.rooms[(colombiaTest.rooms.isnull()==True)&(colombiaTest.property_type.isin(['Lote'])==True)&(colombiaRelleno.clasificacion == 1)]=colombiaTest.rooms[(colombiaTest.property_type.isin(['Lote'])==True)&(colombiaRelleno.clasificacion == 1)].median()\n",
      "C:\\Users\\Nueva era\\AppData\\Local\\Temp\\ipykernel_1460\\658190857.py:13: SettingWithCopyWarning: \n",
      "A value is trying to be set on a copy of a slice from a DataFrame\n",
      "\n",
      "See the caveats in the documentation: https://pandas.pydata.org/pandas-docs/stable/user_guide/indexing.html#returning-a-view-versus-a-copy\n",
      "  colombiaTest.rooms[(colombiaTest.rooms.isnull()==True)&(colombiaTest.property_type.isin(['Local comercial'])==True)&(colombiaRelleno.clasificacion == 0)]=colombiaTest.rooms[(colombiaTest.property_type.isin(['Local comercial'])==True)&(colombiaRelleno.clasificacion == 0)].median()\n",
      "C:\\Users\\Nueva era\\AppData\\Local\\Temp\\ipykernel_1460\\658190857.py:14: SettingWithCopyWarning: \n",
      "A value is trying to be set on a copy of a slice from a DataFrame\n",
      "\n",
      "See the caveats in the documentation: https://pandas.pydata.org/pandas-docs/stable/user_guide/indexing.html#returning-a-view-versus-a-copy\n",
      "  colombiaTest.rooms[(colombiaTest.rooms.isnull()==True)&(colombiaTest.property_type.isin(['Local comercial'])==True)&(colombiaRelleno.clasificacion == 1)]=colombiaTest.rooms[(colombiaTest.property_type.isin(['Local comercial'])==True)&(colombiaRelleno.clasificacion == 1)].median()\n",
      "C:\\Users\\Nueva era\\AppData\\Local\\Temp\\ipykernel_1460\\658190857.py:15: SettingWithCopyWarning: \n",
      "A value is trying to be set on a copy of a slice from a DataFrame\n",
      "\n",
      "See the caveats in the documentation: https://pandas.pydata.org/pandas-docs/stable/user_guide/indexing.html#returning-a-view-versus-a-copy\n",
      "  colombiaTest.rooms[(colombiaTest.rooms.isnull()==True)&(colombiaTest.property_type.isin(['Parqueadero'])==True)&(colombiaRelleno.clasificacion == 0)]=0\n",
      "C:\\Users\\Nueva era\\AppData\\Roaming\\Python\\Python310\\site-packages\\numpy\\lib\\nanfunctions.py:1215: RuntimeWarning: Mean of empty slice\n",
      "  return np.nanmean(a, axis, out=out, keepdims=keepdims)\n",
      "C:\\Users\\Nueva era\\AppData\\Local\\Temp\\ipykernel_1460\\658190857.py:16: SettingWithCopyWarning: \n",
      "A value is trying to be set on a copy of a slice from a DataFrame\n",
      "\n",
      "See the caveats in the documentation: https://pandas.pydata.org/pandas-docs/stable/user_guide/indexing.html#returning-a-view-versus-a-copy\n",
      "  colombiaTest.rooms[(colombiaTest.rooms.isnull()==True)&(colombiaTest.property_type.isin(['Parqueadero'])==True)&(colombiaRelleno.clasificacion == 1)]=colombiaTest.rooms[(colombiaTest.property_type.isin(['Parqueadero'])==True)&(colombiaRelleno.clasificacion == 1)].median()\n"
     ]
    }
   ],
   "source": [
    "colombiaTest.rooms[(colombiaTest.rooms.isnull()==True)&(colombiaTest.property_type.isin(['Casa'])==True)&(colombiaRelleno.clasificacion == 0)]=colombiaTest.rooms[(colombiaTest.property_type.isin(['Casa'])==True)&(colombiaRelleno.clasificacion == 0)].median()\n",
    "colombiaTest.rooms[(colombiaTest.rooms.isnull()==True)&(colombiaTest.property_type.isin(['Casa'])==True)&(colombiaRelleno.clasificacion == 1)]=colombiaTest.rooms[(colombiaTest.property_type.isin(['Casa'])==True)&(colombiaRelleno.clasificacion == 1)].median()\n",
    "colombiaTest.rooms[(colombiaTest.rooms.isnull()==True)&(colombiaTest.property_type.isin(['Apartamento'])==True)&(colombiaRelleno.clasificacion == 0)]=colombiaTest.rooms[(colombiaTest.property_type.isin(['Apartamento'])==True)&(colombiaRelleno.clasificacion == 0)].median()\n",
    "colombiaTest.rooms[(colombiaTest.rooms.isnull()==True)&(colombiaTest.property_type.isin(['Apartamento'])==True)&(colombiaRelleno.clasificacion == 1)]=colombiaTest.rooms[(colombiaTest.property_type.isin(['Apartamento'])==True)&(colombiaRelleno.clasificacion == 1)].median()\n",
    "colombiaTest.rooms[(colombiaTest.rooms.isnull()==True)&(colombiaTest.property_type.isin(['Otro'])==True)&(colombiaRelleno.clasificacion == 0)]=colombiaTest.rooms[(colombiaTest.property_type.isin(['Otro'])==True)&(colombiaRelleno.clasificacion == 0)].median()\n",
    "colombiaTest.rooms[(colombiaTest.rooms.isnull()==True)&(colombiaTest.property_type.isin(['Otro'])==True)&(colombiaRelleno.clasificacion == 1)]=colombiaTest.rooms[(colombiaTest.property_type.isin(['Otro'])==True)&(colombiaRelleno.clasificacion == 1)].median()\n",
    "colombiaTest.rooms[(colombiaTest.rooms.isnull()==True)&(colombiaTest.property_type.isin(['Oficina'])==True)&(colombiaRelleno.clasificacion == 0)]=colombiaTest.rooms[(colombiaTest.property_type.isin(['Oficina'])==True)&(colombiaRelleno.clasificacion == 0)].median()\n",
    "colombiaTest.rooms[(colombiaTest.rooms.isnull()==True)&(colombiaTest.property_type.isin(['Oficina'])==True)&(colombiaRelleno.clasificacion == 1)]=colombiaTest.rooms[(colombiaTest.property_type.isin(['Oficina'])==True)&(colombiaRelleno.clasificacion == 1)].median()\n",
    "colombiaTest.rooms[(colombiaTest.rooms.isnull()==True)&(colombiaTest.property_type.isin(['Finca'])==True)&(colombiaRelleno.clasificacion == 0)]=colombiaTest.rooms[(colombiaTest.property_type.isin(['Finca'])==True)&(colombiaRelleno.clasificacion == 0)].median()\n",
    "colombiaTest.rooms[(colombiaTest.rooms.isnull()==True)&(colombiaTest.property_type.isin(['Finca'])==True)&(colombiaRelleno.clasificacion == 1)]=colombiaTest.rooms[(colombiaTest.property_type.isin(['Finca'])==True)&(colombiaRelleno.clasificacion == 1)].median()\n",
    "colombiaTest.rooms[(colombiaTest.rooms.isnull()==True)&(colombiaTest.property_type.isin(['Lote'])==True)&(colombiaRelleno.clasificacion == 0)]=colombiaTest.rooms[(colombiaTest.property_type.isin(['Lote'])==True)&(colombiaRelleno.clasificacion == 0)].median()\n",
    "colombiaTest.rooms[(colombiaTest.rooms.isnull()==True)&(colombiaTest.property_type.isin(['Lote'])==True)&(colombiaRelleno.clasificacion == 1)]=colombiaTest.rooms[(colombiaTest.property_type.isin(['Lote'])==True)&(colombiaRelleno.clasificacion == 1)].median()\n",
    "colombiaTest.rooms[(colombiaTest.rooms.isnull()==True)&(colombiaTest.property_type.isin(['Local comercial'])==True)&(colombiaRelleno.clasificacion == 0)]=colombiaTest.rooms[(colombiaTest.property_type.isin(['Local comercial'])==True)&(colombiaRelleno.clasificacion == 0)].median()\n",
    "colombiaTest.rooms[(colombiaTest.rooms.isnull()==True)&(colombiaTest.property_type.isin(['Local comercial'])==True)&(colombiaRelleno.clasificacion == 1)]=colombiaTest.rooms[(colombiaTest.property_type.isin(['Local comercial'])==True)&(colombiaRelleno.clasificacion == 1)].median()\n",
    "colombiaTest.rooms[(colombiaTest.rooms.isnull()==True)&(colombiaTest.property_type.isin(['Parqueadero'])==True)&(colombiaRelleno.clasificacion == 0)]=0\n",
    "colombiaTest.rooms[(colombiaTest.rooms.isnull()==True)&(colombiaTest.property_type.isin(['Parqueadero'])==True)&(colombiaRelleno.clasificacion == 1)]=colombiaTest.rooms[(colombiaTest.property_type.isin(['Parqueadero'])==True)&(colombiaRelleno.clasificacion == 1)].median()"
   ]
  },
  {
   "cell_type": "code",
   "execution_count": 122,
   "metadata": {},
   "outputs": [
    {
     "name": "stderr",
     "output_type": "stream",
     "text": [
      "C:\\Users\\Nueva era\\AppData\\Local\\Temp\\ipykernel_1460\\1054705283.py:1: SettingWithCopyWarning: \n",
      "A value is trying to be set on a copy of a slice from a DataFrame\n",
      "\n",
      "See the caveats in the documentation: https://pandas.pydata.org/pandas-docs/stable/user_guide/indexing.html#returning-a-view-versus-a-copy\n",
      "  colombiaTest.bedrooms[(colombiaTest.bedrooms.isnull()==True)&(colombiaTest.property_type.isin(['Casa'])==True)&(colombiaRelleno.clasificacion == 0)]=colombiaTest.bedrooms[(colombiaTest.property_type.isin(['Casa'])==True)&(colombiaRelleno.clasificacion == 0)].median()\n",
      "C:\\Users\\Nueva era\\AppData\\Local\\Temp\\ipykernel_1460\\1054705283.py:2: SettingWithCopyWarning: \n",
      "A value is trying to be set on a copy of a slice from a DataFrame\n",
      "\n",
      "See the caveats in the documentation: https://pandas.pydata.org/pandas-docs/stable/user_guide/indexing.html#returning-a-view-versus-a-copy\n",
      "  colombiaTest.bedrooms[(colombiaTest.bedrooms.isnull()==True)&(colombiaTest.property_type.isin(['Casa'])==True)&(colombiaRelleno.clasificacion == 1)]=colombiaTest.bedrooms[(colombiaTest.property_type.isin(['Casa'])==True)&(colombiaRelleno.clasificacion == 1)].median()\n",
      "C:\\Users\\Nueva era\\AppData\\Local\\Temp\\ipykernel_1460\\1054705283.py:3: SettingWithCopyWarning: \n",
      "A value is trying to be set on a copy of a slice from a DataFrame\n",
      "\n",
      "See the caveats in the documentation: https://pandas.pydata.org/pandas-docs/stable/user_guide/indexing.html#returning-a-view-versus-a-copy\n",
      "  colombiaTest.bedrooms[(colombiaTest.bedrooms.isnull()==True)&(colombiaTest.property_type.isin(['Apartamento'])==True)&(colombiaRelleno.clasificacion == 0)]=colombiaTest.bedrooms[(colombiaTest.property_type.isin(['Apartamento'])==True)&(colombiaRelleno.clasificacion == 0)].median()\n",
      "C:\\Users\\Nueva era\\AppData\\Local\\Temp\\ipykernel_1460\\1054705283.py:4: SettingWithCopyWarning: \n",
      "A value is trying to be set on a copy of a slice from a DataFrame\n",
      "\n",
      "See the caveats in the documentation: https://pandas.pydata.org/pandas-docs/stable/user_guide/indexing.html#returning-a-view-versus-a-copy\n",
      "  colombiaTest.bedrooms[(colombiaTest.bedrooms.isnull()==True)&(colombiaTest.property_type.isin(['Apartamento'])==True)&(colombiaRelleno.clasificacion == 1)]=colombiaTest.bedrooms[(colombiaTest.property_type.isin(['Apartamento'])==True)&(colombiaRelleno.clasificacion == 1)].median()\n",
      "C:\\Users\\Nueva era\\AppData\\Local\\Temp\\ipykernel_1460\\1054705283.py:5: SettingWithCopyWarning: \n",
      "A value is trying to be set on a copy of a slice from a DataFrame\n",
      "\n",
      "See the caveats in the documentation: https://pandas.pydata.org/pandas-docs/stable/user_guide/indexing.html#returning-a-view-versus-a-copy\n",
      "  colombiaTest.bedrooms[(colombiaTest.bedrooms.isnull()==True)&(colombiaTest.property_type.isin(['Otro'])==True)&(colombiaRelleno.clasificacion == 0)]=colombiaTest.bedrooms[(colombiaTest.property_type.isin(['Otro'])==True)&(colombiaRelleno.clasificacion == 0)].median()\n",
      "C:\\Users\\Nueva era\\AppData\\Local\\Temp\\ipykernel_1460\\1054705283.py:6: SettingWithCopyWarning: \n",
      "A value is trying to be set on a copy of a slice from a DataFrame\n",
      "\n",
      "See the caveats in the documentation: https://pandas.pydata.org/pandas-docs/stable/user_guide/indexing.html#returning-a-view-versus-a-copy\n",
      "  colombiaTest.bedrooms[(colombiaTest.bedrooms.isnull()==True)&(colombiaTest.property_type.isin(['Otro'])==True)&(colombiaRelleno.clasificacion == 1)]=colombiaTest.bedrooms[(colombiaTest.property_type.isin(['Otro'])==True)&(colombiaRelleno.clasificacion == 1)].median()\n",
      "C:\\Users\\Nueva era\\AppData\\Local\\Temp\\ipykernel_1460\\1054705283.py:7: SettingWithCopyWarning: \n",
      "A value is trying to be set on a copy of a slice from a DataFrame\n",
      "\n",
      "See the caveats in the documentation: https://pandas.pydata.org/pandas-docs/stable/user_guide/indexing.html#returning-a-view-versus-a-copy\n",
      "  colombiaTest.bedrooms[(colombiaTest.bedrooms.isnull()==True)&(colombiaTest.property_type.isin(['Oficina'])==True)&(colombiaRelleno.clasificacion == 0)]=colombiaTest.bedrooms[(colombiaTest.property_type.isin(['Oficina'])==True)&(colombiaRelleno.clasificacion == 0)].median()\n",
      "C:\\Users\\Nueva era\\AppData\\Local\\Temp\\ipykernel_1460\\1054705283.py:8: SettingWithCopyWarning: \n",
      "A value is trying to be set on a copy of a slice from a DataFrame\n",
      "\n",
      "See the caveats in the documentation: https://pandas.pydata.org/pandas-docs/stable/user_guide/indexing.html#returning-a-view-versus-a-copy\n",
      "  colombiaTest.bedrooms[(colombiaTest.bedrooms.isnull()==True)&(colombiaTest.property_type.isin(['Oficina'])==True)&(colombiaRelleno.clasificacion == 1)]=colombiaTest.bedrooms[(colombiaTest.property_type.isin(['Oficina'])==True)&(colombiaRelleno.clasificacion == 1)].median()\n",
      "C:\\Users\\Nueva era\\AppData\\Local\\Temp\\ipykernel_1460\\1054705283.py:9: SettingWithCopyWarning: \n",
      "A value is trying to be set on a copy of a slice from a DataFrame\n",
      "\n",
      "See the caveats in the documentation: https://pandas.pydata.org/pandas-docs/stable/user_guide/indexing.html#returning-a-view-versus-a-copy\n",
      "  colombiaTest.bedrooms[(colombiaTest.bedrooms.isnull()==True)&(colombiaTest.property_type.isin(['Finca'])==True)&(colombiaRelleno.clasificacion == 0)]=colombiaTest.bedrooms[(colombiaTest.property_type.isin(['Finca'])==True)&(colombiaRelleno.clasificacion == 0)].median()\n",
      "C:\\Users\\Nueva era\\AppData\\Local\\Temp\\ipykernel_1460\\1054705283.py:10: SettingWithCopyWarning: \n",
      "A value is trying to be set on a copy of a slice from a DataFrame\n",
      "\n",
      "See the caveats in the documentation: https://pandas.pydata.org/pandas-docs/stable/user_guide/indexing.html#returning-a-view-versus-a-copy\n",
      "  colombiaTest.bedrooms[(colombiaTest.bedrooms.isnull()==True)&(colombiaTest.property_type.isin(['Finca'])==True)&(colombiaRelleno.clasificacion == 1)]=colombiaTest.bedrooms[(colombiaTest.property_type.isin(['Finca'])==True)&(colombiaRelleno.clasificacion == 1)].median()\n",
      "C:\\Users\\Nueva era\\AppData\\Local\\Temp\\ipykernel_1460\\1054705283.py:11: SettingWithCopyWarning: \n",
      "A value is trying to be set on a copy of a slice from a DataFrame\n",
      "\n",
      "See the caveats in the documentation: https://pandas.pydata.org/pandas-docs/stable/user_guide/indexing.html#returning-a-view-versus-a-copy\n",
      "  colombiaTest.bedrooms[(colombiaTest.bedrooms.isnull()==True)&(colombiaTest.property_type.isin(['Lote'])==True)&(colombiaRelleno.clasificacion == 0)]=colombiaTest.bedrooms[(colombiaTest.property_type.isin(['Lote'])==True)&(colombiaRelleno.clasificacion == 0)].median()\n",
      "C:\\Users\\Nueva era\\AppData\\Local\\Temp\\ipykernel_1460\\1054705283.py:12: SettingWithCopyWarning: \n",
      "A value is trying to be set on a copy of a slice from a DataFrame\n",
      "\n",
      "See the caveats in the documentation: https://pandas.pydata.org/pandas-docs/stable/user_guide/indexing.html#returning-a-view-versus-a-copy\n",
      "  colombiaTest.bedrooms[(colombiaTest.bedrooms.isnull()==True)&(colombiaTest.property_type.isin(['Lote'])==True)&(colombiaRelleno.clasificacion == 1)]=colombiaTest.bedrooms[(colombiaTest.property_type.isin(['Lote'])==True)&(colombiaRelleno.clasificacion == 1)].median()\n",
      "C:\\Users\\Nueva era\\AppData\\Local\\Temp\\ipykernel_1460\\1054705283.py:13: SettingWithCopyWarning: \n",
      "A value is trying to be set on a copy of a slice from a DataFrame\n",
      "\n",
      "See the caveats in the documentation: https://pandas.pydata.org/pandas-docs/stable/user_guide/indexing.html#returning-a-view-versus-a-copy\n",
      "  colombiaTest.bedrooms[(colombiaTest.bedrooms.isnull()==True)&(colombiaTest.property_type.isin(['Local comercial'])==True)&(colombiaRelleno.clasificacion == 0)]=colombiaTest.bedrooms[(colombiaTest.property_type.isin(['Local comercial'])==True)&(colombiaRelleno.clasificacion == 0)].median()\n",
      "C:\\Users\\Nueva era\\AppData\\Local\\Temp\\ipykernel_1460\\1054705283.py:14: SettingWithCopyWarning: \n",
      "A value is trying to be set on a copy of a slice from a DataFrame\n",
      "\n",
      "See the caveats in the documentation: https://pandas.pydata.org/pandas-docs/stable/user_guide/indexing.html#returning-a-view-versus-a-copy\n",
      "  colombiaTest.bedrooms[(colombiaTest.bedrooms.isnull()==True)&(colombiaTest.property_type.isin(['Local comercial'])==True)&(colombiaRelleno.clasificacion == 1)]=colombiaTest.bedrooms[(colombiaTest.property_type.isin(['Local comercial'])==True)&(colombiaRelleno.clasificacion == 1)].median()\n",
      "C:\\Users\\Nueva era\\AppData\\Local\\Temp\\ipykernel_1460\\1054705283.py:15: SettingWithCopyWarning: \n",
      "A value is trying to be set on a copy of a slice from a DataFrame\n",
      "\n",
      "See the caveats in the documentation: https://pandas.pydata.org/pandas-docs/stable/user_guide/indexing.html#returning-a-view-versus-a-copy\n",
      "  colombiaTest.bedrooms[(colombiaTest.bedrooms.isnull()==True)&(colombiaTest.property_type.isin(['Parqueadero'])==True)&(colombiaRelleno.clasificacion == 0)]=0\n",
      "C:\\Users\\Nueva era\\AppData\\Roaming\\Python\\Python310\\site-packages\\numpy\\lib\\nanfunctions.py:1215: RuntimeWarning: Mean of empty slice\n",
      "  return np.nanmean(a, axis, out=out, keepdims=keepdims)\n",
      "C:\\Users\\Nueva era\\AppData\\Local\\Temp\\ipykernel_1460\\1054705283.py:16: SettingWithCopyWarning: \n",
      "A value is trying to be set on a copy of a slice from a DataFrame\n",
      "\n",
      "See the caveats in the documentation: https://pandas.pydata.org/pandas-docs/stable/user_guide/indexing.html#returning-a-view-versus-a-copy\n",
      "  colombiaTest.bedrooms[(colombiaTest.bedrooms.isnull()==True)&(colombiaTest.property_type.isin(['Parqueadero'])==True)&(colombiaRelleno.clasificacion == 1)]=colombiaTest.bedrooms[(colombiaTest.property_type.isin(['Parqueadero'])==True)&(colombiaRelleno.clasificacion == 1)].median()\n"
     ]
    }
   ],
   "source": [
    "colombiaTest.bedrooms[(colombiaTest.bedrooms.isnull()==True)&(colombiaTest.property_type.isin(['Casa'])==True)&(colombiaRelleno.clasificacion == 0)]=colombiaTest.bedrooms[(colombiaTest.property_type.isin(['Casa'])==True)&(colombiaRelleno.clasificacion == 0)].median()\n",
    "colombiaTest.bedrooms[(colombiaTest.bedrooms.isnull()==True)&(colombiaTest.property_type.isin(['Casa'])==True)&(colombiaRelleno.clasificacion == 1)]=colombiaTest.bedrooms[(colombiaTest.property_type.isin(['Casa'])==True)&(colombiaRelleno.clasificacion == 1)].median()\n",
    "colombiaTest.bedrooms[(colombiaTest.bedrooms.isnull()==True)&(colombiaTest.property_type.isin(['Apartamento'])==True)&(colombiaRelleno.clasificacion == 0)]=colombiaTest.bedrooms[(colombiaTest.property_type.isin(['Apartamento'])==True)&(colombiaRelleno.clasificacion == 0)].median()\n",
    "colombiaTest.bedrooms[(colombiaTest.bedrooms.isnull()==True)&(colombiaTest.property_type.isin(['Apartamento'])==True)&(colombiaRelleno.clasificacion == 1)]=colombiaTest.bedrooms[(colombiaTest.property_type.isin(['Apartamento'])==True)&(colombiaRelleno.clasificacion == 1)].median()\n",
    "colombiaTest.bedrooms[(colombiaTest.bedrooms.isnull()==True)&(colombiaTest.property_type.isin(['Otro'])==True)&(colombiaRelleno.clasificacion == 0)]=colombiaTest.bedrooms[(colombiaTest.property_type.isin(['Otro'])==True)&(colombiaRelleno.clasificacion == 0)].median()\n",
    "colombiaTest.bedrooms[(colombiaTest.bedrooms.isnull()==True)&(colombiaTest.property_type.isin(['Otro'])==True)&(colombiaRelleno.clasificacion == 1)]=colombiaTest.bedrooms[(colombiaTest.property_type.isin(['Otro'])==True)&(colombiaRelleno.clasificacion == 1)].median()\n",
    "colombiaTest.bedrooms[(colombiaTest.bedrooms.isnull()==True)&(colombiaTest.property_type.isin(['Oficina'])==True)&(colombiaRelleno.clasificacion == 0)]=colombiaTest.bedrooms[(colombiaTest.property_type.isin(['Oficina'])==True)&(colombiaRelleno.clasificacion == 0)].median()\n",
    "colombiaTest.bedrooms[(colombiaTest.bedrooms.isnull()==True)&(colombiaTest.property_type.isin(['Oficina'])==True)&(colombiaRelleno.clasificacion == 1)]=colombiaTest.bedrooms[(colombiaTest.property_type.isin(['Oficina'])==True)&(colombiaRelleno.clasificacion == 1)].median()\n",
    "colombiaTest.bedrooms[(colombiaTest.bedrooms.isnull()==True)&(colombiaTest.property_type.isin(['Finca'])==True)&(colombiaRelleno.clasificacion == 0)]=colombiaTest.bedrooms[(colombiaTest.property_type.isin(['Finca'])==True)&(colombiaRelleno.clasificacion == 0)].median()\n",
    "colombiaTest.bedrooms[(colombiaTest.bedrooms.isnull()==True)&(colombiaTest.property_type.isin(['Finca'])==True)&(colombiaRelleno.clasificacion == 1)]=colombiaTest.bedrooms[(colombiaTest.property_type.isin(['Finca'])==True)&(colombiaRelleno.clasificacion == 1)].median()\n",
    "colombiaTest.bedrooms[(colombiaTest.bedrooms.isnull()==True)&(colombiaTest.property_type.isin(['Lote'])==True)&(colombiaRelleno.clasificacion == 0)]=colombiaTest.bedrooms[(colombiaTest.property_type.isin(['Lote'])==True)&(colombiaRelleno.clasificacion == 0)].median()\n",
    "colombiaTest.bedrooms[(colombiaTest.bedrooms.isnull()==True)&(colombiaTest.property_type.isin(['Lote'])==True)&(colombiaRelleno.clasificacion == 1)]=colombiaTest.bedrooms[(colombiaTest.property_type.isin(['Lote'])==True)&(colombiaRelleno.clasificacion == 1)].median()\n",
    "colombiaTest.bedrooms[(colombiaTest.bedrooms.isnull()==True)&(colombiaTest.property_type.isin(['Local comercial'])==True)&(colombiaRelleno.clasificacion == 0)]=colombiaTest.bedrooms[(colombiaTest.property_type.isin(['Local comercial'])==True)&(colombiaRelleno.clasificacion == 0)].median()\n",
    "colombiaTest.bedrooms[(colombiaTest.bedrooms.isnull()==True)&(colombiaTest.property_type.isin(['Local comercial'])==True)&(colombiaRelleno.clasificacion == 1)]=colombiaTest.bedrooms[(colombiaTest.property_type.isin(['Local comercial'])==True)&(colombiaRelleno.clasificacion == 1)].median()\n",
    "colombiaTest.bedrooms[(colombiaTest.bedrooms.isnull()==True)&(colombiaTest.property_type.isin(['Parqueadero'])==True)&(colombiaRelleno.clasificacion == 0)]=0\n",
    "colombiaTest.bedrooms[(colombiaTest.bedrooms.isnull()==True)&(colombiaTest.property_type.isin(['Parqueadero'])==True)&(colombiaRelleno.clasificacion == 1)]=colombiaTest.bedrooms[(colombiaTest.property_type.isin(['Parqueadero'])==True)&(colombiaRelleno.clasificacion == 1)].median()"
   ]
  },
  {
   "cell_type": "code",
   "execution_count": 123,
   "metadata": {},
   "outputs": [
    {
     "name": "stderr",
     "output_type": "stream",
     "text": [
      "C:\\Users\\Nueva era\\AppData\\Local\\Temp\\ipykernel_1460\\4248547729.py:1: SettingWithCopyWarning: \n",
      "A value is trying to be set on a copy of a slice from a DataFrame\n",
      "\n",
      "See the caveats in the documentation: https://pandas.pydata.org/pandas-docs/stable/user_guide/indexing.html#returning-a-view-versus-a-copy\n",
      "  colombiaTest.bathrooms[(colombiaTest.bathrooms.isnull()==True)&(colombiaTest.property_type.isin(['Casa'])==True)&(colombiaRelleno.clasificacion == 0)]=colombiaTest.bathrooms[(colombiaTest.property_type.isin(['Casa'])==True)&(colombiaRelleno.clasificacion == 0)].median()\n",
      "C:\\Users\\Nueva era\\AppData\\Local\\Temp\\ipykernel_1460\\4248547729.py:2: SettingWithCopyWarning: \n",
      "A value is trying to be set on a copy of a slice from a DataFrame\n",
      "\n",
      "See the caveats in the documentation: https://pandas.pydata.org/pandas-docs/stable/user_guide/indexing.html#returning-a-view-versus-a-copy\n",
      "  colombiaTest.bathrooms[(colombiaTest.bathrooms.isnull()==True)&(colombiaTest.property_type.isin(['Casa'])==True)&(colombiaRelleno.clasificacion == 1)]=colombiaTest.bathrooms[(colombiaTest.property_type.isin(['Casa'])==True)&(colombiaRelleno.clasificacion == 1)].median()\n",
      "C:\\Users\\Nueva era\\AppData\\Local\\Temp\\ipykernel_1460\\4248547729.py:3: SettingWithCopyWarning: \n",
      "A value is trying to be set on a copy of a slice from a DataFrame\n",
      "\n",
      "See the caveats in the documentation: https://pandas.pydata.org/pandas-docs/stable/user_guide/indexing.html#returning-a-view-versus-a-copy\n",
      "  colombiaTest.bathrooms[(colombiaTest.bathrooms.isnull()==True)&(colombiaTest.property_type.isin(['Apartamento'])==True)&(colombiaRelleno.clasificacion == 0)]=colombiaTest.bathrooms[(colombiaTest.property_type.isin(['Apartamento'])==True)&(colombiaRelleno.clasificacion == 0)].median()\n",
      "C:\\Users\\Nueva era\\AppData\\Local\\Temp\\ipykernel_1460\\4248547729.py:4: SettingWithCopyWarning: \n",
      "A value is trying to be set on a copy of a slice from a DataFrame\n",
      "\n",
      "See the caveats in the documentation: https://pandas.pydata.org/pandas-docs/stable/user_guide/indexing.html#returning-a-view-versus-a-copy\n",
      "  colombiaTest.bathrooms[(colombiaTest.bathrooms.isnull()==True)&(colombiaTest.property_type.isin(['Apartamento'])==True)&(colombiaRelleno.clasificacion == 1)]=colombiaTest.bathrooms[(colombiaTest.property_type.isin(['Apartamento'])==True)&(colombiaRelleno.clasificacion == 1)].median()\n",
      "C:\\Users\\Nueva era\\AppData\\Local\\Temp\\ipykernel_1460\\4248547729.py:5: SettingWithCopyWarning: \n",
      "A value is trying to be set on a copy of a slice from a DataFrame\n",
      "\n",
      "See the caveats in the documentation: https://pandas.pydata.org/pandas-docs/stable/user_guide/indexing.html#returning-a-view-versus-a-copy\n",
      "  colombiaTest.bathrooms[(colombiaTest.bathrooms.isnull()==True)&(colombiaTest.property_type.isin(['Otro'])==True)&(colombiaRelleno.clasificacion == 0)]=colombiaTest.bathrooms[(colombiaTest.property_type.isin(['Otro'])==True)&(colombiaRelleno.clasificacion == 0)].median()\n",
      "C:\\Users\\Nueva era\\AppData\\Local\\Temp\\ipykernel_1460\\4248547729.py:6: SettingWithCopyWarning: \n",
      "A value is trying to be set on a copy of a slice from a DataFrame\n",
      "\n",
      "See the caveats in the documentation: https://pandas.pydata.org/pandas-docs/stable/user_guide/indexing.html#returning-a-view-versus-a-copy\n",
      "  colombiaTest.bathrooms[(colombiaTest.bathrooms.isnull()==True)&(colombiaTest.property_type.isin(['Otro'])==True)&(colombiaRelleno.clasificacion == 1)]=colombiaTest.bathrooms[(colombiaTest.property_type.isin(['Otro'])==True)&(colombiaRelleno.clasificacion == 1)].median()\n",
      "C:\\Users\\Nueva era\\AppData\\Local\\Temp\\ipykernel_1460\\4248547729.py:7: SettingWithCopyWarning: \n",
      "A value is trying to be set on a copy of a slice from a DataFrame\n",
      "\n",
      "See the caveats in the documentation: https://pandas.pydata.org/pandas-docs/stable/user_guide/indexing.html#returning-a-view-versus-a-copy\n",
      "  colombiaTest.bathrooms[(colombiaTest.bathrooms.isnull()==True)&(colombiaTest.property_type.isin(['Oficina'])==True)&(colombiaRelleno.clasificacion == 0)]=colombiaTest.bathrooms[(colombiaTest.property_type.isin(['Oficina'])==True)&(colombiaRelleno.clasificacion == 0)].median()\n",
      "C:\\Users\\Nueva era\\AppData\\Local\\Temp\\ipykernel_1460\\4248547729.py:8: SettingWithCopyWarning: \n",
      "A value is trying to be set on a copy of a slice from a DataFrame\n",
      "\n",
      "See the caveats in the documentation: https://pandas.pydata.org/pandas-docs/stable/user_guide/indexing.html#returning-a-view-versus-a-copy\n",
      "  colombiaTest.bathrooms[(colombiaTest.bathrooms.isnull()==True)&(colombiaTest.property_type.isin(['Oficina'])==True)&(colombiaRelleno.clasificacion == 1)]=colombiaTest.bathrooms[(colombiaTest.property_type.isin(['Oficina'])==True)&(colombiaRelleno.clasificacion == 1)].median()\n",
      "C:\\Users\\Nueva era\\AppData\\Local\\Temp\\ipykernel_1460\\4248547729.py:9: SettingWithCopyWarning: \n",
      "A value is trying to be set on a copy of a slice from a DataFrame\n",
      "\n",
      "See the caveats in the documentation: https://pandas.pydata.org/pandas-docs/stable/user_guide/indexing.html#returning-a-view-versus-a-copy\n",
      "  colombiaTest.bathrooms[(colombiaTest.bathrooms.isnull()==True)&(colombiaTest.property_type.isin(['Finca'])==True)&(colombiaRelleno.clasificacion == 0)]=colombiaTest.bathrooms[(colombiaTest.property_type.isin(['Finca'])==True)&(colombiaRelleno.clasificacion == 0)].median()\n",
      "C:\\Users\\Nueva era\\AppData\\Local\\Temp\\ipykernel_1460\\4248547729.py:10: SettingWithCopyWarning: \n",
      "A value is trying to be set on a copy of a slice from a DataFrame\n",
      "\n",
      "See the caveats in the documentation: https://pandas.pydata.org/pandas-docs/stable/user_guide/indexing.html#returning-a-view-versus-a-copy\n",
      "  colombiaTest.bathrooms[(colombiaTest.bathrooms.isnull()==True)&(colombiaTest.property_type.isin(['Finca'])==True)&(colombiaRelleno.clasificacion == 1)]=colombiaTest.bathrooms[(colombiaTest.property_type.isin(['Finca'])==True)&(colombiaRelleno.clasificacion == 1)].median()\n",
      "C:\\Users\\Nueva era\\AppData\\Local\\Temp\\ipykernel_1460\\4248547729.py:11: SettingWithCopyWarning: \n",
      "A value is trying to be set on a copy of a slice from a DataFrame\n",
      "\n",
      "See the caveats in the documentation: https://pandas.pydata.org/pandas-docs/stable/user_guide/indexing.html#returning-a-view-versus-a-copy\n",
      "  colombiaTest.bathrooms[(colombiaTest.bathrooms.isnull()==True)&(colombiaTest.property_type.isin(['Lote'])==True)&(colombiaRelleno.clasificacion == 0)]=colombiaTest.bathrooms[(colombiaTest.property_type.isin(['Lote'])==True)&(colombiaRelleno.clasificacion == 0)].median()\n",
      "C:\\Users\\Nueva era\\AppData\\Local\\Temp\\ipykernel_1460\\4248547729.py:12: SettingWithCopyWarning: \n",
      "A value is trying to be set on a copy of a slice from a DataFrame\n",
      "\n",
      "See the caveats in the documentation: https://pandas.pydata.org/pandas-docs/stable/user_guide/indexing.html#returning-a-view-versus-a-copy\n",
      "  colombiaTest.bathrooms[(colombiaTest.bathrooms.isnull()==True)&(colombiaTest.property_type.isin(['Lote'])==True)&(colombiaRelleno.clasificacion == 1)]=colombiaTest.bathrooms[(colombiaTest.property_type.isin(['Lote'])==True)&(colombiaRelleno.clasificacion == 1)].median()\n",
      "C:\\Users\\Nueva era\\AppData\\Local\\Temp\\ipykernel_1460\\4248547729.py:13: SettingWithCopyWarning: \n",
      "A value is trying to be set on a copy of a slice from a DataFrame\n",
      "\n",
      "See the caveats in the documentation: https://pandas.pydata.org/pandas-docs/stable/user_guide/indexing.html#returning-a-view-versus-a-copy\n",
      "  colombiaTest.bathrooms[(colombiaTest.bathrooms.isnull()==True)&(colombiaTest.property_type.isin(['Local comercial'])==True)&(colombiaRelleno.clasificacion == 0)]=colombiaTest.bathrooms[(colombiaTest.property_type.isin(['Local comercial'])==True)&(colombiaRelleno.clasificacion == 0)].median()\n",
      "C:\\Users\\Nueva era\\AppData\\Local\\Temp\\ipykernel_1460\\4248547729.py:14: SettingWithCopyWarning: \n",
      "A value is trying to be set on a copy of a slice from a DataFrame\n",
      "\n",
      "See the caveats in the documentation: https://pandas.pydata.org/pandas-docs/stable/user_guide/indexing.html#returning-a-view-versus-a-copy\n",
      "  colombiaTest.bathrooms[(colombiaTest.bathrooms.isnull()==True)&(colombiaTest.property_type.isin(['Local comercial'])==True)&(colombiaRelleno.clasificacion == 1)]=colombiaTest.bathrooms[(colombiaTest.property_type.isin(['Local comercial'])==True)&(colombiaRelleno.clasificacion == 1)].median()\n",
      "C:\\Users\\Nueva era\\AppData\\Local\\Temp\\ipykernel_1460\\4248547729.py:15: SettingWithCopyWarning: \n",
      "A value is trying to be set on a copy of a slice from a DataFrame\n",
      "\n",
      "See the caveats in the documentation: https://pandas.pydata.org/pandas-docs/stable/user_guide/indexing.html#returning-a-view-versus-a-copy\n",
      "  colombiaTest.bathrooms[(colombiaTest.bathrooms.isnull()==True)&(colombiaTest.property_type.isin(['Parqueadero'])==True)&(colombiaRelleno.clasificacion == 0)]=0\n",
      "C:\\Users\\Nueva era\\AppData\\Local\\Temp\\ipykernel_1460\\4248547729.py:16: SettingWithCopyWarning: \n",
      "A value is trying to be set on a copy of a slice from a DataFrame\n",
      "\n",
      "See the caveats in the documentation: https://pandas.pydata.org/pandas-docs/stable/user_guide/indexing.html#returning-a-view-versus-a-copy\n",
      "  colombiaTest.bathrooms[(colombiaTest.bathrooms.isnull()==True)&(colombiaTest.property_type.isin(['Parqueadero'])==True)&(colombiaRelleno.clasificacion == 1)]=colombiaTest.bathrooms[(colombiaTest.property_type.isin(['Parqueadero'])==True)&(colombiaRelleno.clasificacion == 1)].median()\n"
     ]
    }
   ],
   "source": [
    "colombiaTest.bathrooms[(colombiaTest.bathrooms.isnull()==True)&(colombiaTest.property_type.isin(['Casa'])==True)&(colombiaRelleno.clasificacion == 0)]=colombiaTest.bathrooms[(colombiaTest.property_type.isin(['Casa'])==True)&(colombiaRelleno.clasificacion == 0)].median()\n",
    "colombiaTest.bathrooms[(colombiaTest.bathrooms.isnull()==True)&(colombiaTest.property_type.isin(['Casa'])==True)&(colombiaRelleno.clasificacion == 1)]=colombiaTest.bathrooms[(colombiaTest.property_type.isin(['Casa'])==True)&(colombiaRelleno.clasificacion == 1)].median()\n",
    "colombiaTest.bathrooms[(colombiaTest.bathrooms.isnull()==True)&(colombiaTest.property_type.isin(['Apartamento'])==True)&(colombiaRelleno.clasificacion == 0)]=colombiaTest.bathrooms[(colombiaTest.property_type.isin(['Apartamento'])==True)&(colombiaRelleno.clasificacion == 0)].median()\n",
    "colombiaTest.bathrooms[(colombiaTest.bathrooms.isnull()==True)&(colombiaTest.property_type.isin(['Apartamento'])==True)&(colombiaRelleno.clasificacion == 1)]=colombiaTest.bathrooms[(colombiaTest.property_type.isin(['Apartamento'])==True)&(colombiaRelleno.clasificacion == 1)].median()\n",
    "colombiaTest.bathrooms[(colombiaTest.bathrooms.isnull()==True)&(colombiaTest.property_type.isin(['Otro'])==True)&(colombiaRelleno.clasificacion == 0)]=colombiaTest.bathrooms[(colombiaTest.property_type.isin(['Otro'])==True)&(colombiaRelleno.clasificacion == 0)].median()\n",
    "colombiaTest.bathrooms[(colombiaTest.bathrooms.isnull()==True)&(colombiaTest.property_type.isin(['Otro'])==True)&(colombiaRelleno.clasificacion == 1)]=colombiaTest.bathrooms[(colombiaTest.property_type.isin(['Otro'])==True)&(colombiaRelleno.clasificacion == 1)].median()\n",
    "colombiaTest.bathrooms[(colombiaTest.bathrooms.isnull()==True)&(colombiaTest.property_type.isin(['Oficina'])==True)&(colombiaRelleno.clasificacion == 0)]=colombiaTest.bathrooms[(colombiaTest.property_type.isin(['Oficina'])==True)&(colombiaRelleno.clasificacion == 0)].median()\n",
    "colombiaTest.bathrooms[(colombiaTest.bathrooms.isnull()==True)&(colombiaTest.property_type.isin(['Oficina'])==True)&(colombiaRelleno.clasificacion == 1)]=colombiaTest.bathrooms[(colombiaTest.property_type.isin(['Oficina'])==True)&(colombiaRelleno.clasificacion == 1)].median()\n",
    "colombiaTest.bathrooms[(colombiaTest.bathrooms.isnull()==True)&(colombiaTest.property_type.isin(['Finca'])==True)&(colombiaRelleno.clasificacion == 0)]=colombiaTest.bathrooms[(colombiaTest.property_type.isin(['Finca'])==True)&(colombiaRelleno.clasificacion == 0)].median()\n",
    "colombiaTest.bathrooms[(colombiaTest.bathrooms.isnull()==True)&(colombiaTest.property_type.isin(['Finca'])==True)&(colombiaRelleno.clasificacion == 1)]=colombiaTest.bathrooms[(colombiaTest.property_type.isin(['Finca'])==True)&(colombiaRelleno.clasificacion == 1)].median()\n",
    "colombiaTest.bathrooms[(colombiaTest.bathrooms.isnull()==True)&(colombiaTest.property_type.isin(['Lote'])==True)&(colombiaRelleno.clasificacion == 0)]=colombiaTest.bathrooms[(colombiaTest.property_type.isin(['Lote'])==True)&(colombiaRelleno.clasificacion == 0)].median()\n",
    "colombiaTest.bathrooms[(colombiaTest.bathrooms.isnull()==True)&(colombiaTest.property_type.isin(['Lote'])==True)&(colombiaRelleno.clasificacion == 1)]=colombiaTest.bathrooms[(colombiaTest.property_type.isin(['Lote'])==True)&(colombiaRelleno.clasificacion == 1)].median()\n",
    "colombiaTest.bathrooms[(colombiaTest.bathrooms.isnull()==True)&(colombiaTest.property_type.isin(['Local comercial'])==True)&(colombiaRelleno.clasificacion == 0)]=colombiaTest.bathrooms[(colombiaTest.property_type.isin(['Local comercial'])==True)&(colombiaRelleno.clasificacion == 0)].median()\n",
    "colombiaTest.bathrooms[(colombiaTest.bathrooms.isnull()==True)&(colombiaTest.property_type.isin(['Local comercial'])==True)&(colombiaRelleno.clasificacion == 1)]=colombiaTest.bathrooms[(colombiaTest.property_type.isin(['Local comercial'])==True)&(colombiaRelleno.clasificacion == 1)].median()\n",
    "colombiaTest.bathrooms[(colombiaTest.bathrooms.isnull()==True)&(colombiaTest.property_type.isin(['Parqueadero'])==True)&(colombiaRelleno.clasificacion == 0)]=0\n",
    "colombiaTest.bathrooms[(colombiaTest.bathrooms.isnull()==True)&(colombiaTest.property_type.isin(['Parqueadero'])==True)&(colombiaRelleno.clasificacion == 1)]=colombiaTest.bathrooms[(colombiaTest.property_type.isin(['Parqueadero'])==True)&(colombiaRelleno.clasificacion == 1)].median()"
   ]
  },
  {
   "cell_type": "code",
   "execution_count": 126,
   "metadata": {},
   "outputs": [],
   "source": [
    "colombiaTest= pd.get_dummies(colombiaTest, columns=['property_type'])"
   ]
  },
  {
   "cell_type": "code",
   "execution_count": 128,
   "metadata": {},
   "outputs": [],
   "source": [
    "colombiaTestX = colombiaTest.drop(['property_type_Parqueadero','property_type_Casa','property_type_Finca','property_type_Local comercial','property_type_Oficina'], axis=1)"
   ]
  },
  {
   "cell_type": "code",
   "execution_count": 139,
   "metadata": {},
   "outputs": [],
   "source": [
    "colombiaTestX.bedrooms.fillna(0, inplace = True)"
   ]
  },
  {
   "cell_type": "code",
   "execution_count": 140,
   "metadata": {},
   "outputs": [],
   "source": [
    "colombiaTestX.rooms.fillna(0, inplace = True)"
   ]
  },
  {
   "cell_type": "code",
   "execution_count": 142,
   "metadata": {},
   "outputs": [],
   "source": [
    "from sklearn.preprocessing import StandardScaler\n",
    "scaler = preprocessing.StandardScaler()\n",
    "TestFinalX = scaler.fit_transform(colombiaTestX)"
   ]
  },
  {
   "cell_type": "code",
   "execution_count": 141,
   "metadata": {},
   "outputs": [
    {
     "name": "stdout",
     "output_type": "stream",
     "text": [
      "<class 'pandas.core.frame.DataFrame'>\n",
      "RangeIndex: 65850 entries, 0 to 65849\n",
      "Data columns (total 7 columns):\n",
      " #   Column                     Non-Null Count  Dtype  \n",
      "---  ------                     --------------  -----  \n",
      " 0   rooms                      65850 non-null  float64\n",
      " 1   bedrooms                   65850 non-null  float64\n",
      " 2   bathrooms                  65850 non-null  float64\n",
      " 3   surface_total              65850 non-null  float64\n",
      " 4   property_type_Apartamento  65850 non-null  uint8  \n",
      " 5   property_type_Lote         65850 non-null  uint8  \n",
      " 6   property_type_Otro         65850 non-null  uint8  \n",
      "dtypes: float64(4), uint8(3)\n",
      "memory usage: 2.2 MB\n"
     ]
    }
   ],
   "source": [
    "colombiaTestX.info()"
   ]
  },
  {
   "cell_type": "code",
   "execution_count": 143,
   "metadata": {},
   "outputs": [],
   "source": [
    "y_Final=vecinoR.predict(TestFinalX) #Sebas1412"
   ]
  },
  {
   "cell_type": "code",
   "execution_count": 144,
   "metadata": {},
   "outputs": [
    {
     "data": {
      "text/plain": [
       "array([1, 0, 1, ..., 0, 0, 0])"
      ]
     },
     "execution_count": 144,
     "metadata": {},
     "output_type": "execute_result"
    }
   ],
   "source": [
    "y_Final"
   ]
  },
  {
   "cell_type": "code",
   "execution_count": 145,
   "metadata": {},
   "outputs": [],
   "source": [
    "d = {'pred': y_Final}\n",
    "Seba1412=pd.DataFrame(data=d)"
   ]
  },
  {
   "cell_type": "code",
   "execution_count": 147,
   "metadata": {},
   "outputs": [
    {
     "data": {
      "text/plain": [
       "pred\n",
       "0       58306\n",
       "1        7544\n",
       "dtype: int64"
      ]
     },
     "execution_count": 147,
     "metadata": {},
     "output_type": "execute_result"
    }
   ],
   "source": [
    "Seba1412.value_counts()"
   ]
  },
  {
   "cell_type": "code",
   "execution_count": 149,
   "metadata": {},
   "outputs": [],
   "source": [
    "Seba1412.to_csv('Sebas1412.csv', index=False)"
   ]
  },
  {
   "cell_type": "markdown",
   "metadata": {},
   "source": [
    "En efecto, el modelo esta overfitteado, por lo que da una pésima performance en el dashboard"
   ]
  },
  {
   "cell_type": "markdown",
   "metadata": {},
   "source": [
    "Se decide usar RandomizedSearch para automatizar la busquedas de hiperparámetros para el modelo neighbors"
   ]
  },
  {
   "cell_type": "code",
   "execution_count": 152,
   "metadata": {},
   "outputs": [],
   "source": [
    "import scipy as sp\n",
    "from scipy import stats\n",
    "\n",
    "param_dist = {'n_neighbors':range(2, 8),\n",
    "              'weights': ['uniform', 'distance'], \n",
    "              'leaf_size':sp.stats.randint(1, 10),\n",
    "              'algorithm':['auto', 'kd_tree']}"
   ]
  },
  {
   "cell_type": "code",
   "execution_count": 153,
   "metadata": {},
   "outputs": [
    {
     "data": {
      "text/html": [
       "<style>#sk-container-id-11 {color: black;background-color: white;}#sk-container-id-11 pre{padding: 0;}#sk-container-id-11 div.sk-toggleable {background-color: white;}#sk-container-id-11 label.sk-toggleable__label {cursor: pointer;display: block;width: 100%;margin-bottom: 0;padding: 0.3em;box-sizing: border-box;text-align: center;}#sk-container-id-11 label.sk-toggleable__label-arrow:before {content: \"▸\";float: left;margin-right: 0.25em;color: #696969;}#sk-container-id-11 label.sk-toggleable__label-arrow:hover:before {color: black;}#sk-container-id-11 div.sk-estimator:hover label.sk-toggleable__label-arrow:before {color: black;}#sk-container-id-11 div.sk-toggleable__content {max-height: 0;max-width: 0;overflow: hidden;text-align: left;background-color: #f0f8ff;}#sk-container-id-11 div.sk-toggleable__content pre {margin: 0.2em;color: black;border-radius: 0.25em;background-color: #f0f8ff;}#sk-container-id-11 input.sk-toggleable__control:checked~div.sk-toggleable__content {max-height: 200px;max-width: 100%;overflow: auto;}#sk-container-id-11 input.sk-toggleable__control:checked~label.sk-toggleable__label-arrow:before {content: \"▾\";}#sk-container-id-11 div.sk-estimator input.sk-toggleable__control:checked~label.sk-toggleable__label {background-color: #d4ebff;}#sk-container-id-11 div.sk-label input.sk-toggleable__control:checked~label.sk-toggleable__label {background-color: #d4ebff;}#sk-container-id-11 input.sk-hidden--visually {border: 0;clip: rect(1px 1px 1px 1px);clip: rect(1px, 1px, 1px, 1px);height: 1px;margin: -1px;overflow: hidden;padding: 0;position: absolute;width: 1px;}#sk-container-id-11 div.sk-estimator {font-family: monospace;background-color: #f0f8ff;border: 1px dotted black;border-radius: 0.25em;box-sizing: border-box;margin-bottom: 0.5em;}#sk-container-id-11 div.sk-estimator:hover {background-color: #d4ebff;}#sk-container-id-11 div.sk-parallel-item::after {content: \"\";width: 100%;border-bottom: 1px solid gray;flex-grow: 1;}#sk-container-id-11 div.sk-label:hover label.sk-toggleable__label {background-color: #d4ebff;}#sk-container-id-11 div.sk-serial::before {content: \"\";position: absolute;border-left: 1px solid gray;box-sizing: border-box;top: 0;bottom: 0;left: 50%;z-index: 0;}#sk-container-id-11 div.sk-serial {display: flex;flex-direction: column;align-items: center;background-color: white;padding-right: 0.2em;padding-left: 0.2em;position: relative;}#sk-container-id-11 div.sk-item {position: relative;z-index: 1;}#sk-container-id-11 div.sk-parallel {display: flex;align-items: stretch;justify-content: center;background-color: white;position: relative;}#sk-container-id-11 div.sk-item::before, #sk-container-id-11 div.sk-parallel-item::before {content: \"\";position: absolute;border-left: 1px solid gray;box-sizing: border-box;top: 0;bottom: 0;left: 50%;z-index: -1;}#sk-container-id-11 div.sk-parallel-item {display: flex;flex-direction: column;z-index: 1;position: relative;background-color: white;}#sk-container-id-11 div.sk-parallel-item:first-child::after {align-self: flex-end;width: 50%;}#sk-container-id-11 div.sk-parallel-item:last-child::after {align-self: flex-start;width: 50%;}#sk-container-id-11 div.sk-parallel-item:only-child::after {width: 0;}#sk-container-id-11 div.sk-dashed-wrapped {border: 1px dashed gray;margin: 0 0.4em 0.5em 0.4em;box-sizing: border-box;padding-bottom: 0.4em;background-color: white;}#sk-container-id-11 div.sk-label label {font-family: monospace;font-weight: bold;display: inline-block;line-height: 1.2em;}#sk-container-id-11 div.sk-label-container {text-align: center;}#sk-container-id-11 div.sk-container {/* jupyter's `normalize.less` sets `[hidden] { display: none; }` but bootstrap.min.css set `[hidden] { display: none !important; }` so we also need the `!important` here to be able to override the default hidden behavior on the sphinx rendered scikit-learn.org. See: https://github.com/scikit-learn/scikit-learn/issues/21755 */display: inline-block !important;position: relative;}#sk-container-id-11 div.sk-text-repr-fallback {display: none;}</style><div id=\"sk-container-id-11\" class=\"sk-top-container\"><div class=\"sk-text-repr-fallback\"><pre>RandomizedSearchCV(cv=5, estimator=KNeighborsClassifier(), n_iter=6,\n",
       "                   param_distributions={&#x27;algorithm&#x27;: [&#x27;auto&#x27;, &#x27;kd_tree&#x27;],\n",
       "                                        &#x27;leaf_size&#x27;: &lt;scipy.stats._distn_infrastructure.rv_discrete_frozen object at 0x0000019949D7BCD0&gt;,\n",
       "                                        &#x27;n_neighbors&#x27;: range(2, 8),\n",
       "                                        &#x27;weights&#x27;: [&#x27;uniform&#x27;, &#x27;distance&#x27;]},\n",
       "                   random_state=0)</pre><b>In a Jupyter environment, please rerun this cell to show the HTML representation or trust the notebook. <br />On GitHub, the HTML representation is unable to render, please try loading this page with nbviewer.org.</b></div><div class=\"sk-container\" hidden><div class=\"sk-item sk-dashed-wrapped\"><div class=\"sk-label-container\"><div class=\"sk-label sk-toggleable\"><input class=\"sk-toggleable__control sk-hidden--visually\" id=\"sk-estimator-id-11\" type=\"checkbox\" ><label for=\"sk-estimator-id-11\" class=\"sk-toggleable__label sk-toggleable__label-arrow\">RandomizedSearchCV</label><div class=\"sk-toggleable__content\"><pre>RandomizedSearchCV(cv=5, estimator=KNeighborsClassifier(), n_iter=6,\n",
       "                   param_distributions={&#x27;algorithm&#x27;: [&#x27;auto&#x27;, &#x27;kd_tree&#x27;],\n",
       "                                        &#x27;leaf_size&#x27;: &lt;scipy.stats._distn_infrastructure.rv_discrete_frozen object at 0x0000019949D7BCD0&gt;,\n",
       "                                        &#x27;n_neighbors&#x27;: range(2, 8),\n",
       "                                        &#x27;weights&#x27;: [&#x27;uniform&#x27;, &#x27;distance&#x27;]},\n",
       "                   random_state=0)</pre></div></div></div><div class=\"sk-parallel\"><div class=\"sk-parallel-item\"><div class=\"sk-item\"><div class=\"sk-label-container\"><div class=\"sk-label sk-toggleable\"><input class=\"sk-toggleable__control sk-hidden--visually\" id=\"sk-estimator-id-12\" type=\"checkbox\" ><label for=\"sk-estimator-id-12\" class=\"sk-toggleable__label sk-toggleable__label-arrow\">estimator: KNeighborsClassifier</label><div class=\"sk-toggleable__content\"><pre>KNeighborsClassifier()</pre></div></div></div><div class=\"sk-serial\"><div class=\"sk-item\"><div class=\"sk-estimator sk-toggleable\"><input class=\"sk-toggleable__control sk-hidden--visually\" id=\"sk-estimator-id-13\" type=\"checkbox\" ><label for=\"sk-estimator-id-13\" class=\"sk-toggleable__label sk-toggleable__label-arrow\">KNeighborsClassifier</label><div class=\"sk-toggleable__content\"><pre>KNeighborsClassifier()</pre></div></div></div></div></div></div></div></div></div></div>"
      ],
      "text/plain": [
       "RandomizedSearchCV(cv=5, estimator=KNeighborsClassifier(), n_iter=6,\n",
       "                   param_distributions={'algorithm': ['auto', 'kd_tree'],\n",
       "                                        'leaf_size': <scipy.stats._distn_infrastructure.rv_discrete_frozen object at 0x0000019949D7BCD0>,\n",
       "                                        'n_neighbors': range(2, 8),\n",
       "                                        'weights': ['uniform', 'distance']},\n",
       "                   random_state=0)"
      ]
     },
     "execution_count": 153,
     "metadata": {},
     "output_type": "execute_result"
    }
   ],
   "source": [
    "from sklearn.model_selection import RandomizedSearchCV\n",
    "\n",
    "knn = KNeighborsClassifier()\n",
    "model = RandomizedSearchCV(knn, param_dist,n_iter=6, random_state=0, cv=5)\n",
    "\n",
    "# Entrenamos knn con la grilla\n",
    "model.fit(scX_train, yR_train)"
   ]
  },
  {
   "cell_type": "code",
   "execution_count": 154,
   "metadata": {},
   "outputs": [
    {
     "name": "stdout",
     "output_type": "stream",
     "text": [
      "Mejores hiperparámetros: {'algorithm': 'kd_tree', 'leaf_size': 3, 'n_neighbors': 6, 'weights': 'distance'}\n",
      "Mejor Score: 0.9954361023060946\n",
      "\n"
     ]
    },
    {
     "data": {
      "text/html": [
       "<div>\n",
       "<style scoped>\n",
       "    .dataframe tbody tr th:only-of-type {\n",
       "        vertical-align: middle;\n",
       "    }\n",
       "\n",
       "    .dataframe tbody tr th {\n",
       "        vertical-align: top;\n",
       "    }\n",
       "\n",
       "    .dataframe thead th {\n",
       "        text-align: right;\n",
       "    }\n",
       "</style>\n",
       "<table border=\"1\" class=\"dataframe\">\n",
       "  <thead>\n",
       "    <tr style=\"text-align: right;\">\n",
       "      <th></th>\n",
       "      <th>mean_fit_time</th>\n",
       "      <th>std_fit_time</th>\n",
       "      <th>mean_score_time</th>\n",
       "      <th>std_score_time</th>\n",
       "      <th>param_algorithm</th>\n",
       "      <th>param_leaf_size</th>\n",
       "      <th>param_n_neighbors</th>\n",
       "      <th>param_weights</th>\n",
       "      <th>params</th>\n",
       "      <th>split0_test_score</th>\n",
       "      <th>split1_test_score</th>\n",
       "      <th>split2_test_score</th>\n",
       "      <th>split3_test_score</th>\n",
       "      <th>split4_test_score</th>\n",
       "      <th>mean_test_score</th>\n",
       "      <th>std_test_score</th>\n",
       "      <th>rank_test_score</th>\n",
       "    </tr>\n",
       "  </thead>\n",
       "  <tbody>\n",
       "    <tr>\n",
       "      <th>0</th>\n",
       "      <td>0.747483</td>\n",
       "      <td>0.142650</td>\n",
       "      <td>39.525241</td>\n",
       "      <td>2.792376</td>\n",
       "      <td>auto</td>\n",
       "      <td>6</td>\n",
       "      <td>2</td>\n",
       "      <td>distance</td>\n",
       "      <td>{'algorithm': 'auto', 'leaf_size': 6, 'n_neigh...</td>\n",
       "      <td>0.995189</td>\n",
       "      <td>0.995158</td>\n",
       "      <td>0.995094</td>\n",
       "      <td>0.995031</td>\n",
       "      <td>0.995126</td>\n",
       "      <td>0.995120</td>\n",
       "      <td>0.000054</td>\n",
       "      <td>3</td>\n",
       "    </tr>\n",
       "    <tr>\n",
       "      <th>1</th>\n",
       "      <td>0.786516</td>\n",
       "      <td>0.287806</td>\n",
       "      <td>41.596986</td>\n",
       "      <td>3.993858</td>\n",
       "      <td>kd_tree</td>\n",
       "      <td>4</td>\n",
       "      <td>3</td>\n",
       "      <td>distance</td>\n",
       "      <td>{'algorithm': 'kd_tree', 'leaf_size': 4, 'n_ne...</td>\n",
       "      <td>0.995411</td>\n",
       "      <td>0.995506</td>\n",
       "      <td>0.995063</td>\n",
       "      <td>0.994873</td>\n",
       "      <td>0.994968</td>\n",
       "      <td>0.995164</td>\n",
       "      <td>0.000250</td>\n",
       "      <td>2</td>\n",
       "    </tr>\n",
       "    <tr>\n",
       "      <th>2</th>\n",
       "      <td>0.844938</td>\n",
       "      <td>0.183382</td>\n",
       "      <td>64.415465</td>\n",
       "      <td>2.700483</td>\n",
       "      <td>kd_tree</td>\n",
       "      <td>3</td>\n",
       "      <td>6</td>\n",
       "      <td>distance</td>\n",
       "      <td>{'algorithm': 'kd_tree', 'leaf_size': 3, 'n_ne...</td>\n",
       "      <td>0.995759</td>\n",
       "      <td>0.995379</td>\n",
       "      <td>0.995284</td>\n",
       "      <td>0.995316</td>\n",
       "      <td>0.995442</td>\n",
       "      <td>0.995436</td>\n",
       "      <td>0.000170</td>\n",
       "      <td>1</td>\n",
       "    </tr>\n",
       "    <tr>\n",
       "      <th>3</th>\n",
       "      <td>0.754461</td>\n",
       "      <td>0.250936</td>\n",
       "      <td>38.958831</td>\n",
       "      <td>4.328783</td>\n",
       "      <td>auto</td>\n",
       "      <td>9</td>\n",
       "      <td>2</td>\n",
       "      <td>uniform</td>\n",
       "      <td>{'algorithm': 'auto', 'leaf_size': 9, 'n_neigh...</td>\n",
       "      <td>0.994715</td>\n",
       "      <td>0.994683</td>\n",
       "      <td>0.994430</td>\n",
       "      <td>0.994715</td>\n",
       "      <td>0.994619</td>\n",
       "      <td>0.994632</td>\n",
       "      <td>0.000107</td>\n",
       "      <td>6</td>\n",
       "    </tr>\n",
       "    <tr>\n",
       "      <th>4</th>\n",
       "      <td>1.196306</td>\n",
       "      <td>0.271651</td>\n",
       "      <td>60.613623</td>\n",
       "      <td>5.923686</td>\n",
       "      <td>auto</td>\n",
       "      <td>2</td>\n",
       "      <td>2</td>\n",
       "      <td>distance</td>\n",
       "      <td>{'algorithm': 'auto', 'leaf_size': 2, 'n_neigh...</td>\n",
       "      <td>0.995189</td>\n",
       "      <td>0.995158</td>\n",
       "      <td>0.995094</td>\n",
       "      <td>0.995031</td>\n",
       "      <td>0.995126</td>\n",
       "      <td>0.995120</td>\n",
       "      <td>0.000054</td>\n",
       "      <td>3</td>\n",
       "    </tr>\n",
       "    <tr>\n",
       "      <th>5</th>\n",
       "      <td>0.853019</td>\n",
       "      <td>0.296660</td>\n",
       "      <td>35.428559</td>\n",
       "      <td>3.790833</td>\n",
       "      <td>kd_tree</td>\n",
       "      <td>9</td>\n",
       "      <td>3</td>\n",
       "      <td>uniform</td>\n",
       "      <td>{'algorithm': 'kd_tree', 'leaf_size': 9, 'n_ne...</td>\n",
       "      <td>0.995379</td>\n",
       "      <td>0.995284</td>\n",
       "      <td>0.995094</td>\n",
       "      <td>0.994588</td>\n",
       "      <td>0.994841</td>\n",
       "      <td>0.995037</td>\n",
       "      <td>0.000290</td>\n",
       "      <td>5</td>\n",
       "    </tr>\n",
       "  </tbody>\n",
       "</table>\n",
       "</div>"
      ],
      "text/plain": [
       "   mean_fit_time  std_fit_time  mean_score_time  std_score_time  \\\n",
       "0       0.747483      0.142650        39.525241        2.792376   \n",
       "1       0.786516      0.287806        41.596986        3.993858   \n",
       "2       0.844938      0.183382        64.415465        2.700483   \n",
       "3       0.754461      0.250936        38.958831        4.328783   \n",
       "4       1.196306      0.271651        60.613623        5.923686   \n",
       "5       0.853019      0.296660        35.428559        3.790833   \n",
       "\n",
       "  param_algorithm param_leaf_size param_n_neighbors param_weights  \\\n",
       "0            auto               6                 2      distance   \n",
       "1         kd_tree               4                 3      distance   \n",
       "2         kd_tree               3                 6      distance   \n",
       "3            auto               9                 2       uniform   \n",
       "4            auto               2                 2      distance   \n",
       "5         kd_tree               9                 3       uniform   \n",
       "\n",
       "                                              params  split0_test_score  \\\n",
       "0  {'algorithm': 'auto', 'leaf_size': 6, 'n_neigh...           0.995189   \n",
       "1  {'algorithm': 'kd_tree', 'leaf_size': 4, 'n_ne...           0.995411   \n",
       "2  {'algorithm': 'kd_tree', 'leaf_size': 3, 'n_ne...           0.995759   \n",
       "3  {'algorithm': 'auto', 'leaf_size': 9, 'n_neigh...           0.994715   \n",
       "4  {'algorithm': 'auto', 'leaf_size': 2, 'n_neigh...           0.995189   \n",
       "5  {'algorithm': 'kd_tree', 'leaf_size': 9, 'n_ne...           0.995379   \n",
       "\n",
       "   split1_test_score  split2_test_score  split3_test_score  split4_test_score  \\\n",
       "0           0.995158           0.995094           0.995031           0.995126   \n",
       "1           0.995506           0.995063           0.994873           0.994968   \n",
       "2           0.995379           0.995284           0.995316           0.995442   \n",
       "3           0.994683           0.994430           0.994715           0.994619   \n",
       "4           0.995158           0.995094           0.995031           0.995126   \n",
       "5           0.995284           0.995094           0.994588           0.994841   \n",
       "\n",
       "   mean_test_score  std_test_score  rank_test_score  \n",
       "0         0.995120        0.000054                3  \n",
       "1         0.995164        0.000250                2  \n",
       "2         0.995436        0.000170                1  \n",
       "3         0.994632        0.000107                6  \n",
       "4         0.995120        0.000054                3  \n",
       "5         0.995037        0.000290                5  "
      ]
     },
     "execution_count": 154,
     "metadata": {},
     "output_type": "execute_result"
    }
   ],
   "source": [
    "print(\"Mejores hiperparámetros: \"+str(model.best_params_))\n",
    "print(\"Mejor Score: \"+str(model.best_score_)+'\\n')\n",
    "\n",
    "scores = pd.DataFrame(model.cv_results_)\n",
    "scores"
   ]
  },
  {
   "cell_type": "code",
   "execution_count": 156,
   "metadata": {},
   "outputs": [],
   "source": [
    "#Predecimos en los datos de test\n",
    "\n",
    "prediction = model.predict(scX_test)\n"
   ]
  },
  {
   "cell_type": "code",
   "execution_count": 157,
   "metadata": {},
   "outputs": [
    {
     "name": "stdout",
     "output_type": "stream",
     "text": [
      "El score del modelo es: 0.9957716166603368\n",
      "El recall del modelo es: 0.9921849909003319\n",
      "              precision    recall  f1-score   support\n",
      "\n",
      "           0       1.00      1.00      1.00     30154\n",
      "           1       0.99      0.99      0.99      9341\n",
      "\n",
      "    accuracy                           1.00     39495\n",
      "   macro avg       0.99      0.99      0.99     39495\n",
      "weighted avg       1.00      1.00      1.00     39495\n",
      "\n"
     ]
    }
   ],
   "source": [
    "#Se mide que tal funciona el modelo\n",
    "\n",
    "print('El score del modelo es:', accuracy_score(y_test, prediction))\n",
    "print('El recall del modelo es:', recall_score(y_test, prediction))\n",
    "print(classification_report(y_test, prediction))"
   ]
  },
  {
   "cell_type": "code",
   "execution_count": 158,
   "metadata": {},
   "outputs": [],
   "source": [
    "y_knn=model.predict(TestFinalX) #Sebas1412(1)"
   ]
  },
  {
   "cell_type": "code",
   "execution_count": 159,
   "metadata": {},
   "outputs": [],
   "source": [
    "segundo = pd.DataFrame({'pred':y_knn})"
   ]
  },
  {
   "cell_type": "code",
   "execution_count": 160,
   "metadata": {},
   "outputs": [
    {
     "data": {
      "text/plain": [
       "pred\n",
       "0       49743\n",
       "1       16107\n",
       "dtype: int64"
      ]
     },
     "execution_count": 160,
     "metadata": {},
     "output_type": "execute_result"
    }
   ],
   "source": [
    "segundo.value_counts()"
   ]
  },
  {
   "cell_type": "code",
   "execution_count": 164,
   "metadata": {},
   "outputs": [],
   "source": [
    "segundo.to_csv('Sebas1412.csv', index=False)"
   ]
  },
  {
   "cell_type": "markdown",
   "metadata": {},
   "source": [
    "Si bien ha mejorada la predicción de Recall en un 0.18, no alcanza a ser lo suficientemente bueno, además que se ve una baja del accuracy en 0.06"
   ]
  },
  {
   "cell_type": "markdown",
   "metadata": {},
   "source": [
    "Se vuelve a probar k vecinos pero con otros hiperparámetros"
   ]
  },
  {
   "cell_type": "code",
   "execution_count": 165,
   "metadata": {},
   "outputs": [],
   "source": [
    "param_dist2 = {'n_neighbors':range(6, 12),\n",
    "              'weights': ['uniform', 'distance'], \n",
    "              'leaf_size':range(3, 8),\n",
    "              'algorithm':['auto', 'kd_tree']}"
   ]
  },
  {
   "cell_type": "code",
   "execution_count": 172,
   "metadata": {},
   "outputs": [
    {
     "data": {
      "text/html": [
       "<style>#sk-container-id-13 {color: black;background-color: white;}#sk-container-id-13 pre{padding: 0;}#sk-container-id-13 div.sk-toggleable {background-color: white;}#sk-container-id-13 label.sk-toggleable__label {cursor: pointer;display: block;width: 100%;margin-bottom: 0;padding: 0.3em;box-sizing: border-box;text-align: center;}#sk-container-id-13 label.sk-toggleable__label-arrow:before {content: \"▸\";float: left;margin-right: 0.25em;color: #696969;}#sk-container-id-13 label.sk-toggleable__label-arrow:hover:before {color: black;}#sk-container-id-13 div.sk-estimator:hover label.sk-toggleable__label-arrow:before {color: black;}#sk-container-id-13 div.sk-toggleable__content {max-height: 0;max-width: 0;overflow: hidden;text-align: left;background-color: #f0f8ff;}#sk-container-id-13 div.sk-toggleable__content pre {margin: 0.2em;color: black;border-radius: 0.25em;background-color: #f0f8ff;}#sk-container-id-13 input.sk-toggleable__control:checked~div.sk-toggleable__content {max-height: 200px;max-width: 100%;overflow: auto;}#sk-container-id-13 input.sk-toggleable__control:checked~label.sk-toggleable__label-arrow:before {content: \"▾\";}#sk-container-id-13 div.sk-estimator input.sk-toggleable__control:checked~label.sk-toggleable__label {background-color: #d4ebff;}#sk-container-id-13 div.sk-label input.sk-toggleable__control:checked~label.sk-toggleable__label {background-color: #d4ebff;}#sk-container-id-13 input.sk-hidden--visually {border: 0;clip: rect(1px 1px 1px 1px);clip: rect(1px, 1px, 1px, 1px);height: 1px;margin: -1px;overflow: hidden;padding: 0;position: absolute;width: 1px;}#sk-container-id-13 div.sk-estimator {font-family: monospace;background-color: #f0f8ff;border: 1px dotted black;border-radius: 0.25em;box-sizing: border-box;margin-bottom: 0.5em;}#sk-container-id-13 div.sk-estimator:hover {background-color: #d4ebff;}#sk-container-id-13 div.sk-parallel-item::after {content: \"\";width: 100%;border-bottom: 1px solid gray;flex-grow: 1;}#sk-container-id-13 div.sk-label:hover label.sk-toggleable__label {background-color: #d4ebff;}#sk-container-id-13 div.sk-serial::before {content: \"\";position: absolute;border-left: 1px solid gray;box-sizing: border-box;top: 0;bottom: 0;left: 50%;z-index: 0;}#sk-container-id-13 div.sk-serial {display: flex;flex-direction: column;align-items: center;background-color: white;padding-right: 0.2em;padding-left: 0.2em;position: relative;}#sk-container-id-13 div.sk-item {position: relative;z-index: 1;}#sk-container-id-13 div.sk-parallel {display: flex;align-items: stretch;justify-content: center;background-color: white;position: relative;}#sk-container-id-13 div.sk-item::before, #sk-container-id-13 div.sk-parallel-item::before {content: \"\";position: absolute;border-left: 1px solid gray;box-sizing: border-box;top: 0;bottom: 0;left: 50%;z-index: -1;}#sk-container-id-13 div.sk-parallel-item {display: flex;flex-direction: column;z-index: 1;position: relative;background-color: white;}#sk-container-id-13 div.sk-parallel-item:first-child::after {align-self: flex-end;width: 50%;}#sk-container-id-13 div.sk-parallel-item:last-child::after {align-self: flex-start;width: 50%;}#sk-container-id-13 div.sk-parallel-item:only-child::after {width: 0;}#sk-container-id-13 div.sk-dashed-wrapped {border: 1px dashed gray;margin: 0 0.4em 0.5em 0.4em;box-sizing: border-box;padding-bottom: 0.4em;background-color: white;}#sk-container-id-13 div.sk-label label {font-family: monospace;font-weight: bold;display: inline-block;line-height: 1.2em;}#sk-container-id-13 div.sk-label-container {text-align: center;}#sk-container-id-13 div.sk-container {/* jupyter's `normalize.less` sets `[hidden] { display: none; }` but bootstrap.min.css set `[hidden] { display: none !important; }` so we also need the `!important` here to be able to override the default hidden behavior on the sphinx rendered scikit-learn.org. See: https://github.com/scikit-learn/scikit-learn/issues/21755 */display: inline-block !important;position: relative;}#sk-container-id-13 div.sk-text-repr-fallback {display: none;}</style><div id=\"sk-container-id-13\" class=\"sk-top-container\"><div class=\"sk-text-repr-fallback\"><pre>RandomizedSearchCV(cv=5, estimator=KNeighborsClassifier(), n_iter=7,\n",
       "                   param_distributions={&#x27;algorithm&#x27;: [&#x27;auto&#x27;, &#x27;kd_tree&#x27;],\n",
       "                                        &#x27;leaf_size&#x27;: range(3, 8),\n",
       "                                        &#x27;n_neighbors&#x27;: range(6, 12),\n",
       "                                        &#x27;weights&#x27;: [&#x27;uniform&#x27;, &#x27;distance&#x27;]},\n",
       "                   random_state=0)</pre><b>In a Jupyter environment, please rerun this cell to show the HTML representation or trust the notebook. <br />On GitHub, the HTML representation is unable to render, please try loading this page with nbviewer.org.</b></div><div class=\"sk-container\" hidden><div class=\"sk-item sk-dashed-wrapped\"><div class=\"sk-label-container\"><div class=\"sk-label sk-toggleable\"><input class=\"sk-toggleable__control sk-hidden--visually\" id=\"sk-estimator-id-17\" type=\"checkbox\" ><label for=\"sk-estimator-id-17\" class=\"sk-toggleable__label sk-toggleable__label-arrow\">RandomizedSearchCV</label><div class=\"sk-toggleable__content\"><pre>RandomizedSearchCV(cv=5, estimator=KNeighborsClassifier(), n_iter=7,\n",
       "                   param_distributions={&#x27;algorithm&#x27;: [&#x27;auto&#x27;, &#x27;kd_tree&#x27;],\n",
       "                                        &#x27;leaf_size&#x27;: range(3, 8),\n",
       "                                        &#x27;n_neighbors&#x27;: range(6, 12),\n",
       "                                        &#x27;weights&#x27;: [&#x27;uniform&#x27;, &#x27;distance&#x27;]},\n",
       "                   random_state=0)</pre></div></div></div><div class=\"sk-parallel\"><div class=\"sk-parallel-item\"><div class=\"sk-item\"><div class=\"sk-label-container\"><div class=\"sk-label sk-toggleable\"><input class=\"sk-toggleable__control sk-hidden--visually\" id=\"sk-estimator-id-18\" type=\"checkbox\" ><label for=\"sk-estimator-id-18\" class=\"sk-toggleable__label sk-toggleable__label-arrow\">estimator: KNeighborsClassifier</label><div class=\"sk-toggleable__content\"><pre>KNeighborsClassifier()</pre></div></div></div><div class=\"sk-serial\"><div class=\"sk-item\"><div class=\"sk-estimator sk-toggleable\"><input class=\"sk-toggleable__control sk-hidden--visually\" id=\"sk-estimator-id-19\" type=\"checkbox\" ><label for=\"sk-estimator-id-19\" class=\"sk-toggleable__label sk-toggleable__label-arrow\">KNeighborsClassifier</label><div class=\"sk-toggleable__content\"><pre>KNeighborsClassifier()</pre></div></div></div></div></div></div></div></div></div></div>"
      ],
      "text/plain": [
       "RandomizedSearchCV(cv=5, estimator=KNeighborsClassifier(), n_iter=7,\n",
       "                   param_distributions={'algorithm': ['auto', 'kd_tree'],\n",
       "                                        'leaf_size': range(3, 8),\n",
       "                                        'n_neighbors': range(6, 12),\n",
       "                                        'weights': ['uniform', 'distance']},\n",
       "                   random_state=0)"
      ]
     },
     "execution_count": 172,
     "metadata": {},
     "output_type": "execute_result"
    }
   ],
   "source": [
    "from sklearn.model_selection import RandomizedSearchCV\n",
    "\n",
    "knn2 = KNeighborsClassifier()\n",
    "model2 = RandomizedSearchCV(knn2, param_dist2,n_iter=7, random_state=0, cv=5)\n",
    "\n",
    "# Entrenamos knn con la grilla\n",
    "model2.fit(scX_train, yR_train)"
   ]
  },
  {
   "cell_type": "code",
   "execution_count": 173,
   "metadata": {},
   "outputs": [
    {
     "name": "stdout",
     "output_type": "stream",
     "text": [
      "Mejores hiperparámetros: {'weights': 'distance', 'n_neighbors': 11, 'leaf_size': 5, 'algorithm': 'kd_tree'}\n",
      "Mejor Score: 0.9954930709416704\n",
      "\n"
     ]
    },
    {
     "data": {
      "text/html": [
       "<div>\n",
       "<style scoped>\n",
       "    .dataframe tbody tr th:only-of-type {\n",
       "        vertical-align: middle;\n",
       "    }\n",
       "\n",
       "    .dataframe tbody tr th {\n",
       "        vertical-align: top;\n",
       "    }\n",
       "\n",
       "    .dataframe thead th {\n",
       "        text-align: right;\n",
       "    }\n",
       "</style>\n",
       "<table border=\"1\" class=\"dataframe\">\n",
       "  <thead>\n",
       "    <tr style=\"text-align: right;\">\n",
       "      <th></th>\n",
       "      <th>mean_fit_time</th>\n",
       "      <th>std_fit_time</th>\n",
       "      <th>mean_score_time</th>\n",
       "      <th>std_score_time</th>\n",
       "      <th>param_weights</th>\n",
       "      <th>param_n_neighbors</th>\n",
       "      <th>param_leaf_size</th>\n",
       "      <th>param_algorithm</th>\n",
       "      <th>params</th>\n",
       "      <th>split0_test_score</th>\n",
       "      <th>split1_test_score</th>\n",
       "      <th>split2_test_score</th>\n",
       "      <th>split3_test_score</th>\n",
       "      <th>split4_test_score</th>\n",
       "      <th>mean_test_score</th>\n",
       "      <th>std_test_score</th>\n",
       "      <th>rank_test_score</th>\n",
       "    </tr>\n",
       "  </thead>\n",
       "  <tbody>\n",
       "    <tr>\n",
       "      <th>0</th>\n",
       "      <td>0.732384</td>\n",
       "      <td>0.119111</td>\n",
       "      <td>45.734231</td>\n",
       "      <td>2.690269</td>\n",
       "      <td>uniform</td>\n",
       "      <td>6</td>\n",
       "      <td>7</td>\n",
       "      <td>auto</td>\n",
       "      <td>{'weights': 'uniform', 'n_neighbors': 6, 'leaf...</td>\n",
       "      <td>0.995379</td>\n",
       "      <td>0.995063</td>\n",
       "      <td>0.994936</td>\n",
       "      <td>0.994968</td>\n",
       "      <td>0.994619</td>\n",
       "      <td>0.994993</td>\n",
       "      <td>0.000244</td>\n",
       "      <td>4</td>\n",
       "    </tr>\n",
       "    <tr>\n",
       "      <th>1</th>\n",
       "      <td>0.695472</td>\n",
       "      <td>0.100545</td>\n",
       "      <td>42.014450</td>\n",
       "      <td>3.121819</td>\n",
       "      <td>uniform</td>\n",
       "      <td>11</td>\n",
       "      <td>5</td>\n",
       "      <td>kd_tree</td>\n",
       "      <td>{'weights': 'uniform', 'n_neighbors': 11, 'lea...</td>\n",
       "      <td>0.994999</td>\n",
       "      <td>0.994430</td>\n",
       "      <td>0.994904</td>\n",
       "      <td>0.994651</td>\n",
       "      <td>0.994398</td>\n",
       "      <td>0.994677</td>\n",
       "      <td>0.000243</td>\n",
       "      <td>6</td>\n",
       "    </tr>\n",
       "    <tr>\n",
       "      <th>2</th>\n",
       "      <td>0.677911</td>\n",
       "      <td>0.034043</td>\n",
       "      <td>40.699409</td>\n",
       "      <td>3.291660</td>\n",
       "      <td>distance</td>\n",
       "      <td>11</td>\n",
       "      <td>5</td>\n",
       "      <td>kd_tree</td>\n",
       "      <td>{'weights': 'distance', 'n_neighbors': 11, 'le...</td>\n",
       "      <td>0.995854</td>\n",
       "      <td>0.995411</td>\n",
       "      <td>0.995442</td>\n",
       "      <td>0.995411</td>\n",
       "      <td>0.995347</td>\n",
       "      <td>0.995493</td>\n",
       "      <td>0.000183</td>\n",
       "      <td>1</td>\n",
       "    </tr>\n",
       "    <tr>\n",
       "      <th>3</th>\n",
       "      <td>0.709964</td>\n",
       "      <td>0.024718</td>\n",
       "      <td>62.639510</td>\n",
       "      <td>2.361283</td>\n",
       "      <td>uniform</td>\n",
       "      <td>10</td>\n",
       "      <td>3</td>\n",
       "      <td>auto</td>\n",
       "      <td>{'weights': 'uniform', 'n_neighbors': 10, 'lea...</td>\n",
       "      <td>0.995094</td>\n",
       "      <td>0.994398</td>\n",
       "      <td>0.995063</td>\n",
       "      <td>0.994746</td>\n",
       "      <td>0.994271</td>\n",
       "      <td>0.994714</td>\n",
       "      <td>0.000336</td>\n",
       "      <td>5</td>\n",
       "    </tr>\n",
       "    <tr>\n",
       "      <th>4</th>\n",
       "      <td>0.778921</td>\n",
       "      <td>0.254720</td>\n",
       "      <td>40.617176</td>\n",
       "      <td>3.505194</td>\n",
       "      <td>distance</td>\n",
       "      <td>6</td>\n",
       "      <td>6</td>\n",
       "      <td>kd_tree</td>\n",
       "      <td>{'weights': 'distance', 'n_neighbors': 6, 'lea...</td>\n",
       "      <td>0.995759</td>\n",
       "      <td>0.995379</td>\n",
       "      <td>0.995284</td>\n",
       "      <td>0.995316</td>\n",
       "      <td>0.995442</td>\n",
       "      <td>0.995436</td>\n",
       "      <td>0.000170</td>\n",
       "      <td>2</td>\n",
       "    </tr>\n",
       "    <tr>\n",
       "      <th>5</th>\n",
       "      <td>0.871459</td>\n",
       "      <td>0.422124</td>\n",
       "      <td>42.804848</td>\n",
       "      <td>2.836368</td>\n",
       "      <td>uniform</td>\n",
       "      <td>11</td>\n",
       "      <td>4</td>\n",
       "      <td>auto</td>\n",
       "      <td>{'weights': 'uniform', 'n_neighbors': 11, 'lea...</td>\n",
       "      <td>0.994999</td>\n",
       "      <td>0.994430</td>\n",
       "      <td>0.994904</td>\n",
       "      <td>0.994651</td>\n",
       "      <td>0.994398</td>\n",
       "      <td>0.994677</td>\n",
       "      <td>0.000243</td>\n",
       "      <td>6</td>\n",
       "    </tr>\n",
       "    <tr>\n",
       "      <th>6</th>\n",
       "      <td>1.004562</td>\n",
       "      <td>0.414258</td>\n",
       "      <td>58.091850</td>\n",
       "      <td>1.143872</td>\n",
       "      <td>distance</td>\n",
       "      <td>9</td>\n",
       "      <td>3</td>\n",
       "      <td>auto</td>\n",
       "      <td>{'weights': 'distance', 'n_neighbors': 9, 'lea...</td>\n",
       "      <td>0.995696</td>\n",
       "      <td>0.995379</td>\n",
       "      <td>0.995379</td>\n",
       "      <td>0.995348</td>\n",
       "      <td>0.995379</td>\n",
       "      <td>0.995436</td>\n",
       "      <td>0.000130</td>\n",
       "      <td>3</td>\n",
       "    </tr>\n",
       "  </tbody>\n",
       "</table>\n",
       "</div>"
      ],
      "text/plain": [
       "   mean_fit_time  std_fit_time  mean_score_time  std_score_time param_weights  \\\n",
       "0       0.732384      0.119111        45.734231        2.690269       uniform   \n",
       "1       0.695472      0.100545        42.014450        3.121819       uniform   \n",
       "2       0.677911      0.034043        40.699409        3.291660      distance   \n",
       "3       0.709964      0.024718        62.639510        2.361283       uniform   \n",
       "4       0.778921      0.254720        40.617176        3.505194      distance   \n",
       "5       0.871459      0.422124        42.804848        2.836368       uniform   \n",
       "6       1.004562      0.414258        58.091850        1.143872      distance   \n",
       "\n",
       "  param_n_neighbors param_leaf_size param_algorithm  \\\n",
       "0                 6               7            auto   \n",
       "1                11               5         kd_tree   \n",
       "2                11               5         kd_tree   \n",
       "3                10               3            auto   \n",
       "4                 6               6         kd_tree   \n",
       "5                11               4            auto   \n",
       "6                 9               3            auto   \n",
       "\n",
       "                                              params  split0_test_score  \\\n",
       "0  {'weights': 'uniform', 'n_neighbors': 6, 'leaf...           0.995379   \n",
       "1  {'weights': 'uniform', 'n_neighbors': 11, 'lea...           0.994999   \n",
       "2  {'weights': 'distance', 'n_neighbors': 11, 'le...           0.995854   \n",
       "3  {'weights': 'uniform', 'n_neighbors': 10, 'lea...           0.995094   \n",
       "4  {'weights': 'distance', 'n_neighbors': 6, 'lea...           0.995759   \n",
       "5  {'weights': 'uniform', 'n_neighbors': 11, 'lea...           0.994999   \n",
       "6  {'weights': 'distance', 'n_neighbors': 9, 'lea...           0.995696   \n",
       "\n",
       "   split1_test_score  split2_test_score  split3_test_score  split4_test_score  \\\n",
       "0           0.995063           0.994936           0.994968           0.994619   \n",
       "1           0.994430           0.994904           0.994651           0.994398   \n",
       "2           0.995411           0.995442           0.995411           0.995347   \n",
       "3           0.994398           0.995063           0.994746           0.994271   \n",
       "4           0.995379           0.995284           0.995316           0.995442   \n",
       "5           0.994430           0.994904           0.994651           0.994398   \n",
       "6           0.995379           0.995379           0.995348           0.995379   \n",
       "\n",
       "   mean_test_score  std_test_score  rank_test_score  \n",
       "0         0.994993        0.000244                4  \n",
       "1         0.994677        0.000243                6  \n",
       "2         0.995493        0.000183                1  \n",
       "3         0.994714        0.000336                5  \n",
       "4         0.995436        0.000170                2  \n",
       "5         0.994677        0.000243                6  \n",
       "6         0.995436        0.000130                3  "
      ]
     },
     "execution_count": 173,
     "metadata": {},
     "output_type": "execute_result"
    }
   ],
   "source": [
    "print(\"Mejores hiperparámetros: \"+str(model2.best_params_))\n",
    "print(\"Mejor Score: \"+str(model2.best_score_)+'\\n')\n",
    "\n",
    "scores2 = pd.DataFrame(model2.cv_results_)\n",
    "scores2"
   ]
  },
  {
   "cell_type": "code",
   "execution_count": 174,
   "metadata": {},
   "outputs": [],
   "source": [
    "#Predecimos en los datos de test\n",
    "\n",
    "prediction2 = model2.predict(scX_test)"
   ]
  },
  {
   "cell_type": "code",
   "execution_count": 178,
   "metadata": {},
   "outputs": [
    {
     "name": "stdout",
     "output_type": "stream",
     "text": [
      "El score del modelo es: 0.9957462969996203\n",
      "El recall del modelo es: 0.992399100738679\n",
      "              precision    recall  f1-score   support\n",
      "\n",
      "           0       1.00      1.00      1.00     30154\n",
      "           1       0.99      0.99      0.99      9341\n",
      "\n",
      "    accuracy                           1.00     39495\n",
      "   macro avg       0.99      0.99      0.99     39495\n",
      "weighted avg       1.00      1.00      1.00     39495\n",
      "\n"
     ]
    }
   ],
   "source": [
    "#Se mide que tal funciona el modelo\n",
    "\n",
    "print('El score del modelo es:', accuracy_score(y_test, prediction2))\n",
    "print('El recall del modelo es:', recall_score(y_test, prediction2))\n",
    "print(classification_report(y_test, prediction2))"
   ]
  },
  {
   "cell_type": "code",
   "execution_count": 177,
   "metadata": {},
   "outputs": [],
   "source": [
    "y_knn2=model2.predict(TestFinalX) #Sebas1412(2)"
   ]
  },
  {
   "cell_type": "code",
   "execution_count": 179,
   "metadata": {},
   "outputs": [],
   "source": [
    "tercero = pd.DataFrame({'pred':y_knn2})"
   ]
  },
  {
   "cell_type": "code",
   "execution_count": 180,
   "metadata": {},
   "outputs": [
    {
     "data": {
      "text/plain": [
       "pred\n",
       "0       53771\n",
       "1       12079\n",
       "dtype: int64"
      ]
     },
     "execution_count": 180,
     "metadata": {},
     "output_type": "execute_result"
    }
   ],
   "source": [
    "tercero.value_counts()"
   ]
  },
  {
   "cell_type": "code",
   "execution_count": 181,
   "metadata": {},
   "outputs": [],
   "source": [
    "tercero.to_csv('Sebas1412.csv', index=False)"
   ]
  },
  {
   "cell_type": "markdown",
   "metadata": {},
   "source": [
    "Tiene una performance peor que la anterior, parece que al aumentar el numero de vecinos, hace más complicado la performance del mismo con valores no conocidos."
   ]
  },
  {
   "cell_type": "markdown",
   "metadata": {},
   "source": [
    "Como se llega a la conclusión de que ya no se puede mejorar el modelo con knn, se empieza a probar con random forest classifier"
   ]
  },
  {
   "cell_type": "code",
   "execution_count": 182,
   "metadata": {},
   "outputs": [],
   "source": [
    "modelclf = RandomForestClassifier(n_estimators=100,max_depth=10, random_state = 0)"
   ]
  },
  {
   "cell_type": "code",
   "execution_count": 183,
   "metadata": {},
   "outputs": [
    {
     "data": {
      "text/html": [
       "<style>#sk-container-id-14 {color: black;background-color: white;}#sk-container-id-14 pre{padding: 0;}#sk-container-id-14 div.sk-toggleable {background-color: white;}#sk-container-id-14 label.sk-toggleable__label {cursor: pointer;display: block;width: 100%;margin-bottom: 0;padding: 0.3em;box-sizing: border-box;text-align: center;}#sk-container-id-14 label.sk-toggleable__label-arrow:before {content: \"▸\";float: left;margin-right: 0.25em;color: #696969;}#sk-container-id-14 label.sk-toggleable__label-arrow:hover:before {color: black;}#sk-container-id-14 div.sk-estimator:hover label.sk-toggleable__label-arrow:before {color: black;}#sk-container-id-14 div.sk-toggleable__content {max-height: 0;max-width: 0;overflow: hidden;text-align: left;background-color: #f0f8ff;}#sk-container-id-14 div.sk-toggleable__content pre {margin: 0.2em;color: black;border-radius: 0.25em;background-color: #f0f8ff;}#sk-container-id-14 input.sk-toggleable__control:checked~div.sk-toggleable__content {max-height: 200px;max-width: 100%;overflow: auto;}#sk-container-id-14 input.sk-toggleable__control:checked~label.sk-toggleable__label-arrow:before {content: \"▾\";}#sk-container-id-14 div.sk-estimator input.sk-toggleable__control:checked~label.sk-toggleable__label {background-color: #d4ebff;}#sk-container-id-14 div.sk-label input.sk-toggleable__control:checked~label.sk-toggleable__label {background-color: #d4ebff;}#sk-container-id-14 input.sk-hidden--visually {border: 0;clip: rect(1px 1px 1px 1px);clip: rect(1px, 1px, 1px, 1px);height: 1px;margin: -1px;overflow: hidden;padding: 0;position: absolute;width: 1px;}#sk-container-id-14 div.sk-estimator {font-family: monospace;background-color: #f0f8ff;border: 1px dotted black;border-radius: 0.25em;box-sizing: border-box;margin-bottom: 0.5em;}#sk-container-id-14 div.sk-estimator:hover {background-color: #d4ebff;}#sk-container-id-14 div.sk-parallel-item::after {content: \"\";width: 100%;border-bottom: 1px solid gray;flex-grow: 1;}#sk-container-id-14 div.sk-label:hover label.sk-toggleable__label {background-color: #d4ebff;}#sk-container-id-14 div.sk-serial::before {content: \"\";position: absolute;border-left: 1px solid gray;box-sizing: border-box;top: 0;bottom: 0;left: 50%;z-index: 0;}#sk-container-id-14 div.sk-serial {display: flex;flex-direction: column;align-items: center;background-color: white;padding-right: 0.2em;padding-left: 0.2em;position: relative;}#sk-container-id-14 div.sk-item {position: relative;z-index: 1;}#sk-container-id-14 div.sk-parallel {display: flex;align-items: stretch;justify-content: center;background-color: white;position: relative;}#sk-container-id-14 div.sk-item::before, #sk-container-id-14 div.sk-parallel-item::before {content: \"\";position: absolute;border-left: 1px solid gray;box-sizing: border-box;top: 0;bottom: 0;left: 50%;z-index: -1;}#sk-container-id-14 div.sk-parallel-item {display: flex;flex-direction: column;z-index: 1;position: relative;background-color: white;}#sk-container-id-14 div.sk-parallel-item:first-child::after {align-self: flex-end;width: 50%;}#sk-container-id-14 div.sk-parallel-item:last-child::after {align-self: flex-start;width: 50%;}#sk-container-id-14 div.sk-parallel-item:only-child::after {width: 0;}#sk-container-id-14 div.sk-dashed-wrapped {border: 1px dashed gray;margin: 0 0.4em 0.5em 0.4em;box-sizing: border-box;padding-bottom: 0.4em;background-color: white;}#sk-container-id-14 div.sk-label label {font-family: monospace;font-weight: bold;display: inline-block;line-height: 1.2em;}#sk-container-id-14 div.sk-label-container {text-align: center;}#sk-container-id-14 div.sk-container {/* jupyter's `normalize.less` sets `[hidden] { display: none; }` but bootstrap.min.css set `[hidden] { display: none !important; }` so we also need the `!important` here to be able to override the default hidden behavior on the sphinx rendered scikit-learn.org. See: https://github.com/scikit-learn/scikit-learn/issues/21755 */display: inline-block !important;position: relative;}#sk-container-id-14 div.sk-text-repr-fallback {display: none;}</style><div id=\"sk-container-id-14\" class=\"sk-top-container\"><div class=\"sk-text-repr-fallback\"><pre>RandomForestClassifier(max_depth=10, random_state=0)</pre><b>In a Jupyter environment, please rerun this cell to show the HTML representation or trust the notebook. <br />On GitHub, the HTML representation is unable to render, please try loading this page with nbviewer.org.</b></div><div class=\"sk-container\" hidden><div class=\"sk-item\"><div class=\"sk-estimator sk-toggleable\"><input class=\"sk-toggleable__control sk-hidden--visually\" id=\"sk-estimator-id-20\" type=\"checkbox\" checked><label for=\"sk-estimator-id-20\" class=\"sk-toggleable__label sk-toggleable__label-arrow\">RandomForestClassifier</label><div class=\"sk-toggleable__content\"><pre>RandomForestClassifier(max_depth=10, random_state=0)</pre></div></div></div></div></div>"
      ],
      "text/plain": [
       "RandomForestClassifier(max_depth=10, random_state=0)"
      ]
     },
     "execution_count": 183,
     "metadata": {},
     "output_type": "execute_result"
    }
   ],
   "source": [
    "modelclf.fit(scX_train, yR_train)"
   ]
  },
  {
   "cell_type": "code",
   "execution_count": 184,
   "metadata": {},
   "outputs": [],
   "source": [
    "predictionclf = modelclf.predict(scX_test)"
   ]
  },
  {
   "cell_type": "code",
   "execution_count": 185,
   "metadata": {},
   "outputs": [
    {
     "name": "stdout",
     "output_type": "stream",
     "text": [
      "El score del modelo es: 0.9963033295353843\n",
      "El recall del modelo es: 0.9934696499304143\n",
      "              precision    recall  f1-score   support\n",
      "\n",
      "           0       1.00      1.00      1.00     30154\n",
      "           1       0.99      0.99      0.99      9341\n",
      "\n",
      "    accuracy                           1.00     39495\n",
      "   macro avg       0.99      1.00      0.99     39495\n",
      "weighted avg       1.00      1.00      1.00     39495\n",
      "\n"
     ]
    }
   ],
   "source": [
    "print('El score del modelo es:', accuracy_score(y_test, predictionclf))\n",
    "print('El recall del modelo es:', recall_score(y_test, predictionclf))\n",
    "print(classification_report(y_test, predictionclf))"
   ]
  },
  {
   "cell_type": "code",
   "execution_count": 186,
   "metadata": {},
   "outputs": [],
   "source": [
    "y_clf=modelclf.predict(TestFinalX) #Sebas1412(3)"
   ]
  },
  {
   "cell_type": "code",
   "execution_count": 187,
   "metadata": {},
   "outputs": [],
   "source": [
    "terceroclf = pd.DataFrame({'pred':y_clf})\n",
    "terceroclf.value_counts()"
   ]
  },
  {
   "cell_type": "code",
   "execution_count": 189,
   "metadata": {},
   "outputs": [],
   "source": [
    "terceroclf.to_csv('Sebas1412.csv', index=False)"
   ]
  },
  {
   "cell_type": "markdown",
   "metadata": {},
   "source": [
    "Se comprueba que hay un aumento considerable en los score aunque sigue siendo pobre el modelo, pero se ve que random classifier se adapta mejor que vecinos más cercanos"
   ]
  },
  {
   "cell_type": "markdown",
   "metadata": {},
   "source": [
    "Teniendo en cuenta el resultado anterior, se prueba un randomizedSearch para ver si se encuentra una mejor performance"
   ]
  },
  {
   "cell_type": "code",
   "execution_count": 191,
   "metadata": {},
   "outputs": [],
   "source": [
    "colombiaTestX.to_csv('colombiaNorm.csv', index = False)"
   ]
  },
  {
   "cell_type": "code",
   "execution_count": 204,
   "metadata": {},
   "outputs": [],
   "source": [
    "param_dist3 = {'n_estimators':sp.stats.randint(1,101),\n",
    "              'max_depth': sp.stats.randint(2,25), \n",
    "              'n_jobs':[-1],\n",
    "              'random_state':[0],\n",
    "              'criterion' :[\"gini\", \"entropy\", \"log_loss\"]\n",
    "              }"
   ]
  },
  {
   "cell_type": "code",
   "execution_count": 205,
   "metadata": {},
   "outputs": [
    {
     "data": {
      "text/html": [
       "<style>#sk-container-id-17 {color: black;background-color: white;}#sk-container-id-17 pre{padding: 0;}#sk-container-id-17 div.sk-toggleable {background-color: white;}#sk-container-id-17 label.sk-toggleable__label {cursor: pointer;display: block;width: 100%;margin-bottom: 0;padding: 0.3em;box-sizing: border-box;text-align: center;}#sk-container-id-17 label.sk-toggleable__label-arrow:before {content: \"▸\";float: left;margin-right: 0.25em;color: #696969;}#sk-container-id-17 label.sk-toggleable__label-arrow:hover:before {color: black;}#sk-container-id-17 div.sk-estimator:hover label.sk-toggleable__label-arrow:before {color: black;}#sk-container-id-17 div.sk-toggleable__content {max-height: 0;max-width: 0;overflow: hidden;text-align: left;background-color: #f0f8ff;}#sk-container-id-17 div.sk-toggleable__content pre {margin: 0.2em;color: black;border-radius: 0.25em;background-color: #f0f8ff;}#sk-container-id-17 input.sk-toggleable__control:checked~div.sk-toggleable__content {max-height: 200px;max-width: 100%;overflow: auto;}#sk-container-id-17 input.sk-toggleable__control:checked~label.sk-toggleable__label-arrow:before {content: \"▾\";}#sk-container-id-17 div.sk-estimator input.sk-toggleable__control:checked~label.sk-toggleable__label {background-color: #d4ebff;}#sk-container-id-17 div.sk-label input.sk-toggleable__control:checked~label.sk-toggleable__label {background-color: #d4ebff;}#sk-container-id-17 input.sk-hidden--visually {border: 0;clip: rect(1px 1px 1px 1px);clip: rect(1px, 1px, 1px, 1px);height: 1px;margin: -1px;overflow: hidden;padding: 0;position: absolute;width: 1px;}#sk-container-id-17 div.sk-estimator {font-family: monospace;background-color: #f0f8ff;border: 1px dotted black;border-radius: 0.25em;box-sizing: border-box;margin-bottom: 0.5em;}#sk-container-id-17 div.sk-estimator:hover {background-color: #d4ebff;}#sk-container-id-17 div.sk-parallel-item::after {content: \"\";width: 100%;border-bottom: 1px solid gray;flex-grow: 1;}#sk-container-id-17 div.sk-label:hover label.sk-toggleable__label {background-color: #d4ebff;}#sk-container-id-17 div.sk-serial::before {content: \"\";position: absolute;border-left: 1px solid gray;box-sizing: border-box;top: 0;bottom: 0;left: 50%;z-index: 0;}#sk-container-id-17 div.sk-serial {display: flex;flex-direction: column;align-items: center;background-color: white;padding-right: 0.2em;padding-left: 0.2em;position: relative;}#sk-container-id-17 div.sk-item {position: relative;z-index: 1;}#sk-container-id-17 div.sk-parallel {display: flex;align-items: stretch;justify-content: center;background-color: white;position: relative;}#sk-container-id-17 div.sk-item::before, #sk-container-id-17 div.sk-parallel-item::before {content: \"\";position: absolute;border-left: 1px solid gray;box-sizing: border-box;top: 0;bottom: 0;left: 50%;z-index: -1;}#sk-container-id-17 div.sk-parallel-item {display: flex;flex-direction: column;z-index: 1;position: relative;background-color: white;}#sk-container-id-17 div.sk-parallel-item:first-child::after {align-self: flex-end;width: 50%;}#sk-container-id-17 div.sk-parallel-item:last-child::after {align-self: flex-start;width: 50%;}#sk-container-id-17 div.sk-parallel-item:only-child::after {width: 0;}#sk-container-id-17 div.sk-dashed-wrapped {border: 1px dashed gray;margin: 0 0.4em 0.5em 0.4em;box-sizing: border-box;padding-bottom: 0.4em;background-color: white;}#sk-container-id-17 div.sk-label label {font-family: monospace;font-weight: bold;display: inline-block;line-height: 1.2em;}#sk-container-id-17 div.sk-label-container {text-align: center;}#sk-container-id-17 div.sk-container {/* jupyter's `normalize.less` sets `[hidden] { display: none; }` but bootstrap.min.css set `[hidden] { display: none !important; }` so we also need the `!important` here to be able to override the default hidden behavior on the sphinx rendered scikit-learn.org. See: https://github.com/scikit-learn/scikit-learn/issues/21755 */display: inline-block !important;position: relative;}#sk-container-id-17 div.sk-text-repr-fallback {display: none;}</style><div id=\"sk-container-id-17\" class=\"sk-top-container\"><div class=\"sk-text-repr-fallback\"><pre>RandomizedSearchCV(cv=5, estimator=RandomForestClassifier(), n_iter=100,\n",
       "                   param_distributions={&#x27;criterion&#x27;: [&#x27;gini&#x27;, &#x27;entropy&#x27;,\n",
       "                                                      &#x27;log_loss&#x27;],\n",
       "                                        &#x27;max_depth&#x27;: &lt;scipy.stats._distn_infrastructure.rv_discrete_frozen object at 0x0000019958F43D60&gt;,\n",
       "                                        &#x27;n_estimators&#x27;: &lt;scipy.stats._distn_infrastructure.rv_discrete_frozen object at 0x0000019958F8E8F0&gt;,\n",
       "                                        &#x27;n_jobs&#x27;: [-1], &#x27;random_state&#x27;: [0]},\n",
       "                   random_state=0)</pre><b>In a Jupyter environment, please rerun this cell to show the HTML representation or trust the notebook. <br />On GitHub, the HTML representation is unable to render, please try loading this page with nbviewer.org.</b></div><div class=\"sk-container\" hidden><div class=\"sk-item sk-dashed-wrapped\"><div class=\"sk-label-container\"><div class=\"sk-label sk-toggleable\"><input class=\"sk-toggleable__control sk-hidden--visually\" id=\"sk-estimator-id-23\" type=\"checkbox\" ><label for=\"sk-estimator-id-23\" class=\"sk-toggleable__label sk-toggleable__label-arrow\">RandomizedSearchCV</label><div class=\"sk-toggleable__content\"><pre>RandomizedSearchCV(cv=5, estimator=RandomForestClassifier(), n_iter=100,\n",
       "                   param_distributions={&#x27;criterion&#x27;: [&#x27;gini&#x27;, &#x27;entropy&#x27;,\n",
       "                                                      &#x27;log_loss&#x27;],\n",
       "                                        &#x27;max_depth&#x27;: &lt;scipy.stats._distn_infrastructure.rv_discrete_frozen object at 0x0000019958F43D60&gt;,\n",
       "                                        &#x27;n_estimators&#x27;: &lt;scipy.stats._distn_infrastructure.rv_discrete_frozen object at 0x0000019958F8E8F0&gt;,\n",
       "                                        &#x27;n_jobs&#x27;: [-1], &#x27;random_state&#x27;: [0]},\n",
       "                   random_state=0)</pre></div></div></div><div class=\"sk-parallel\"><div class=\"sk-parallel-item\"><div class=\"sk-item\"><div class=\"sk-label-container\"><div class=\"sk-label sk-toggleable\"><input class=\"sk-toggleable__control sk-hidden--visually\" id=\"sk-estimator-id-24\" type=\"checkbox\" ><label for=\"sk-estimator-id-24\" class=\"sk-toggleable__label sk-toggleable__label-arrow\">estimator: RandomForestClassifier</label><div class=\"sk-toggleable__content\"><pre>RandomForestClassifier()</pre></div></div></div><div class=\"sk-serial\"><div class=\"sk-item\"><div class=\"sk-estimator sk-toggleable\"><input class=\"sk-toggleable__control sk-hidden--visually\" id=\"sk-estimator-id-25\" type=\"checkbox\" ><label for=\"sk-estimator-id-25\" class=\"sk-toggleable__label sk-toggleable__label-arrow\">RandomForestClassifier</label><div class=\"sk-toggleable__content\"><pre>RandomForestClassifier()</pre></div></div></div></div></div></div></div></div></div></div>"
      ],
      "text/plain": [
       "RandomizedSearchCV(cv=5, estimator=RandomForestClassifier(), n_iter=100,\n",
       "                   param_distributions={'criterion': ['gini', 'entropy',\n",
       "                                                      'log_loss'],\n",
       "                                        'max_depth': <scipy.stats._distn_infrastructure.rv_discrete_frozen object at 0x0000019958F43D60>,\n",
       "                                        'n_estimators': <scipy.stats._distn_infrastructure.rv_discrete_frozen object at 0x0000019958F8E8F0>,\n",
       "                                        'n_jobs': [-1], 'random_state': [0]},\n",
       "                   random_state=0)"
      ]
     },
     "execution_count": 205,
     "metadata": {},
     "output_type": "execute_result"
    }
   ],
   "source": [
    "clf2 = RandomForestClassifier()\n",
    "model4 = RandomizedSearchCV(clf2, param_dist3,n_iter=100, random_state=0, cv=5)\n",
    "\n",
    "# Entrenamos knn con la grilla\n",
    "model4.fit(scX_train, yR_train)"
   ]
  },
  {
   "cell_type": "code",
   "execution_count": 206,
   "metadata": {},
   "outputs": [
    {
     "name": "stdout",
     "output_type": "stream",
     "text": [
      "Mejores hiperparámetros: {'criterion': 'gini', 'max_depth': 13, 'n_estimators': 85, 'n_jobs': -1, 'random_state': 0}\n",
      "Mejor Score: 0.9961577162427346\n",
      "\n"
     ]
    },
    {
     "data": {
      "text/html": [
       "<div>\n",
       "<style scoped>\n",
       "    .dataframe tbody tr th:only-of-type {\n",
       "        vertical-align: middle;\n",
       "    }\n",
       "\n",
       "    .dataframe tbody tr th {\n",
       "        vertical-align: top;\n",
       "    }\n",
       "\n",
       "    .dataframe thead th {\n",
       "        text-align: right;\n",
       "    }\n",
       "</style>\n",
       "<table border=\"1\" class=\"dataframe\">\n",
       "  <thead>\n",
       "    <tr style=\"text-align: right;\">\n",
       "      <th></th>\n",
       "      <th>mean_fit_time</th>\n",
       "      <th>std_fit_time</th>\n",
       "      <th>mean_score_time</th>\n",
       "      <th>std_score_time</th>\n",
       "      <th>param_criterion</th>\n",
       "      <th>param_max_depth</th>\n",
       "      <th>param_n_estimators</th>\n",
       "      <th>param_n_jobs</th>\n",
       "      <th>param_random_state</th>\n",
       "      <th>params</th>\n",
       "      <th>split0_test_score</th>\n",
       "      <th>split1_test_score</th>\n",
       "      <th>split2_test_score</th>\n",
       "      <th>split3_test_score</th>\n",
       "      <th>split4_test_score</th>\n",
       "      <th>mean_test_score</th>\n",
       "      <th>std_test_score</th>\n",
       "      <th>rank_test_score</th>\n",
       "    </tr>\n",
       "  </thead>\n",
       "  <tbody>\n",
       "    <tr>\n",
       "      <th>0</th>\n",
       "      <td>6.113188</td>\n",
       "      <td>4.326442</td>\n",
       "      <td>0.148432</td>\n",
       "      <td>0.020099</td>\n",
       "      <td>gini</td>\n",
       "      <td>17</td>\n",
       "      <td>65</td>\n",
       "      <td>-1</td>\n",
       "      <td>0</td>\n",
       "      <td>{'criterion': 'gini', 'max_depth': 17, 'n_esti...</td>\n",
       "      <td>0.995949</td>\n",
       "      <td>0.995981</td>\n",
       "      <td>0.995854</td>\n",
       "      <td>0.995442</td>\n",
       "      <td>0.995790</td>\n",
       "      <td>0.995803</td>\n",
       "      <td>0.000193</td>\n",
       "      <td>31</td>\n",
       "    </tr>\n",
       "    <tr>\n",
       "      <th>1</th>\n",
       "      <td>1.295043</td>\n",
       "      <td>0.043992</td>\n",
       "      <td>0.052732</td>\n",
       "      <td>0.002880</td>\n",
       "      <td>entropy</td>\n",
       "      <td>21</td>\n",
       "      <td>22</td>\n",
       "      <td>-1</td>\n",
       "      <td>0</td>\n",
       "      <td>{'criterion': 'entropy', 'max_depth': 21, 'n_e...</td>\n",
       "      <td>0.996012</td>\n",
       "      <td>0.995886</td>\n",
       "      <td>0.995696</td>\n",
       "      <td>0.995379</td>\n",
       "      <td>0.995664</td>\n",
       "      <td>0.995727</td>\n",
       "      <td>0.000216</td>\n",
       "      <td>48</td>\n",
       "    </tr>\n",
       "    <tr>\n",
       "      <th>2</th>\n",
       "      <td>3.686666</td>\n",
       "      <td>0.144124</td>\n",
       "      <td>0.161968</td>\n",
       "      <td>0.012119</td>\n",
       "      <td>log_loss</td>\n",
       "      <td>6</td>\n",
       "      <td>88</td>\n",
       "      <td>-1</td>\n",
       "      <td>0</td>\n",
       "      <td>{'criterion': 'log_loss', 'max_depth': 6, 'n_e...</td>\n",
       "      <td>0.994018</td>\n",
       "      <td>0.994493</td>\n",
       "      <td>0.994176</td>\n",
       "      <td>0.993512</td>\n",
       "      <td>0.994113</td>\n",
       "      <td>0.994063</td>\n",
       "      <td>0.000318</td>\n",
       "      <td>70</td>\n",
       "    </tr>\n",
       "    <tr>\n",
       "      <th>3</th>\n",
       "      <td>3.235635</td>\n",
       "      <td>0.063837</td>\n",
       "      <td>0.124367</td>\n",
       "      <td>0.002423</td>\n",
       "      <td>log_loss</td>\n",
       "      <td>14</td>\n",
       "      <td>59</td>\n",
       "      <td>-1</td>\n",
       "      <td>0</td>\n",
       "      <td>{'criterion': 'log_loss', 'max_depth': 14, 'n_...</td>\n",
       "      <td>0.996012</td>\n",
       "      <td>0.996234</td>\n",
       "      <td>0.996075</td>\n",
       "      <td>0.995601</td>\n",
       "      <td>0.995664</td>\n",
       "      <td>0.995917</td>\n",
       "      <td>0.000244</td>\n",
       "      <td>23</td>\n",
       "    </tr>\n",
       "    <tr>\n",
       "      <th>4</th>\n",
       "      <td>1.997682</td>\n",
       "      <td>0.048705</td>\n",
       "      <td>0.083161</td>\n",
       "      <td>0.002921</td>\n",
       "      <td>entropy</td>\n",
       "      <td>8</td>\n",
       "      <td>40</td>\n",
       "      <td>-1</td>\n",
       "      <td>0</td>\n",
       "      <td>{'criterion': 'entropy', 'max_depth': 8, 'n_es...</td>\n",
       "      <td>0.996012</td>\n",
       "      <td>0.995917</td>\n",
       "      <td>0.996107</td>\n",
       "      <td>0.995221</td>\n",
       "      <td>0.996329</td>\n",
       "      <td>0.995917</td>\n",
       "      <td>0.000374</td>\n",
       "      <td>22</td>\n",
       "    </tr>\n",
       "    <tr>\n",
       "      <th>...</th>\n",
       "      <td>...</td>\n",
       "      <td>...</td>\n",
       "      <td>...</td>\n",
       "      <td>...</td>\n",
       "      <td>...</td>\n",
       "      <td>...</td>\n",
       "      <td>...</td>\n",
       "      <td>...</td>\n",
       "      <td>...</td>\n",
       "      <td>...</td>\n",
       "      <td>...</td>\n",
       "      <td>...</td>\n",
       "      <td>...</td>\n",
       "      <td>...</td>\n",
       "      <td>...</td>\n",
       "      <td>...</td>\n",
       "      <td>...</td>\n",
       "      <td>...</td>\n",
       "    </tr>\n",
       "    <tr>\n",
       "      <th>95</th>\n",
       "      <td>1.966703</td>\n",
       "      <td>0.173978</td>\n",
       "      <td>0.096759</td>\n",
       "      <td>0.008216</td>\n",
       "      <td>entropy</td>\n",
       "      <td>14</td>\n",
       "      <td>45</td>\n",
       "      <td>-1</td>\n",
       "      <td>0</td>\n",
       "      <td>{'criterion': 'entropy', 'max_depth': 14, 'n_e...</td>\n",
       "      <td>0.995949</td>\n",
       "      <td>0.996234</td>\n",
       "      <td>0.996012</td>\n",
       "      <td>0.995664</td>\n",
       "      <td>0.995664</td>\n",
       "      <td>0.995905</td>\n",
       "      <td>0.000218</td>\n",
       "      <td>25</td>\n",
       "    </tr>\n",
       "    <tr>\n",
       "      <th>96</th>\n",
       "      <td>2.395401</td>\n",
       "      <td>0.021499</td>\n",
       "      <td>0.133246</td>\n",
       "      <td>0.010734</td>\n",
       "      <td>entropy</td>\n",
       "      <td>4</td>\n",
       "      <td>92</td>\n",
       "      <td>-1</td>\n",
       "      <td>0</td>\n",
       "      <td>{'criterion': 'entropy', 'max_depth': 4, 'n_es...</td>\n",
       "      <td>0.992183</td>\n",
       "      <td>0.992467</td>\n",
       "      <td>0.992436</td>\n",
       "      <td>0.991803</td>\n",
       "      <td>0.992594</td>\n",
       "      <td>0.992296</td>\n",
       "      <td>0.000281</td>\n",
       "      <td>90</td>\n",
       "    </tr>\n",
       "    <tr>\n",
       "      <th>97</th>\n",
       "      <td>1.495966</td>\n",
       "      <td>0.045833</td>\n",
       "      <td>0.081253</td>\n",
       "      <td>0.010298</td>\n",
       "      <td>entropy</td>\n",
       "      <td>9</td>\n",
       "      <td>40</td>\n",
       "      <td>-1</td>\n",
       "      <td>0</td>\n",
       "      <td>{'criterion': 'entropy', 'max_depth': 9, 'n_es...</td>\n",
       "      <td>0.996139</td>\n",
       "      <td>0.995949</td>\n",
       "      <td>0.995727</td>\n",
       "      <td>0.995506</td>\n",
       "      <td>0.996360</td>\n",
       "      <td>0.995936</td>\n",
       "      <td>0.000300</td>\n",
       "      <td>19</td>\n",
       "    </tr>\n",
       "    <tr>\n",
       "      <th>98</th>\n",
       "      <td>2.814827</td>\n",
       "      <td>0.085555</td>\n",
       "      <td>0.139407</td>\n",
       "      <td>0.009757</td>\n",
       "      <td>log_loss</td>\n",
       "      <td>19</td>\n",
       "      <td>71</td>\n",
       "      <td>-1</td>\n",
       "      <td>0</td>\n",
       "      <td>{'criterion': 'log_loss', 'max_depth': 19, 'n_...</td>\n",
       "      <td>0.995949</td>\n",
       "      <td>0.995981</td>\n",
       "      <td>0.995632</td>\n",
       "      <td>0.995348</td>\n",
       "      <td>0.995664</td>\n",
       "      <td>0.995715</td>\n",
       "      <td>0.000232</td>\n",
       "      <td>52</td>\n",
       "    </tr>\n",
       "    <tr>\n",
       "      <th>99</th>\n",
       "      <td>3.287728</td>\n",
       "      <td>0.105842</td>\n",
       "      <td>0.155450</td>\n",
       "      <td>0.009080</td>\n",
       "      <td>log_loss</td>\n",
       "      <td>13</td>\n",
       "      <td>84</td>\n",
       "      <td>-1</td>\n",
       "      <td>0</td>\n",
       "      <td>{'criterion': 'log_loss', 'max_depth': 13, 'n_...</td>\n",
       "      <td>0.996329</td>\n",
       "      <td>0.996360</td>\n",
       "      <td>0.996170</td>\n",
       "      <td>0.995727</td>\n",
       "      <td>0.995949</td>\n",
       "      <td>0.996107</td>\n",
       "      <td>0.000239</td>\n",
       "      <td>4</td>\n",
       "    </tr>\n",
       "  </tbody>\n",
       "</table>\n",
       "<p>100 rows × 18 columns</p>\n",
       "</div>"
      ],
      "text/plain": [
       "    mean_fit_time  std_fit_time  mean_score_time  std_score_time  \\\n",
       "0        6.113188      4.326442         0.148432        0.020099   \n",
       "1        1.295043      0.043992         0.052732        0.002880   \n",
       "2        3.686666      0.144124         0.161968        0.012119   \n",
       "3        3.235635      0.063837         0.124367        0.002423   \n",
       "4        1.997682      0.048705         0.083161        0.002921   \n",
       "..            ...           ...              ...             ...   \n",
       "95       1.966703      0.173978         0.096759        0.008216   \n",
       "96       2.395401      0.021499         0.133246        0.010734   \n",
       "97       1.495966      0.045833         0.081253        0.010298   \n",
       "98       2.814827      0.085555         0.139407        0.009757   \n",
       "99       3.287728      0.105842         0.155450        0.009080   \n",
       "\n",
       "   param_criterion param_max_depth param_n_estimators param_n_jobs  \\\n",
       "0             gini              17                 65           -1   \n",
       "1          entropy              21                 22           -1   \n",
       "2         log_loss               6                 88           -1   \n",
       "3         log_loss              14                 59           -1   \n",
       "4          entropy               8                 40           -1   \n",
       "..             ...             ...                ...          ...   \n",
       "95         entropy              14                 45           -1   \n",
       "96         entropy               4                 92           -1   \n",
       "97         entropy               9                 40           -1   \n",
       "98        log_loss              19                 71           -1   \n",
       "99        log_loss              13                 84           -1   \n",
       "\n",
       "   param_random_state                                             params  \\\n",
       "0                   0  {'criterion': 'gini', 'max_depth': 17, 'n_esti...   \n",
       "1                   0  {'criterion': 'entropy', 'max_depth': 21, 'n_e...   \n",
       "2                   0  {'criterion': 'log_loss', 'max_depth': 6, 'n_e...   \n",
       "3                   0  {'criterion': 'log_loss', 'max_depth': 14, 'n_...   \n",
       "4                   0  {'criterion': 'entropy', 'max_depth': 8, 'n_es...   \n",
       "..                ...                                                ...   \n",
       "95                  0  {'criterion': 'entropy', 'max_depth': 14, 'n_e...   \n",
       "96                  0  {'criterion': 'entropy', 'max_depth': 4, 'n_es...   \n",
       "97                  0  {'criterion': 'entropy', 'max_depth': 9, 'n_es...   \n",
       "98                  0  {'criterion': 'log_loss', 'max_depth': 19, 'n_...   \n",
       "99                  0  {'criterion': 'log_loss', 'max_depth': 13, 'n_...   \n",
       "\n",
       "    split0_test_score  split1_test_score  split2_test_score  \\\n",
       "0            0.995949           0.995981           0.995854   \n",
       "1            0.996012           0.995886           0.995696   \n",
       "2            0.994018           0.994493           0.994176   \n",
       "3            0.996012           0.996234           0.996075   \n",
       "4            0.996012           0.995917           0.996107   \n",
       "..                ...                ...                ...   \n",
       "95           0.995949           0.996234           0.996012   \n",
       "96           0.992183           0.992467           0.992436   \n",
       "97           0.996139           0.995949           0.995727   \n",
       "98           0.995949           0.995981           0.995632   \n",
       "99           0.996329           0.996360           0.996170   \n",
       "\n",
       "    split3_test_score  split4_test_score  mean_test_score  std_test_score  \\\n",
       "0            0.995442           0.995790         0.995803        0.000193   \n",
       "1            0.995379           0.995664         0.995727        0.000216   \n",
       "2            0.993512           0.994113         0.994063        0.000318   \n",
       "3            0.995601           0.995664         0.995917        0.000244   \n",
       "4            0.995221           0.996329         0.995917        0.000374   \n",
       "..                ...                ...              ...             ...   \n",
       "95           0.995664           0.995664         0.995905        0.000218   \n",
       "96           0.991803           0.992594         0.992296        0.000281   \n",
       "97           0.995506           0.996360         0.995936        0.000300   \n",
       "98           0.995348           0.995664         0.995715        0.000232   \n",
       "99           0.995727           0.995949         0.996107        0.000239   \n",
       "\n",
       "    rank_test_score  \n",
       "0                31  \n",
       "1                48  \n",
       "2                70  \n",
       "3                23  \n",
       "4                22  \n",
       "..              ...  \n",
       "95               25  \n",
       "96               90  \n",
       "97               19  \n",
       "98               52  \n",
       "99                4  \n",
       "\n",
       "[100 rows x 18 columns]"
      ]
     },
     "execution_count": 206,
     "metadata": {},
     "output_type": "execute_result"
    }
   ],
   "source": [
    "print(\"Mejores hiperparámetros: \"+str(model4.best_params_))\n",
    "print(\"Mejor Score: \"+str(model4.best_score_)+'\\n')\n",
    "\n",
    "scores4 = pd.DataFrame(model4.cv_results_)\n",
    "scores4"
   ]
  },
  {
   "cell_type": "code",
   "execution_count": 207,
   "metadata": {},
   "outputs": [
    {
     "name": "stdout",
     "output_type": "stream",
     "text": [
      "El score del modelo es: 0.9963033295353843\n",
      "El recall del modelo es: 0.9928273204153731\n",
      "              precision    recall  f1-score   support\n",
      "\n",
      "           0       1.00      1.00      1.00     30154\n",
      "           1       0.99      0.99      0.99      9341\n",
      "\n",
      "    accuracy                           1.00     39495\n",
      "   macro avg       0.99      1.00      0.99     39495\n",
      "weighted avg       1.00      1.00      1.00     39495\n",
      "\n"
     ]
    }
   ],
   "source": [
    "prediction4 = model4.predict(scX_test)\n",
    "print('El score del modelo es:', accuracy_score(y_test, prediction4))\n",
    "print('El recall del modelo es:', recall_score(y_test, prediction4))\n",
    "print(classification_report(y_test, prediction4))"
   ]
  },
  {
   "cell_type": "code",
   "execution_count": 208,
   "metadata": {},
   "outputs": [],
   "source": [
    "y_model4=model4.predict(TestFinalX) #Sebas1412(4 y 5)"
   ]
  },
  {
   "cell_type": "code",
   "execution_count": 209,
   "metadata": {},
   "outputs": [
    {
     "data": {
      "text/plain": [
       "pred\n",
       "0       46066\n",
       "1       19784\n",
       "dtype: int64"
      ]
     },
     "execution_count": 209,
     "metadata": {},
     "output_type": "execute_result"
    }
   ],
   "source": [
    "cuarto = pd.DataFrame({'pred':y_model4})\n",
    "cuarto.value_counts()\n"
   ]
  },
  {
   "cell_type": "code",
   "execution_count": 210,
   "metadata": {},
   "outputs": [],
   "source": [
    "cuarto.to_csv('Sebas1412.csv', index=False)"
   ]
  },
  {
   "cell_type": "markdown",
   "metadata": {},
   "source": [
    "Hay una pequeña mejora pero nada que haga cambiar la verdad. Aunque probemos todos los modelos de la librería sckelearn esto no va a mejorar. Por lo que están mal rellenados los datos de dataframe Test o lo que es más probable: que el EDA que hemos hecho no sea el adecuado y haya que empezar de 0."
   ]
  },
  {
   "cell_type": "markdown",
   "metadata": {},
   "source": [
    "Como decisión de último momento y para tratar de que la empresa inversora tenga buena información, se decide cambiar la forma de imputar los valores faltantes. Esta vez en vez de usar las diferentes medianas del dataframe Test, se uso la mediana del dataframe Train."
   ]
  },
  {
   "cell_type": "code",
   "execution_count": 258,
   "metadata": {},
   "outputs": [],
   "source": [
    "colombiaTest1 = pd.read_csv('properties_colombia_test.csv')"
   ]
  },
  {
   "cell_type": "code",
   "execution_count": 259,
   "metadata": {},
   "outputs": [],
   "source": [
    "colombiaTest1=pd.concat([colombiaTest1.rooms,colombiaTest1.bedrooms,colombiaTest1.bathrooms,colombiaTest1.surface_total,colombiaTest1.property_type],axis=1)"
   ]
  },
  {
   "cell_type": "code",
   "execution_count": 260,
   "metadata": {},
   "outputs": [
    {
     "name": "stderr",
     "output_type": "stream",
     "text": [
      "C:\\Users\\Nueva era\\AppData\\Local\\Temp\\ipykernel_1460\\3737770539.py:1: SettingWithCopyWarning: \n",
      "A value is trying to be set on a copy of a slice from a DataFrame\n",
      "\n",
      "See the caveats in the documentation: https://pandas.pydata.org/pandas-docs/stable/user_guide/indexing.html#returning-a-view-versus-a-copy\n",
      "  colombiaTest1.surface_total[(colombiaTest1.surface_total.isnull()==True)&(colombiaTest1.property_type.isin(['Casa'])==True)&(colombiaTrain.clasificacion == 0)]=colombiaTrain.surface_total[(colombiaTrain.property_type.isin(['Casa'])==True)&(colombiaTrain.clasificacion == 0)].median()\n",
      "C:\\Users\\Nueva era\\AppData\\Local\\Temp\\ipykernel_1460\\3737770539.py:2: SettingWithCopyWarning: \n",
      "A value is trying to be set on a copy of a slice from a DataFrame\n",
      "\n",
      "See the caveats in the documentation: https://pandas.pydata.org/pandas-docs/stable/user_guide/indexing.html#returning-a-view-versus-a-copy\n",
      "  colombiaTest1.surface_total[(colombiaTest1.surface_total.isnull()==True)&(colombiaTest1.property_type.isin(['Casa'])==True)&(colombiaTrain.clasificacion == 1)]=colombiaTrain.surface_total[(colombiaTrain.property_type.isin(['Casa'])==True)&(colombiaTrain.clasificacion == 1)].median()\n",
      "C:\\Users\\Nueva era\\AppData\\Local\\Temp\\ipykernel_1460\\3737770539.py:3: SettingWithCopyWarning: \n",
      "A value is trying to be set on a copy of a slice from a DataFrame\n",
      "\n",
      "See the caveats in the documentation: https://pandas.pydata.org/pandas-docs/stable/user_guide/indexing.html#returning-a-view-versus-a-copy\n",
      "  colombiaTest1.surface_total[(colombiaTest1.surface_total.isnull()==True)&(colombiaTest1.property_type.isin(['Apartamento'])==True)&(colombiaTrain.clasificacion == 0)]=colombiaTrain.surface_total[(colombiaTrain.property_type.isin(['Apartamento'])==True)&(colombiaTrain.clasificacion == 0)].median()\n",
      "C:\\Users\\Nueva era\\AppData\\Local\\Temp\\ipykernel_1460\\3737770539.py:4: SettingWithCopyWarning: \n",
      "A value is trying to be set on a copy of a slice from a DataFrame\n",
      "\n",
      "See the caveats in the documentation: https://pandas.pydata.org/pandas-docs/stable/user_guide/indexing.html#returning-a-view-versus-a-copy\n",
      "  colombiaTest1.surface_total[(colombiaTest1.surface_total.isnull()==True)&(colombiaTest1.property_type.isin(['Apartamento'])==True)&(colombiaTrain.clasificacion == 1)]=colombiaTrain.surface_total[(colombiaTrain.property_type.isin(['Apartamento'])==True)&(colombiaTrain.clasificacion == 1)].median()\n",
      "C:\\Users\\Nueva era\\AppData\\Local\\Temp\\ipykernel_1460\\3737770539.py:5: SettingWithCopyWarning: \n",
      "A value is trying to be set on a copy of a slice from a DataFrame\n",
      "\n",
      "See the caveats in the documentation: https://pandas.pydata.org/pandas-docs/stable/user_guide/indexing.html#returning-a-view-versus-a-copy\n",
      "  colombiaTest1.surface_total[(colombiaTest1.surface_total.isnull()==True)&(colombiaTest1.property_type.isin(['Otro'])==True)&(colombiaTrain.clasificacion == 0)]=colombiaTrain.surface_total[(colombiaTrain.property_type.isin(['Otro'])==True)&(colombiaTrain.clasificacion == 0)].median()\n",
      "C:\\Users\\Nueva era\\AppData\\Local\\Temp\\ipykernel_1460\\3737770539.py:6: SettingWithCopyWarning: \n",
      "A value is trying to be set on a copy of a slice from a DataFrame\n",
      "\n",
      "See the caveats in the documentation: https://pandas.pydata.org/pandas-docs/stable/user_guide/indexing.html#returning-a-view-versus-a-copy\n",
      "  colombiaTest1.surface_total[(colombiaTest1.surface_total.isnull()==True)&(colombiaTest1.property_type.isin(['Otro'])==True)&(colombiaTrain.clasificacion == 1)]=colombiaTrain.surface_total[(colombiaTrain.property_type.isin(['Otro'])==True)&(colombiaTrain.clasificacion == 1)].median()\n",
      "C:\\Users\\Nueva era\\AppData\\Local\\Temp\\ipykernel_1460\\3737770539.py:7: SettingWithCopyWarning: \n",
      "A value is trying to be set on a copy of a slice from a DataFrame\n",
      "\n",
      "See the caveats in the documentation: https://pandas.pydata.org/pandas-docs/stable/user_guide/indexing.html#returning-a-view-versus-a-copy\n",
      "  colombiaTest1.surface_total[(colombiaTest1.surface_total.isnull()==True)&(colombiaTest1.property_type.isin(['Oficina'])==True)&(colombiaTrain.clasificacion == 0)]=colombiaTrain.surface_total[(colombiaTrain.property_type.isin(['Oficina'])==True)&(colombiaTrain.clasificacion == 0)].median()\n",
      "C:\\Users\\Nueva era\\AppData\\Local\\Temp\\ipykernel_1460\\3737770539.py:8: SettingWithCopyWarning: \n",
      "A value is trying to be set on a copy of a slice from a DataFrame\n",
      "\n",
      "See the caveats in the documentation: https://pandas.pydata.org/pandas-docs/stable/user_guide/indexing.html#returning-a-view-versus-a-copy\n",
      "  colombiaTest1.surface_total[(colombiaTest1.surface_total.isnull()==True)&(colombiaTest1.property_type.isin(['Oficina'])==True)&(colombiaTrain.clasificacion == 1)]=colombiaTrain.surface_total[(colombiaTrain.property_type.isin(['Oficina'])==True)&(colombiaTrain.clasificacion == 1)].median()\n",
      "C:\\Users\\Nueva era\\AppData\\Local\\Temp\\ipykernel_1460\\3737770539.py:9: SettingWithCopyWarning: \n",
      "A value is trying to be set on a copy of a slice from a DataFrame\n",
      "\n",
      "See the caveats in the documentation: https://pandas.pydata.org/pandas-docs/stable/user_guide/indexing.html#returning-a-view-versus-a-copy\n",
      "  colombiaTest1.surface_total[(colombiaTest1.surface_total.isnull()==True)&(colombiaTest1.property_type.isin(['Finca'])==True)&(colombiaTrain.clasificacion == 0)]=colombiaTrain.surface_total[(colombiaTrain.property_type.isin(['Finca'])==True)&(colombiaTrain.clasificacion == 0)].median()\n",
      "C:\\Users\\Nueva era\\AppData\\Local\\Temp\\ipykernel_1460\\3737770539.py:10: SettingWithCopyWarning: \n",
      "A value is trying to be set on a copy of a slice from a DataFrame\n",
      "\n",
      "See the caveats in the documentation: https://pandas.pydata.org/pandas-docs/stable/user_guide/indexing.html#returning-a-view-versus-a-copy\n",
      "  colombiaTest1.surface_total[(colombiaTest1.surface_total.isnull()==True)&(colombiaTest1.property_type.isin(['Finca'])==True)&(colombiaTrain.clasificacion == 1)]=colombiaTrain.surface_total[(colombiaTrain.property_type.isin(['Finca'])==True)&(colombiaTrain.clasificacion == 1)].median()\n",
      "C:\\Users\\Nueva era\\AppData\\Local\\Temp\\ipykernel_1460\\3737770539.py:11: SettingWithCopyWarning: \n",
      "A value is trying to be set on a copy of a slice from a DataFrame\n",
      "\n",
      "See the caveats in the documentation: https://pandas.pydata.org/pandas-docs/stable/user_guide/indexing.html#returning-a-view-versus-a-copy\n",
      "  colombiaTest1.surface_total[(colombiaTest1.surface_total.isnull()==True)&(colombiaTest1.property_type.isin(['Lote'])==True)&(colombiaTrain.clasificacion == 0)]=colombiaTrain.surface_total[(colombiaTrain.property_type.isin(['Lote'])==True)&(colombiaTrain.clasificacion == 0)].median()\n",
      "C:\\Users\\Nueva era\\AppData\\Local\\Temp\\ipykernel_1460\\3737770539.py:12: SettingWithCopyWarning: \n",
      "A value is trying to be set on a copy of a slice from a DataFrame\n",
      "\n",
      "See the caveats in the documentation: https://pandas.pydata.org/pandas-docs/stable/user_guide/indexing.html#returning-a-view-versus-a-copy\n",
      "  colombiaTest1.surface_total[(colombiaTest1.surface_total.isnull()==True)&(colombiaTest1.property_type.isin(['Lote'])==True)&(colombiaTrain.clasificacion == 1)]=colombiaTrain.surface_total[(colombiaTrain.property_type.isin(['Lote'])==True)&(colombiaTrain.clasificacion == 1)].median()\n",
      "C:\\Users\\Nueva era\\AppData\\Local\\Temp\\ipykernel_1460\\3737770539.py:13: SettingWithCopyWarning: \n",
      "A value is trying to be set on a copy of a slice from a DataFrame\n",
      "\n",
      "See the caveats in the documentation: https://pandas.pydata.org/pandas-docs/stable/user_guide/indexing.html#returning-a-view-versus-a-copy\n",
      "  colombiaTest1.surface_total[(colombiaTest1.surface_total.isnull()==True)&(colombiaTest1.property_type.isin(['Local comercial'])==True)&(colombiaTrain.clasificacion == 0)]=colombiaTrain.surface_total[(colombiaTrain.property_type.isin(['Local comercial'])==True)&(colombiaTrain.clasificacion == 0)].median()\n",
      "C:\\Users\\Nueva era\\AppData\\Local\\Temp\\ipykernel_1460\\3737770539.py:14: SettingWithCopyWarning: \n",
      "A value is trying to be set on a copy of a slice from a DataFrame\n",
      "\n",
      "See the caveats in the documentation: https://pandas.pydata.org/pandas-docs/stable/user_guide/indexing.html#returning-a-view-versus-a-copy\n",
      "  colombiaTest1.surface_total[(colombiaTest1.surface_total.isnull()==True)&(colombiaTest1.property_type.isin(['Local comercial'])==True)&(colombiaTrain.clasificacion == 1)]=colombiaTrain.surface_total[(colombiaTrain.property_type.isin(['Local comercial'])==True)&(colombiaTrain.clasificacion == 1)].median()\n",
      "C:\\Users\\Nueva era\\AppData\\Local\\Temp\\ipykernel_1460\\3737770539.py:15: SettingWithCopyWarning: \n",
      "A value is trying to be set on a copy of a slice from a DataFrame\n",
      "\n",
      "See the caveats in the documentation: https://pandas.pydata.org/pandas-docs/stable/user_guide/indexing.html#returning-a-view-versus-a-copy\n",
      "  colombiaTest1.surface_total[(colombiaTest1.surface_total.isnull()==True)&(colombiaTest1.property_type.isin(['Parqueadero'])==True)&(colombiaTrain.clasificacion == 0)]=0\n",
      "C:\\Users\\Nueva era\\AppData\\Local\\Temp\\ipykernel_1460\\3737770539.py:16: SettingWithCopyWarning: \n",
      "A value is trying to be set on a copy of a slice from a DataFrame\n",
      "\n",
      "See the caveats in the documentation: https://pandas.pydata.org/pandas-docs/stable/user_guide/indexing.html#returning-a-view-versus-a-copy\n",
      "  colombiaTest1.surface_total[(colombiaTest1.surface_total.isnull()==True)&(colombiaTest1.property_type.isin(['Parqueadero'])==True)&(colombiaTrain.clasificacion == 1)]=colombiaTrain.surface_total[(colombiaTrain.property_type.isin(['Parqueadero'])==True)&(colombiaTrain.clasificacion == 1)].median()\n"
     ]
    }
   ],
   "source": [
    "colombiaTest1.surface_total[(colombiaTest1.surface_total.isnull()==True)&(colombiaTest1.property_type.isin(['Casa'])==True)&(colombiaTrain.clasificacion == 0)]=colombiaTrain.surface_total[(colombiaTrain.property_type.isin(['Casa'])==True)&(colombiaTrain.clasificacion == 0)].median()\n",
    "colombiaTest1.surface_total[(colombiaTest1.surface_total.isnull()==True)&(colombiaTest1.property_type.isin(['Casa'])==True)&(colombiaTrain.clasificacion == 1)]=colombiaTrain.surface_total[(colombiaTrain.property_type.isin(['Casa'])==True)&(colombiaTrain.clasificacion == 1)].median()\n",
    "colombiaTest1.surface_total[(colombiaTest1.surface_total.isnull()==True)&(colombiaTest1.property_type.isin(['Apartamento'])==True)&(colombiaTrain.clasificacion == 0)]=colombiaTrain.surface_total[(colombiaTrain.property_type.isin(['Apartamento'])==True)&(colombiaTrain.clasificacion == 0)].median()\n",
    "colombiaTest1.surface_total[(colombiaTest1.surface_total.isnull()==True)&(colombiaTest1.property_type.isin(['Apartamento'])==True)&(colombiaTrain.clasificacion == 1)]=colombiaTrain.surface_total[(colombiaTrain.property_type.isin(['Apartamento'])==True)&(colombiaTrain.clasificacion == 1)].median()\n",
    "colombiaTest1.surface_total[(colombiaTest1.surface_total.isnull()==True)&(colombiaTest1.property_type.isin(['Otro'])==True)&(colombiaTrain.clasificacion == 0)]=colombiaTrain.surface_total[(colombiaTrain.property_type.isin(['Otro'])==True)&(colombiaTrain.clasificacion == 0)].median()\n",
    "colombiaTest1.surface_total[(colombiaTest1.surface_total.isnull()==True)&(colombiaTest1.property_type.isin(['Otro'])==True)&(colombiaTrain.clasificacion == 1)]=colombiaTrain.surface_total[(colombiaTrain.property_type.isin(['Otro'])==True)&(colombiaTrain.clasificacion == 1)].median()\n",
    "colombiaTest1.surface_total[(colombiaTest1.surface_total.isnull()==True)&(colombiaTest1.property_type.isin(['Oficina'])==True)&(colombiaTrain.clasificacion == 0)]=colombiaTrain.surface_total[(colombiaTrain.property_type.isin(['Oficina'])==True)&(colombiaTrain.clasificacion == 0)].median()\n",
    "colombiaTest1.surface_total[(colombiaTest1.surface_total.isnull()==True)&(colombiaTest1.property_type.isin(['Oficina'])==True)&(colombiaTrain.clasificacion == 1)]=colombiaTrain.surface_total[(colombiaTrain.property_type.isin(['Oficina'])==True)&(colombiaTrain.clasificacion == 1)].median()\n",
    "colombiaTest1.surface_total[(colombiaTest1.surface_total.isnull()==True)&(colombiaTest1.property_type.isin(['Finca'])==True)&(colombiaTrain.clasificacion == 0)]=colombiaTrain.surface_total[(colombiaTrain.property_type.isin(['Finca'])==True)&(colombiaTrain.clasificacion == 0)].median()\n",
    "colombiaTest1.surface_total[(colombiaTest1.surface_total.isnull()==True)&(colombiaTest1.property_type.isin(['Finca'])==True)&(colombiaTrain.clasificacion == 1)]=colombiaTrain.surface_total[(colombiaTrain.property_type.isin(['Finca'])==True)&(colombiaTrain.clasificacion == 1)].median()\n",
    "colombiaTest1.surface_total[(colombiaTest1.surface_total.isnull()==True)&(colombiaTest1.property_type.isin(['Lote'])==True)&(colombiaTrain.clasificacion == 0)]=colombiaTrain.surface_total[(colombiaTrain.property_type.isin(['Lote'])==True)&(colombiaTrain.clasificacion == 0)].median()\n",
    "colombiaTest1.surface_total[(colombiaTest1.surface_total.isnull()==True)&(colombiaTest1.property_type.isin(['Lote'])==True)&(colombiaTrain.clasificacion == 1)]=colombiaTrain.surface_total[(colombiaTrain.property_type.isin(['Lote'])==True)&(colombiaTrain.clasificacion == 1)].median()\n",
    "colombiaTest1.surface_total[(colombiaTest1.surface_total.isnull()==True)&(colombiaTest1.property_type.isin(['Local comercial'])==True)&(colombiaTrain.clasificacion == 0)]=colombiaTrain.surface_total[(colombiaTrain.property_type.isin(['Local comercial'])==True)&(colombiaTrain.clasificacion == 0)].median()\n",
    "colombiaTest1.surface_total[(colombiaTest1.surface_total.isnull()==True)&(colombiaTest1.property_type.isin(['Local comercial'])==True)&(colombiaTrain.clasificacion == 1)]=colombiaTrain.surface_total[(colombiaTrain.property_type.isin(['Local comercial'])==True)&(colombiaTrain.clasificacion == 1)].median()\n",
    "colombiaTest1.surface_total[(colombiaTest1.surface_total.isnull()==True)&(colombiaTest1.property_type.isin(['Parqueadero'])==True)&(colombiaTrain.clasificacion == 0)]=0\n",
    "colombiaTest1.surface_total[(colombiaTest1.surface_total.isnull()==True)&(colombiaTest1.property_type.isin(['Parqueadero'])==True)&(colombiaTrain.clasificacion == 1)]=colombiaTrain.surface_total[(colombiaTrain.property_type.isin(['Parqueadero'])==True)&(colombiaTrain.clasificacion == 1)].median()"
   ]
  },
  {
   "cell_type": "code",
   "execution_count": 282,
   "metadata": {},
   "outputs": [
    {
     "name": "stderr",
     "output_type": "stream",
     "text": [
      "C:\\Users\\Nueva era\\AppData\\Local\\Temp\\ipykernel_1460\\2608758895.py:1: SettingWithCopyWarning: \n",
      "A value is trying to be set on a copy of a slice from a DataFrame\n",
      "\n",
      "See the caveats in the documentation: https://pandas.pydata.org/pandas-docs/stable/user_guide/indexing.html#returning-a-view-versus-a-copy\n",
      "  colombiaTest1.surface_total[(colombiaTest1.surface_total.isnull()==True)&(colombiaTest1.property_type.isin(['Casa'])==True)]=colombiaTrain.surface_total[(colombiaTrain.property_type.isin(['Casa'])==True)].median()\n",
      "C:\\Users\\Nueva era\\AppData\\Local\\Temp\\ipykernel_1460\\2608758895.py:2: SettingWithCopyWarning: \n",
      "A value is trying to be set on a copy of a slice from a DataFrame\n",
      "\n",
      "See the caveats in the documentation: https://pandas.pydata.org/pandas-docs/stable/user_guide/indexing.html#returning-a-view-versus-a-copy\n",
      "  colombiaTest1.surface_total[(colombiaTest1.surface_total.isnull()==True)&(colombiaTest1.property_type.isin(['Apartamento']))]=colombiaTrain.surface_total[(colombiaTrain.property_type.isin(['Apartamento'])==True)].median()\n",
      "C:\\Users\\Nueva era\\AppData\\Local\\Temp\\ipykernel_1460\\2608758895.py:3: SettingWithCopyWarning: \n",
      "A value is trying to be set on a copy of a slice from a DataFrame\n",
      "\n",
      "See the caveats in the documentation: https://pandas.pydata.org/pandas-docs/stable/user_guide/indexing.html#returning-a-view-versus-a-copy\n",
      "  colombiaTest1.surface_total[(colombiaTest1.surface_total.isnull()==True)&(colombiaTest1.property_type.isin(['Lote']))]=colombiaTrain.surface_total[(colombiaTrain.property_type.isin(['Lote'])==True)].median()\n",
      "C:\\Users\\Nueva era\\AppData\\Local\\Temp\\ipykernel_1460\\2608758895.py:4: SettingWithCopyWarning: \n",
      "A value is trying to be set on a copy of a slice from a DataFrame\n",
      "\n",
      "See the caveats in the documentation: https://pandas.pydata.org/pandas-docs/stable/user_guide/indexing.html#returning-a-view-versus-a-copy\n",
      "  colombiaTest1.surface_total[(colombiaTest1.surface_total.isnull()==True)&(colombiaTest1.property_type.isin(['Local comercial']))]=colombiaTrain.surface_total[(colombiaTrain.property_type.isin(['Local comercial'])==True)].median()\n",
      "C:\\Users\\Nueva era\\AppData\\Local\\Temp\\ipykernel_1460\\2608758895.py:5: SettingWithCopyWarning: \n",
      "A value is trying to be set on a copy of a slice from a DataFrame\n",
      "\n",
      "See the caveats in the documentation: https://pandas.pydata.org/pandas-docs/stable/user_guide/indexing.html#returning-a-view-versus-a-copy\n",
      "  colombiaTest1.surface_total[(colombiaTest1.surface_total.isnull()==True)&(colombiaTest1.property_type.isin(['Otro'])==True)]=colombiaTrain.surface_total[(colombiaTrain.property_type.isin(['Casa'])==True)].median()\n",
      "C:\\Users\\Nueva era\\AppData\\Local\\Temp\\ipykernel_1460\\2608758895.py:6: SettingWithCopyWarning: \n",
      "A value is trying to be set on a copy of a slice from a DataFrame\n",
      "\n",
      "See the caveats in the documentation: https://pandas.pydata.org/pandas-docs/stable/user_guide/indexing.html#returning-a-view-versus-a-copy\n",
      "  colombiaTest1.surface_total[(colombiaTest1.surface_total.isnull()==True)&(colombiaTest1.property_type.isin(['Finca'])==True)]=colombiaTrain.surface_total[(colombiaTrain.property_type.isin(['Casa'])==True)].median()\n",
      "C:\\Users\\Nueva era\\AppData\\Local\\Temp\\ipykernel_1460\\2608758895.py:7: SettingWithCopyWarning: \n",
      "A value is trying to be set on a copy of a slice from a DataFrame\n",
      "\n",
      "See the caveats in the documentation: https://pandas.pydata.org/pandas-docs/stable/user_guide/indexing.html#returning-a-view-versus-a-copy\n",
      "  colombiaTest1.surface_total[(colombiaTest1.surface_total.isnull()==True)&(colombiaTest1.property_type.isin(['Parqueadero'])==True)]=colombiaTrain.surface_total[(colombiaTrain.property_type.isin(['Casa'])==True)].median()\n",
      "C:\\Users\\Nueva era\\AppData\\Local\\Temp\\ipykernel_1460\\2608758895.py:8: SettingWithCopyWarning: \n",
      "A value is trying to be set on a copy of a slice from a DataFrame\n",
      "\n",
      "See the caveats in the documentation: https://pandas.pydata.org/pandas-docs/stable/user_guide/indexing.html#returning-a-view-versus-a-copy\n",
      "  colombiaTest1.surface_total[(colombiaTest1.surface_total.isnull()==True)&(colombiaTest1.property_type.isin(['Oficina'])==True)]=colombiaTrain.surface_total[(colombiaTrain.property_type.isin(['Casa'])==True)].median()\n"
     ]
    }
   ],
   "source": [
    "colombiaTest1.surface_total[(colombiaTest1.surface_total.isnull()==True)&(colombiaTest1.property_type.isin(['Casa'])==True)]=colombiaTrain.surface_total[(colombiaTrain.property_type.isin(['Casa'])==True)].median()\n",
    "colombiaTest1.surface_total[(colombiaTest1.surface_total.isnull()==True)&(colombiaTest1.property_type.isin(['Apartamento']))]=colombiaTrain.surface_total[(colombiaTrain.property_type.isin(['Apartamento'])==True)].median()\n",
    "colombiaTest1.surface_total[(colombiaTest1.surface_total.isnull()==True)&(colombiaTest1.property_type.isin(['Lote']))]=colombiaTrain.surface_total[(colombiaTrain.property_type.isin(['Lote'])==True)].median()\n",
    "colombiaTest1.surface_total[(colombiaTest1.surface_total.isnull()==True)&(colombiaTest1.property_type.isin(['Local comercial']))]=colombiaTrain.surface_total[(colombiaTrain.property_type.isin(['Local comercial'])==True)].median()\n",
    "colombiaTest1.surface_total[(colombiaTest1.surface_total.isnull()==True)&(colombiaTest1.property_type.isin(['Otro'])==True)]=colombiaTrain.surface_total[(colombiaTrain.property_type.isin(['Casa'])==True)].median()\n",
    "colombiaTest1.surface_total[(colombiaTest1.surface_total.isnull()==True)&(colombiaTest1.property_type.isin(['Finca'])==True)]=colombiaTrain.surface_total[(colombiaTrain.property_type.isin(['Casa'])==True)].median()\n",
    "colombiaTest1.surface_total[(colombiaTest1.surface_total.isnull()==True)&(colombiaTest1.property_type.isin(['Parqueadero'])==True)]=colombiaTrain.surface_total[(colombiaTrain.property_type.isin(['Casa'])==True)].median()\n",
    "colombiaTest1.surface_total[(colombiaTest1.surface_total.isnull()==True)&(colombiaTest1.property_type.isin(['Oficina'])==True)]=colombiaTrain.surface_total[(colombiaTrain.property_type.isin(['Casa'])==True)].median()"
   ]
  },
  {
   "cell_type": "code",
   "execution_count": 262,
   "metadata": {},
   "outputs": [
    {
     "name": "stderr",
     "output_type": "stream",
     "text": [
      "C:\\Users\\Nueva era\\AppData\\Local\\Temp\\ipykernel_1460\\2899295972.py:1: SettingWithCopyWarning: \n",
      "A value is trying to be set on a copy of a slice from a DataFrame\n",
      "\n",
      "See the caveats in the documentation: https://pandas.pydata.org/pandas-docs/stable/user_guide/indexing.html#returning-a-view-versus-a-copy\n",
      "  colombiaTest1.rooms[(colombiaTest1.rooms.isnull()==True)&(colombiaTest1.property_type.isin(['Casa'])==True)&(colombiaTrain.clasificacion == 0)]=colombiaTrain.rooms[(colombiaTrain.property_type.isin(['Casa'])==True)&(colombiaTrain.clasificacion == 0)].median()\n",
      "C:\\Users\\Nueva era\\AppData\\Local\\Temp\\ipykernel_1460\\2899295972.py:2: SettingWithCopyWarning: \n",
      "A value is trying to be set on a copy of a slice from a DataFrame\n",
      "\n",
      "See the caveats in the documentation: https://pandas.pydata.org/pandas-docs/stable/user_guide/indexing.html#returning-a-view-versus-a-copy\n",
      "  colombiaTest1.rooms[(colombiaTest1.rooms.isnull()==True)&(colombiaTest1.property_type.isin(['Casa'])==True)&(colombiaTrain.clasificacion == 1)]=colombiaTrain.rooms[(colombiaTrain.property_type.isin(['Casa'])==True)&(colombiaTrain.clasificacion == 1)].median()\n",
      "C:\\Users\\Nueva era\\AppData\\Local\\Temp\\ipykernel_1460\\2899295972.py:3: SettingWithCopyWarning: \n",
      "A value is trying to be set on a copy of a slice from a DataFrame\n",
      "\n",
      "See the caveats in the documentation: https://pandas.pydata.org/pandas-docs/stable/user_guide/indexing.html#returning-a-view-versus-a-copy\n",
      "  colombiaTest1.rooms[(colombiaTest1.rooms.isnull()==True)&(colombiaTest1.property_type.isin(['Apartamento'])==True)&(colombiaTrain.clasificacion == 0)]=colombiaTrain.rooms[(colombiaTrain.property_type.isin(['Apartamento'])==True)&(colombiaTrain.clasificacion == 0)].median()\n",
      "C:\\Users\\Nueva era\\AppData\\Local\\Temp\\ipykernel_1460\\2899295972.py:4: SettingWithCopyWarning: \n",
      "A value is trying to be set on a copy of a slice from a DataFrame\n",
      "\n",
      "See the caveats in the documentation: https://pandas.pydata.org/pandas-docs/stable/user_guide/indexing.html#returning-a-view-versus-a-copy\n",
      "  colombiaTest1.rooms[(colombiaTest1.rooms.isnull()==True)&(colombiaTest1.property_type.isin(['Apartamento'])==True)&(colombiaTrain.clasificacion == 1)]=colombiaTrain.rooms[(colombiaTrain.property_type.isin(['Apartamento'])==True)&(colombiaTrain.clasificacion == 1)].median()\n",
      "C:\\Users\\Nueva era\\AppData\\Local\\Temp\\ipykernel_1460\\2899295972.py:5: SettingWithCopyWarning: \n",
      "A value is trying to be set on a copy of a slice from a DataFrame\n",
      "\n",
      "See the caveats in the documentation: https://pandas.pydata.org/pandas-docs/stable/user_guide/indexing.html#returning-a-view-versus-a-copy\n",
      "  colombiaTest1.rooms[(colombiaTest1.rooms.isnull()==True)&(colombiaTest1.property_type.isin(['Otro'])==True)&(colombiaTrain.clasificacion == 0)]=colombiaTrain.rooms[(colombiaTrain.property_type.isin(['Otro'])==True)&(colombiaTrain.clasificacion == 0)].median()\n",
      "C:\\Users\\Nueva era\\AppData\\Local\\Temp\\ipykernel_1460\\2899295972.py:6: SettingWithCopyWarning: \n",
      "A value is trying to be set on a copy of a slice from a DataFrame\n",
      "\n",
      "See the caveats in the documentation: https://pandas.pydata.org/pandas-docs/stable/user_guide/indexing.html#returning-a-view-versus-a-copy\n",
      "  colombiaTest1.rooms[(colombiaTest1.rooms.isnull()==True)&(colombiaTest1.property_type.isin(['Otro'])==True)&(colombiaTrain.clasificacion == 1)]=colombiaTrain.rooms[(colombiaTrain.property_type.isin(['Otro'])==True)&(colombiaTrain.clasificacion == 1)].median()\n",
      "C:\\Users\\Nueva era\\AppData\\Local\\Temp\\ipykernel_1460\\2899295972.py:7: SettingWithCopyWarning: \n",
      "A value is trying to be set on a copy of a slice from a DataFrame\n",
      "\n",
      "See the caveats in the documentation: https://pandas.pydata.org/pandas-docs/stable/user_guide/indexing.html#returning-a-view-versus-a-copy\n",
      "  colombiaTest1.rooms[(colombiaTest1.rooms.isnull()==True)&(colombiaTest1.property_type.isin(['Oficina'])==True)&(colombiaTrain.clasificacion == 0)]=colombiaTrain.rooms[(colombiaTrain.property_type.isin(['Oficina'])==True)&(colombiaTrain.clasificacion == 0)].median()\n",
      "C:\\Users\\Nueva era\\AppData\\Local\\Temp\\ipykernel_1460\\2899295972.py:8: SettingWithCopyWarning: \n",
      "A value is trying to be set on a copy of a slice from a DataFrame\n",
      "\n",
      "See the caveats in the documentation: https://pandas.pydata.org/pandas-docs/stable/user_guide/indexing.html#returning-a-view-versus-a-copy\n",
      "  colombiaTest1.rooms[(colombiaTest1.rooms.isnull()==True)&(colombiaTest1.property_type.isin(['Oficina'])==True)&(colombiaTrain.clasificacion == 1)]=colombiaTrain.rooms[(colombiaTrain.property_type.isin(['Oficina'])==True)&(colombiaTrain.clasificacion == 1)].median()\n",
      "C:\\Users\\Nueva era\\AppData\\Local\\Temp\\ipykernel_1460\\2899295972.py:9: SettingWithCopyWarning: \n",
      "A value is trying to be set on a copy of a slice from a DataFrame\n",
      "\n",
      "See the caveats in the documentation: https://pandas.pydata.org/pandas-docs/stable/user_guide/indexing.html#returning-a-view-versus-a-copy\n",
      "  colombiaTest1.rooms[(colombiaTest1.rooms.isnull()==True)&(colombiaTest1.property_type.isin(['Finca'])==True)&(colombiaTrain.clasificacion == 0)]=colombiaTrain.rooms[(colombiaTrain.property_type.isin(['Finca'])==True)&(colombiaTrain.clasificacion == 0)].median()\n",
      "C:\\Users\\Nueva era\\AppData\\Local\\Temp\\ipykernel_1460\\2899295972.py:10: SettingWithCopyWarning: \n",
      "A value is trying to be set on a copy of a slice from a DataFrame\n",
      "\n",
      "See the caveats in the documentation: https://pandas.pydata.org/pandas-docs/stable/user_guide/indexing.html#returning-a-view-versus-a-copy\n",
      "  colombiaTest1.rooms[(colombiaTest1.rooms.isnull()==True)&(colombiaTest1.property_type.isin(['Finca'])==True)&(colombiaTrain.clasificacion == 1)]=colombiaTrain.rooms[(colombiaTrain.property_type.isin(['Finca'])==True)&(colombiaTrain.clasificacion == 1)].median()\n",
      "C:\\Users\\Nueva era\\AppData\\Local\\Temp\\ipykernel_1460\\2899295972.py:11: SettingWithCopyWarning: \n",
      "A value is trying to be set on a copy of a slice from a DataFrame\n",
      "\n",
      "See the caveats in the documentation: https://pandas.pydata.org/pandas-docs/stable/user_guide/indexing.html#returning-a-view-versus-a-copy\n",
      "  colombiaTest1.rooms[(colombiaTest1.rooms.isnull()==True)&(colombiaTest1.property_type.isin(['Lote'])==True)&(colombiaTrain.clasificacion == 0)]=colombiaTrain.rooms[(colombiaTrain.property_type.isin(['Lote'])==True)&(colombiaTrain.clasificacion == 0)].median()\n",
      "C:\\Users\\Nueva era\\AppData\\Local\\Temp\\ipykernel_1460\\2899295972.py:12: SettingWithCopyWarning: \n",
      "A value is trying to be set on a copy of a slice from a DataFrame\n",
      "\n",
      "See the caveats in the documentation: https://pandas.pydata.org/pandas-docs/stable/user_guide/indexing.html#returning-a-view-versus-a-copy\n",
      "  colombiaTest1.rooms[(colombiaTest1.rooms.isnull()==True)&(colombiaTest1.property_type.isin(['Lote'])==True)&(colombiaTrain.clasificacion == 1)]=colombiaTrain.rooms[(colombiaTrain.property_type.isin(['Lote'])==True)&(colombiaTrain.clasificacion == 1)].median()\n",
      "C:\\Users\\Nueva era\\AppData\\Local\\Temp\\ipykernel_1460\\2899295972.py:13: SettingWithCopyWarning: \n",
      "A value is trying to be set on a copy of a slice from a DataFrame\n",
      "\n",
      "See the caveats in the documentation: https://pandas.pydata.org/pandas-docs/stable/user_guide/indexing.html#returning-a-view-versus-a-copy\n",
      "  colombiaTest1.rooms[(colombiaTest1.rooms.isnull()==True)&(colombiaTest1.property_type.isin(['Local comercial'])==True)&(colombiaTrain.clasificacion == 0)]=colombiaTrain.rooms[(colombiaTrain.property_type.isin(['Local comercial'])==True)&(colombiaTrain.clasificacion == 0)].median()\n",
      "C:\\Users\\Nueva era\\AppData\\Local\\Temp\\ipykernel_1460\\2899295972.py:14: SettingWithCopyWarning: \n",
      "A value is trying to be set on a copy of a slice from a DataFrame\n",
      "\n",
      "See the caveats in the documentation: https://pandas.pydata.org/pandas-docs/stable/user_guide/indexing.html#returning-a-view-versus-a-copy\n",
      "  colombiaTest1.rooms[(colombiaTest1.rooms.isnull()==True)&(colombiaTest1.property_type.isin(['Local comercial'])==True)&(colombiaTrain.clasificacion == 1)]=colombiaTrain.rooms[(colombiaTrain.property_type.isin(['Local comercial'])==True)&(colombiaTrain.clasificacion == 1)].median()\n",
      "C:\\Users\\Nueva era\\AppData\\Local\\Temp\\ipykernel_1460\\2899295972.py:15: SettingWithCopyWarning: \n",
      "A value is trying to be set on a copy of a slice from a DataFrame\n",
      "\n",
      "See the caveats in the documentation: https://pandas.pydata.org/pandas-docs/stable/user_guide/indexing.html#returning-a-view-versus-a-copy\n",
      "  colombiaTest1.rooms[(colombiaTest1.rooms.isnull()==True)&(colombiaTest1.property_type.isin(['Parqueadero'])==True)&(colombiaTrain.clasificacion == 0)]=0\n",
      "C:\\Users\\Nueva era\\AppData\\Roaming\\Python\\Python310\\site-packages\\numpy\\lib\\nanfunctions.py:1215: RuntimeWarning: Mean of empty slice\n",
      "  return np.nanmean(a, axis, out=out, keepdims=keepdims)\n",
      "C:\\Users\\Nueva era\\AppData\\Local\\Temp\\ipykernel_1460\\2899295972.py:16: SettingWithCopyWarning: \n",
      "A value is trying to be set on a copy of a slice from a DataFrame\n",
      "\n",
      "See the caveats in the documentation: https://pandas.pydata.org/pandas-docs/stable/user_guide/indexing.html#returning-a-view-versus-a-copy\n",
      "  colombiaTest1.rooms[(colombiaTest1.rooms.isnull()==True)&(colombiaTest1.property_type.isin(['Parqueadero'])==True)&(colombiaTrain.clasificacion == 1)]=colombiaTrain.rooms[(colombiaTrain.property_type.isin(['Parqueadero'])==True)&(colombiaTrain.clasificacion == 1)].median()\n"
     ]
    }
   ],
   "source": [
    "colombiaTest1.rooms[(colombiaTest1.rooms.isnull()==True)&(colombiaTest1.property_type.isin(['Casa'])==True)&(colombiaTrain.clasificacion == 0)]=colombiaTrain.rooms[(colombiaTrain.property_type.isin(['Casa'])==True)&(colombiaTrain.clasificacion == 0)].median()\n",
    "colombiaTest1.rooms[(colombiaTest1.rooms.isnull()==True)&(colombiaTest1.property_type.isin(['Casa'])==True)&(colombiaTrain.clasificacion == 1)]=colombiaTrain.rooms[(colombiaTrain.property_type.isin(['Casa'])==True)&(colombiaTrain.clasificacion == 1)].median()\n",
    "colombiaTest1.rooms[(colombiaTest1.rooms.isnull()==True)&(colombiaTest1.property_type.isin(['Apartamento'])==True)&(colombiaTrain.clasificacion == 0)]=colombiaTrain.rooms[(colombiaTrain.property_type.isin(['Apartamento'])==True)&(colombiaTrain.clasificacion == 0)].median()\n",
    "colombiaTest1.rooms[(colombiaTest1.rooms.isnull()==True)&(colombiaTest1.property_type.isin(['Apartamento'])==True)&(colombiaTrain.clasificacion == 1)]=colombiaTrain.rooms[(colombiaTrain.property_type.isin(['Apartamento'])==True)&(colombiaTrain.clasificacion == 1)].median()\n",
    "colombiaTest1.rooms[(colombiaTest1.rooms.isnull()==True)&(colombiaTest1.property_type.isin(['Otro'])==True)&(colombiaTrain.clasificacion == 0)]=colombiaTrain.rooms[(colombiaTrain.property_type.isin(['Otro'])==True)&(colombiaTrain.clasificacion == 0)].median()\n",
    "colombiaTest1.rooms[(colombiaTest1.rooms.isnull()==True)&(colombiaTest1.property_type.isin(['Otro'])==True)&(colombiaTrain.clasificacion == 1)]=colombiaTrain.rooms[(colombiaTrain.property_type.isin(['Otro'])==True)&(colombiaTrain.clasificacion == 1)].median()\n",
    "colombiaTest1.rooms[(colombiaTest1.rooms.isnull()==True)&(colombiaTest1.property_type.isin(['Oficina'])==True)&(colombiaTrain.clasificacion == 0)]=colombiaTrain.rooms[(colombiaTrain.property_type.isin(['Oficina'])==True)&(colombiaTrain.clasificacion == 0)].median()\n",
    "colombiaTest1.rooms[(colombiaTest1.rooms.isnull()==True)&(colombiaTest1.property_type.isin(['Oficina'])==True)&(colombiaTrain.clasificacion == 1)]=colombiaTrain.rooms[(colombiaTrain.property_type.isin(['Oficina'])==True)&(colombiaTrain.clasificacion == 1)].median()\n",
    "colombiaTest1.rooms[(colombiaTest1.rooms.isnull()==True)&(colombiaTest1.property_type.isin(['Finca'])==True)&(colombiaTrain.clasificacion == 0)]=colombiaTrain.rooms[(colombiaTrain.property_type.isin(['Finca'])==True)&(colombiaTrain.clasificacion == 0)].median()\n",
    "colombiaTest1.rooms[(colombiaTest1.rooms.isnull()==True)&(colombiaTest1.property_type.isin(['Finca'])==True)&(colombiaTrain.clasificacion == 1)]=colombiaTrain.rooms[(colombiaTrain.property_type.isin(['Finca'])==True)&(colombiaTrain.clasificacion == 1)].median()\n",
    "colombiaTest1.rooms[(colombiaTest1.rooms.isnull()==True)&(colombiaTest1.property_type.isin(['Lote'])==True)&(colombiaTrain.clasificacion == 0)]=colombiaTrain.rooms[(colombiaTrain.property_type.isin(['Lote'])==True)&(colombiaTrain.clasificacion == 0)].median()\n",
    "colombiaTest1.rooms[(colombiaTest1.rooms.isnull()==True)&(colombiaTest1.property_type.isin(['Lote'])==True)&(colombiaTrain.clasificacion == 1)]=colombiaTrain.rooms[(colombiaTrain.property_type.isin(['Lote'])==True)&(colombiaTrain.clasificacion == 1)].median()\n",
    "colombiaTest1.rooms[(colombiaTest1.rooms.isnull()==True)&(colombiaTest1.property_type.isin(['Local comercial'])==True)&(colombiaTrain.clasificacion == 0)]=colombiaTrain.rooms[(colombiaTrain.property_type.isin(['Local comercial'])==True)&(colombiaTrain.clasificacion == 0)].median()\n",
    "colombiaTest1.rooms[(colombiaTest1.rooms.isnull()==True)&(colombiaTest1.property_type.isin(['Local comercial'])==True)&(colombiaTrain.clasificacion == 1)]=colombiaTrain.rooms[(colombiaTrain.property_type.isin(['Local comercial'])==True)&(colombiaTrain.clasificacion == 1)].median()\n",
    "colombiaTest1.rooms[(colombiaTest1.rooms.isnull()==True)&(colombiaTest1.property_type.isin(['Parqueadero'])==True)&(colombiaTrain.clasificacion == 0)]=0\n",
    "colombiaTest1.rooms[(colombiaTest1.rooms.isnull()==True)&(colombiaTest1.property_type.isin(['Parqueadero'])==True)&(colombiaTrain.clasificacion == 1)]=colombiaTrain.rooms[(colombiaTrain.property_type.isin(['Parqueadero'])==True)&(colombiaTrain.clasificacion == 1)].median()"
   ]
  },
  {
   "cell_type": "code",
   "execution_count": 283,
   "metadata": {},
   "outputs": [
    {
     "name": "stderr",
     "output_type": "stream",
     "text": [
      "C:\\Users\\Nueva era\\AppData\\Local\\Temp\\ipykernel_1460\\1999459848.py:1: SettingWithCopyWarning: \n",
      "A value is trying to be set on a copy of a slice from a DataFrame\n",
      "\n",
      "See the caveats in the documentation: https://pandas.pydata.org/pandas-docs/stable/user_guide/indexing.html#returning-a-view-versus-a-copy\n",
      "  colombiaTest1.rooms[(colombiaTest1.rooms.isnull()==True)&(colombiaTest1.property_type.isin(['Casa'])==True)]=colombiaTrain.rooms[(colombiaTrain.property_type.isin(['Casa'])==True)].median()\n",
      "C:\\Users\\Nueva era\\AppData\\Local\\Temp\\ipykernel_1460\\1999459848.py:2: SettingWithCopyWarning: \n",
      "A value is trying to be set on a copy of a slice from a DataFrame\n",
      "\n",
      "See the caveats in the documentation: https://pandas.pydata.org/pandas-docs/stable/user_guide/indexing.html#returning-a-view-versus-a-copy\n",
      "  colombiaTest1.rooms[(colombiaTest1.rooms.isnull()==True)&(colombiaTest1.property_type.isin(['Apartamento']))]=colombiaTrain.rooms[(colombiaTrain.property_type.isin(['Apartamento'])==True)].median()\n",
      "C:\\Users\\Nueva era\\AppData\\Local\\Temp\\ipykernel_1460\\1999459848.py:3: SettingWithCopyWarning: \n",
      "A value is trying to be set on a copy of a slice from a DataFrame\n",
      "\n",
      "See the caveats in the documentation: https://pandas.pydata.org/pandas-docs/stable/user_guide/indexing.html#returning-a-view-versus-a-copy\n",
      "  colombiaTest1.rooms[(colombiaTest1.rooms.isnull()==True)&(colombiaTest1.property_type.isin(['Lote']))]=colombiaTrain.rooms[(colombiaTrain.property_type.isin(['Lote'])==True)].median()\n",
      "C:\\Users\\Nueva era\\AppData\\Local\\Temp\\ipykernel_1460\\1999459848.py:4: SettingWithCopyWarning: \n",
      "A value is trying to be set on a copy of a slice from a DataFrame\n",
      "\n",
      "See the caveats in the documentation: https://pandas.pydata.org/pandas-docs/stable/user_guide/indexing.html#returning-a-view-versus-a-copy\n",
      "  colombiaTest1.rooms[(colombiaTest1.rooms.isnull()==True)&(colombiaTest1.property_type.isin(['Local comercial']))]=colombiaTrain.rooms[(colombiaTrain.property_type.isin(['Local comercial'])==True)].median()\n",
      "C:\\Users\\Nueva era\\AppData\\Local\\Temp\\ipykernel_1460\\1999459848.py:5: SettingWithCopyWarning: \n",
      "A value is trying to be set on a copy of a slice from a DataFrame\n",
      "\n",
      "See the caveats in the documentation: https://pandas.pydata.org/pandas-docs/stable/user_guide/indexing.html#returning-a-view-versus-a-copy\n",
      "  colombiaTest1.rooms[(colombiaTest1.rooms.isnull()==True)&(colombiaTest1.property_type.isin(['Otro'])==True)]=colombiaTrain.rooms[(colombiaTrain.property_type.isin(['Casa'])==True)].median()\n",
      "C:\\Users\\Nueva era\\AppData\\Local\\Temp\\ipykernel_1460\\1999459848.py:6: SettingWithCopyWarning: \n",
      "A value is trying to be set on a copy of a slice from a DataFrame\n",
      "\n",
      "See the caveats in the documentation: https://pandas.pydata.org/pandas-docs/stable/user_guide/indexing.html#returning-a-view-versus-a-copy\n",
      "  colombiaTest1.rooms[(colombiaTest1.rooms.isnull()==True)&(colombiaTest1.property_type.isin(['Finca'])==True)]=colombiaTrain.rooms[(colombiaTrain.property_type.isin(['Casa'])==True)].median()\n",
      "C:\\Users\\Nueva era\\AppData\\Local\\Temp\\ipykernel_1460\\1999459848.py:7: SettingWithCopyWarning: \n",
      "A value is trying to be set on a copy of a slice from a DataFrame\n",
      "\n",
      "See the caveats in the documentation: https://pandas.pydata.org/pandas-docs/stable/user_guide/indexing.html#returning-a-view-versus-a-copy\n",
      "  colombiaTest1.rooms[(colombiaTest1.rooms.isnull()==True)&(colombiaTest1.property_type.isin(['Parqueadero'])==True)]=colombiaTrain.rooms[(colombiaTrain.property_type.isin(['Casa'])==True)].median()\n",
      "C:\\Users\\Nueva era\\AppData\\Local\\Temp\\ipykernel_1460\\1999459848.py:8: SettingWithCopyWarning: \n",
      "A value is trying to be set on a copy of a slice from a DataFrame\n",
      "\n",
      "See the caveats in the documentation: https://pandas.pydata.org/pandas-docs/stable/user_guide/indexing.html#returning-a-view-versus-a-copy\n",
      "  colombiaTest1.rooms[(colombiaTest1.rooms.isnull()==True)&(colombiaTest1.property_type.isin(['Oficina'])==True)]=colombiaTrain.rooms[(colombiaTrain.property_type.isin(['Casa'])==True)].median()\n"
     ]
    }
   ],
   "source": [
    "colombiaTest1.rooms[(colombiaTest1.rooms.isnull()==True)&(colombiaTest1.property_type.isin(['Casa'])==True)]=colombiaTrain.rooms[(colombiaTrain.property_type.isin(['Casa'])==True)].median()\n",
    "colombiaTest1.rooms[(colombiaTest1.rooms.isnull()==True)&(colombiaTest1.property_type.isin(['Apartamento']))]=colombiaTrain.rooms[(colombiaTrain.property_type.isin(['Apartamento'])==True)].median()\n",
    "colombiaTest1.rooms[(colombiaTest1.rooms.isnull()==True)&(colombiaTest1.property_type.isin(['Lote']))]=colombiaTrain.rooms[(colombiaTrain.property_type.isin(['Lote'])==True)].median()\n",
    "colombiaTest1.rooms[(colombiaTest1.rooms.isnull()==True)&(colombiaTest1.property_type.isin(['Local comercial']))]=colombiaTrain.rooms[(colombiaTrain.property_type.isin(['Local comercial'])==True)].median()\n",
    "colombiaTest1.rooms[(colombiaTest1.rooms.isnull()==True)&(colombiaTest1.property_type.isin(['Otro'])==True)]=colombiaTrain.rooms[(colombiaTrain.property_type.isin(['Casa'])==True)].median()\n",
    "colombiaTest1.rooms[(colombiaTest1.rooms.isnull()==True)&(colombiaTest1.property_type.isin(['Finca'])==True)]=colombiaTrain.rooms[(colombiaTrain.property_type.isin(['Casa'])==True)].median()\n",
    "colombiaTest1.rooms[(colombiaTest1.rooms.isnull()==True)&(colombiaTest1.property_type.isin(['Parqueadero'])==True)]=colombiaTrain.rooms[(colombiaTrain.property_type.isin(['Casa'])==True)].median()\n",
    "colombiaTest1.rooms[(colombiaTest1.rooms.isnull()==True)&(colombiaTest1.property_type.isin(['Oficina'])==True)]=colombiaTrain.rooms[(colombiaTrain.property_type.isin(['Casa'])==True)].median()"
   ]
  },
  {
   "cell_type": "code",
   "execution_count": 264,
   "metadata": {},
   "outputs": [
    {
     "name": "stderr",
     "output_type": "stream",
     "text": [
      "C:\\Users\\Nueva era\\AppData\\Local\\Temp\\ipykernel_1460\\1471497335.py:1: SettingWithCopyWarning: \n",
      "A value is trying to be set on a copy of a slice from a DataFrame\n",
      "\n",
      "See the caveats in the documentation: https://pandas.pydata.org/pandas-docs/stable/user_guide/indexing.html#returning-a-view-versus-a-copy\n",
      "  colombiaTest1.bedrooms[(colombiaTest1.bedrooms.isnull()==True)&(colombiaTest1.property_type.isin(['Casa'])==True)&(colombiaTrain.clasificacion == 0)]=colombiaTrain.bedrooms[(colombiaTrain.property_type.isin(['Casa'])==True)&(colombiaTrain.clasificacion == 0)].median()\n",
      "C:\\Users\\Nueva era\\AppData\\Local\\Temp\\ipykernel_1460\\1471497335.py:2: SettingWithCopyWarning: \n",
      "A value is trying to be set on a copy of a slice from a DataFrame\n",
      "\n",
      "See the caveats in the documentation: https://pandas.pydata.org/pandas-docs/stable/user_guide/indexing.html#returning-a-view-versus-a-copy\n",
      "  colombiaTest1.bedrooms[(colombiaTest1.bedrooms.isnull()==True)&(colombiaTest1.property_type.isin(['Casa'])==True)&(colombiaTrain.clasificacion == 1)]=colombiaTrain.bedrooms[(colombiaTrain.property_type.isin(['Casa'])==True)&(colombiaTrain.clasificacion == 1)].median()\n",
      "C:\\Users\\Nueva era\\AppData\\Local\\Temp\\ipykernel_1460\\1471497335.py:3: SettingWithCopyWarning: \n",
      "A value is trying to be set on a copy of a slice from a DataFrame\n",
      "\n",
      "See the caveats in the documentation: https://pandas.pydata.org/pandas-docs/stable/user_guide/indexing.html#returning-a-view-versus-a-copy\n",
      "  colombiaTest1.bedrooms[(colombiaTest1.bedrooms.isnull()==True)&(colombiaTest1.property_type.isin(['Apartamento'])==True)&(colombiaTrain.clasificacion == 0)]=colombiaTrain.bedrooms[(colombiaTrain.property_type.isin(['Apartamento'])==True)&(colombiaTrain.clasificacion == 0)].median()\n",
      "C:\\Users\\Nueva era\\AppData\\Local\\Temp\\ipykernel_1460\\1471497335.py:4: SettingWithCopyWarning: \n",
      "A value is trying to be set on a copy of a slice from a DataFrame\n",
      "\n",
      "See the caveats in the documentation: https://pandas.pydata.org/pandas-docs/stable/user_guide/indexing.html#returning-a-view-versus-a-copy\n",
      "  colombiaTest1.bedrooms[(colombiaTest1.bedrooms.isnull()==True)&(colombiaTest1.property_type.isin(['Apartamento'])==True)&(colombiaTrain.clasificacion == 1)]=colombiaTrain.bedrooms[(colombiaTrain.property_type.isin(['Apartamento'])==True)&(colombiaTrain.clasificacion == 1)].median()\n",
      "C:\\Users\\Nueva era\\AppData\\Local\\Temp\\ipykernel_1460\\1471497335.py:5: SettingWithCopyWarning: \n",
      "A value is trying to be set on a copy of a slice from a DataFrame\n",
      "\n",
      "See the caveats in the documentation: https://pandas.pydata.org/pandas-docs/stable/user_guide/indexing.html#returning-a-view-versus-a-copy\n",
      "  colombiaTest1.bedrooms[(colombiaTest1.bedrooms.isnull()==True)&(colombiaTest1.property_type.isin(['Otro'])==True)&(colombiaTrain.clasificacion == 0)]=colombiaTrain.bedrooms[(colombiaTrain.property_type.isin(['Otro'])==True)&(colombiaTrain.clasificacion == 0)].median()\n",
      "C:\\Users\\Nueva era\\AppData\\Local\\Temp\\ipykernel_1460\\1471497335.py:6: SettingWithCopyWarning: \n",
      "A value is trying to be set on a copy of a slice from a DataFrame\n",
      "\n",
      "See the caveats in the documentation: https://pandas.pydata.org/pandas-docs/stable/user_guide/indexing.html#returning-a-view-versus-a-copy\n",
      "  colombiaTest1.bedrooms[(colombiaTest1.bedrooms.isnull()==True)&(colombiaTest1.property_type.isin(['Otro'])==True)&(colombiaTrain.clasificacion == 1)]=colombiaTrain.bedrooms[(colombiaTrain.property_type.isin(['Otro'])==True)&(colombiaTrain.clasificacion == 1)].median()\n",
      "C:\\Users\\Nueva era\\AppData\\Local\\Temp\\ipykernel_1460\\1471497335.py:7: SettingWithCopyWarning: \n",
      "A value is trying to be set on a copy of a slice from a DataFrame\n",
      "\n",
      "See the caveats in the documentation: https://pandas.pydata.org/pandas-docs/stable/user_guide/indexing.html#returning-a-view-versus-a-copy\n",
      "  colombiaTest1.bedrooms[(colombiaTest1.bedrooms.isnull()==True)&(colombiaTest1.property_type.isin(['Oficina'])==True)&(colombiaTrain.clasificacion == 0)]=colombiaTrain.bedrooms[(colombiaTrain.property_type.isin(['Oficina'])==True)&(colombiaTrain.clasificacion == 0)].median()\n",
      "C:\\Users\\Nueva era\\AppData\\Local\\Temp\\ipykernel_1460\\1471497335.py:8: SettingWithCopyWarning: \n",
      "A value is trying to be set on a copy of a slice from a DataFrame\n",
      "\n",
      "See the caveats in the documentation: https://pandas.pydata.org/pandas-docs/stable/user_guide/indexing.html#returning-a-view-versus-a-copy\n",
      "  colombiaTest1.bedrooms[(colombiaTest1.bedrooms.isnull()==True)&(colombiaTest1.property_type.isin(['Oficina'])==True)&(colombiaTrain.clasificacion == 1)]=colombiaTrain.bedrooms[(colombiaTrain.property_type.isin(['Oficina'])==True)&(colombiaTrain.clasificacion == 1)].median()\n",
      "C:\\Users\\Nueva era\\AppData\\Local\\Temp\\ipykernel_1460\\1471497335.py:9: SettingWithCopyWarning: \n",
      "A value is trying to be set on a copy of a slice from a DataFrame\n",
      "\n",
      "See the caveats in the documentation: https://pandas.pydata.org/pandas-docs/stable/user_guide/indexing.html#returning-a-view-versus-a-copy\n",
      "  colombiaTest1.bedrooms[(colombiaTest1.bedrooms.isnull()==True)&(colombiaTest1.property_type.isin(['Finca'])==True)&(colombiaTrain.clasificacion == 0)]=colombiaTrain.bedrooms[(colombiaTrain.property_type.isin(['Finca'])==True)&(colombiaTrain.clasificacion == 0)].median()\n",
      "C:\\Users\\Nueva era\\AppData\\Local\\Temp\\ipykernel_1460\\1471497335.py:10: SettingWithCopyWarning: \n",
      "A value is trying to be set on a copy of a slice from a DataFrame\n",
      "\n",
      "See the caveats in the documentation: https://pandas.pydata.org/pandas-docs/stable/user_guide/indexing.html#returning-a-view-versus-a-copy\n",
      "  colombiaTest1.bedrooms[(colombiaTest1.bedrooms.isnull()==True)&(colombiaTest1.property_type.isin(['Finca'])==True)&(colombiaTrain.clasificacion == 1)]=colombiaTrain.bedrooms[(colombiaTrain.property_type.isin(['Finca'])==True)&(colombiaTrain.clasificacion == 1)].median()\n",
      "C:\\Users\\Nueva era\\AppData\\Local\\Temp\\ipykernel_1460\\1471497335.py:11: SettingWithCopyWarning: \n",
      "A value is trying to be set on a copy of a slice from a DataFrame\n",
      "\n",
      "See the caveats in the documentation: https://pandas.pydata.org/pandas-docs/stable/user_guide/indexing.html#returning-a-view-versus-a-copy\n",
      "  colombiaTest1.bedrooms[(colombiaTest1.bedrooms.isnull()==True)&(colombiaTest1.property_type.isin(['Lote'])==True)&(colombiaTrain.clasificacion == 0)]=colombiaTrain.bedrooms[(colombiaTrain.property_type.isin(['Lote'])==True)&(colombiaTrain.clasificacion == 0)].median()\n",
      "C:\\Users\\Nueva era\\AppData\\Local\\Temp\\ipykernel_1460\\1471497335.py:12: SettingWithCopyWarning: \n",
      "A value is trying to be set on a copy of a slice from a DataFrame\n",
      "\n",
      "See the caveats in the documentation: https://pandas.pydata.org/pandas-docs/stable/user_guide/indexing.html#returning-a-view-versus-a-copy\n",
      "  colombiaTest1.bedrooms[(colombiaTest1.bedrooms.isnull()==True)&(colombiaTest1.property_type.isin(['Lote'])==True)&(colombiaTrain.clasificacion == 1)]=colombiaTrain.bedrooms[(colombiaTrain.property_type.isin(['Lote'])==True)&(colombiaTrain.clasificacion == 1)].median()\n",
      "C:\\Users\\Nueva era\\AppData\\Local\\Temp\\ipykernel_1460\\1471497335.py:13: SettingWithCopyWarning: \n",
      "A value is trying to be set on a copy of a slice from a DataFrame\n",
      "\n",
      "See the caveats in the documentation: https://pandas.pydata.org/pandas-docs/stable/user_guide/indexing.html#returning-a-view-versus-a-copy\n",
      "  colombiaTest1.bedrooms[(colombiaTest1.bedrooms.isnull()==True)&(colombiaTest1.property_type.isin(['Local comercial'])==True)&(colombiaTrain.clasificacion == 0)]=colombiaTrain.bedrooms[(colombiaTrain.property_type.isin(['Local comercial'])==True)&(colombiaTrain.clasificacion == 0)].median()\n",
      "C:\\Users\\Nueva era\\AppData\\Local\\Temp\\ipykernel_1460\\1471497335.py:14: SettingWithCopyWarning: \n",
      "A value is trying to be set on a copy of a slice from a DataFrame\n",
      "\n",
      "See the caveats in the documentation: https://pandas.pydata.org/pandas-docs/stable/user_guide/indexing.html#returning-a-view-versus-a-copy\n",
      "  colombiaTest1.bedrooms[(colombiaTest1.bedrooms.isnull()==True)&(colombiaTest1.property_type.isin(['Local comercial'])==True)&(colombiaTrain.clasificacion == 1)]=colombiaTrain.bedrooms[(colombiaTrain.property_type.isin(['Local comercial'])==True)&(colombiaTrain.clasificacion == 1)].median()\n",
      "C:\\Users\\Nueva era\\AppData\\Local\\Temp\\ipykernel_1460\\1471497335.py:15: SettingWithCopyWarning: \n",
      "A value is trying to be set on a copy of a slice from a DataFrame\n",
      "\n",
      "See the caveats in the documentation: https://pandas.pydata.org/pandas-docs/stable/user_guide/indexing.html#returning-a-view-versus-a-copy\n",
      "  colombiaTest1.bedrooms[(colombiaTest1.bedrooms.isnull()==True)&(colombiaTest1.property_type.isin(['Parqueadero'])==True)&(colombiaTrain.clasificacion == 0)]=0\n",
      "C:\\Users\\Nueva era\\AppData\\Roaming\\Python\\Python310\\site-packages\\numpy\\lib\\nanfunctions.py:1215: RuntimeWarning: Mean of empty slice\n",
      "  return np.nanmean(a, axis, out=out, keepdims=keepdims)\n",
      "C:\\Users\\Nueva era\\AppData\\Local\\Temp\\ipykernel_1460\\1471497335.py:16: SettingWithCopyWarning: \n",
      "A value is trying to be set on a copy of a slice from a DataFrame\n",
      "\n",
      "See the caveats in the documentation: https://pandas.pydata.org/pandas-docs/stable/user_guide/indexing.html#returning-a-view-versus-a-copy\n",
      "  colombiaTest1.bedrooms[(colombiaTest1.bedrooms.isnull()==True)&(colombiaTest1.property_type.isin(['Parqueadero'])==True)&(colombiaTrain.clasificacion == 1)]=colombiaTrain.bedrooms[(colombiaTrain.property_type.isin(['Parqueadero'])==True)&(colombiaTrain.clasificacion == 1)].median()\n"
     ]
    }
   ],
   "source": [
    "colombiaTest1.bedrooms[(colombiaTest1.bedrooms.isnull()==True)&(colombiaTest1.property_type.isin(['Casa'])==True)&(colombiaTrain.clasificacion == 0)]=colombiaTrain.bedrooms[(colombiaTrain.property_type.isin(['Casa'])==True)&(colombiaTrain.clasificacion == 0)].median()\n",
    "colombiaTest1.bedrooms[(colombiaTest1.bedrooms.isnull()==True)&(colombiaTest1.property_type.isin(['Casa'])==True)&(colombiaTrain.clasificacion == 1)]=colombiaTrain.bedrooms[(colombiaTrain.property_type.isin(['Casa'])==True)&(colombiaTrain.clasificacion == 1)].median()\n",
    "colombiaTest1.bedrooms[(colombiaTest1.bedrooms.isnull()==True)&(colombiaTest1.property_type.isin(['Apartamento'])==True)&(colombiaTrain.clasificacion == 0)]=colombiaTrain.bedrooms[(colombiaTrain.property_type.isin(['Apartamento'])==True)&(colombiaTrain.clasificacion == 0)].median()\n",
    "colombiaTest1.bedrooms[(colombiaTest1.bedrooms.isnull()==True)&(colombiaTest1.property_type.isin(['Apartamento'])==True)&(colombiaTrain.clasificacion == 1)]=colombiaTrain.bedrooms[(colombiaTrain.property_type.isin(['Apartamento'])==True)&(colombiaTrain.clasificacion == 1)].median()\n",
    "colombiaTest1.bedrooms[(colombiaTest1.bedrooms.isnull()==True)&(colombiaTest1.property_type.isin(['Otro'])==True)&(colombiaTrain.clasificacion == 0)]=colombiaTrain.bedrooms[(colombiaTrain.property_type.isin(['Otro'])==True)&(colombiaTrain.clasificacion == 0)].median()\n",
    "colombiaTest1.bedrooms[(colombiaTest1.bedrooms.isnull()==True)&(colombiaTest1.property_type.isin(['Otro'])==True)&(colombiaTrain.clasificacion == 1)]=colombiaTrain.bedrooms[(colombiaTrain.property_type.isin(['Otro'])==True)&(colombiaTrain.clasificacion == 1)].median()\n",
    "colombiaTest1.bedrooms[(colombiaTest1.bedrooms.isnull()==True)&(colombiaTest1.property_type.isin(['Oficina'])==True)&(colombiaTrain.clasificacion == 0)]=colombiaTrain.bedrooms[(colombiaTrain.property_type.isin(['Oficina'])==True)&(colombiaTrain.clasificacion == 0)].median()\n",
    "colombiaTest1.bedrooms[(colombiaTest1.bedrooms.isnull()==True)&(colombiaTest1.property_type.isin(['Oficina'])==True)&(colombiaTrain.clasificacion == 1)]=colombiaTrain.bedrooms[(colombiaTrain.property_type.isin(['Oficina'])==True)&(colombiaTrain.clasificacion == 1)].median()\n",
    "colombiaTest1.bedrooms[(colombiaTest1.bedrooms.isnull()==True)&(colombiaTest1.property_type.isin(['Finca'])==True)&(colombiaTrain.clasificacion == 0)]=colombiaTrain.bedrooms[(colombiaTrain.property_type.isin(['Finca'])==True)&(colombiaTrain.clasificacion == 0)].median()\n",
    "colombiaTest1.bedrooms[(colombiaTest1.bedrooms.isnull()==True)&(colombiaTest1.property_type.isin(['Finca'])==True)&(colombiaTrain.clasificacion == 1)]=colombiaTrain.bedrooms[(colombiaTrain.property_type.isin(['Finca'])==True)&(colombiaTrain.clasificacion == 1)].median()\n",
    "colombiaTest1.bedrooms[(colombiaTest1.bedrooms.isnull()==True)&(colombiaTest1.property_type.isin(['Lote'])==True)&(colombiaTrain.clasificacion == 0)]=colombiaTrain.bedrooms[(colombiaTrain.property_type.isin(['Lote'])==True)&(colombiaTrain.clasificacion == 0)].median()\n",
    "colombiaTest1.bedrooms[(colombiaTest1.bedrooms.isnull()==True)&(colombiaTest1.property_type.isin(['Lote'])==True)&(colombiaTrain.clasificacion == 1)]=colombiaTrain.bedrooms[(colombiaTrain.property_type.isin(['Lote'])==True)&(colombiaTrain.clasificacion == 1)].median()\n",
    "colombiaTest1.bedrooms[(colombiaTest1.bedrooms.isnull()==True)&(colombiaTest1.property_type.isin(['Local comercial'])==True)&(colombiaTrain.clasificacion == 0)]=colombiaTrain.bedrooms[(colombiaTrain.property_type.isin(['Local comercial'])==True)&(colombiaTrain.clasificacion == 0)].median()\n",
    "colombiaTest1.bedrooms[(colombiaTest1.bedrooms.isnull()==True)&(colombiaTest1.property_type.isin(['Local comercial'])==True)&(colombiaTrain.clasificacion == 1)]=colombiaTrain.bedrooms[(colombiaTrain.property_type.isin(['Local comercial'])==True)&(colombiaTrain.clasificacion == 1)].median()\n",
    "colombiaTest1.bedrooms[(colombiaTest1.bedrooms.isnull()==True)&(colombiaTest1.property_type.isin(['Parqueadero'])==True)&(colombiaTrain.clasificacion == 0)]=0\n",
    "colombiaTest1.bedrooms[(colombiaTest1.bedrooms.isnull()==True)&(colombiaTest1.property_type.isin(['Parqueadero'])==True)&(colombiaTrain.clasificacion == 1)]=colombiaTrain.bedrooms[(colombiaTrain.property_type.isin(['Parqueadero'])==True)&(colombiaTrain.clasificacion == 1)].median()"
   ]
  },
  {
   "cell_type": "code",
   "execution_count": 284,
   "metadata": {},
   "outputs": [
    {
     "name": "stderr",
     "output_type": "stream",
     "text": [
      "C:\\Users\\Nueva era\\AppData\\Local\\Temp\\ipykernel_1460\\2093260190.py:1: SettingWithCopyWarning: \n",
      "A value is trying to be set on a copy of a slice from a DataFrame\n",
      "\n",
      "See the caveats in the documentation: https://pandas.pydata.org/pandas-docs/stable/user_guide/indexing.html#returning-a-view-versus-a-copy\n",
      "  colombiaTest1.bedrooms[(colombiaTest1.bedrooms.isnull()==True)&(colombiaTest1.property_type.isin(['Casa'])==True)]=colombiaTrain.bedrooms[(colombiaTrain.property_type.isin(['Casa'])==True)].median()\n",
      "C:\\Users\\Nueva era\\AppData\\Local\\Temp\\ipykernel_1460\\2093260190.py:2: SettingWithCopyWarning: \n",
      "A value is trying to be set on a copy of a slice from a DataFrame\n",
      "\n",
      "See the caveats in the documentation: https://pandas.pydata.org/pandas-docs/stable/user_guide/indexing.html#returning-a-view-versus-a-copy\n",
      "  colombiaTest1.bedrooms[(colombiaTest1.bedrooms.isnull()==True)&(colombiaTest1.property_type.isin(['Apartamento']))]=colombiaTrain.bedrooms[(colombiaTrain.property_type.isin(['Apartamento'])==True)].median()\n",
      "C:\\Users\\Nueva era\\AppData\\Local\\Temp\\ipykernel_1460\\2093260190.py:3: SettingWithCopyWarning: \n",
      "A value is trying to be set on a copy of a slice from a DataFrame\n",
      "\n",
      "See the caveats in the documentation: https://pandas.pydata.org/pandas-docs/stable/user_guide/indexing.html#returning-a-view-versus-a-copy\n",
      "  colombiaTest1.bedrooms[(colombiaTest1.bedrooms.isnull()==True)&(colombiaTest1.property_type.isin(['Lote']))]=colombiaTrain.bedrooms[(colombiaTrain.property_type.isin(['Lote'])==True)].median()\n",
      "C:\\Users\\Nueva era\\AppData\\Local\\Temp\\ipykernel_1460\\2093260190.py:4: SettingWithCopyWarning: \n",
      "A value is trying to be set on a copy of a slice from a DataFrame\n",
      "\n",
      "See the caveats in the documentation: https://pandas.pydata.org/pandas-docs/stable/user_guide/indexing.html#returning-a-view-versus-a-copy\n",
      "  colombiaTest1.bedrooms[(colombiaTest1.bedrooms.isnull()==True)&(colombiaTest1.property_type.isin(['Local comercial']))]=colombiaTrain.bedrooms[(colombiaTrain.property_type.isin(['Local comercial'])==True)].median()\n",
      "C:\\Users\\Nueva era\\AppData\\Local\\Temp\\ipykernel_1460\\2093260190.py:5: SettingWithCopyWarning: \n",
      "A value is trying to be set on a copy of a slice from a DataFrame\n",
      "\n",
      "See the caveats in the documentation: https://pandas.pydata.org/pandas-docs/stable/user_guide/indexing.html#returning-a-view-versus-a-copy\n",
      "  colombiaTest1.bedrooms[(colombiaTest1.bedrooms.isnull()==True)&(colombiaTest1.property_type.isin(['Otro'])==True)]=colombiaTrain.bedrooms[(colombiaTrain.property_type.isin(['Casa'])==True)].median()\n",
      "C:\\Users\\Nueva era\\AppData\\Local\\Temp\\ipykernel_1460\\2093260190.py:6: SettingWithCopyWarning: \n",
      "A value is trying to be set on a copy of a slice from a DataFrame\n",
      "\n",
      "See the caveats in the documentation: https://pandas.pydata.org/pandas-docs/stable/user_guide/indexing.html#returning-a-view-versus-a-copy\n",
      "  colombiaTest1.bedrooms[(colombiaTest1.bedrooms.isnull()==True)&(colombiaTest1.property_type.isin(['Finca'])==True)]=colombiaTrain.bedrooms[(colombiaTrain.property_type.isin(['Casa'])==True)].median()\n",
      "C:\\Users\\Nueva era\\AppData\\Local\\Temp\\ipykernel_1460\\2093260190.py:7: SettingWithCopyWarning: \n",
      "A value is trying to be set on a copy of a slice from a DataFrame\n",
      "\n",
      "See the caveats in the documentation: https://pandas.pydata.org/pandas-docs/stable/user_guide/indexing.html#returning-a-view-versus-a-copy\n",
      "  colombiaTest1.bedrooms[(colombiaTest1.bedrooms.isnull()==True)&(colombiaTest1.property_type.isin(['Parqueadero'])==True)]=colombiaTrain.bedrooms[(colombiaTrain.property_type.isin(['Casa'])==True)].median()\n",
      "C:\\Users\\Nueva era\\AppData\\Local\\Temp\\ipykernel_1460\\2093260190.py:8: SettingWithCopyWarning: \n",
      "A value is trying to be set on a copy of a slice from a DataFrame\n",
      "\n",
      "See the caveats in the documentation: https://pandas.pydata.org/pandas-docs/stable/user_guide/indexing.html#returning-a-view-versus-a-copy\n",
      "  colombiaTest1.bedrooms[(colombiaTest1.bedrooms.isnull()==True)&(colombiaTest1.property_type.isin(['Oficina'])==True)]=colombiaTrain.bedrooms[(colombiaTrain.property_type.isin(['Casa'])==True)].median()\n"
     ]
    }
   ],
   "source": [
    "colombiaTest1.bedrooms[(colombiaTest1.bedrooms.isnull()==True)&(colombiaTest1.property_type.isin(['Casa'])==True)]=colombiaTrain.bedrooms[(colombiaTrain.property_type.isin(['Casa'])==True)].median()\n",
    "colombiaTest1.bedrooms[(colombiaTest1.bedrooms.isnull()==True)&(colombiaTest1.property_type.isin(['Apartamento']))]=colombiaTrain.bedrooms[(colombiaTrain.property_type.isin(['Apartamento'])==True)].median()\n",
    "colombiaTest1.bedrooms[(colombiaTest1.bedrooms.isnull()==True)&(colombiaTest1.property_type.isin(['Lote']))]=colombiaTrain.bedrooms[(colombiaTrain.property_type.isin(['Lote'])==True)].median()\n",
    "colombiaTest1.bedrooms[(colombiaTest1.bedrooms.isnull()==True)&(colombiaTest1.property_type.isin(['Local comercial']))]=colombiaTrain.bedrooms[(colombiaTrain.property_type.isin(['Local comercial'])==True)].median()\n",
    "colombiaTest1.bedrooms[(colombiaTest1.bedrooms.isnull()==True)&(colombiaTest1.property_type.isin(['Otro'])==True)]=colombiaTrain.bedrooms[(colombiaTrain.property_type.isin(['Casa'])==True)].median()\n",
    "colombiaTest1.bedrooms[(colombiaTest1.bedrooms.isnull()==True)&(colombiaTest1.property_type.isin(['Finca'])==True)]=colombiaTrain.bedrooms[(colombiaTrain.property_type.isin(['Casa'])==True)].median()\n",
    "colombiaTest1.bedrooms[(colombiaTest1.bedrooms.isnull()==True)&(colombiaTest1.property_type.isin(['Parqueadero'])==True)]=colombiaTrain.bedrooms[(colombiaTrain.property_type.isin(['Casa'])==True)].median()\n",
    "colombiaTest1.bedrooms[(colombiaTest1.bedrooms.isnull()==True)&(colombiaTest1.property_type.isin(['Oficina'])==True)]=colombiaTrain.bedrooms[(colombiaTrain.property_type.isin(['Casa'])==True)].median()"
   ]
  },
  {
   "cell_type": "code",
   "execution_count": 266,
   "metadata": {},
   "outputs": [
    {
     "name": "stderr",
     "output_type": "stream",
     "text": [
      "C:\\Users\\Nueva era\\AppData\\Local\\Temp\\ipykernel_1460\\1846629563.py:1: SettingWithCopyWarning: \n",
      "A value is trying to be set on a copy of a slice from a DataFrame\n",
      "\n",
      "See the caveats in the documentation: https://pandas.pydata.org/pandas-docs/stable/user_guide/indexing.html#returning-a-view-versus-a-copy\n",
      "  colombiaTest1.bathrooms[(colombiaTest1.bathrooms.isnull()==True)&(colombiaTest1.property_type.isin(['Casa'])==True)&(colombiaTrain.clasificacion == 0)]=colombiaTrain.bathrooms[(colombiaTrain.property_type.isin(['Casa'])==True)&(colombiaTrain.clasificacion == 0)].median()\n",
      "C:\\Users\\Nueva era\\AppData\\Local\\Temp\\ipykernel_1460\\1846629563.py:2: SettingWithCopyWarning: \n",
      "A value is trying to be set on a copy of a slice from a DataFrame\n",
      "\n",
      "See the caveats in the documentation: https://pandas.pydata.org/pandas-docs/stable/user_guide/indexing.html#returning-a-view-versus-a-copy\n",
      "  colombiaTest1.bathrooms[(colombiaTest1.bathrooms.isnull()==True)&(colombiaTest1.property_type.isin(['Casa'])==True)&(colombiaTrain.clasificacion == 1)]=colombiaTrain.bathrooms[(colombiaTrain.property_type.isin(['Casa'])==True)&(colombiaTrain.clasificacion == 1)].median()\n",
      "C:\\Users\\Nueva era\\AppData\\Local\\Temp\\ipykernel_1460\\1846629563.py:3: SettingWithCopyWarning: \n",
      "A value is trying to be set on a copy of a slice from a DataFrame\n",
      "\n",
      "See the caveats in the documentation: https://pandas.pydata.org/pandas-docs/stable/user_guide/indexing.html#returning-a-view-versus-a-copy\n",
      "  colombiaTest1.bathrooms[(colombiaTest1.bathrooms.isnull()==True)&(colombiaTest1.property_type.isin(['Apartamento'])==True)&(colombiaTrain.clasificacion == 0)]=colombiaTrain.bathrooms[(colombiaTrain.property_type.isin(['Apartamento'])==True)&(colombiaTrain.clasificacion == 0)].median()\n",
      "C:\\Users\\Nueva era\\AppData\\Local\\Temp\\ipykernel_1460\\1846629563.py:4: SettingWithCopyWarning: \n",
      "A value is trying to be set on a copy of a slice from a DataFrame\n",
      "\n",
      "See the caveats in the documentation: https://pandas.pydata.org/pandas-docs/stable/user_guide/indexing.html#returning-a-view-versus-a-copy\n",
      "  colombiaTest1.bathrooms[(colombiaTest1.bathrooms.isnull()==True)&(colombiaTest1.property_type.isin(['Apartamento'])==True)&(colombiaTrain.clasificacion == 1)]=colombiaTrain.bathrooms[(colombiaTrain.property_type.isin(['Apartamento'])==True)&(colombiaTrain.clasificacion == 1)].median()\n",
      "C:\\Users\\Nueva era\\AppData\\Local\\Temp\\ipykernel_1460\\1846629563.py:5: SettingWithCopyWarning: \n",
      "A value is trying to be set on a copy of a slice from a DataFrame\n",
      "\n",
      "See the caveats in the documentation: https://pandas.pydata.org/pandas-docs/stable/user_guide/indexing.html#returning-a-view-versus-a-copy\n",
      "  colombiaTest1.bathrooms[(colombiaTest1.bathrooms.isnull()==True)&(colombiaTest1.property_type.isin(['Otro'])==True)&(colombiaTrain.clasificacion == 0)]=colombiaTrain.bathrooms[(colombiaTrain.property_type.isin(['Otro'])==True)&(colombiaTrain.clasificacion == 0)].median()\n",
      "C:\\Users\\Nueva era\\AppData\\Local\\Temp\\ipykernel_1460\\1846629563.py:6: SettingWithCopyWarning: \n",
      "A value is trying to be set on a copy of a slice from a DataFrame\n",
      "\n",
      "See the caveats in the documentation: https://pandas.pydata.org/pandas-docs/stable/user_guide/indexing.html#returning-a-view-versus-a-copy\n",
      "  colombiaTest1.bathrooms[(colombiaTest1.bathrooms.isnull()==True)&(colombiaTest1.property_type.isin(['Otro'])==True)&(colombiaTrain.clasificacion == 1)]=colombiaTrain.bathrooms[(colombiaTrain.property_type.isin(['Otro'])==True)&(colombiaTrain.clasificacion == 1)].median()\n",
      "C:\\Users\\Nueva era\\AppData\\Local\\Temp\\ipykernel_1460\\1846629563.py:7: SettingWithCopyWarning: \n",
      "A value is trying to be set on a copy of a slice from a DataFrame\n",
      "\n",
      "See the caveats in the documentation: https://pandas.pydata.org/pandas-docs/stable/user_guide/indexing.html#returning-a-view-versus-a-copy\n",
      "  colombiaTest1.bathrooms[(colombiaTest1.bathrooms.isnull()==True)&(colombiaTest1.property_type.isin(['Oficina'])==True)&(colombiaTrain.clasificacion == 0)]=colombiaTrain.bathrooms[(colombiaTrain.property_type.isin(['Oficina'])==True)&(colombiaTrain.clasificacion == 0)].median()\n",
      "C:\\Users\\Nueva era\\AppData\\Local\\Temp\\ipykernel_1460\\1846629563.py:8: SettingWithCopyWarning: \n",
      "A value is trying to be set on a copy of a slice from a DataFrame\n",
      "\n",
      "See the caveats in the documentation: https://pandas.pydata.org/pandas-docs/stable/user_guide/indexing.html#returning-a-view-versus-a-copy\n",
      "  colombiaTest1.bathrooms[(colombiaTest1.bathrooms.isnull()==True)&(colombiaTest1.property_type.isin(['Oficina'])==True)&(colombiaTrain.clasificacion == 1)]=colombiaTrain.bathrooms[(colombiaTrain.property_type.isin(['Oficina'])==True)&(colombiaTrain.clasificacion == 1)].median()\n",
      "C:\\Users\\Nueva era\\AppData\\Local\\Temp\\ipykernel_1460\\1846629563.py:9: SettingWithCopyWarning: \n",
      "A value is trying to be set on a copy of a slice from a DataFrame\n",
      "\n",
      "See the caveats in the documentation: https://pandas.pydata.org/pandas-docs/stable/user_guide/indexing.html#returning-a-view-versus-a-copy\n",
      "  colombiaTest1.bathrooms[(colombiaTest1.bathrooms.isnull()==True)&(colombiaTest1.property_type.isin(['Finca'])==True)&(colombiaTrain.clasificacion == 0)]=colombiaTrain.bathrooms[(colombiaTrain.property_type.isin(['Finca'])==True)&(colombiaTrain.clasificacion == 0)].median()\n",
      "C:\\Users\\Nueva era\\AppData\\Local\\Temp\\ipykernel_1460\\1846629563.py:10: SettingWithCopyWarning: \n",
      "A value is trying to be set on a copy of a slice from a DataFrame\n",
      "\n",
      "See the caveats in the documentation: https://pandas.pydata.org/pandas-docs/stable/user_guide/indexing.html#returning-a-view-versus-a-copy\n",
      "  colombiaTest1.bathrooms[(colombiaTest1.bathrooms.isnull()==True)&(colombiaTest1.property_type.isin(['Finca'])==True)&(colombiaTrain.clasificacion == 1)]=colombiaTrain.bathrooms[(colombiaTrain.property_type.isin(['Finca'])==True)&(colombiaTrain.clasificacion == 1)].median()\n",
      "C:\\Users\\Nueva era\\AppData\\Local\\Temp\\ipykernel_1460\\1846629563.py:11: SettingWithCopyWarning: \n",
      "A value is trying to be set on a copy of a slice from a DataFrame\n",
      "\n",
      "See the caveats in the documentation: https://pandas.pydata.org/pandas-docs/stable/user_guide/indexing.html#returning-a-view-versus-a-copy\n",
      "  colombiaTest1.bathrooms[(colombiaTest1.bathrooms.isnull()==True)&(colombiaTest1.property_type.isin(['Lote'])==True)&(colombiaTrain.clasificacion == 0)]=colombiaTrain.bathrooms[(colombiaTrain.property_type.isin(['Lote'])==True)&(colombiaTrain.clasificacion == 0)].median()\n",
      "C:\\Users\\Nueva era\\AppData\\Local\\Temp\\ipykernel_1460\\1846629563.py:12: SettingWithCopyWarning: \n",
      "A value is trying to be set on a copy of a slice from a DataFrame\n",
      "\n",
      "See the caveats in the documentation: https://pandas.pydata.org/pandas-docs/stable/user_guide/indexing.html#returning-a-view-versus-a-copy\n",
      "  colombiaTest1.bathrooms[(colombiaTest1.bathrooms.isnull()==True)&(colombiaTest1.property_type.isin(['Lote'])==True)&(colombiaTrain.clasificacion == 1)]=colombiaTrain.bathrooms[(colombiaTrain.property_type.isin(['Lote'])==True)&(colombiaTrain.clasificacion == 1)].median()\n",
      "C:\\Users\\Nueva era\\AppData\\Local\\Temp\\ipykernel_1460\\1846629563.py:13: SettingWithCopyWarning: \n",
      "A value is trying to be set on a copy of a slice from a DataFrame\n",
      "\n",
      "See the caveats in the documentation: https://pandas.pydata.org/pandas-docs/stable/user_guide/indexing.html#returning-a-view-versus-a-copy\n",
      "  colombiaTest1.bathrooms[(colombiaTest1.bathrooms.isnull()==True)&(colombiaTest1.property_type.isin(['Local comercial'])==True)&(colombiaTrain.clasificacion == 0)]=colombiaTrain.bathrooms[(colombiaTrain.property_type.isin(['Local comercial'])==True)&(colombiaTrain.clasificacion == 0)].median()\n",
      "C:\\Users\\Nueva era\\AppData\\Local\\Temp\\ipykernel_1460\\1846629563.py:14: SettingWithCopyWarning: \n",
      "A value is trying to be set on a copy of a slice from a DataFrame\n",
      "\n",
      "See the caveats in the documentation: https://pandas.pydata.org/pandas-docs/stable/user_guide/indexing.html#returning-a-view-versus-a-copy\n",
      "  colombiaTest1.bathrooms[(colombiaTest1.bathrooms.isnull()==True)&(colombiaTest1.property_type.isin(['Local comercial'])==True)&(colombiaTrain.clasificacion == 1)]=colombiaTrain.bathrooms[(colombiaTrain.property_type.isin(['Local comercial'])==True)&(colombiaTrain.clasificacion == 1)].median()\n",
      "C:\\Users\\Nueva era\\AppData\\Local\\Temp\\ipykernel_1460\\1846629563.py:15: SettingWithCopyWarning: \n",
      "A value is trying to be set on a copy of a slice from a DataFrame\n",
      "\n",
      "See the caveats in the documentation: https://pandas.pydata.org/pandas-docs/stable/user_guide/indexing.html#returning-a-view-versus-a-copy\n",
      "  colombiaTest1.bathrooms[(colombiaTest1.bathrooms.isnull()==True)&(colombiaTest1.property_type.isin(['Parqueadero'])==True)&(colombiaTrain.clasificacion == 0)]=0\n",
      "C:\\Users\\Nueva era\\AppData\\Roaming\\Python\\Python310\\site-packages\\numpy\\lib\\nanfunctions.py:1215: RuntimeWarning: Mean of empty slice\n",
      "  return np.nanmean(a, axis, out=out, keepdims=keepdims)\n",
      "C:\\Users\\Nueva era\\AppData\\Local\\Temp\\ipykernel_1460\\1846629563.py:16: SettingWithCopyWarning: \n",
      "A value is trying to be set on a copy of a slice from a DataFrame\n",
      "\n",
      "See the caveats in the documentation: https://pandas.pydata.org/pandas-docs/stable/user_guide/indexing.html#returning-a-view-versus-a-copy\n",
      "  colombiaTest1.bathrooms[(colombiaTest1.bathrooms.isnull()==True)&(colombiaTest1.property_type.isin(['Parqueadero'])==True)&(colombiaTrain.clasificacion == 1)]=colombiaTrain.bathrooms[(colombiaTrain.property_type.isin(['Parqueadero'])==True)&(colombiaTrain.clasificacion == 1)].median()\n"
     ]
    }
   ],
   "source": [
    "colombiaTest1.bathrooms[(colombiaTest1.bathrooms.isnull()==True)&(colombiaTest1.property_type.isin(['Casa'])==True)&(colombiaTrain.clasificacion == 0)]=colombiaTrain.bathrooms[(colombiaTrain.property_type.isin(['Casa'])==True)&(colombiaTrain.clasificacion == 0)].median()\n",
    "colombiaTest1.bathrooms[(colombiaTest1.bathrooms.isnull()==True)&(colombiaTest1.property_type.isin(['Casa'])==True)&(colombiaTrain.clasificacion == 1)]=colombiaTrain.bathrooms[(colombiaTrain.property_type.isin(['Casa'])==True)&(colombiaTrain.clasificacion == 1)].median()\n",
    "colombiaTest1.bathrooms[(colombiaTest1.bathrooms.isnull()==True)&(colombiaTest1.property_type.isin(['Apartamento'])==True)&(colombiaTrain.clasificacion == 0)]=colombiaTrain.bathrooms[(colombiaTrain.property_type.isin(['Apartamento'])==True)&(colombiaTrain.clasificacion == 0)].median()\n",
    "colombiaTest1.bathrooms[(colombiaTest1.bathrooms.isnull()==True)&(colombiaTest1.property_type.isin(['Apartamento'])==True)&(colombiaTrain.clasificacion == 1)]=colombiaTrain.bathrooms[(colombiaTrain.property_type.isin(['Apartamento'])==True)&(colombiaTrain.clasificacion == 1)].median()\n",
    "colombiaTest1.bathrooms[(colombiaTest1.bathrooms.isnull()==True)&(colombiaTest1.property_type.isin(['Otro'])==True)&(colombiaTrain.clasificacion == 0)]=colombiaTrain.bathrooms[(colombiaTrain.property_type.isin(['Otro'])==True)&(colombiaTrain.clasificacion == 0)].median()\n",
    "colombiaTest1.bathrooms[(colombiaTest1.bathrooms.isnull()==True)&(colombiaTest1.property_type.isin(['Otro'])==True)&(colombiaTrain.clasificacion == 1)]=colombiaTrain.bathrooms[(colombiaTrain.property_type.isin(['Otro'])==True)&(colombiaTrain.clasificacion == 1)].median()\n",
    "colombiaTest1.bathrooms[(colombiaTest1.bathrooms.isnull()==True)&(colombiaTest1.property_type.isin(['Oficina'])==True)&(colombiaTrain.clasificacion == 0)]=colombiaTrain.bathrooms[(colombiaTrain.property_type.isin(['Oficina'])==True)&(colombiaTrain.clasificacion == 0)].median()\n",
    "colombiaTest1.bathrooms[(colombiaTest1.bathrooms.isnull()==True)&(colombiaTest1.property_type.isin(['Oficina'])==True)&(colombiaTrain.clasificacion == 1)]=colombiaTrain.bathrooms[(colombiaTrain.property_type.isin(['Oficina'])==True)&(colombiaTrain.clasificacion == 1)].median()\n",
    "colombiaTest1.bathrooms[(colombiaTest1.bathrooms.isnull()==True)&(colombiaTest1.property_type.isin(['Finca'])==True)&(colombiaTrain.clasificacion == 0)]=colombiaTrain.bathrooms[(colombiaTrain.property_type.isin(['Finca'])==True)&(colombiaTrain.clasificacion == 0)].median()\n",
    "colombiaTest1.bathrooms[(colombiaTest1.bathrooms.isnull()==True)&(colombiaTest1.property_type.isin(['Finca'])==True)&(colombiaTrain.clasificacion == 1)]=colombiaTrain.bathrooms[(colombiaTrain.property_type.isin(['Finca'])==True)&(colombiaTrain.clasificacion == 1)].median()\n",
    "colombiaTest1.bathrooms[(colombiaTest1.bathrooms.isnull()==True)&(colombiaTest1.property_type.isin(['Lote'])==True)&(colombiaTrain.clasificacion == 0)]=colombiaTrain.bathrooms[(colombiaTrain.property_type.isin(['Lote'])==True)&(colombiaTrain.clasificacion == 0)].median()\n",
    "colombiaTest1.bathrooms[(colombiaTest1.bathrooms.isnull()==True)&(colombiaTest1.property_type.isin(['Lote'])==True)&(colombiaTrain.clasificacion == 1)]=colombiaTrain.bathrooms[(colombiaTrain.property_type.isin(['Lote'])==True)&(colombiaTrain.clasificacion == 1)].median()\n",
    "colombiaTest1.bathrooms[(colombiaTest1.bathrooms.isnull()==True)&(colombiaTest1.property_type.isin(['Local comercial'])==True)&(colombiaTrain.clasificacion == 0)]=colombiaTrain.bathrooms[(colombiaTrain.property_type.isin(['Local comercial'])==True)&(colombiaTrain.clasificacion == 0)].median()\n",
    "colombiaTest1.bathrooms[(colombiaTest1.bathrooms.isnull()==True)&(colombiaTest1.property_type.isin(['Local comercial'])==True)&(colombiaTrain.clasificacion == 1)]=colombiaTrain.bathrooms[(colombiaTrain.property_type.isin(['Local comercial'])==True)&(colombiaTrain.clasificacion == 1)].median()\n",
    "colombiaTest1.bathrooms[(colombiaTest1.bathrooms.isnull()==True)&(colombiaTest1.property_type.isin(['Parqueadero'])==True)&(colombiaTrain.clasificacion == 0)]=0\n",
    "colombiaTest1.bathrooms[(colombiaTest1.bathrooms.isnull()==True)&(colombiaTest1.property_type.isin(['Parqueadero'])==True)&(colombiaTrain.clasificacion == 1)]=colombiaTrain.bathrooms[(colombiaTrain.property_type.isin(['Parqueadero'])==True)&(colombiaTrain.clasificacion == 1)].median()"
   ]
  },
  {
   "cell_type": "code",
   "execution_count": 285,
   "metadata": {},
   "outputs": [
    {
     "name": "stderr",
     "output_type": "stream",
     "text": [
      "C:\\Users\\Nueva era\\AppData\\Local\\Temp\\ipykernel_1460\\1347116462.py:1: SettingWithCopyWarning: \n",
      "A value is trying to be set on a copy of a slice from a DataFrame\n",
      "\n",
      "See the caveats in the documentation: https://pandas.pydata.org/pandas-docs/stable/user_guide/indexing.html#returning-a-view-versus-a-copy\n",
      "  colombiaTest1.bathrooms[(colombiaTest1.bathrooms.isnull()==True)&(colombiaTest1.property_type.isin(['Casa'])==True)]=colombiaTrain.bathrooms[(colombiaTrain.property_type.isin(['Casa'])==True)].median()\n",
      "C:\\Users\\Nueva era\\AppData\\Local\\Temp\\ipykernel_1460\\1347116462.py:2: SettingWithCopyWarning: \n",
      "A value is trying to be set on a copy of a slice from a DataFrame\n",
      "\n",
      "See the caveats in the documentation: https://pandas.pydata.org/pandas-docs/stable/user_guide/indexing.html#returning-a-view-versus-a-copy\n",
      "  colombiaTest1.bathrooms[(colombiaTest1.bathrooms.isnull()==True)&(colombiaTest1.property_type.isin(['Apartamento']))]=colombiaTrain.bathrooms[(colombiaTrain.property_type.isin(['Apartamento'])==True)].median()\n",
      "C:\\Users\\Nueva era\\AppData\\Local\\Temp\\ipykernel_1460\\1347116462.py:3: SettingWithCopyWarning: \n",
      "A value is trying to be set on a copy of a slice from a DataFrame\n",
      "\n",
      "See the caveats in the documentation: https://pandas.pydata.org/pandas-docs/stable/user_guide/indexing.html#returning-a-view-versus-a-copy\n",
      "  colombiaTest1.bathrooms[(colombiaTest1.bathrooms.isnull()==True)&(colombiaTest1.property_type.isin(['Lote']))]=colombiaTrain.bathrooms[(colombiaTrain.property_type.isin(['Lote'])==True)].median()\n",
      "C:\\Users\\Nueva era\\AppData\\Local\\Temp\\ipykernel_1460\\1347116462.py:4: SettingWithCopyWarning: \n",
      "A value is trying to be set on a copy of a slice from a DataFrame\n",
      "\n",
      "See the caveats in the documentation: https://pandas.pydata.org/pandas-docs/stable/user_guide/indexing.html#returning-a-view-versus-a-copy\n",
      "  colombiaTest1.bathrooms[(colombiaTest1.bathrooms.isnull()==True)&(colombiaTest1.property_type.isin(['Local comercial']))]=colombiaTrain.bathrooms[(colombiaTrain.property_type.isin(['Local comercial'])==True)].median()\n",
      "C:\\Users\\Nueva era\\AppData\\Local\\Temp\\ipykernel_1460\\1347116462.py:5: SettingWithCopyWarning: \n",
      "A value is trying to be set on a copy of a slice from a DataFrame\n",
      "\n",
      "See the caveats in the documentation: https://pandas.pydata.org/pandas-docs/stable/user_guide/indexing.html#returning-a-view-versus-a-copy\n",
      "  colombiaTest1.bathrooms[(colombiaTest1.bathrooms.isnull()==True)&(colombiaTest1.property_type.isin(['Otro'])==True)]=colombiaTrain.bathrooms[(colombiaTrain.property_type.isin(['Casa'])==True)].median()\n",
      "C:\\Users\\Nueva era\\AppData\\Local\\Temp\\ipykernel_1460\\1347116462.py:6: SettingWithCopyWarning: \n",
      "A value is trying to be set on a copy of a slice from a DataFrame\n",
      "\n",
      "See the caveats in the documentation: https://pandas.pydata.org/pandas-docs/stable/user_guide/indexing.html#returning-a-view-versus-a-copy\n",
      "  colombiaTest1.bathrooms[(colombiaTest1.bathrooms.isnull()==True)&(colombiaTest1.property_type.isin(['Finca'])==True)]=colombiaTrain.bathrooms[(colombiaTrain.property_type.isin(['Casa'])==True)].median()\n",
      "C:\\Users\\Nueva era\\AppData\\Local\\Temp\\ipykernel_1460\\1347116462.py:7: SettingWithCopyWarning: \n",
      "A value is trying to be set on a copy of a slice from a DataFrame\n",
      "\n",
      "See the caveats in the documentation: https://pandas.pydata.org/pandas-docs/stable/user_guide/indexing.html#returning-a-view-versus-a-copy\n",
      "  colombiaTest1.bathrooms[(colombiaTest1.bathrooms.isnull()==True)&(colombiaTest1.property_type.isin(['Parqueadero'])==True)]=colombiaTrain.bathrooms[(colombiaTrain.property_type.isin(['Casa'])==True)].median()\n",
      "C:\\Users\\Nueva era\\AppData\\Local\\Temp\\ipykernel_1460\\1347116462.py:8: SettingWithCopyWarning: \n",
      "A value is trying to be set on a copy of a slice from a DataFrame\n",
      "\n",
      "See the caveats in the documentation: https://pandas.pydata.org/pandas-docs/stable/user_guide/indexing.html#returning-a-view-versus-a-copy\n",
      "  colombiaTest1.bathrooms[(colombiaTest1.bathrooms.isnull()==True)&(colombiaTest1.property_type.isin(['Oficina'])==True)]=colombiaTrain.bathrooms[(colombiaTrain.property_type.isin(['Casa'])==True)].median()\n"
     ]
    }
   ],
   "source": [
    "colombiaTest1.bathrooms[(colombiaTest1.bathrooms.isnull()==True)&(colombiaTest1.property_type.isin(['Casa'])==True)]=colombiaTrain.bathrooms[(colombiaTrain.property_type.isin(['Casa'])==True)].median()\n",
    "colombiaTest1.bathrooms[(colombiaTest1.bathrooms.isnull()==True)&(colombiaTest1.property_type.isin(['Apartamento']))]=colombiaTrain.bathrooms[(colombiaTrain.property_type.isin(['Apartamento'])==True)].median()\n",
    "colombiaTest1.bathrooms[(colombiaTest1.bathrooms.isnull()==True)&(colombiaTest1.property_type.isin(['Lote']))]=colombiaTrain.bathrooms[(colombiaTrain.property_type.isin(['Lote'])==True)].median()\n",
    "colombiaTest1.bathrooms[(colombiaTest1.bathrooms.isnull()==True)&(colombiaTest1.property_type.isin(['Local comercial']))]=colombiaTrain.bathrooms[(colombiaTrain.property_type.isin(['Local comercial'])==True)].median()\n",
    "colombiaTest1.bathrooms[(colombiaTest1.bathrooms.isnull()==True)&(colombiaTest1.property_type.isin(['Otro'])==True)]=colombiaTrain.bathrooms[(colombiaTrain.property_type.isin(['Casa'])==True)].median()\n",
    "colombiaTest1.bathrooms[(colombiaTest1.bathrooms.isnull()==True)&(colombiaTest1.property_type.isin(['Finca'])==True)]=colombiaTrain.bathrooms[(colombiaTrain.property_type.isin(['Casa'])==True)].median()\n",
    "colombiaTest1.bathrooms[(colombiaTest1.bathrooms.isnull()==True)&(colombiaTest1.property_type.isin(['Parqueadero'])==True)]=colombiaTrain.bathrooms[(colombiaTrain.property_type.isin(['Casa'])==True)].median()\n",
    "colombiaTest1.bathrooms[(colombiaTest1.bathrooms.isnull()==True)&(colombiaTest1.property_type.isin(['Oficina'])==True)]=colombiaTrain.bathrooms[(colombiaTrain.property_type.isin(['Casa'])==True)].median()"
   ]
  },
  {
   "cell_type": "code",
   "execution_count": 287,
   "metadata": {},
   "outputs": [],
   "source": [
    "colombiaTest1= pd.get_dummies(colombiaTest1, columns=['property_type'])"
   ]
  },
  {
   "cell_type": "code",
   "execution_count": 288,
   "metadata": {},
   "outputs": [],
   "source": [
    "colombiaTest1X = colombiaTest1.drop(['property_type_Parqueadero','property_type_Casa','property_type_Finca','property_type_Local comercial','property_type_Oficina'], axis=1)"
   ]
  },
  {
   "cell_type": "code",
   "execution_count": 293,
   "metadata": {},
   "outputs": [],
   "source": [
    "from sklearn.preprocessing import StandardScaler\n",
    "scaler = preprocessing.StandardScaler()\n",
    "TestFinal1X = scaler.fit_transform(colombiaTest1X)"
   ]
  },
  {
   "cell_type": "code",
   "execution_count": 294,
   "metadata": {},
   "outputs": [],
   "source": [
    "y_model4_reload=model4.predict(TestFinal1X) #Sebas1412(6)"
   ]
  },
  {
   "cell_type": "code",
   "execution_count": 296,
   "metadata": {},
   "outputs": [
    {
     "data": {
      "text/plain": [
       "pred\n",
       "1       44938\n",
       "0       20912\n",
       "dtype: int64"
      ]
     },
     "execution_count": 296,
     "metadata": {},
     "output_type": "execute_result"
    }
   ],
   "source": [
    "quinto = pd.DataFrame({'pred':y_model4_reload}) \n",
    "quinto.value_counts()"
   ]
  },
  {
   "cell_type": "code",
   "execution_count": 297,
   "metadata": {},
   "outputs": [],
   "source": [
    "quinto.to_csv('Sebas1412.csv', index=False)"
   ]
  },
  {
   "cell_type": "markdown",
   "metadata": {},
   "source": [
    "Lamentablemente no se pudo llegar a buenos resultados, no predice de manera acertada los datos que no conoce. Se llama a la empresa y se le dice que después de varios intentos, no se puede cumplir con lo esperado y se le pide más tiempo para realizar un EDA de mayor calidad."
   ]
  }
 ],
 "metadata": {
  "kernelspec": {
   "display_name": "Python 3.10.5 64-bit",
   "language": "python",
   "name": "python3"
  },
  "language_info": {
   "codemirror_mode": {
    "name": "ipython",
    "version": 3
   },
   "file_extension": ".py",
   "mimetype": "text/x-python",
   "name": "python",
   "nbconvert_exporter": "python",
   "pygments_lexer": "ipython3",
   "version": "3.10.5"
  },
  "orig_nbformat": 4,
  "vscode": {
   "interpreter": {
    "hash": "26de051ba29f2982a8de78e945f0abaf191376122a1563185a90213a26c5da77"
   }
  }
 },
 "nbformat": 4,
 "nbformat_minor": 2
}
